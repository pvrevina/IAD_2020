{
  "nbformat": 4,
  "nbformat_minor": 0,
  "metadata": {
    "colab": {
      "name": "Contest Revina.ipynb",
      "provenance": [],
      "collapsed_sections": [],
      "machine_shape": "hm"
    },
    "kernelspec": {
      "name": "python3",
      "display_name": "Python 3"
    },
    "widgets": {
      "application/vnd.jupyter.widget-state+json": {
        "2e71fadaac234348a3628147a4a45c88": {
          "model_module": "@jupyter-widgets/controls",
          "model_name": "HBoxModel",
          "state": {
            "_view_name": "HBoxView",
            "_dom_classes": [],
            "_model_name": "HBoxModel",
            "_view_module": "@jupyter-widgets/controls",
            "_model_module_version": "1.5.0",
            "_view_count": null,
            "_view_module_version": "1.5.0",
            "box_style": "",
            "layout": "IPY_MODEL_f3d63b6c1eff4a318f08fb9ebc21836e",
            "_model_module": "@jupyter-widgets/controls",
            "children": [
              "IPY_MODEL_e36ea176361c45839046083144f34437",
              "IPY_MODEL_4caf09804c904b7c95e66b57591ccd53"
            ]
          }
        },
        "f3d63b6c1eff4a318f08fb9ebc21836e": {
          "model_module": "@jupyter-widgets/base",
          "model_name": "LayoutModel",
          "state": {
            "_view_name": "LayoutView",
            "grid_template_rows": null,
            "right": null,
            "justify_content": null,
            "_view_module": "@jupyter-widgets/base",
            "overflow": null,
            "_model_module_version": "1.2.0",
            "_view_count": null,
            "flex_flow": null,
            "width": null,
            "min_width": null,
            "border": null,
            "align_items": null,
            "bottom": null,
            "_model_module": "@jupyter-widgets/base",
            "top": null,
            "grid_column": null,
            "overflow_y": null,
            "overflow_x": null,
            "grid_auto_flow": null,
            "grid_area": null,
            "grid_template_columns": null,
            "flex": null,
            "_model_name": "LayoutModel",
            "justify_items": null,
            "grid_row": null,
            "max_height": null,
            "align_content": null,
            "visibility": null,
            "align_self": null,
            "height": null,
            "min_height": null,
            "padding": null,
            "grid_auto_rows": null,
            "grid_gap": null,
            "max_width": null,
            "order": null,
            "_view_module_version": "1.2.0",
            "grid_template_areas": null,
            "object_position": null,
            "object_fit": null,
            "grid_auto_columns": null,
            "margin": null,
            "display": null,
            "left": null
          }
        },
        "e36ea176361c45839046083144f34437": {
          "model_module": "@jupyter-widgets/controls",
          "model_name": "IntProgressModel",
          "state": {
            "_view_name": "ProgressView",
            "style": "IPY_MODEL_2eed248537644d358c1ed3dfae345479",
            "_dom_classes": [],
            "description": "",
            "_model_name": "IntProgressModel",
            "bar_style": "success",
            "max": 1,
            "_view_module": "@jupyter-widgets/controls",
            "_model_module_version": "1.5.0",
            "value": 1,
            "_view_count": null,
            "_view_module_version": "1.5.0",
            "orientation": "horizontal",
            "min": 0,
            "description_tooltip": null,
            "_model_module": "@jupyter-widgets/controls",
            "layout": "IPY_MODEL_0396b7fbfe5f465f8fc729add035278c"
          }
        },
        "4caf09804c904b7c95e66b57591ccd53": {
          "model_module": "@jupyter-widgets/controls",
          "model_name": "HTMLModel",
          "state": {
            "_view_name": "HTMLView",
            "style": "IPY_MODEL_237ea7ad19904a639295885cbbad8d02",
            "_dom_classes": [],
            "description": "",
            "_model_name": "HTMLModel",
            "placeholder": "​",
            "_view_module": "@jupyter-widgets/controls",
            "_model_module_version": "1.5.0",
            "value": "328050it [00:12, 25774.76it/s]",
            "_view_count": null,
            "_view_module_version": "1.5.0",
            "description_tooltip": null,
            "_model_module": "@jupyter-widgets/controls",
            "layout": "IPY_MODEL_6d25f1cfc656403d8e10e9ef9ab3a9b1"
          }
        },
        "2eed248537644d358c1ed3dfae345479": {
          "model_module": "@jupyter-widgets/controls",
          "model_name": "ProgressStyleModel",
          "state": {
            "_view_name": "StyleView",
            "_model_name": "ProgressStyleModel",
            "description_width": "",
            "_view_module": "@jupyter-widgets/base",
            "_model_module_version": "1.5.0",
            "_view_count": null,
            "_view_module_version": "1.2.0",
            "bar_color": null,
            "_model_module": "@jupyter-widgets/controls"
          }
        },
        "0396b7fbfe5f465f8fc729add035278c": {
          "model_module": "@jupyter-widgets/base",
          "model_name": "LayoutModel",
          "state": {
            "_view_name": "LayoutView",
            "grid_template_rows": null,
            "right": null,
            "justify_content": null,
            "_view_module": "@jupyter-widgets/base",
            "overflow": null,
            "_model_module_version": "1.2.0",
            "_view_count": null,
            "flex_flow": null,
            "width": null,
            "min_width": null,
            "border": null,
            "align_items": null,
            "bottom": null,
            "_model_module": "@jupyter-widgets/base",
            "top": null,
            "grid_column": null,
            "overflow_y": null,
            "overflow_x": null,
            "grid_auto_flow": null,
            "grid_area": null,
            "grid_template_columns": null,
            "flex": null,
            "_model_name": "LayoutModel",
            "justify_items": null,
            "grid_row": null,
            "max_height": null,
            "align_content": null,
            "visibility": null,
            "align_self": null,
            "height": null,
            "min_height": null,
            "padding": null,
            "grid_auto_rows": null,
            "grid_gap": null,
            "max_width": null,
            "order": null,
            "_view_module_version": "1.2.0",
            "grid_template_areas": null,
            "object_position": null,
            "object_fit": null,
            "grid_auto_columns": null,
            "margin": null,
            "display": null,
            "left": null
          }
        },
        "237ea7ad19904a639295885cbbad8d02": {
          "model_module": "@jupyter-widgets/controls",
          "model_name": "DescriptionStyleModel",
          "state": {
            "_view_name": "StyleView",
            "_model_name": "DescriptionStyleModel",
            "description_width": "",
            "_view_module": "@jupyter-widgets/base",
            "_model_module_version": "1.5.0",
            "_view_count": null,
            "_view_module_version": "1.2.0",
            "_model_module": "@jupyter-widgets/controls"
          }
        },
        "6d25f1cfc656403d8e10e9ef9ab3a9b1": {
          "model_module": "@jupyter-widgets/base",
          "model_name": "LayoutModel",
          "state": {
            "_view_name": "LayoutView",
            "grid_template_rows": null,
            "right": null,
            "justify_content": null,
            "_view_module": "@jupyter-widgets/base",
            "overflow": null,
            "_model_module_version": "1.2.0",
            "_view_count": null,
            "flex_flow": null,
            "width": null,
            "min_width": null,
            "border": null,
            "align_items": null,
            "bottom": null,
            "_model_module": "@jupyter-widgets/base",
            "top": null,
            "grid_column": null,
            "overflow_y": null,
            "overflow_x": null,
            "grid_auto_flow": null,
            "grid_area": null,
            "grid_template_columns": null,
            "flex": null,
            "_model_name": "LayoutModel",
            "justify_items": null,
            "grid_row": null,
            "max_height": null,
            "align_content": null,
            "visibility": null,
            "align_self": null,
            "height": null,
            "min_height": null,
            "padding": null,
            "grid_auto_rows": null,
            "grid_gap": null,
            "max_width": null,
            "order": null,
            "_view_module_version": "1.2.0",
            "grid_template_areas": null,
            "object_position": null,
            "object_fit": null,
            "grid_auto_columns": null,
            "margin": null,
            "display": null,
            "left": null
          }
        },
        "4114065294c64fb4a83dc4a7cbc1cf25": {
          "model_module": "@jupyter-widgets/controls",
          "model_name": "HBoxModel",
          "state": {
            "_view_name": "HBoxView",
            "_dom_classes": [],
            "_model_name": "HBoxModel",
            "_view_module": "@jupyter-widgets/controls",
            "_model_module_version": "1.5.0",
            "_view_count": null,
            "_view_module_version": "1.5.0",
            "box_style": "",
            "layout": "IPY_MODEL_2f6638970a0544478fd090359f55d60a",
            "_model_module": "@jupyter-widgets/controls",
            "children": [
              "IPY_MODEL_69102345f7614b9e8806df99bb187822",
              "IPY_MODEL_1a5e87c013f14f93803fdfd202d6d2c5"
            ]
          }
        },
        "2f6638970a0544478fd090359f55d60a": {
          "model_module": "@jupyter-widgets/base",
          "model_name": "LayoutModel",
          "state": {
            "_view_name": "LayoutView",
            "grid_template_rows": null,
            "right": null,
            "justify_content": null,
            "_view_module": "@jupyter-widgets/base",
            "overflow": null,
            "_model_module_version": "1.2.0",
            "_view_count": null,
            "flex_flow": null,
            "width": null,
            "min_width": null,
            "border": null,
            "align_items": null,
            "bottom": null,
            "_model_module": "@jupyter-widgets/base",
            "top": null,
            "grid_column": null,
            "overflow_y": null,
            "overflow_x": null,
            "grid_auto_flow": null,
            "grid_area": null,
            "grid_template_columns": null,
            "flex": null,
            "_model_name": "LayoutModel",
            "justify_items": null,
            "grid_row": null,
            "max_height": null,
            "align_content": null,
            "visibility": null,
            "align_self": null,
            "height": null,
            "min_height": null,
            "padding": null,
            "grid_auto_rows": null,
            "grid_gap": null,
            "max_width": null,
            "order": null,
            "_view_module_version": "1.2.0",
            "grid_template_areas": null,
            "object_position": null,
            "object_fit": null,
            "grid_auto_columns": null,
            "margin": null,
            "display": null,
            "left": null
          }
        },
        "69102345f7614b9e8806df99bb187822": {
          "model_module": "@jupyter-widgets/controls",
          "model_name": "IntProgressModel",
          "state": {
            "_view_name": "ProgressView",
            "style": "IPY_MODEL_ac4ca1cc331c4e6ca049a2c9e79925b1",
            "_dom_classes": [],
            "description": "",
            "_model_name": "IntProgressModel",
            "bar_style": "success",
            "max": 328050,
            "_view_module": "@jupyter-widgets/controls",
            "_model_module_version": "1.5.0",
            "value": 328050,
            "_view_count": null,
            "_view_module_version": "1.5.0",
            "orientation": "horizontal",
            "min": 0,
            "description_tooltip": null,
            "_model_module": "@jupyter-widgets/controls",
            "layout": "IPY_MODEL_3b6b5066d50243d190fe0f88a85124a5"
          }
        },
        "1a5e87c013f14f93803fdfd202d6d2c5": {
          "model_module": "@jupyter-widgets/controls",
          "model_name": "HTMLModel",
          "state": {
            "_view_name": "HTMLView",
            "style": "IPY_MODEL_bb71fb3cc6c24d40aed54f627dbbaf82",
            "_dom_classes": [],
            "description": "",
            "_model_name": "HTMLModel",
            "placeholder": "​",
            "_view_module": "@jupyter-widgets/controls",
            "_model_module_version": "1.5.0",
            "value": "100% 328050/328050 [10:20&lt;00:00, 528.68it/s]",
            "_view_count": null,
            "_view_module_version": "1.5.0",
            "description_tooltip": null,
            "_model_module": "@jupyter-widgets/controls",
            "layout": "IPY_MODEL_481f74cdc47c4d4aa380c6ad634ecece"
          }
        },
        "ac4ca1cc331c4e6ca049a2c9e79925b1": {
          "model_module": "@jupyter-widgets/controls",
          "model_name": "ProgressStyleModel",
          "state": {
            "_view_name": "StyleView",
            "_model_name": "ProgressStyleModel",
            "description_width": "",
            "_view_module": "@jupyter-widgets/base",
            "_model_module_version": "1.5.0",
            "_view_count": null,
            "_view_module_version": "1.2.0",
            "bar_color": null,
            "_model_module": "@jupyter-widgets/controls"
          }
        },
        "3b6b5066d50243d190fe0f88a85124a5": {
          "model_module": "@jupyter-widgets/base",
          "model_name": "LayoutModel",
          "state": {
            "_view_name": "LayoutView",
            "grid_template_rows": null,
            "right": null,
            "justify_content": null,
            "_view_module": "@jupyter-widgets/base",
            "overflow": null,
            "_model_module_version": "1.2.0",
            "_view_count": null,
            "flex_flow": null,
            "width": null,
            "min_width": null,
            "border": null,
            "align_items": null,
            "bottom": null,
            "_model_module": "@jupyter-widgets/base",
            "top": null,
            "grid_column": null,
            "overflow_y": null,
            "overflow_x": null,
            "grid_auto_flow": null,
            "grid_area": null,
            "grid_template_columns": null,
            "flex": null,
            "_model_name": "LayoutModel",
            "justify_items": null,
            "grid_row": null,
            "max_height": null,
            "align_content": null,
            "visibility": null,
            "align_self": null,
            "height": null,
            "min_height": null,
            "padding": null,
            "grid_auto_rows": null,
            "grid_gap": null,
            "max_width": null,
            "order": null,
            "_view_module_version": "1.2.0",
            "grid_template_areas": null,
            "object_position": null,
            "object_fit": null,
            "grid_auto_columns": null,
            "margin": null,
            "display": null,
            "left": null
          }
        },
        "bb71fb3cc6c24d40aed54f627dbbaf82": {
          "model_module": "@jupyter-widgets/controls",
          "model_name": "DescriptionStyleModel",
          "state": {
            "_view_name": "StyleView",
            "_model_name": "DescriptionStyleModel",
            "description_width": "",
            "_view_module": "@jupyter-widgets/base",
            "_model_module_version": "1.5.0",
            "_view_count": null,
            "_view_module_version": "1.2.0",
            "_model_module": "@jupyter-widgets/controls"
          }
        },
        "481f74cdc47c4d4aa380c6ad634ecece": {
          "model_module": "@jupyter-widgets/base",
          "model_name": "LayoutModel",
          "state": {
            "_view_name": "LayoutView",
            "grid_template_rows": null,
            "right": null,
            "justify_content": null,
            "_view_module": "@jupyter-widgets/base",
            "overflow": null,
            "_model_module_version": "1.2.0",
            "_view_count": null,
            "flex_flow": null,
            "width": null,
            "min_width": null,
            "border": null,
            "align_items": null,
            "bottom": null,
            "_model_module": "@jupyter-widgets/base",
            "top": null,
            "grid_column": null,
            "overflow_y": null,
            "overflow_x": null,
            "grid_auto_flow": null,
            "grid_area": null,
            "grid_template_columns": null,
            "flex": null,
            "_model_name": "LayoutModel",
            "justify_items": null,
            "grid_row": null,
            "max_height": null,
            "align_content": null,
            "visibility": null,
            "align_self": null,
            "height": null,
            "min_height": null,
            "padding": null,
            "grid_auto_rows": null,
            "grid_gap": null,
            "max_width": null,
            "order": null,
            "_view_module_version": "1.2.0",
            "grid_template_areas": null,
            "object_position": null,
            "object_fit": null,
            "grid_auto_columns": null,
            "margin": null,
            "display": null,
            "left": null
          }
        },
        "fd7011029e6148eb9416312ac4a5b374": {
          "model_module": "@jupyter-widgets/controls",
          "model_name": "HBoxModel",
          "state": {
            "_view_name": "HBoxView",
            "_dom_classes": [],
            "_model_name": "HBoxModel",
            "_view_module": "@jupyter-widgets/controls",
            "_model_module_version": "1.5.0",
            "_view_count": null,
            "_view_module_version": "1.5.0",
            "box_style": "",
            "layout": "IPY_MODEL_00ca63eedf824960a620f61f3e021d43",
            "_model_module": "@jupyter-widgets/controls",
            "children": [
              "IPY_MODEL_c5e6cedae2144c28a36ee9cad4437733",
              "IPY_MODEL_92dc26b1f87741faba2c6ba1354f1c2d"
            ]
          }
        },
        "00ca63eedf824960a620f61f3e021d43": {
          "model_module": "@jupyter-widgets/base",
          "model_name": "LayoutModel",
          "state": {
            "_view_name": "LayoutView",
            "grid_template_rows": null,
            "right": null,
            "justify_content": null,
            "_view_module": "@jupyter-widgets/base",
            "overflow": null,
            "_model_module_version": "1.2.0",
            "_view_count": null,
            "flex_flow": null,
            "width": null,
            "min_width": null,
            "border": null,
            "align_items": null,
            "bottom": null,
            "_model_module": "@jupyter-widgets/base",
            "top": null,
            "grid_column": null,
            "overflow_y": null,
            "overflow_x": null,
            "grid_auto_flow": null,
            "grid_area": null,
            "grid_template_columns": null,
            "flex": null,
            "_model_name": "LayoutModel",
            "justify_items": null,
            "grid_row": null,
            "max_height": null,
            "align_content": null,
            "visibility": null,
            "align_self": null,
            "height": null,
            "min_height": null,
            "padding": null,
            "grid_auto_rows": null,
            "grid_gap": null,
            "max_width": null,
            "order": null,
            "_view_module_version": "1.2.0",
            "grid_template_areas": null,
            "object_position": null,
            "object_fit": null,
            "grid_auto_columns": null,
            "margin": null,
            "display": null,
            "left": null
          }
        },
        "c5e6cedae2144c28a36ee9cad4437733": {
          "model_module": "@jupyter-widgets/controls",
          "model_name": "IntProgressModel",
          "state": {
            "_view_name": "ProgressView",
            "style": "IPY_MODEL_f82227d9b7ca4a01949915a14a9698d6",
            "_dom_classes": [],
            "description": "",
            "_model_name": "IntProgressModel",
            "bar_style": "success",
            "max": 328050,
            "_view_module": "@jupyter-widgets/controls",
            "_model_module_version": "1.5.0",
            "value": 328050,
            "_view_count": null,
            "_view_module_version": "1.5.0",
            "orientation": "horizontal",
            "min": 0,
            "description_tooltip": null,
            "_model_module": "@jupyter-widgets/controls",
            "layout": "IPY_MODEL_facee9bf951f4dd98d5c74100c079b91"
          }
        },
        "92dc26b1f87741faba2c6ba1354f1c2d": {
          "model_module": "@jupyter-widgets/controls",
          "model_name": "HTMLModel",
          "state": {
            "_view_name": "HTMLView",
            "style": "IPY_MODEL_74e21fbd9e5a4252899f2353f71d015a",
            "_dom_classes": [],
            "description": "",
            "_model_name": "HTMLModel",
            "placeholder": "​",
            "_view_module": "@jupyter-widgets/controls",
            "_model_module_version": "1.5.0",
            "value": "100% 328050/328050 [4:46:47&lt;00:00, 19.06it/s]",
            "_view_count": null,
            "_view_module_version": "1.5.0",
            "description_tooltip": null,
            "_model_module": "@jupyter-widgets/controls",
            "layout": "IPY_MODEL_7a54e6b3eebe4137897a026a16863c32"
          }
        },
        "f82227d9b7ca4a01949915a14a9698d6": {
          "model_module": "@jupyter-widgets/controls",
          "model_name": "ProgressStyleModel",
          "state": {
            "_view_name": "StyleView",
            "_model_name": "ProgressStyleModel",
            "description_width": "",
            "_view_module": "@jupyter-widgets/base",
            "_model_module_version": "1.5.0",
            "_view_count": null,
            "_view_module_version": "1.2.0",
            "bar_color": null,
            "_model_module": "@jupyter-widgets/controls"
          }
        },
        "facee9bf951f4dd98d5c74100c079b91": {
          "model_module": "@jupyter-widgets/base",
          "model_name": "LayoutModel",
          "state": {
            "_view_name": "LayoutView",
            "grid_template_rows": null,
            "right": null,
            "justify_content": null,
            "_view_module": "@jupyter-widgets/base",
            "overflow": null,
            "_model_module_version": "1.2.0",
            "_view_count": null,
            "flex_flow": null,
            "width": null,
            "min_width": null,
            "border": null,
            "align_items": null,
            "bottom": null,
            "_model_module": "@jupyter-widgets/base",
            "top": null,
            "grid_column": null,
            "overflow_y": null,
            "overflow_x": null,
            "grid_auto_flow": null,
            "grid_area": null,
            "grid_template_columns": null,
            "flex": null,
            "_model_name": "LayoutModel",
            "justify_items": null,
            "grid_row": null,
            "max_height": null,
            "align_content": null,
            "visibility": null,
            "align_self": null,
            "height": null,
            "min_height": null,
            "padding": null,
            "grid_auto_rows": null,
            "grid_gap": null,
            "max_width": null,
            "order": null,
            "_view_module_version": "1.2.0",
            "grid_template_areas": null,
            "object_position": null,
            "object_fit": null,
            "grid_auto_columns": null,
            "margin": null,
            "display": null,
            "left": null
          }
        },
        "74e21fbd9e5a4252899f2353f71d015a": {
          "model_module": "@jupyter-widgets/controls",
          "model_name": "DescriptionStyleModel",
          "state": {
            "_view_name": "StyleView",
            "_model_name": "DescriptionStyleModel",
            "description_width": "",
            "_view_module": "@jupyter-widgets/base",
            "_model_module_version": "1.5.0",
            "_view_count": null,
            "_view_module_version": "1.2.0",
            "_model_module": "@jupyter-widgets/controls"
          }
        },
        "7a54e6b3eebe4137897a026a16863c32": {
          "model_module": "@jupyter-widgets/base",
          "model_name": "LayoutModel",
          "state": {
            "_view_name": "LayoutView",
            "grid_template_rows": null,
            "right": null,
            "justify_content": null,
            "_view_module": "@jupyter-widgets/base",
            "overflow": null,
            "_model_module_version": "1.2.0",
            "_view_count": null,
            "flex_flow": null,
            "width": null,
            "min_width": null,
            "border": null,
            "align_items": null,
            "bottom": null,
            "_model_module": "@jupyter-widgets/base",
            "top": null,
            "grid_column": null,
            "overflow_y": null,
            "overflow_x": null,
            "grid_auto_flow": null,
            "grid_area": null,
            "grid_template_columns": null,
            "flex": null,
            "_model_name": "LayoutModel",
            "justify_items": null,
            "grid_row": null,
            "max_height": null,
            "align_content": null,
            "visibility": null,
            "align_self": null,
            "height": null,
            "min_height": null,
            "padding": null,
            "grid_auto_rows": null,
            "grid_gap": null,
            "max_width": null,
            "order": null,
            "_view_module_version": "1.2.0",
            "grid_template_areas": null,
            "object_position": null,
            "object_fit": null,
            "grid_auto_columns": null,
            "margin": null,
            "display": null,
            "left": null
          }
        },
        "e28adac029ce4933b19a39df673ae934": {
          "model_module": "@jupyter-widgets/controls",
          "model_name": "HBoxModel",
          "state": {
            "_view_name": "HBoxView",
            "_dom_classes": [],
            "_model_name": "HBoxModel",
            "_view_module": "@jupyter-widgets/controls",
            "_model_module_version": "1.5.0",
            "_view_count": null,
            "_view_module_version": "1.5.0",
            "box_style": "",
            "layout": "IPY_MODEL_d467e458f16847ab93564c29ee8f4578",
            "_model_module": "@jupyter-widgets/controls",
            "children": [
              "IPY_MODEL_2913ea6f01b546bd8c2edcad5e4135da",
              "IPY_MODEL_b5f3f472892b4e4ba172370d02342e6f"
            ]
          }
        },
        "d467e458f16847ab93564c29ee8f4578": {
          "model_module": "@jupyter-widgets/base",
          "model_name": "LayoutModel",
          "state": {
            "_view_name": "LayoutView",
            "grid_template_rows": null,
            "right": null,
            "justify_content": null,
            "_view_module": "@jupyter-widgets/base",
            "overflow": null,
            "_model_module_version": "1.2.0",
            "_view_count": null,
            "flex_flow": null,
            "width": null,
            "min_width": null,
            "border": null,
            "align_items": null,
            "bottom": null,
            "_model_module": "@jupyter-widgets/base",
            "top": null,
            "grid_column": null,
            "overflow_y": null,
            "overflow_x": null,
            "grid_auto_flow": null,
            "grid_area": null,
            "grid_template_columns": null,
            "flex": null,
            "_model_name": "LayoutModel",
            "justify_items": null,
            "grid_row": null,
            "max_height": null,
            "align_content": null,
            "visibility": null,
            "align_self": null,
            "height": null,
            "min_height": null,
            "padding": null,
            "grid_auto_rows": null,
            "grid_gap": null,
            "max_width": null,
            "order": null,
            "_view_module_version": "1.2.0",
            "grid_template_areas": null,
            "object_position": null,
            "object_fit": null,
            "grid_auto_columns": null,
            "margin": null,
            "display": null,
            "left": null
          }
        },
        "2913ea6f01b546bd8c2edcad5e4135da": {
          "model_module": "@jupyter-widgets/controls",
          "model_name": "IntProgressModel",
          "state": {
            "_view_name": "ProgressView",
            "style": "IPY_MODEL_e294d1db23494d508e1376ace5585831",
            "_dom_classes": [],
            "description": "",
            "_model_name": "IntProgressModel",
            "bar_style": "success",
            "max": 1,
            "_view_module": "@jupyter-widgets/controls",
            "_model_module_version": "1.5.0",
            "value": 1,
            "_view_count": null,
            "_view_module_version": "1.5.0",
            "orientation": "horizontal",
            "min": 0,
            "description_tooltip": null,
            "_model_module": "@jupyter-widgets/controls",
            "layout": "IPY_MODEL_31c05e5d021748febcef31e9096841bd"
          }
        },
        "b5f3f472892b4e4ba172370d02342e6f": {
          "model_module": "@jupyter-widgets/controls",
          "model_name": "HTMLModel",
          "state": {
            "_view_name": "HTMLView",
            "style": "IPY_MODEL_ec4a4307db5d4018a08fd1fc613adbab",
            "_dom_classes": [],
            "description": "",
            "_model_name": "HTMLModel",
            "placeholder": "​",
            "_view_module": "@jupyter-widgets/controls",
            "_model_module_version": "1.5.0",
            "value": "42977it [01:18, 549.43it/s]",
            "_view_count": null,
            "_view_module_version": "1.5.0",
            "description_tooltip": null,
            "_model_module": "@jupyter-widgets/controls",
            "layout": "IPY_MODEL_0039badf897342559f04ff359e8c66bc"
          }
        },
        "e294d1db23494d508e1376ace5585831": {
          "model_module": "@jupyter-widgets/controls",
          "model_name": "ProgressStyleModel",
          "state": {
            "_view_name": "StyleView",
            "_model_name": "ProgressStyleModel",
            "description_width": "",
            "_view_module": "@jupyter-widgets/base",
            "_model_module_version": "1.5.0",
            "_view_count": null,
            "_view_module_version": "1.2.0",
            "bar_color": null,
            "_model_module": "@jupyter-widgets/controls"
          }
        },
        "31c05e5d021748febcef31e9096841bd": {
          "model_module": "@jupyter-widgets/base",
          "model_name": "LayoutModel",
          "state": {
            "_view_name": "LayoutView",
            "grid_template_rows": null,
            "right": null,
            "justify_content": null,
            "_view_module": "@jupyter-widgets/base",
            "overflow": null,
            "_model_module_version": "1.2.0",
            "_view_count": null,
            "flex_flow": null,
            "width": null,
            "min_width": null,
            "border": null,
            "align_items": null,
            "bottom": null,
            "_model_module": "@jupyter-widgets/base",
            "top": null,
            "grid_column": null,
            "overflow_y": null,
            "overflow_x": null,
            "grid_auto_flow": null,
            "grid_area": null,
            "grid_template_columns": null,
            "flex": null,
            "_model_name": "LayoutModel",
            "justify_items": null,
            "grid_row": null,
            "max_height": null,
            "align_content": null,
            "visibility": null,
            "align_self": null,
            "height": null,
            "min_height": null,
            "padding": null,
            "grid_auto_rows": null,
            "grid_gap": null,
            "max_width": null,
            "order": null,
            "_view_module_version": "1.2.0",
            "grid_template_areas": null,
            "object_position": null,
            "object_fit": null,
            "grid_auto_columns": null,
            "margin": null,
            "display": null,
            "left": null
          }
        },
        "ec4a4307db5d4018a08fd1fc613adbab": {
          "model_module": "@jupyter-widgets/controls",
          "model_name": "DescriptionStyleModel",
          "state": {
            "_view_name": "StyleView",
            "_model_name": "DescriptionStyleModel",
            "description_width": "",
            "_view_module": "@jupyter-widgets/base",
            "_model_module_version": "1.5.0",
            "_view_count": null,
            "_view_module_version": "1.2.0",
            "_model_module": "@jupyter-widgets/controls"
          }
        },
        "0039badf897342559f04ff359e8c66bc": {
          "model_module": "@jupyter-widgets/base",
          "model_name": "LayoutModel",
          "state": {
            "_view_name": "LayoutView",
            "grid_template_rows": null,
            "right": null,
            "justify_content": null,
            "_view_module": "@jupyter-widgets/base",
            "overflow": null,
            "_model_module_version": "1.2.0",
            "_view_count": null,
            "flex_flow": null,
            "width": null,
            "min_width": null,
            "border": null,
            "align_items": null,
            "bottom": null,
            "_model_module": "@jupyter-widgets/base",
            "top": null,
            "grid_column": null,
            "overflow_y": null,
            "overflow_x": null,
            "grid_auto_flow": null,
            "grid_area": null,
            "grid_template_columns": null,
            "flex": null,
            "_model_name": "LayoutModel",
            "justify_items": null,
            "grid_row": null,
            "max_height": null,
            "align_content": null,
            "visibility": null,
            "align_self": null,
            "height": null,
            "min_height": null,
            "padding": null,
            "grid_auto_rows": null,
            "grid_gap": null,
            "max_width": null,
            "order": null,
            "_view_module_version": "1.2.0",
            "grid_template_areas": null,
            "object_position": null,
            "object_fit": null,
            "grid_auto_columns": null,
            "margin": null,
            "display": null,
            "left": null
          }
        }
      }
    },
    "accelerator": "GPU"
  },
  "cells": [
    {
      "cell_type": "code",
      "metadata": {
        "id": "MaHvyIRi-0ZF",
        "colab_type": "code",
        "colab": {}
      },
      "source": [
        "!mkdir ~/.kaggle && echo '{\"username\":\"polinarevina\",\"key\":\"5bb914194d8b5103c7fab5f72b7c1806\"}' >~/.kaggle/kaggle.json "
      ],
      "execution_count": 0,
      "outputs": []
    },
    {
      "cell_type": "code",
      "metadata": {
        "id": "hcFrSKU1Agy5",
        "colab_type": "code",
        "outputId": "b28dc4ee-be99-4d62-dd53-6aff43e59760",
        "colab": {
          "base_uri": "https://localhost:8080/",
          "height": 34
        }
      },
      "source": [
        "!ls"
      ],
      "execution_count": 2,
      "outputs": [
        {
          "output_type": "stream",
          "text": [
            "drive  sample_data\n"
          ],
          "name": "stdout"
        }
      ]
    },
    {
      "cell_type": "code",
      "metadata": {
        "id": "Dop48K7Z-9g0",
        "colab_type": "code",
        "outputId": "1f4839f9-0730-43f5-90f3-bebfcde6ecd7",
        "colab": {
          "base_uri": "https://localhost:8080/",
          "height": 224
        }
      },
      "source": [
        "!kaggle competitions download -c recsys-iad-challenge"
      ],
      "execution_count": 3,
      "outputs": [
        {
          "output_type": "stream",
          "text": [
            "Warning: Your Kaggle API key is readable by other users on this system! To fix this, you can run 'chmod 600 /root/.kaggle/kaggle.json'\n",
            "Warning: Looks like you're using an outdated API Version, please consider updating (server 1.5.6 / client 1.5.4)\n",
            "Downloading train.json.zip to /content\n",
            " 99% 232M/235M [00:02<00:00, 67.4MB/s]\n",
            "100% 235M/235M [00:02<00:00, 90.7MB/s]\n",
            "Downloading items.json.zip to /content\n",
            " 97% 356M/368M [00:04<00:00, 48.0MB/s]\n",
            "100% 368M/368M [00:04<00:00, 77.6MB/s]\n",
            "Downloading random_benchmark.csv.zip to /content\n",
            "  0% 0.00/10.9M [00:00<?, ?B/s]\n",
            "100% 10.9M/10.9M [00:00<00:00, 101MB/s]\n"
          ],
          "name": "stdout"
        }
      ]
    },
    {
      "cell_type": "code",
      "metadata": {
        "id": "jLlfqtJC_Clh",
        "colab_type": "code",
        "outputId": "09d98c5f-12e2-459e-ba41-65bf9c94e4b8",
        "colab": {
          "base_uri": "https://localhost:8080/",
          "height": 119
        }
      },
      "source": [
        "!unzip items.json.zip\n",
        "!unzip random_benchmark.csv.zip\n",
        "!unzip train.json.zip"
      ],
      "execution_count": 4,
      "outputs": [
        {
          "output_type": "stream",
          "text": [
            "Archive:  items.json.zip\n",
            "  inflating: items.json              \n",
            "Archive:  random_benchmark.csv.zip\n",
            "  inflating: random_benchmark.csv    \n",
            "Archive:  train.json.zip\n",
            "  inflating: train.json              \n"
          ],
          "name": "stdout"
        }
      ]
    },
    {
      "cell_type": "code",
      "metadata": {
        "id": "BAatA0MV_Ytf",
        "colab_type": "code",
        "colab": {}
      },
      "source": [
        "import json \n",
        "from scipy.sparse import coo_matrix\n",
        "import pandas as pd\n",
        "import numpy as np\n",
        "from tqdm.auto import tqdm "
      ],
      "execution_count": 0,
      "outputs": []
    },
    {
      "cell_type": "code",
      "metadata": {
        "id": "NufTawQvIBEM",
        "colab_type": "code",
        "outputId": "c936df3c-0619-43d7-d137-5fcc3ff72635",
        "colab": {
          "base_uri": "https://localhost:8080/",
          "height": 100,
          "referenced_widgets": [
            "2e71fadaac234348a3628147a4a45c88",
            "f3d63b6c1eff4a318f08fb9ebc21836e",
            "e36ea176361c45839046083144f34437",
            "4caf09804c904b7c95e66b57591ccd53",
            "2eed248537644d358c1ed3dfae345479",
            "0396b7fbfe5f465f8fc729add035278c",
            "237ea7ad19904a639295885cbbad8d02",
            "6d25f1cfc656403d8e10e9ef9ab3a9b1"
          ]
        }
      },
      "source": [
        "%%time\n",
        "items_list=[]\n",
        "with tqdm(open('./items.json')) as inf:\n",
        "    for line in inf:\n",
        "        item=json.loads(line)\n",
        "        if isinstance(item['image'], float):\n",
        "            item['image']=[0 for _ in range(96)]\n",
        "            \n",
        "        item['image']=np.array(item['image'])\n",
        "        items_list.append(item)\n",
        "\n",
        "items=pd.DataFrame(items_list).set_index('itemId')"
      ],
      "execution_count": 8,
      "outputs": [
        {
          "output_type": "display_data",
          "data": {
            "application/vnd.jupyter.widget-view+json": {
              "model_id": "2e71fadaac234348a3628147a4a45c88",
              "version_minor": 0,
              "version_major": 2
            },
            "text/plain": [
              "HBox(children=(IntProgress(value=1, bar_style='info', max=1), HTML(value='')))"
            ]
          },
          "metadata": {
            "tags": []
          }
        },
        {
          "output_type": "stream",
          "text": [
            "\n",
            "CPU times: user 12.6 s, sys: 1.12 s, total: 13.7 s\n",
            "Wall time: 13.7 s\n"
          ],
          "name": "stdout"
        }
      ]
    },
    {
      "cell_type": "code",
      "metadata": {
        "id": "2yMK8B3ZF4C_",
        "colab_type": "code",
        "outputId": "79aa121b-2b12-47ac-b717-3fd165dca79b",
        "colab": {
          "base_uri": "https://localhost:8080/",
          "height": 34
        }
      },
      "source": [
        "len(items)"
      ],
      "execution_count": 0,
      "outputs": [
        {
          "output_type": "execute_result",
          "data": {
            "text/plain": [
              "328050"
            ]
          },
          "metadata": {
            "tags": []
          },
          "execution_count": 5
        }
      ]
    },
    {
      "cell_type": "code",
      "metadata": {
        "id": "NS6Et09bAfbe",
        "colab_type": "code",
        "outputId": "fabcb239-95d0-47ea-8b0c-763eb2239331",
        "colab": {
          "base_uri": "https://localhost:8080/",
          "height": 405
        }
      },
      "source": [
        "items.head()"
      ],
      "execution_count": 20,
      "outputs": [
        {
          "output_type": "execute_result",
          "data": {
            "text/html": [
              "<div>\n",
              "<style scoped>\n",
              "    .dataframe tbody tr th:only-of-type {\n",
              "        vertical-align: middle;\n",
              "    }\n",
              "\n",
              "    .dataframe tbody tr th {\n",
              "        vertical-align: top;\n",
              "    }\n",
              "\n",
              "    .dataframe thead th {\n",
              "        text-align: right;\n",
              "    }\n",
              "</style>\n",
              "<table border=\"1\" class=\"dataframe\">\n",
              "  <thead>\n",
              "    <tr style=\"text-align: right;\">\n",
              "      <th></th>\n",
              "      <th>content</th>\n",
              "      <th>image</th>\n",
              "      <th>title</th>\n",
              "    </tr>\n",
              "    <tr>\n",
              "      <th>itemId</th>\n",
              "      <th></th>\n",
              "      <th></th>\n",
              "      <th></th>\n",
              "    </tr>\n",
              "  </thead>\n",
              "  <tbody>\n",
              "    <tr>\n",
              "      <th>0</th>\n",
              "      <td>Согласитесь, дорогие любители собак, до чего ж...</td>\n",
              "      <td>[[-0.169], [0.129], [0.067], [0.019], [0.281],...</td>\n",
              "      <td>Пять забавных «морщинистых» пород собак</td>\n",
              "    </tr>\n",
              "    <tr>\n",
              "      <th>1</th>\n",
              "      <td>Контуры Третьей Поперечной улицы, состоявшей ...</td>\n",
              "      <td>[[-0.158], [-0.112], [-0.325], [0.05], [-0.114...</td>\n",
              "      <td>История улицы Ирининской в  Гомеле</td>\n",
              "    </tr>\n",
              "    <tr>\n",
              "      <th>2</th>\n",
              "      <td>Источник: http://infodays.ru Вообще он как-то ...</td>\n",
              "      <td>[[0.084], [-0.181], [0.008], [0.34], [-0.03], ...</td>\n",
              "      <td>Зачем Дудь всё время спрашивает гостей програм...</td>\n",
              "    </tr>\n",
              "    <tr>\n",
              "      <th>3</th>\n",
              "      <td>41-летняя Светлана Зейналова решила окрестить ...</td>\n",
              "      <td>[0.034, -0.119, -0.062, 0.025, 0.128, -0.041, ...</td>\n",
              "      <td>Светлана Зейналова крестила младшую дочь</td>\n",
              "    </tr>\n",
              "    <tr>\n",
              "      <th>4</th>\n",
              "      <td>«Организованные преступные группировки ГБАО де...</td>\n",
              "      <td>[-0.061, -0.015, -0.198, -0.047, 0.054, 0.029,...</td>\n",
              "      <td>ГКНБ: бандиты в ГБАО делают вид, что рассталис...</td>\n",
              "    </tr>\n",
              "  </tbody>\n",
              "</table>\n",
              "</div>"
            ],
            "text/plain": [
              "                                                  content  ...                                              title\n",
              "itemId                                                     ...                                                   \n",
              "0       Согласитесь, дорогие любители собак, до чего ж...  ...            Пять забавных «морщинистых» пород собак\n",
              "1        Контуры Третьей Поперечной улицы, состоявшей ...  ...                 История улицы Ирининской в  Гомеле\n",
              "2       Источник: http://infodays.ru Вообще он как-то ...  ...  Зачем Дудь всё время спрашивает гостей програм...\n",
              "3       41-летняя Светлана Зейналова решила окрестить ...  ...           Светлана Зейналова крестила младшую дочь\n",
              "4       «Организованные преступные группировки ГБАО де...  ...  ГКНБ: бандиты в ГБАО делают вид, что рассталис...\n",
              "\n",
              "[5 rows x 3 columns]"
            ]
          },
          "metadata": {
            "tags": []
          },
          "execution_count": 20
        }
      ]
    },
    {
      "cell_type": "code",
      "metadata": {
        "id": "EnLcnRrrOU5Z",
        "colab_type": "code",
        "outputId": "76e577a7-e31a-4491-bf4c-d08aa16633cd",
        "colab": {
          "base_uri": "https://localhost:8080/",
          "height": 1000
        }
      },
      "source": [
        "items.as_matrix()"
      ],
      "execution_count": 0,
      "outputs": [
        {
          "output_type": "stream",
          "text": [
            "/usr/local/lib/python3.6/dist-packages/ipykernel_launcher.py:1: FutureWarning: Method .as_matrix will be removed in a future version. Use .values instead.\n",
            "  \"\"\"Entry point for launching an IPython kernel.\n"
          ],
          "name": "stderr"
        },
        {
          "output_type": "execute_result",
          "data": {
            "text/plain": [
              "array([['Согласитесь, дорогие любители собак, до чего же мило и обаятельно выглядят собаки с забавными складками кожи – морщинками! Некоторые такие породы в свое время были остромодными и, соответственно, дефицитными. Цена – не радовала… И все-таки, как полагают наши британские и испанские коллеги, складки-морщинки – знак собачьей нежности и красоты, не больше и не меньше. Давайте с ними согласимся и заодно посмотрим на подборку из пяти «морщинистых» пород.\\n  Столь забавные складки-морщинки, как вы понимаете, появляются у собак не с возрастом и не от старости, как можно было бы подумать. В первую очередь, они возникают из-за генетической предрасположенности, обусловленной большим содержанием в организме так называемой гиалуроновой кислоты. Именно она «ответственна» за столь интересную, мясистую и в глубоких складках кожу. Кстати, мимические морщины у собак тоже бывают, прямо как и у людей, но сегодня речь не о них – а о тех очаровательных складках, которые сводят с ума поклонников данных пород. Сразу оговоримся: ухаживать за кожными складками следует очень аккуратно и осторожно. Отдельные ваши грубоватые вмешательства могут привести к неприятным, даже болевым ощущениям у питомцев. Итак, вы любите собак с «морщинками»? Тогда наша статья для вас, и читайте дальше.\\n  Шарпей. Мы ни секунды не колебались, какую породу поставить на первое место. Шарпеи не только обладатели глубоких складок и морщин. Они, эти самые складки – их визитная карточка. Многих любителей животных переполняет чувство умиления от одного только взгляда на этих чудесных собак, особенно их щенков. Порода родом из Китая. Она абсолютно не игрушечная, как кажется непосвященным людям. Шарпеи преданные и любящие существа. Заведя себе такую собаку, сразу засучивайте рукава и ни в коем случае не распускайте нюни. Собаки уважают только твердую руку. Сразу давайте понять щенку, что хозяин – это вы. Шарпеи, несмотря на их имидж плюшевых медвежат, достаточно своенравные существа, с трудом переживающие вмешательство в собс',\n",
              "        array([-0.169,  0.129,  0.067,  0.019,  0.281, -0.245,  0.089,  0.329,\n",
              "        0.072, -0.334,  0.623, -0.029,  0.126, -0.119, -0.075,  0.175,\n",
              "       -0.065,  0.058, -0.249, -0.079, -0.057,  0.17 , -0.136, -0.031,\n",
              "        0.039,  0.058,  0.103,  0.068, -0.274, -0.068, -0.205, -0.077,\n",
              "        0.256, -0.046, -0.027, -0.192, -0.145,  0.047, -0.141,  0.03 ,\n",
              "       -0.463, -0.345,  0.055,  0.068,  0.007, -0.012, -0.106,  0.019,\n",
              "       -0.124,  0.211,  0.243, -0.054,  0.253, -0.058,  0.154,  0.301,\n",
              "        0.099, -0.224,  0.038,  0.176, -0.078,  0.292,  0.256, -0.131,\n",
              "       -0.055,  0.04 ,  0.33 ,  0.33 ,  0.146,  0.332,  0.139,  0.178,\n",
              "       -0.088,  0.075,  0.147, -0.235, -0.125,  0.321,  0.118,  0.258,\n",
              "        0.028, -0.397,  0.008, -0.11 ,  0.194,  0.352,  0.115,  0.11 ,\n",
              "        0.219,  0.064, -0.054, -0.03 ,  0.056, -0.428, -0.128,  0.145]),\n",
              "        'Пять забавных «морщинистых» пород собак'],\n",
              "       [' Контуры Третьей Поперечной улицы, состоявшей до недавнего времени из двух улиц — Ирининской и Первомайской, наметились в первые два десятилетия XIX века. Примерно в 1850-1860-е годы Третью Поперечную улицу назвали Канатной. В то время в Гомеле стали быстро возникать разнообразные предприятия («заводики»). На Канатной улице, в частности, располагались «заводы» по производству канатов и мешковины. С конца XIX века в применении возобладало неофициальное наименование Канатной улицы — Ирининская, в честь хозяйки Гомеля того времени княгини Ирины Ивановны Паскевич (1835-1925). В 1897 году на Канатной (Ирининской) улице впервые в Гомеле нелегально праздновался день международной солидарности трудящихся всех стран — Первое мая. Учитывая этот факт, революционные власти города 6 мая 1919 года переименовали Канатную (Ирининскую улицу) в Первомайскую. В 2003 году улицу Первомайскую официально разделили на две части — улицу Ирининскую (от проспекта Ленина до улицы Кирова) и улицу Первомайскую (от улицы Кирова до улицы Советской). С конца июня 2013 года на Первомайскую улицу официально было распространено единое название Ирининская улица. В старом Гомеле бывшая Канатная улица считалась аристократической (достаточно вспомнить так называемый Дом врача, построенный в 1903 году в стиле модерн; в этом здании, являющемся памятником архитектуры, ныне регистрируются гражданские обряды; улица Ирининская, 13). В дореволюционное время улица освещалась газовыми фонарями и имела плиточные тротуары. В 1901 году на углу Ирининской и Румянцевской улиц появился Орловский (Соединённый) банк коммерческого кредита (отделение банка в Гомеле было открыто ещё 6 ноября 1894 года). Рядом с Преображенской (Спасской) церковью, обращённой фасадом к Замковой улице, в 1902 году открылось церковноприходское Преображенское женское училище (ныне — дом по улице Ирининской, 18а). В 1911 году, например, здесь училось 313 девочек, из которых 240 были выходцами из крестьянских семей. Продолжение статьи читайте на Кр',\n",
              "        array([-0.158, -0.112, -0.325,  0.05 , -0.114,  0.002, -0.037, -0.373,\n",
              "        0.056, -0.088,  0.015,  0.221,  0.115, -0.07 ,  0.309,  0.255,\n",
              "        0.03 ,  0.04 ,  0.19 ,  0.117,  0.126, -0.049,  0.043,  0.142,\n",
              "        0.13 , -0.241,  0.088,  0.082,  0.003, -0.135, -0.02 , -0.156,\n",
              "       -0.138,  0.11 ,  0.036,  0.072, -0.174,  0.274, -0.33 ,  0.083,\n",
              "       -0.048, -0.055,  0.068, -0.259, -0.13 , -0.027,  0.332,  0.271,\n",
              "       -0.108,  0.118, -0.303,  0.094,  0.098, -0.244,  0.136,  0.016,\n",
              "        0.059, -0.447,  0.121,  0.202, -0.004,  0.171, -0.101,  0.132,\n",
              "       -0.091, -0.056, -0.013, -0.366, -0.027,  0.085,  0.111,  0.295,\n",
              "       -0.08 ,  0.008, -0.023,  0.073, -0.097, -0.215, -0.369, -0.036,\n",
              "        0.078, -0.171, -0.077, -0.01 , -0.158,  0.204, -0.198, -0.18 ,\n",
              "       -0.055, -0.055, -0.132,  0.084, -0.188,  0.277,  0.042,  0.149]),\n",
              "        'История улицы Ирининской в  Гомеле'],\n",
              "       ['Источник: http://infodays.ru Вообще он как-то сам отвечал на этот вопрос, мол, считаю, надо говорить о нём [сексе] откровенно и когда вижу, что собеседник тоже говорит откровенно, то радуюсь и задаю вопросы активнее.  Правда, иногда вопросы эти вызывают чувство в стиле «ну спроси, ну спроси уже, Юра, о чем-нибудь другом». У меня, например, особо сильно это чувство возникало на интервью с Ивлеевой и Толоконниковой.   Но давайте попробуем пустить мысль вольной ланью и со знаменитой кушетки диванных аналитиков попробуем набросать ещё причин. Вот мой мини-список:  — Тема секса моментально перчит любой материал — Тема секса позволяет заинтересовать очень большую аудиторию — Тема секса вызывает эмоции: и у гостя, и у зрителей — Тема секса — это весело, в конце-концов — Тема секса — это провокация — важное орудие в руках журналиста. Увы,  по сей день сексуальное часто равно провокационное, хотя казалось бы. А вы смотрите Вдудя? Считаете, что Дудь там перегибает с вопросами о сексе? Лена Низеенко',\n",
              "        array([ 0.084, -0.181,  0.008,  0.34 , -0.03 , -0.197, -0.051, -0.016,\n",
              "       -0.024, -0.31 ,  0.041, -0.129, -0.189, -0.1  , -0.121,  0.013,\n",
              "        0.149,  0.021,  0.025, -0.231, -0.118,  0.268, -0.12 ,  0.001,\n",
              "       -0.021,  0.162,  0.002, -0.139, -0.013,  0.166,  0.   , -0.038,\n",
              "       -0.083,  0.112, -0.089,  0.128, -0.017, -0.015,  0.062, -0.128,\n",
              "        0.026,  0.041, -0.108,  0.071, -0.08 ,  0.086, -0.087,  0.049,\n",
              "       -0.003,  0.087,  0.058, -0.076,  0.016, -0.083, -0.153,  0.076,\n",
              "       -0.089,  0.014,  0.184, -0.122, -0.143,  0.105,  0.044, -0.048,\n",
              "        0.032, -0.097, -0.132, -0.058, -0.108, -0.038,  0.046,  0.168,\n",
              "        0.03 , -0.055,  0.002, -0.084,  0.212,  0.265, -0.132, -0.142,\n",
              "        0.017, -0.118, -0.026, -0.286,  0.164, -0.094, -0.284,  0.012,\n",
              "       -0.148,  0.111, -0.043,  0.123,  0.093, -0.108, -0.359, -0.127]),\n",
              "        'Зачем Дудь всё время спрашивает гостей программы о сексе'],\n",
              "       ...,\n",
              "       ['Уровень отказов видеокарт Nvidia RTX 2080 Ti начинает вызывать серьёзные опасения. Среди первых обладателей пострадавших становится всё больше. У некоторых наблюдаются проблемы с отображением картинки, у некоторых нет стабильности в работе видеокарт. У одних это происходит сразу после установки, у других через несколько дней. При этом пользователи не разгоняли видеокарты и не меняли напряжение. Недавно выпущенные видеокарты на графический архитектуре Turing являются самыми мощными в истории игровых видеокарт. У них не только высокая производительность, но и поддержка новых визуальных эффектов, вроде сглаживания с глубоким обучением и технология трассировки лучей. Прирост обычной производительности над картами предыдущего поколения на самом деле не очень большой, зато рост стоимости немалый. Прошло несколько недель с момента начала продаж, карты попали в достаточное количество рук, и теперь можно судить об их качестве. Выводы получаются неутешительные.  На форуме Nvidia есть немало тем относительно выхода из строя RTX 2080 Ti. Многочисленные пользователи описывают падения, синий экран смерти, чёрный экран, фризы, артефакты, другие неполадки. Такие случаи есть и на RTX 2080. Хуже всего то, что некоторые пользователи получили видеокарты на замену проблемным, и на них тоже возникли неполадки. Таким образом, проблема может быть не в отдельных экземплярах, а в архитектуре в целом. По большей части пострадавшими являются обладатели видеокарт Founders Edition, но затронуты и владельцы сторонних карт, от компаний вроде Gigabyte и Asus. Если вы прочитали статью до конца и вам понравилось, можете подписаться на наш канал или поставить Like. Больше статей читайте на сайте digitaltopics.ru.',\n",
              "        array([ 0.027, -0.148, -0.054,  0.241, -0.295, -0.466, -0.33 , -0.087,\n",
              "        0.07 ,  0.154, -0.18 ,  0.191, -0.058, -0.237, -0.016, -0.07 ,\n",
              "       -0.069,  0.145, -0.132, -0.317, -0.096,  0.137, -0.026, -0.024,\n",
              "        0.169,  0.301, -0.121,  0.005,  0.028, -0.259,  0.16 ,  0.062,\n",
              "        0.004, -0.15 ,  0.076,  0.311, -0.076, -0.237, -0.04 ,  0.186,\n",
              "       -0.036, -0.059, -0.04 ,  0.243, -0.009,  0.028,  0.213, -0.057,\n",
              "        0.021, -0.061,  0.297,  0.015, -0.074,  0.085, -0.247,  0.019,\n",
              "       -0.071,  0.291, -0.143,  0.244,  0.084, -0.125,  0.041,  0.018,\n",
              "       -0.005,  0.245,  0.067,  0.094,  0.102,  0.179,  0.11 , -0.17 ,\n",
              "       -0.057, -0.088, -0.26 , -0.133, -0.04 ,  0.077, -0.14 ,  0.207,\n",
              "       -0.29 ,  0.052,  0.002,  0.018, -0.127, -0.122, -0.235, -0.218,\n",
              "        0.117,  0.127,  0.038,  0.072,  0.079,  0.209, -0.024,  0.093]),\n",
              "        'Видеокарты Nvidia RTX 2080 Ti часто выходят из строя'],\n",
              "       [' Этот случай был летом. Мы с мужем решили навестить мою маму, а она живет за 500 Км. За пару дней созвонились, договорились о приезде. Начали собираться к отъезду, собрали все необходимое для своей доченьки маленькой, что хотели отвезти маме и поехали. Так получилось, что выехали в 7 часов вечера, приехали бы под утро, но мама все равно с радостью приняла эту новость и сказала, что ждёт. Спустя часа два, мы попали в большую пробку, все ехали с работы, так ещё и авария. Проезжали эту пробку часа полтора, дочку это вымотало и она уснула крепким сном. Уже ночь, на дороге почти никого нету, погода отвратительная, видимость плохая, поэтому и скорость не очень большая. Мы увидели даму, которая ловила машину, в таком красивом костюме, вся ухоженна, но там где она стояла, нету особо никаких мест. Может высадили ее. Мы не остановили машину, ибо я очень суеверная. Неизвостно кто она и какие у неё мысли на уме, а у нас маленький ребенок.  Мы с мужем едем обсуждаем её, да и замолкли. Спустя полчаса замечаю, что на дороге ловит машину та же леди. Я подумала, что мге показалось, но по эмоциям очень сильно дало, просто машин мало, навряд ли её кто-то взял и высодил потом. Мужу я не стала об этом говорить, но сидела в раздумьях. Спустя час мы почти уже подъезжали и увидели снова ту леди. Муж мне сказал, что видит её в третий раз уже, я ему тоже сказала. Мы уже на панике, мы не понимаем, что происходит, разные мысли в голову лезут, не дай бог что-нибудь случится. Благо, что доехали нормально. Все пошли спать, а мне не спалось от моих жутких мыслей, мне было страшно. У моей матери всегда был чуткий сон и она подошла ко мне поговорить, почему я не сплю. Я решила рассказалоь, что с нами приключилось в поездке. Ответ меня полностью убил. Оказывается полгода назад в том лесу изнасиловали и убили эту леди. Теперь иногда она там является и ловит машину. Никто не знает, кто эта леди, но видели многие. Ме стало ещё страшнее. В общем с мамой просидели где-то до 9 утра и пошли спать. Мужу я не',\n",
              "        array([ 0.176,  0.205, -0.061, -0.095, -0.004,  0.111,  0.023,  0.066,\n",
              "       -0.091, -0.118,  0.054,  0.299, -0.04 , -0.111, -0.132,  0.019,\n",
              "       -0.088, -0.124, -0.11 , -0.152, -0.413, -0.061,  0.104,  0.166,\n",
              "        0.344, -0.398,  0.077, -0.183,  0.082,  0.225, -0.097,  0.169,\n",
              "       -0.029,  0.063, -0.08 , -0.065, -0.015, -0.269,  0.001,  0.134,\n",
              "        0.148,  0.109,  0.133, -0.213,  0.133,  0.093,  0.233,  0.412,\n",
              "       -0.046,  0.339,  0.162, -0.141, -0.172,  0.167,  0.094, -0.051,\n",
              "       -0.159, -0.123,  0.304, -0.156, -0.079, -0.073, -0.16 ,  0.06 ,\n",
              "       -0.018, -0.032, -0.007,  0.016, -0.408, -0.035, -0.105, -0.048,\n",
              "       -0.027,  0.01 ,  0.175,  0.101,  0.149, -0.087,  0.035, -0.183,\n",
              "        0.223, -0.031,  0.083, -0.121,  0.332, -0.081, -0.03 , -0.147,\n",
              "       -0.006,  0.077,  0.116,  0.164,  0.205, -0.002, -0.187,  0.001]),\n",
              "        'Необъяснимое и страшное. '],\n",
              "       ['Черноплодная рябина – это целый кладезь витаминов, которые прекрасно сохраняются не только в свежей ягоде, но и в морсах, компотах и варенье, изготавливаемых из нее. А еще можно сделать вкусный ликер из рябины и откупорить зимой бутылочку. Под приятную дружескую беседу такая бутылочка уйдет за вечер (смотрите еще: домашние ликеры).  Классический рецепт в домашних условиях Первый рецепт – самый простой. Берем: черноплодную рябину (3 кг); сахар (500 г); водку (литровую бутылку). Сначала ягоды необходимо ошпарить кипятком, а затем прокрутить через блендер. После следует отжать их до образования сока, который перемешать с сахарным песком. В течение некоторого времени настаиваем ягоды – пока не получится сироп. Добавляем к нему водку – вот и готов ликер. Из черноплодной рябины с вишневыми листьями На 500 г ягод понадобятся: 50 или чуть больше листьев вишни; 500 мл водки; столовая ложка лимонной кислоты; песок (500 г); литр воды. Ягоды плюс листья замачиваем в воде. Всыпаем туда сахар. Кипятим все это в кастрюле на медленном огне в течение 5 минут. Буквально перед тем, как снять с огня, добавляем лимонную кислоту. Перемешиваем, вливаем в смесь водку. Осталось настоять в темном прохладном месте пару недель – и можно пить. Еще по теме: Ликер из малины в домашних условиях  Как приготовить пряный ликер? В этом рецепте немного больше ингредиентов. Это: черноплодка (3 кг); 700-миллилитровая бутылка водки; 4 столовых ложки меда; пол-литра воды; килограмм сахара; сок лимона; 5 бутонов гвоздики. Ягоды с ванилью, гвоздикой и сахаром закладываем в стеклянную банку, заливаем водкой. В течение 3 недель настаиваем. Сливаем сок. Затем ягоды заливаем водой на 3 часа. Соединяем алкогольную настойку и ягодную воду. Через 2 недели добавляем мед и лимонный сок, перемешиваем все. Настаиваем полгода. «Рябина красная» Готовим сахарный сироп из килограмма сахара и литра воды. Ягоды рябины (полтора килограмма) ошпариваем кипятком, помещаем в блендер. Измельчив в блендере, получаем смесь. От нее н',\n",
              "        array([ 0.062,  0.004, -0.299,  0.039,  0.117, -0.096,  0.046, -0.193,\n",
              "       -0.081, -0.17 , -0.095,  0.065,  0.066, -0.085,  0.063,  0.155,\n",
              "       -0.082,  0.068,  0.205,  0.186,  0.285, -0.082,  0.005,  0.296,\n",
              "        0.053, -0.157,  0.1  , -0.237,  0.207,  0.093, -0.049,  0.081,\n",
              "       -0.047, -0.257,  0.027,  0.027, -0.086,  0.342,  0.041, -0.058,\n",
              "       -0.095, -0.153,  0.078,  0.194,  0.405, -0.018, -0.245, -0.206,\n",
              "        0.072, -0.104,  0.045, -0.001, -0.089,  0.087,  0.087,  0.055,\n",
              "        0.345,  0.311, -0.181,  0.137, -0.16 , -0.074,  0.006,  0.012,\n",
              "       -0.056, -0.034,  0.111, -0.055, -0.152, -0.011,  0.066, -0.099,\n",
              "        0.073, -0.073,  0.074,  0.161, -0.197, -0.038,  0.044,  0.072,\n",
              "       -0.354,  0.032, -0.086,  0.089,  0.105, -0.073,  0.111,  0.165,\n",
              "        0.108,  0.101,  0.102,  0.111,  0.069,  0.187,  0.119,  0.299]),\n",
              "        'Несколько легких рецептов ликера из черноплодной и красной рябины']],\n",
              "      dtype=object)"
            ]
          },
          "metadata": {
            "tags": []
          },
          "execution_count": 10
        }
      ]
    },
    {
      "cell_type": "code",
      "metadata": {
        "id": "7hwBpHJvAmMl",
        "colab_type": "code",
        "colab": {}
      },
      "source": [
        "# lower \n",
        "items[\"content\"] = items[\"content\"].apply(lambda x: x.lower())\n",
        "items[\"title\"] = items[\"title\"].apply(lambda x: x.lower())"
      ],
      "execution_count": 0,
      "outputs": []
    },
    {
      "cell_type": "code",
      "metadata": {
        "id": "W7uH47NGAW73",
        "colab_type": "code",
        "colab": {}
      },
      "source": [
        "import string\n",
        "def delete_punctuation(x):\n",
        "    punctuation = list(string.punctuation)\n",
        "    return ''.join([a if a not in punctuation + ['\\n'] else ' ' for a in x])"
      ],
      "execution_count": 0,
      "outputs": []
    },
    {
      "cell_type": "code",
      "metadata": {
        "id": "Yi4TRBPAAzJs",
        "colab_type": "code",
        "colab": {}
      },
      "source": [
        "items[\"content\"] = items[\"content\"].apply(delete_punctuation)\n",
        "items[\"title\"] = items[\"title\"].apply(delete_punctuation)"
      ],
      "execution_count": 0,
      "outputs": []
    },
    {
      "cell_type": "code",
      "metadata": {
        "id": "eHsqz09mlMf6",
        "colab_type": "code",
        "colab": {}
      },
      "source": [
        "items.to_csv(\"prepr_items.csv\")"
      ],
      "execution_count": 0,
      "outputs": []
    },
    {
      "cell_type": "code",
      "metadata": {
        "id": "x9UpKCn5QFql",
        "colab_type": "code",
        "outputId": "b0b3fd51-c265-46af-fe66-938dde6ad3aa",
        "colab": {
          "base_uri": "https://localhost:8080/",
          "height": 67
        }
      },
      "source": [
        "!ls"
      ],
      "execution_count": 0,
      "outputs": [
        {
          "output_type": "stream",
          "text": [
            "items.json\t random_benchmark.csv\t   spacy-ru    train.json.zip\n",
            "items.json.zip\t random_benchmark.csv.zip  test.csv\n",
            "prepr_items.csv  sample_data\t\t   train.json\n"
          ],
          "name": "stdout"
        }
      ]
    },
    {
      "cell_type": "code",
      "metadata": {
        "id": "KMXKgZsLP9ny",
        "colab_type": "code",
        "colab": {}
      },
      "source": [
        "# new_items = pd.read_csv(\"prepr_items.csv\", lineterminator='\\n')"
      ],
      "execution_count": 0,
      "outputs": []
    },
    {
      "cell_type": "code",
      "metadata": {
        "id": "9bsY9R6DQBUK",
        "colab_type": "code",
        "colab": {}
      },
      "source": [
        "# new_items.head()"
      ],
      "execution_count": 0,
      "outputs": []
    },
    {
      "cell_type": "code",
      "metadata": {
        "id": "Fz27KdaFG_Qy",
        "colab_type": "code",
        "outputId": "1b8c89cd-ae89-45c1-d5d5-2fe05286e140",
        "colab": {
          "base_uri": "https://localhost:8080/",
          "height": 204
        }
      },
      "source": [
        "pip install pymorphy2==0.8"
      ],
      "execution_count": 0,
      "outputs": [
        {
          "output_type": "stream",
          "text": [
            "Collecting pymorphy2==0.8\n",
            "\u001b[?25l  Downloading https://files.pythonhosted.org/packages/a3/33/fff9675c68b5f6c63ec8c6e6ff57827dda28a1fa5b2c2d727dffff92dd47/pymorphy2-0.8-py2.py3-none-any.whl (46kB)\n",
            "\r\u001b[K     |███████                         | 10kB 24.0MB/s eta 0:00:01\r\u001b[K     |██████████████▏                 | 20kB 1.7MB/s eta 0:00:01\r\u001b[K     |█████████████████████▎          | 30kB 2.5MB/s eta 0:00:01\r\u001b[K     |████████████████████████████▍   | 40kB 3.3MB/s eta 0:00:01\r\u001b[K     |████████████████████████████████| 51kB 1.7MB/s \n",
            "\u001b[?25hRequirement already satisfied: docopt>=0.6 in /usr/local/lib/python3.6/dist-packages (from pymorphy2==0.8) (0.6.2)\n",
            "Collecting pymorphy2-dicts<3.0,>=2.4\n",
            "\u001b[?25l  Downloading https://files.pythonhosted.org/packages/02/51/2465fd4f72328ab50877b54777764d928da8cb15b74e2680fc1bd8cb3173/pymorphy2_dicts-2.4.393442.3710985-py2.py3-none-any.whl (7.1MB)\n",
            "\u001b[K     |████████████████████████████████| 7.1MB 7.8MB/s \n",
            "\u001b[?25hCollecting dawg-python>=0.7\n",
            "  Downloading https://files.pythonhosted.org/packages/6a/84/ff1ce2071d4c650ec85745766c0047ccc3b5036f1d03559fd46bb38b5eeb/DAWG_Python-0.7.2-py2.py3-none-any.whl\n",
            "Installing collected packages: pymorphy2-dicts, dawg-python, pymorphy2\n",
            "Successfully installed dawg-python-0.7.2 pymorphy2-0.8 pymorphy2-dicts-2.4.393442.3710985\n"
          ],
          "name": "stdout"
        }
      ]
    },
    {
      "cell_type": "code",
      "metadata": {
        "id": "Tl_tanA4IazZ",
        "colab_type": "code",
        "outputId": "a9a5fda8-0c7c-4d74-e1c1-018a47156ec8",
        "colab": {
          "base_uri": "https://localhost:8080/",
          "height": 121
        }
      },
      "source": [
        "pip install -U pymorphy2-dicts-ru"
      ],
      "execution_count": 0,
      "outputs": [
        {
          "output_type": "stream",
          "text": [
            "Collecting pymorphy2-dicts-ru\n",
            "\u001b[?25l  Downloading https://files.pythonhosted.org/packages/7c/9b/358faaff410f65a4ad159275e897b5956dcb20576c5b8e764b971c1634d7/pymorphy2_dicts_ru-2.4.404381.4453942-py2.py3-none-any.whl (8.0MB)\n",
            "\u001b[K     |████████████████████████████████| 8.0MB 2.9MB/s \n",
            "\u001b[?25hInstalling collected packages: pymorphy2-dicts-ru\n",
            "Successfully installed pymorphy2-dicts-ru-2.4.404381.4453942\n"
          ],
          "name": "stdout"
        }
      ]
    },
    {
      "cell_type": "code",
      "metadata": {
        "id": "LFglXVerJLTX",
        "colab_type": "code",
        "colab": {}
      },
      "source": [
        "# text lemmatization \n",
        "import pymorphy2 \n",
        "\n",
        "morph = pymorphy2.MorphAnalyzer() "
      ],
      "execution_count": 0,
      "outputs": []
    },
    {
      "cell_type": "code",
      "metadata": {
        "id": "4ZTIGbXVML02",
        "colab_type": "code",
        "outputId": "d8c1b96e-1593-4b57-8d62-0a73444fea45",
        "colab": {
          "base_uri": "https://localhost:8080/",
          "height": 34
        }
      },
      "source": [
        "morph.normal_forms(\"словечки\")[0]"
      ],
      "execution_count": 0,
      "outputs": [
        {
          "output_type": "execute_result",
          "data": {
            "text/plain": [
              "'словечко'"
            ]
          },
          "metadata": {
            "tags": []
          },
          "execution_count": 63
        }
      ]
    },
    {
      "cell_type": "code",
      "metadata": {
        "id": "br-ytsiIMVT9",
        "colab_type": "code",
        "outputId": "9ea02ef5-e383-490a-ad18-0ee3e605b168",
        "colab": {
          "base_uri": "https://localhost:8080/",
          "height": 234,
          "referenced_widgets": [
            "4114065294c64fb4a83dc4a7cbc1cf25",
            "2f6638970a0544478fd090359f55d60a",
            "69102345f7614b9e8806df99bb187822",
            "1a5e87c013f14f93803fdfd202d6d2c5",
            "ac4ca1cc331c4e6ca049a2c9e79925b1",
            "3b6b5066d50243d190fe0f88a85124a5",
            "bb71fb3cc6c24d40aed54f627dbbaf82",
            "481f74cdc47c4d4aa380c6ad634ecece"
          ]
        }
      },
      "source": [
        "alls = []\n",
        "for row in tqdm(new_items[\"title\"]):\n",
        "  # print(row)\n",
        "  news = []\n",
        "  for word in row.split():\n",
        "    new = morph.normal_forms(word)[0]\n",
        "    news.append(new)\n",
        "  alls.append(\" \".join(news))\n",
        "# print(alls)"
      ],
      "execution_count": 0,
      "outputs": [
        {
          "output_type": "display_data",
          "data": {
            "application/vnd.jupyter.widget-view+json": {
              "model_id": "4114065294c64fb4a83dc4a7cbc1cf25",
              "version_minor": 0,
              "version_major": 2
            },
            "text/plain": [
              "HBox(children=(IntProgress(value=0, max=328050), HTML(value='')))"
            ]
          },
          "metadata": {
            "tags": []
          }
        },
        {
          "output_type": "stream",
          "text": [
            "\n"
          ],
          "name": "stdout"
        },
        {
          "output_type": "stream",
          "text": [
            "IOPub data rate exceeded.\n",
            "The notebook server will temporarily stop sending output\n",
            "to the client in order to avoid crashing it.\n",
            "To change this limit, set the config variable\n",
            "`--NotebookApp.iopub_data_rate_limit`.\n",
            "\n",
            "Current values:\n",
            "NotebookApp.iopub_data_rate_limit=1000000.0 (bytes/sec)\n",
            "NotebookApp.rate_limit_window=3.0 (secs)\n",
            "\n"
          ],
          "name": "stderr"
        }
      ]
    },
    {
      "cell_type": "code",
      "metadata": {
        "id": "3DWZqJ_ARI56",
        "colab_type": "code",
        "outputId": "76a4fa98-e071-4844-e9e2-46706adebcbf",
        "colab": {
          "base_uri": "https://localhost:8080/",
          "height": 185
        }
      },
      "source": [
        "alls[:10]"
      ],
      "execution_count": 0,
      "outputs": [
        {
          "output_type": "execute_result",
          "data": {
            "text/plain": [
              "['пять забавный «морщинистых» порода собака',\n",
              " 'история улица ирининский в гомель',\n",
              " 'зачем дудь весь время спрашивать гость программа о секс',\n",
              " 'светлана зейналов крестить младший дочь',\n",
              " 'гкнб бандит в гбао делать вид что расстаться с прошлое',\n",
              " 'победа люба цена шесть «грязных» приём из бокс',\n",
              " 'мечта',\n",
              " 'этот сладость признать полезный для здоровье',\n",
              " 'миронов похоже что отечественный чиновник существовать в параллельный реальность',\n",
              " 'левша роман глава 4']"
            ]
          },
          "metadata": {
            "tags": []
          },
          "execution_count": 129
        }
      ]
    },
    {
      "cell_type": "code",
      "metadata": {
        "id": "rlhbmnZgPdZU",
        "colab_type": "code",
        "colab": {}
      },
      "source": [
        "a = pd.DataFrame(alls)"
      ],
      "execution_count": 0,
      "outputs": []
    },
    {
      "cell_type": "code",
      "metadata": {
        "id": "hNcMlRL0Iaw8",
        "colab_type": "code",
        "outputId": "76d511f2-8629-4a2b-dad6-4f9e5e544349",
        "colab": {
          "base_uri": "https://localhost:8080/",
          "height": 195
        }
      },
      "source": [
        "a.head()"
      ],
      "execution_count": 0,
      "outputs": [
        {
          "output_type": "execute_result",
          "data": {
            "text/html": [
              "<div>\n",
              "<style scoped>\n",
              "    .dataframe tbody tr th:only-of-type {\n",
              "        vertical-align: middle;\n",
              "    }\n",
              "\n",
              "    .dataframe tbody tr th {\n",
              "        vertical-align: top;\n",
              "    }\n",
              "\n",
              "    .dataframe thead th {\n",
              "        text-align: right;\n",
              "    }\n",
              "</style>\n",
              "<table border=\"1\" class=\"dataframe\">\n",
              "  <thead>\n",
              "    <tr style=\"text-align: right;\">\n",
              "      <th></th>\n",
              "      <th>0</th>\n",
              "    </tr>\n",
              "  </thead>\n",
              "  <tbody>\n",
              "    <tr>\n",
              "      <th>0</th>\n",
              "      <td>пять забавный «морщинистых» порода собака</td>\n",
              "    </tr>\n",
              "    <tr>\n",
              "      <th>1</th>\n",
              "      <td>история улица ирининский в гомель</td>\n",
              "    </tr>\n",
              "    <tr>\n",
              "      <th>2</th>\n",
              "      <td>зачем дудь весь время спрашивать гость програм...</td>\n",
              "    </tr>\n",
              "    <tr>\n",
              "      <th>3</th>\n",
              "      <td>светлана зейналов крестить младший дочь</td>\n",
              "    </tr>\n",
              "    <tr>\n",
              "      <th>4</th>\n",
              "      <td>гкнб бандит в гбао делать вид что расстаться с...</td>\n",
              "    </tr>\n",
              "  </tbody>\n",
              "</table>\n",
              "</div>"
            ],
            "text/plain": [
              "                                                   0\n",
              "0          пять забавный «морщинистых» порода собака\n",
              "1                  история улица ирининский в гомель\n",
              "2  зачем дудь весь время спрашивать гость програм...\n",
              "3            светлана зейналов крестить младший дочь\n",
              "4  гкнб бандит в гбао делать вид что расстаться с..."
            ]
          },
          "metadata": {
            "tags": []
          },
          "execution_count": 143
        }
      ]
    },
    {
      "cell_type": "code",
      "metadata": {
        "id": "zVgpX6zpYMyD",
        "colab_type": "code",
        "colab": {}
      },
      "source": [
        "a.to_csv(\"alls_titles.csv\")"
      ],
      "execution_count": 0,
      "outputs": []
    },
    {
      "cell_type": "code",
      "metadata": {
        "id": "P07WD9xyxNd_",
        "colab_type": "code",
        "outputId": "0e9bebf9-52fd-4f9f-c755-3596bf123f5f",
        "colab": {
          "base_uri": "https://localhost:8080/",
          "height": 49,
          "referenced_widgets": [
            "fd7011029e6148eb9416312ac4a5b374",
            "00ca63eedf824960a620f61f3e021d43",
            "c5e6cedae2144c28a36ee9cad4437733",
            "92dc26b1f87741faba2c6ba1354f1c2d",
            "f82227d9b7ca4a01949915a14a9698d6",
            "facee9bf951f4dd98d5c74100c079b91",
            "74e21fbd9e5a4252899f2353f71d015a",
            "7a54e6b3eebe4137897a026a16863c32"
          ]
        }
      },
      "source": [
        "alls2 = []\n",
        "for row in tqdm(new_items[\"content\"]):\n",
        "  # print(row)\n",
        "  news = []\n",
        "  for word in str(row).split():\n",
        "    new = morph.normal_forms(word)[0] \n",
        "    news.append(new)\n",
        "  alls2.append(\" \".join(news))\n",
        "# print(alls)"
      ],
      "execution_count": 0,
      "outputs": [
        {
          "output_type": "display_data",
          "data": {
            "application/vnd.jupyter.widget-view+json": {
              "model_id": "fd7011029e6148eb9416312ac4a5b374",
              "version_minor": 0,
              "version_major": 2
            },
            "text/plain": [
              "HBox(children=(IntProgress(value=0, max=328050), HTML(value='')))"
            ]
          },
          "metadata": {
            "tags": []
          }
        }
      ]
    },
    {
      "cell_type": "code",
      "metadata": {
        "id": "4SX7FqQT5DX-",
        "colab_type": "code",
        "colab": {}
      },
      "source": [
        "feat_it = pd.DataFrame({\"titles_pr\": alls, \"contents_pr\": alls2})"
      ],
      "execution_count": 0,
      "outputs": []
    },
    {
      "cell_type": "code",
      "metadata": {
        "id": "WFjdGcb35MD-",
        "colab_type": "code",
        "outputId": "4b3fc07c-1da0-4e3b-e3c9-03cb842b3da4",
        "colab": {
          "base_uri": "https://localhost:8080/",
          "height": 195
        }
      },
      "source": [
        "feat_it.head()"
      ],
      "execution_count": 0,
      "outputs": [
        {
          "output_type": "execute_result",
          "data": {
            "text/html": [
              "<div>\n",
              "<style scoped>\n",
              "    .dataframe tbody tr th:only-of-type {\n",
              "        vertical-align: middle;\n",
              "    }\n",
              "\n",
              "    .dataframe tbody tr th {\n",
              "        vertical-align: top;\n",
              "    }\n",
              "\n",
              "    .dataframe thead th {\n",
              "        text-align: right;\n",
              "    }\n",
              "</style>\n",
              "<table border=\"1\" class=\"dataframe\">\n",
              "  <thead>\n",
              "    <tr style=\"text-align: right;\">\n",
              "      <th></th>\n",
              "      <th>titles_pr</th>\n",
              "      <th>contents_pr</th>\n",
              "    </tr>\n",
              "  </thead>\n",
              "  <tbody>\n",
              "    <tr>\n",
              "      <th>0</th>\n",
              "      <td>пять забавный «морщинистых» порода собака</td>\n",
              "      <td>согласиться дорогой любитель собака до что же ...</td>\n",
              "    </tr>\n",
              "    <tr>\n",
              "      <th>1</th>\n",
              "      <td>история улица ирининский в гомель</td>\n",
              "      <td>контур три поперечный улица состоять до недавн...</td>\n",
              "    </tr>\n",
              "    <tr>\n",
              "      <th>2</th>\n",
              "      <td>зачем дудь весь время спрашивать гость програм...</td>\n",
              "      <td>источник http infodays ru вообще он как то сам...</td>\n",
              "    </tr>\n",
              "    <tr>\n",
              "      <th>3</th>\n",
              "      <td>светлана зейналов крестить младший дочь</td>\n",
              "      <td>41 летний светлана зейналов решить окрестить 5...</td>\n",
              "    </tr>\n",
              "    <tr>\n",
              "      <th>4</th>\n",
              "      <td>гкнб бандит в гбао делать вид что расстаться с...</td>\n",
              "      <td>«организовать преступный группировка гбао дела...</td>\n",
              "    </tr>\n",
              "  </tbody>\n",
              "</table>\n",
              "</div>"
            ],
            "text/plain": [
              "                                           titles_pr                                        contents_pr\n",
              "0          пять забавный «морщинистых» порода собака  согласиться дорогой любитель собака до что же ...\n",
              "1                  история улица ирининский в гомель  контур три поперечный улица состоять до недавн...\n",
              "2  зачем дудь весь время спрашивать гость програм...  источник http infodays ru вообще он как то сам...\n",
              "3            светлана зейналов крестить младший дочь  41 летний светлана зейналов решить окрестить 5...\n",
              "4  гкнб бандит в гбао делать вид что расстаться с...  «организовать преступный группировка гбао дела..."
            ]
          },
          "metadata": {
            "tags": []
          },
          "execution_count": 169
        }
      ]
    },
    {
      "cell_type": "code",
      "metadata": {
        "id": "aYLX5bEQDM_S",
        "colab_type": "code",
        "colab": {}
      },
      "source": [
        "# def clean_text(text):\n",
        "#     ## Remove stop words\n",
        "#     stops = set(stopwords.words(\"english\"))\n",
        "#     text = [w for w in text if not w in stops and len(w) >= 3]\n",
        "    \n",
        "#     return text"
      ],
      "execution_count": 0,
      "outputs": []
    },
    {
      "cell_type": "code",
      "metadata": {
        "id": "p4JYcnZRCu3L",
        "colab_type": "code",
        "outputId": "66157e17-9b07-4baa-b351-f901a75257e3",
        "colab": {
          "base_uri": "https://localhost:8080/",
          "height": 34
        }
      },
      "source": [
        "!ls"
      ],
      "execution_count": 0,
      "outputs": [
        {
          "output_type": "stream",
          "text": [
            "alls_contents.csv  alls_titles.csv  drive  sample_data\n"
          ],
          "name": "stdout"
        }
      ]
    },
    {
      "cell_type": "code",
      "metadata": {
        "id": "N5g_NwTDTYxT",
        "colab_type": "code",
        "colab": {}
      },
      "source": [
        "import pandas as pd"
      ],
      "execution_count": 0,
      "outputs": []
    },
    {
      "cell_type": "code",
      "metadata": {
        "id": "ShUMXF9CUcLs",
        "colab_type": "code",
        "colab": {}
      },
      "source": [
        "titles = pd.read_csv(\"/content/drive/My Drive/rec syst/alls_titles.csv\")"
      ],
      "execution_count": 0,
      "outputs": []
    },
    {
      "cell_type": "code",
      "metadata": {
        "id": "OCTcESKyUdiU",
        "colab_type": "code",
        "outputId": "7fec425a-1f41-40fd-8875-a6b6ae96c8ab",
        "colab": {
          "base_uri": "https://localhost:8080/",
          "height": 221
        }
      },
      "source": [
        "titles[\"0\"]"
      ],
      "execution_count": 0,
      "outputs": [
        {
          "output_type": "execute_result",
          "data": {
            "text/plain": [
              "0                 пять забавный «морщинистых» порода собака\n",
              "1                         история улица ирининский в гомель\n",
              "2         зачем дудь весь время спрашивать гость програм...\n",
              "3                   светлана зейналов крестить младший дочь\n",
              "4         гкнб бандит в гбао делать вид что расстаться с...\n",
              "                                ...                        \n",
              "328045    в новороссийск начаться ремонтный восстановите...\n",
              "328046    рецепт крабовый рулет отличный закуска для нов...\n",
              "328047    видеокарта nvidia rtx 2080 ti часто выходить и...\n",
              "328048                              необъяснимый и страшный\n",
              "328049    несколько лёгкое рецепт ликёр из черноплодный ...\n",
              "Name: 0, Length: 328050, dtype: object"
            ]
          },
          "metadata": {
            "tags": []
          },
          "execution_count": 24
        }
      ]
    },
    {
      "cell_type": "code",
      "metadata": {
        "id": "lRRNzjQqmCnQ",
        "colab_type": "code",
        "colab": {}
      },
      "source": [
        "contents = pd.read_csv(\"/content/drive/My Drive/rec syst/alls_contents.csv\")"
      ],
      "execution_count": 0,
      "outputs": []
    },
    {
      "cell_type": "code",
      "metadata": {
        "id": "eRjs_-N6mJPQ",
        "colab_type": "code",
        "outputId": "d2fb3a33-67e4-400c-deec-ecf8b7322337",
        "colab": {
          "base_uri": "https://localhost:8080/",
          "height": 173
        }
      },
      "source": [
        "contents[\"0\"].values"
      ],
      "execution_count": 0,
      "outputs": [
        {
          "output_type": "execute_result",
          "data": {
            "text/plain": [
              "array(['согласиться дорогой любитель собака до что же мило и обаятельно выглядеть собака с забавный складка кожа – морщинка некоторый такой порода в свой время быть остромодный и соответственно дефицитный цена – не радовала… и весь таки как полагать наш британский и испанский коллега складка морщинка – знак собачий нежность и красота не большой и не маленький давать с они согласиться и заодно посмотреть на подборка из пять «морщинистых» порода столь забавный складка морщинка как вы понимать появляться у собака не с возраст и не от старость как можно быть бы подумать в один очередь они возникать из за генетический предрасположенность обусловить больший содержание в организм так называть гиалуронов кислота именно она «ответственна» за столь интересный мясистый и в глубокий складка кожа кстати мимический морщина у собака тоже бывать прямо как и у человек но сегодня речь не о они – а о тот очаровательный складка который сводить с ум поклонник дать порода сразу оговориться ухаживать за кожный складка следовать очень аккуратно и осторожно отдельный ваш грубоватый вмешательство мочь привести к неприятный даже болевой ощущение у питомец итак вы любить собака с «морщинками» тогда наш статья для вы и читать далёкий шарпить мы ни секунда не колебаться какой порода поставить на первое место шарпея не только обладатель глубокий складка и морщина они этот самый складка – они визитный карточка многий любитель животное переполнять чувство умиление от один только взгляд на этот чудесный собака особенно они щенок порода родом из китай она абсолютно не игрушечный как кажется непосвящённый человек шарпея предать и любящий существо завести себя такой собака сразу засучивать рукав и ни в кой случай не распускать нюня собака уважать только твёрдый рука сразу давать понять щенок что хозяин – это вы шарпея несмотря на они имидж плюшевый медвежонок достаточно своенравный существо с труд переживать вмешательство в собс',\n",
              "       'контур три поперечный улица состоять до недавний время из два улица — ирининский и первомайский наметиться в один два десятилетие xix век примерно в 1850 1860 е год три поперечный улица назвать канатный в то время в гомель стать быстро возникать разнообразный предприятие «заводики» на канатный улица в частность располагаться «заводы» по производство канат и мешковина с конец xix век в применение возобладать неофициальный наименование канатный улица — ирининский в честь хозяйка гомель тот время княгиня ирина иван паскевич 1835 1925 в 1897 год на канатный ирининский улица впервые в гомель нелегально праздноваться день международный солидарность трудящийся весь страна — первое май учитывать этот факт революционный власть город 6 май 1919 год переименовать канатный ирининский улица в первомайский в 2003 год улица первомайский официально разделить на два часть — улица ирининский от проспект ленин до улица киров и улица первомайский от улица киров до улица советский с конец июнь 2013 год на первомайский улица официально быть распространить единый название ирининский улица в старый гомель бывший канатный улица считаться аристократический достаточно вспомнить так называть дом врач построить в 1903 год в стиль модерн в это здание являться памятник архитектура ныне регистрироваться гражданский обряд улица ирининский 13 в дореволюционный время улица освещаться газовый фонарь и иметь плиточный тротуар в 1901 год на угол ирининский и румянцевский улица появиться орловский соединить банк коммерческий кредит отделение банка в гомель быть открыто ещё 6 ноябрь 1894 год ряд с преображенский спасский церковь обратить фасад к замковый улица в 1902 год открыться церковноприходский преображенский женский училище ныне — дом по улица ирининский 18а в 1911 год например здесь учиться 313 девочка из который 240 быть выходец из крестьянский семья продолжение статья читать на кр',\n",
              "       'источник http infodays ru вообще он как то сам отвечать на этот вопрос мол считать надо говорить о он секс откровенно и когда видеть что собеседник тоже говорить откровенно то радоваться и задавать вопрос активный правда иногда вопрос этот вызывать чувство в стиль «ну спросить ну спросить уже юра о чем нибыть другом» у я например особо сильно это чувство возникать на интервью с ивлеева и толоконникова но давать попробовать пустить мысль вольный лань и с знаменитый кушетка диванный аналитик попробовать набросать ещё причина вот мой минь список — тема секс моментально перчить люба материал — тема секс позволять заинтересовать очень большой аудитория — тема секс вызывать эмоция и у гость и у зритель — тема секс — это весело в конец конец — тема секс — это провокация — важный орудие в рука журналист увы по сеять день сексуальный часто равно провокационный хотя казалось бы а вы смотреть вдудеть считать что дудь там перегибать с вопрос о секс лена низеенко',\n",
              "       ...,\n",
              "       'уровень отказ видеокарта nvidia rtx 2080 ti начинать вызывать серьёзный опасение среди один обладатель пострадавший становиться весь большой у некоторый наблюдаться проблема с отображение картинка у некоторый нет стабильность в работа видеокарта у один это происходить сразу после установка у другой через несколько день при это пользователь не разгонять видеокарта и не менять напряжение недавно выпустить видеокарта на графический архитектура turing являться самый мощный в история игровой видеокарта у они не только высокий производительность но и поддержка новый визуальный эффект вроде сглаживание с глубокий обучение и технология трассировка луч прирост обычный производительность над карта предыдущий поколение на самый дело не очень большой зато рост стоимость немалый прошлый несколько неделя с момент начало продажа карта попасть в достаточный количество рука и теперь можно судить о они качество вывод получаться неутешительный на форум nvidia есть немало тем относительно выход из строй rtx 2080 ti многочисленный пользователь описывать падение синий экран смерть чёрный экран фриз артефакт другой неполадка такой случай есть и на rtx 2080 худой всего то что некоторый пользователь получить видеокарта на замена проблемный и на они тоже возникнуть неполадка такой образ проблема мочь быть не в отдельный экземпляр а в архитектура в целое по больший часть пострадавший являться обладатель видеокарта founders edition но затронуть и владелец сторонний карта от компания вроде gigabyte и asus если вы прочитать статья до конец и вы понравиться мочь подписаться на наш канал или поставить like большой стать читать на сайт digitaltopics ru',\n",
              "       'этот случай быть летом мы с муж решить навестить мой мама а она жить за 500 километр за пара день созвониться договориться о приезд начать собираться к отъезд собрать весь необходимый для свой доченька маленькая что хотеть отвезти мама и поехать так получиться что выехать в 7 часы вечер приехать бы под утро но мама весь равно с радость принять этот новость и сказать что ждать спустя час два мы попасть в большой пробка весь ехать с работа так ещё и авария проезжать этот пробка час полтора дочка это вымотать и она уснуть крепкий сон уже ночь на дорога почти никто нету погода отвратительный видимость плохой поэтому и скорость не очень большой мы увидеть дама который ловить машина в такой красивый костюм весь ухоженна но там где она стоялый нету особо никакой место мочь высадить она мы не остановить машина ибо я очень суеверный неизвостный кто она и какой у она мысль на ум а у мы маленький ребёнок мы с муж ехать обсуждать её да и замолкнуть спустя полчаса замечать что на дорога ловить машина тот же леди я подумать что мга показаться но по эмоция очень сильно дать просто машина мало навряд ли её кто то взять и высодить потом муж я не стать о это говорить но сидеть в раздумье спустя час мы почти уже подъезжать и увидеть снова тот леди муж я сказать что видеть её в три раз уже я он тоже сказать мы уже на паника мы не понимать что происходить разный мысль в голова лезть не дать бог что нибыть случиться благо что доехать нормальный весь послать спать а я не спасться от мой жуткий мысль я быть страшно у мой матерь всегда быть чуткий сон и она подойти к я поговорить почему я не спать я решить рассказалоь что с мы приключиться в поездка ответ я полностью убить оказываться полгода назад в тот леса изнасиловать и убить этот леди теперь иногда она там являться и ловить машина никто не знать кто этот леди но видеть многие ме стать ещё страшный в общий с мама просидеть где то до 9 утро и послать спать муж я не',\n",
              "       'черноплодный рябина – это целый кладезь витамин который прекрасно сохраняться не только в свежеть ягода но и в морс компот и варение изготавливать из нея а ещё можно сделать вкусный ликёр из рябина и откупорить зимой бутылочка под приятный дружеский беседа такой бутылочка уйти за вечер смотреть ещё домашний ликёр классический рецепт в домашний условие один рецепт – самый простой брать черноплодный рябина 3 килограмм сахар 500 год водка литровый бутылка сначала ягода необходимый ошпарить кипяток а затем прокрутить через блендер после следовать отжать они до образование сок который перемешать с сахарный песок в течение некоторый время настаивать ягода – пока не получиться сироп добавлять к он водка – вот и готовый ликёр из черноплодный рябина с вишнёвый лист на 500 год ягода понадобиться 50 или чуть большой лист вишня 500 мл водка столовый ложка лимонный кислота песок 500 год литр вода ягода плюс лист замачивать в вода всыпать туда сахар кипятить весь это в кастрюля на медленный огонь в течение 5 минута буквально перед тем как снять с огонь добавлять лимонный кислота перемешивать вливать в смесь водка остаться настоять в тёмный прохладный место пара неделя – и можно пить ещё по тема ликёр из малин в домашний условие как приготовить пряный ликёр в это рецепт немного большой ингредиент это черноплодка 3 килограмм 700 миллилитровый бутылка водка 4 столовый ложка мёд половина литр вода килограмм сахара сок лимон 5 бутон гвоздик ягода с ваниль гвоздика и сахар закладывать в стеклянный банка заливать водка в течение 3 неделя настаивать сливать сок затем ягода заливать вода на 3 час соединять алкогольный настойка и ягодный вода через 2 неделя добавлять мёд и лимонный сок перемешивать весь настаивать полгода «рябина красная» готовить сахарный сироп из килограмм сахара и литр вода ягода рябина полтора килограмм ошпаривать кипяток помещать в блендер измельчить в блендер получать смесь от нея наш'],\n",
              "      dtype=object)"
            ]
          },
          "metadata": {
            "tags": []
          },
          "execution_count": 26
        }
      ]
    },
    {
      "cell_type": "code",
      "metadata": {
        "id": "0jR_V3-4fgSb",
        "colab_type": "code",
        "colab": {}
      },
      "source": [
        "import pandas as pd\n",
        "\n",
        "contents = pd.read_csv(\"/content/drive/My Drive/rec syst/alls_contents.csv\")\n",
        "titles = pd.read_csv(\"/content/drive/My Drive/rec syst/alls_titles.csv\")"
      ],
      "execution_count": 0,
      "outputs": []
    },
    {
      "cell_type": "code",
      "metadata": {
        "id": "TNiw3PhgiiYC",
        "colab_type": "code",
        "colab": {}
      },
      "source": [
        "import re\n",
        "new_titles = []\n",
        "\n",
        "for text in titles[\"0\"]:\n",
        "  new = re.sub(r\"[a-zA-Z]+|[\\d]+|[^\\w]+\", \" \", str(text))\n",
        "  new_titles.append(new)\n",
        "\n",
        "contents_titles = []\n",
        "\n",
        "for text in contents[\"0\"]:\n",
        "  new = re.sub(r\"[a-zA-Z]+|[\\d]+|[^\\w]+\", \" \", str(text))\n",
        "  contents_titles.append(new)"
      ],
      "execution_count": 0,
      "outputs": []
    },
    {
      "cell_type": "code",
      "metadata": {
        "id": "QCfbBaxEi42b",
        "colab_type": "code",
        "colab": {}
      },
      "source": [
        "import nltk \n",
        "nltk.download(\"stopwords\")\n",
        "from nltk.corpus import stopwords\n",
        "cachedStopWords = stopwords.words(\"russian\")"
      ],
      "execution_count": 0,
      "outputs": []
    },
    {
      "cell_type": "code",
      "metadata": {
        "id": "iWLgSZxQi7Hp",
        "colab_type": "code",
        "colab": {}
      },
      "source": [
        "stop_titles = []\n",
        "for sent in tqdm(new_titles):\n",
        "  a = []\n",
        "  for i in str(sent).split():\n",
        "    if i not in cachedStopWords: \n",
        "      a.append(i)\n",
        "  stop_titles.append(\" \".join(a))\n",
        "\n",
        "stop_contents = []\n",
        "for sent in tqdm(contents_titles):\n",
        "  a = []\n",
        "  for i in str(sent).split():\n",
        "    if i not in cachedStopWords: \n",
        "      a.append(i)\n",
        "  stop_contents.append(\" \".join(a))"
      ],
      "execution_count": 0,
      "outputs": []
    },
    {
      "cell_type": "code",
      "metadata": {
        "id": "n4Qhq6HsjCaJ",
        "colab_type": "code",
        "colab": {}
      },
      "source": [
        "allss = pd.DataFrame({\"titles_s\":stop_titles, \"contents_s\":stop_contents})"
      ],
      "execution_count": 0,
      "outputs": []
    },
    {
      "cell_type": "code",
      "metadata": {
        "id": "EQhxNFHHjC2a",
        "colab_type": "code",
        "colab": {}
      },
      "source": [
        "allss.to_csv(\"no_stops.csv\")"
      ],
      "execution_count": 0,
      "outputs": []
    },
    {
      "cell_type": "code",
      "metadata": {
        "id": "zn4Mmf8nEN38",
        "colab_type": "code",
        "colab": {}
      },
      "source": [
        "no_stops = pd.read_csv(\"/content/drive/My Drive/rec syst/no_stops.csv\")"
      ],
      "execution_count": 0,
      "outputs": []
    },
    {
      "cell_type": "code",
      "metadata": {
        "id": "aqMZKsZg6ZP1",
        "colab_type": "code",
        "colab": {
          "base_uri": "https://localhost:8080/",
          "height": 34
        },
        "outputId": "86d71d24-148a-49cc-a699-ab13690d5f82"
      },
      "source": [
        "no_stops.shape"
      ],
      "execution_count": 5,
      "outputs": [
        {
          "output_type": "execute_result",
          "data": {
            "text/plain": [
              "(328050, 3)"
            ]
          },
          "metadata": {
            "tags": []
          },
          "execution_count": 5
        }
      ]
    },
    {
      "cell_type": "code",
      "metadata": {
        "id": "EnJO10kJjJLR",
        "colab_type": "code",
        "outputId": "31716aab-4936-4c4b-d5b1-ab228b7ad54a",
        "colab": {
          "base_uri": "https://localhost:8080/",
          "height": 306
        }
      },
      "source": [
        "no_stops.head()"
      ],
      "execution_count": 6,
      "outputs": [
        {
          "output_type": "execute_result",
          "data": {
            "text/html": [
              "<div>\n",
              "<style scoped>\n",
              "    .dataframe tbody tr th:only-of-type {\n",
              "        vertical-align: middle;\n",
              "    }\n",
              "\n",
              "    .dataframe tbody tr th {\n",
              "        vertical-align: top;\n",
              "    }\n",
              "\n",
              "    .dataframe thead th {\n",
              "        text-align: right;\n",
              "    }\n",
              "</style>\n",
              "<table border=\"1\" class=\"dataframe\">\n",
              "  <thead>\n",
              "    <tr style=\"text-align: right;\">\n",
              "      <th></th>\n",
              "      <th>Unnamed: 0</th>\n",
              "      <th>titles_s</th>\n",
              "      <th>contents_s</th>\n",
              "    </tr>\n",
              "  </thead>\n",
              "  <tbody>\n",
              "    <tr>\n",
              "      <th>0</th>\n",
              "      <td>0</td>\n",
              "      <td>пять забавный «морщинистых» порода собака</td>\n",
              "      <td>согласиться дорогой любитель собака мило обаят...</td>\n",
              "    </tr>\n",
              "    <tr>\n",
              "      <th>1</th>\n",
              "      <td>1</td>\n",
              "      <td>история улица ирининский гомель</td>\n",
              "      <td>контур поперечный улица состоять недавний врем...</td>\n",
              "    </tr>\n",
              "    <tr>\n",
              "      <th>2</th>\n",
              "      <td>2</td>\n",
              "      <td>дудь весь время спрашивать гость программа секс</td>\n",
              "      <td>источник http infodays ru вообще отвечать вопр...</td>\n",
              "    </tr>\n",
              "    <tr>\n",
              "      <th>3</th>\n",
              "      <td>3</td>\n",
              "      <td>светлана зейналов крестить младший дочь</td>\n",
              "      <td>41 летний светлана зейналов решить окрестить 5...</td>\n",
              "    </tr>\n",
              "    <tr>\n",
              "      <th>4</th>\n",
              "      <td>4</td>\n",
              "      <td>гкнб бандит гбао делать вид расстаться прошлое</td>\n",
              "      <td>«организовать преступный группировка гбао дела...</td>\n",
              "    </tr>\n",
              "  </tbody>\n",
              "</table>\n",
              "</div>"
            ],
            "text/plain": [
              "   Unnamed: 0  ...                                         contents_s\n",
              "0           0  ...  согласиться дорогой любитель собака мило обаят...\n",
              "1           1  ...  контур поперечный улица состоять недавний врем...\n",
              "2           2  ...  источник http infodays ru вообще отвечать вопр...\n",
              "3           3  ...  41 летний светлана зейналов решить окрестить 5...\n",
              "4           4  ...  «организовать преступный группировка гбао дела...\n",
              "\n",
              "[5 rows x 3 columns]"
            ]
          },
          "metadata": {
            "tags": []
          },
          "execution_count": 6
        }
      ]
    },
    {
      "cell_type": "code",
      "metadata": {
        "id": "hCxu-MFH4fuJ",
        "colab_type": "code",
        "colab": {}
      },
      "source": [
        "image_vect = np.vstack(items.image)"
      ],
      "execution_count": 0,
      "outputs": []
    },
    {
      "cell_type": "code",
      "metadata": {
        "id": "HoRgJnrg4x4T",
        "colab_type": "code",
        "colab": {}
      },
      "source": [
        "import scipy.sparse"
      ],
      "execution_count": 0,
      "outputs": []
    },
    {
      "cell_type": "code",
      "metadata": {
        "id": "2nBl2g4N4m6h",
        "colab_type": "code",
        "colab": {}
      },
      "source": [
        "image_vect_src = scipy.sparse.csr_matrix(image_vect)"
      ],
      "execution_count": 0,
      "outputs": []
    },
    {
      "cell_type": "markdown",
      "metadata": {
        "id": "nYo3E75XMB4N",
        "colab_type": "text"
      },
      "source": [
        "I used TFIDF vectorizer to extract features from text collection. It converts a collection of text documents to a matrix of token counts. This implementation produces a sparse representation of the counts using scipy.sparse.csr_matrix, which are needed for LightFM model."
      ]
    },
    {
      "cell_type": "code",
      "metadata": {
        "id": "CxFOju0YBuNu",
        "colab_type": "code",
        "colab": {}
      },
      "source": [
        "# Countvectorizer does not normalizes results \n",
        "from sklearn.feature_extraction.text import CountVectorizer"
      ],
      "execution_count": 0,
      "outputs": []
    },
    {
      "cell_type": "code",
      "metadata": {
        "id": "y08i_3kRvTAZ",
        "colab_type": "code",
        "colab": {}
      },
      "source": [
        "vectorizer = CountVectorizer()"
      ],
      "execution_count": 0,
      "outputs": []
    },
    {
      "cell_type": "code",
      "metadata": {
        "id": "5wVYK0QmvTM6",
        "colab_type": "code",
        "colab": {}
      },
      "source": [
        "titles_vectorized = vectorizer.fit_transform(no_stops[\"titles_s\"].values.astype('str'))"
      ],
      "execution_count": 0,
      "outputs": []
    },
    {
      "cell_type": "code",
      "metadata": {
        "id": "tvHcAtUnCSkh",
        "colab_type": "code",
        "outputId": "b6dd38c4-acc7-43b1-922a-d92fe5458c2f",
        "colab": {
          "base_uri": "https://localhost:8080/",
          "height": 54
        }
      },
      "source": [
        "# have a look at features \n",
        "print(vectorizer.get_feature_names())\n",
        "# print(titles_vectorized.toarray())"
      ],
      "execution_count": 0,
      "outputs": [
        {
          "output_type": "stream",
          "text": [
            "['00', '000', '000р', '01', '02', '03', '04', '05', '06', '07', '08', '09', '10', '100', '1000', '10000', '101', '102', '105', '11', '110', '112', '12', '120', '1200', '128', '13', '130', '138', '14', '140', '142', '148', '15', '150', '1500', '16', '160', '16th', '17', '170', '18', '180', '19', '1917', '1939', '1941', '1942', '1943', '1944', '1945', '1960', '1961', '1967', '1970', '1980', '1988', '1990', '1991', '1992', '1993', '1996', '1998', '1999', '1ой', '20', '200', '2000', '2004', '2007', '2008', '2010', '2011', '2012', '2013', '2014', '2015', '2016', '2017', '2018', '2019', '2020', '2021', '2022', '2024', '2025', '207', '2070', '2077', '2080', '21', '22', '220', '229', '23', '230', '24', '25', '250', '26', '27', '28', '29', '29м', '30', '300', '3000', '31', '32', '33', '34', '340', '35', '350', '3500', '36', '360', '37', '38', '39', '3d', '40', '400', '4000', '41', '42', '43', '44', '45', '450', '46', '47', '48', '49', '4x4', '4х4', '50', '500', '5000', '51', '52', '53', '54', '55', '56', '57', '58', '59', '5g', '60', '600', '6000', '61', '62', '63', '64', '65', '66', '67', '68', '69', '6t', '70', '700', '71', '72', '73', '737', '74', '75', '76', '77', '78', '79', '80', '800', '81', '82', '83', '84', '845', '85', '86', '87', '88', '89', '8x', '90', '900', '90х', '91', '911', '92', '93', '94', '95', '96', '97', '98', '99', '9900k', 'a7', 'about', 'abrams', 'after', 'air', 'airbus', 'airlines', 'airpods', 'al', 'aliexpress', 'all', 'amazon', 'amd', 'america', 'american', 'amg', 'amoled', 'amp', 'and', 'android', 'antutu', 'apple', 'are', 'art', 'as', 'assassin', 'asus', 'at', 'atlas', 'audi', 'aurus', 'awards', 'back', 'band', 'battle', 'battlefield', 'bbc', 'be', 'beatles', 'bellator', 'bellingcat', 'bentley', 'benz', 'best', 'bethesda', 'big', 'bikini', 'bitcoin', 'blablacar', 'black', 'blizzard', 'bloomberg', 'blue', 'bmw', 'boeing', 'bq', 'bts', 'bull', 'by', 'call', 'camry', 'canada', 'cardi', 'cd', 'cent', 'cerato', 'chanel', 'chery', 'chevrolet', 'chrome', 'class', 'classic', 'club', 'cnn', 'com', 'comedy', 'comic', 'con', 'core', 'creed', 'creta', 'cross', 'cruiser', 'cs', 'cx', 'cyberpunk', 'cамый', 'dance', 'day', 'dc', 'dead', 'deep', 'deleted', 'desert', 'destiny', 'diablo', 'die', 'dior', 'disney', 'dodge', 'doom', 'dota', 'dress', 'drive2', 'duster', 'duty', 'ea', 'eadaily', 'edition', 'elder', 'enjoy', 'express', 'f1', 'face', 'facebook', 'fallout', 'fashion', 'fe', 'ferrari', 'fi', 'fifa', 'fight', 'fix', 'fixprice', 'football', 'for', 'forbes', 'ford', 'forester', 'fortnite', 'france', 'from', 'full', 'galaxy', 'game', 'geely', 'geforce', 'girl', 'girls', 'gle', 'global', 'gm', 'go', 'google', 'gps', 'grand', 'granta', 'group', 'gt', 'gta', 'gtx', 'halloween', 'haval', 'have', 'hd', 'her', 'honda', 'honor', 'huawei', 'hyundai', 'i9', 'ico', 'ii', 'iii', 'ikea', 'immortal', 'in', 'infiniti', 'instagram', 'intel', 'interest', 'ios', 'ipad', 'iphone', 'iq', 'is', 'island', 'it', 'iv', 'jaguar', 'jeep', 'just', 'kardashian', 'karoq', 'kia', 'kim', 'kodiaq', 'la', 'lada', 'lamborghini', 'land', 'laquo', 'le', 'led', 'lego', 'lenovo', 'lexus', 'lg', 'life', 'like', 'lil', 'linux', 'lite', 'little', 'live', 'logan', 'look', 'love', 'macbook', 'made', 'magic', 'man', 'marvel', 'mash', 'mate', 'max', 'mazda', 'mclaren', 'me', 'meizu', 'mercedes', 'metro', 'mi', 'microsoft', 'minaj', 'minecraft', 'mini', 'mitsubishi', 'miui', 'mix', 'mma', 'model', 'mtv', 'music', 'my', 'nasa', 'national', 'nbc', 'netflix', 'new', 'next', 'nfc', 'ni', 'nicki', 'night', 'nissan', 'no', 'nokia', 'note', 'nova', 'nubia', 'nude', 'nvidia', 'octavia', 'october', 'odyssey', 'of', 'off', 'offroad', 'on', 'one', 'oneplus', 'online', 'opel', 'oppo', 'ops', 'out', 'outlander', 'over', 'overwatch', 'p20', 'pajero', 'pc', 'peugeot', 'photo', 'pie', 'pixel', 'play', 'playboy', 'playstation', 'plus', 'pocophone', 'porsche', 'post', 'power', 'price', 'pro', 'project', 'projekt', 'ps4', 'pubg', 'queen', 'quot', 'radeon', 'raider', 'rammstein', 'range', 'raquo', 'rav4', 'red', 'redemption', 'redmi', 'renault', 'reveals', 'rio', 'rockstar', 'rolls', 'rosso', 'rover', 'royce', 'rs', 'rtx', 'ru', 'russia', 'rx', 'ryzen', 's10', 's7', 'samsung', 'sandero', 'santa', 'scrolls', 'secret', 'serebro', 'series', 'sex', 'sexy', 'shadow', 'she', 'show', 'shows', 'size', 'skate', 'skoda', 'sky', 'skyrim', 'smart', 'sms', 'snapdragon', 'sony', 'soulcalibur', 'space', 'spacex', 'spice', 'spider', 'sport', 'sportage', 'ssj', 'star', 'steam', 'stepway', 'store', 'subaru', 'super', 'suzuki', 'sw', 'swift', 'tanks', 'tatler', 'team', 'tele2', 'telegram', 'tesla', 'that', 'the', 'this', 'ti', 'tiguan', 'times', 'title', 'tmall', 'to', 'tomb', 'top', 'toro', 'toyota', 'trail', 'trophy', 'tv', 'type', 'ubisoft', 'ufc', 'up', 'update', 'usb', 'v8', 'valve', 'vesta', 'vi', 'victoria', 'video', 'viii', 'vip', 'virtus', 'vision', 'vivo', 'volkswagen', 'volvo', 'vs', 'vw', 'wall', 'war', 'warcraft', 'washington', 'watch', 'what', 'whatsapp', 'who', 'wi', 'williams', 'windows', 'witcher', 'with', 'woman', 'women', 'word', 'world', 'wot', 'wta', 'x5', 'x7', 'xiaomi', 'xix', 'xl', 'xperia', 'xr', 'xray', 'xs', 'xx', 'xxi', 'you', 'youtube', 'z5', 'zara', 'zenfone', 'zotye', 'zte', 'абонент', 'аборт', 'абрам', 'абрамс', 'абрикос', 'абсолютно', 'абсолютный', 'абсурд', 'абсурдный', 'абхазия', 'авангард', 'аварийный', 'авария', 'аватар', 'август', 'авербух', 'авиабаза', 'авиабилет', 'авиакатастрофа', 'авиакомпания', 'авианосец', 'авиарейс', 'авиаудар', 'авиационный', 'авиация', 'авить', 'авокадо', 'австралиец', 'австралийский', 'австралия', 'австрийский', 'австрия', 'авто', 'автобус', 'автобусный', 'автоваз', 'автовладелец', 'автокатастрофа', 'автокефалия', 'автоледи', 'автолюбитель', 'автомат', 'автоматически', 'автоматический', 'автомобилист', 'автомобиль', 'автомобильный', 'автономный', 'автопарк', 'автопром', 'автор', 'авторитет', 'авторитетный', 'авторский', 'авторынок', 'автосалон', 'автосервис', 'автотовар', 'автохам', 'агата', 'агент', 'агентство', 'агрессивный', 'агрессия', 'агрессор', 'ад', 'ада', 'адам', 'адаптация', 'адвокат', 'адекватный', 'аджика', 'адлер', 'администрация', 'адмирал', 'адольф', 'адрес', 'адриано', 'адский', 'аду', 'ажурный', 'азар', 'азаров', 'азербайджан', 'азербайджанский', 'азиатский', 'азиз', 'азия', 'азнавура', 'азов', 'азовский', 'азс', 'айдол', 'айза', 'айсберг', 'айфон', 'ак', 'академик', 'академия', 'аквариум', 'акинфеев', 'акинфей', 'акиньшина', 'аккаунт', 'аккумулятор', 'аккуратный', 'акппа', 'аксен', 'аксессуар', 'аксёнов', 'акт', 'актив', 'активированный', 'активист', 'активистка', 'активно', 'активность', 'активный', 'актриса', 'актуальный', 'актёр', 'актёрский', 'акула', 'акцент', 'акция', 'алабай', 'алан', 'алгоритм', 'алек', 'алекс', 'александр', 'александра', 'александров', 'алексей', 'ален', 'аленичев', 'алесь', 'али', 'алиан', 'алиев', 'алименты', 'алин', 'алиса', 'алишер', 'алиэкспресс', 'алкоголизм', 'алкоголик', 'алкоголь', 'алкогольный', 'алкотестер', 'алл', 'алла', 'аллах', 'аллегров', 'аллергия', 'алмаз', 'алматы', 'алоэ', 'алсу', 'алтай', 'алтайский', 'аль', 'альбин', 'альбом', 'альварес', 'альпинист', 'альтернатива', 'альтернативный', 'альфа', 'альфонс', 'альцгеймер', 'альянс', 'алюминиевый', 'аляска', 'алёна', 'амбиция', 'америка', 'американец', 'американка', 'американский', 'амстердам', 'амур', 'амурский', 'амфибия', 'ан', 'анализ', 'аналитик', 'аналитика', 'аналог', 'аналоговый', 'ананас', 'анапа', 'анастасий', 'анастасия', 'анатолий', 'анафема', 'ангар', 'ангел', 'английски', 'английский', 'англичанин', 'англия', 'андерсон', 'анджелес', 'анджелина', 'андреев', 'андрей', 'андроид', 'анекдот', 'анжелика', 'анжи', 'ани', 'анимация', 'аниме', 'анит', 'анна', 'анне', 'аномалия', 'аномальный', 'анонс', 'анонсировать', 'анри', 'антарктида', 'анти', 'антибиотик', 'антивирус', 'антирадар', 'антирекорд', 'антироссийский', 'антитренд', 'антифриз', 'античный', 'антон', 'антонов', 'анфис', 'апартамент', 'апельсин', 'апельсиновый', 'апл', 'аплодисменты', 'апокалипсис', 'аппарат', 'аппетит', 'аппетитный', 'апрель', 'аптека', 'аптечка', 'аптечный', 'ар', 'араб', 'арабский', 'аравия', 'арбенин', 'арбитр', 'арбуз', 'аргентина', 'аргентинский', 'аргумент', 'арен', 'арена', 'аренда', 'арендовать', 'арест', 'арестованный', 'арестовать', 'арин', 'арка', 'аркадий', 'арктика', 'арктический', 'армата', 'армеец', 'армейский', 'армен', 'армения', 'армия', 'армянин', 'армянский', 'арнольд', 'аромат', 'ароматизатор', 'ароматный', 'арсенал', 'арсенала', 'арт', 'артем', 'артериальный', 'артефакт', 'артиллерийский', 'артиллерия', 'артист', 'артистка', 'артрит', 'артур', 'артём', 'арустамян', 'архангельск', 'архангельский', 'археолог', 'археологический', 'архив', 'архивный', 'архитектор', 'архитектура', 'аршавино', 'ас', 'асад', 'аскрен', 'асмуса', 'аспект', 'аспирин', 'астероид', 'астраханец', 'астраханский', 'астрахань', 'астролог', 'астрологический', 'астрология', 'астронавт', 'астроном', 'асфальт', 'атака', 'атаковать', 'атеросклероз', 'атлантида', 'атлантика', 'атмосфера', 'атмосферный', 'ато', 'атомный', 'ауди', 'аудитория', 'аукцион', 'аут', 'аутизм', 'афган', 'афганистан', 'афганский', 'афера', 'аферист', 'афиша', 'афон', 'афоризм', 'африка', 'африканский', 'африкантовый', 'аффлек', 'ах', 'ахмат', 'ашан', 'аэродром', 'аэропорт', 'аэрофлот', 'аэс', 'баба', 'бабий', 'бабка', 'бабкин', 'бабочка', 'бабуля', 'бабушка', 'бабушкин', 'бавария', 'баг', 'багаж', 'багажник', 'база', 'базилик', 'базовый', 'байка', 'байкал', 'байкер', 'бак', 'баклажан', 'бактерия', 'баку', 'бал', 'баланс', 'балерина', 'балет', 'бали', 'балкон', 'балл', 'баллистический', 'баллон', 'балтийский', 'бальзам', 'бампер', 'банан', 'банановый', 'бангкок', 'банда', 'бандит', 'бандитский', 'бандёр', 'банк', 'банка', 'банкир', 'банкнот', 'банковский', 'банкомат', 'банкрот', 'банкротство', 'баннер', 'банный', 'баночка', 'баня', 'бар', 'барабан', 'баран', 'баранина', 'барановский', 'барби', 'бардак', 'бармен', 'барнаул', 'барнаулец', 'барон', 'баррель', 'барс', 'барселона', 'барселоны', 'бархатный', 'баск', 'басков', 'бассейн', 'баста', 'бастион', 'бастрыкин', 'батальон', 'батарейка', 'батарея', 'батон', 'батурин', 'бачок', 'башкирия', 'башкирский', 'башкортостан', 'башня', 'бдительный', 'бег', 'бегать', 'беглов', 'беглый', 'бегство', 'беда', 'беднеть', 'бедность', 'бедный', 'бедняк', 'бедро', 'бедствие', 'бежать', 'бежевый', 'беженец', 'без', 'бездетный', 'бездомный', 'бездорожье', 'безлимитный', 'безмотылок', 'безопасно', 'безопасность', 'безопасный', 'безработица', 'безработный', 'безрамочный', 'безруков', 'безумие', 'безумно', 'безумный', 'безупречный', 'безусый', 'бейдёр', 'бейонс', 'бекхэма', 'бел', 'бела', 'беларусь', 'белгород', 'белгородский', 'белка', 'белковый', 'белла', 'беллить', 'беллучча', 'белок', 'белорус', 'белоруссия', 'белорусский', 'белоснежный', 'белые', 'белый', 'белых', 'бельгийский', 'бельгия', 'бельё', 'беляш', 'бен', 'бензин', 'бензиновый', 'бензобак', 'бензопила', 'бердыев', 'берег', 'беременность', 'беременный', 'берет', 'беречь', 'берия', 'берк', 'берлин', 'бермудский', 'бес', 'беседа', 'беседка', 'бесить', 'бесконечный', 'беспилотник', 'беспилотный', 'бесплатно', 'бесплатный', 'бесподобный', 'беспокоить', 'беспокоиться', 'беспокойство', 'бесполезный', 'беспорядок', 'беспощадный', 'беспредел', 'беспрецедентный', 'беспроводный', 'беспроигрышный', 'бессильный', 'бессмертие', 'бессмертный', 'бессмысленный', 'бессонница', 'бессрочный', 'бесстрашный', 'бестселлер', 'бесшумный', 'бета', 'бетон', 'бетонный', 'бешенство', 'бешеный', 'би', 'биатлон', 'биатлонист', 'бибер', 'библиотека', 'библия', 'бизнес', 'бизнесмен', 'бийск', 'бикини', 'билайн', 'билан', 'билет', 'билл', 'биография', 'биолог', 'биологический', 'биржа', 'бирка', 'бисквит', 'битва', 'биткоина', 'битый', 'бить', 'биться', 'бицепс', 'благо', 'благодарить', 'благодарность', 'благодарный', 'благодаря', 'благополучие', 'благоприятный', 'благородный', 'благосостояние', 'благотворительный', 'благоустройство', 'блатной', 'бледанс', 'блеск', 'блесна', 'блестящий', 'ближний', 'близкие', 'близкий', 'близко', 'близнец', 'близняшка', 'близость', 'блин', 'блинчик', 'блистать', 'блог', 'блогер', 'блок', 'блокада', 'блокадный', 'блокбастер', 'блокировать', 'блокировка', 'блокчейн', 'блондинка', 'блоха', 'блузка', 'блюдо', 'блюменкранец', 'блюменкранц', 'бмв', 'бмп', 'бо', 'боб', 'бог', 'богатеть', 'богато', 'богатство', 'богатый', 'богатырь', 'богач', 'богемский', 'богиня', 'богородица', 'бодибилдер', 'бодибилдинг', 'боев', 'боевик', 'боевой', 'боеприпас', 'боец', 'божественный', 'божий', 'боинг', 'бой', 'бойня', 'бойфренд', 'бок', 'бокал', 'боков', 'боком', 'бокс', 'боксёр', 'боксёрский', 'болгария', 'болгарка', 'болгарский', 'болдуин', 'более', 'болезненный', 'болезнь', 'болельщик', 'болельщица', 'болеть', 'болото', 'болт', 'болтон', 'боль', 'больница', 'больничный', 'больно', 'больной', 'большевик', 'большегруз', 'больший', 'большинство', 'большой', 'бомба', 'бомбардир', 'бомбардировка', 'бомбардировщик', 'бомбить', 'бомж', 'бонд', 'бондаренко', 'бондарчук', 'бонить', 'бонус', 'бора', 'бордо', 'борец', 'борис', 'борисов', 'борода', 'бородин', 'бороться', 'борт', 'бортовый', 'борщ', 'борщевик', 'борьба', 'босс', 'ботинок', 'ботокс', 'ботокса', 'ботфорт', 'бохо', 'бочка', 'боширов', 'боярский', 'бояться', 'бпнуть', 'бравый', 'брага', 'бразилец', 'бразилия', 'бразильский', 'брайан', 'брак', 'браковать', 'браконьер', 'браслет', 'брат', 'братский', 'брать', 'браться', 'браузер', 'брачный', 'бревно', 'бред', 'брежнев', 'бренд', 'бригада', 'бриллиант', 'бриллиантовый', 'британец', 'британия', 'британка', 'британский', 'бровь', 'бродить', 'бродячий', 'броневик', 'бронепоезд', 'бронзовый', 'бронирование', 'бронировать', 'броня', 'бросать', 'бросаться', 'бросить', 'броситься', 'броский', 'брошь', 'бруксбэнка', 'брус', 'брутальное', 'брутальный', 'брэд', 'брэдлить', 'брюки', 'брюнетка', 'брюс', 'брюссель', 'брянск', 'брянский', 'бтр', 'бубновый', 'будапешт', 'буде', 'будет', 'будни', 'будто', 'будущего', 'будущее', 'будущий', 'бузов', 'бузову', 'бук', 'буква', 'буквально', 'букет', 'букин', 'булочка', 'бульон', 'бум', 'бумага', 'бумажный', 'бумеранг', 'бункер', 'бунт', 'бургера', 'бурный', 'буря', 'бурятия', 'бутерброд', 'бутылка', 'бутырка', 'бутырке', 'буханка', 'бухгалтер', 'бухта', 'бы', 'бывалый', 'бывать', 'бывший', 'быдло', 'бык', 'быков', 'быль', 'быстро', 'быстрый', 'быт', 'бытовой', 'быть', 'бьютя', 'бэнксить', 'бэтмена', 'бюджет', 'бюджетник', 'бюджетный', 'бюстгальтер', 'вагнер', 'вагон', 'вадим', 'важность', 'важный', 'ваза', 'вакансия', 'вакцина', 'валаам', 'валдай', 'валентин', 'валентина', 'валер', 'валерий', 'валить', 'валуев', 'валюта', 'валютный', 'вампир', 'ван', 'ванг', 'ванна', 'ванная', 'ваня', 'варение', 'вареник', 'вариант', 'варикоз', 'варить', 'варлей', 'варфоломей', 'варёный', 'василевский', 'василий', 'василиса', 'васильев', 'вася', 'ватикан', 'ватрушка', 'вафля', 'ваш', 'вашингтон', 'вблизи', 'введение', 'вверх', 'ввести', 'ввод', 'вводить', 'вводиться', 'ввп', 'ввс', 'вдали', 'вдв', 'вдвое', 'вдова', 'вдовый', 'вдоль', 'вдохновение', 'вдохновить', 'вдохновлять', 'вдруг', 'веб', 'вегас', 'ведение', 'ведомство', 'ведущий', 'ведь', 'ведьма', 'ведьмак', 'ведьмака', 'ведьмаке', 'вежливый', 'везде', 'вездеход', 'везти', 'век', 'века', 'велик', 'великий', 'великобритания', 'великое', 'великолепный', 'величие', 'велосипед', 'велосипедист', 'вена', 'венгерский', 'венгрия', 'венедиктов', 'венера', 'венесуэла', 'венец', 'венеция', 'веник', 'вено', 'веном', 'венома', 'вентиляция', 'вера', 'вердикт', 'верить', 'вермахт', 'верность', 'вернуть', 'вернуться', 'верный', 'вероника', 'вероятно', 'вероятность', 'вероятный', 'версия', 'вертикальный', 'вертолёт', 'верующий', 'верхний', 'верховный', 'вершина', 'верёвка', 'вес', 'веселие', 'весело', 'весенний', 'весить', 'веский', 'весна', 'весной', 'вест', 'вести', 'вестись', 'весы', 'весь', 'весьма', 'весёлый', 'ветер', 'ветеран', 'ветеринар', 'ветка', 'ветчина', 'вечер', 'вечеринка', 'вечерний', 'вечером', 'вечно', 'вечный', 'вешать', 'вещество', 'вещий', 'вещь', 'взбесить', 'взбудоражить', 'взвешивание', 'взгляд', 'взглянуть', 'вздутие', 'взлететь', 'взлом', 'взломать', 'взлёт', 'взнос', 'взорвать', 'взорваться', 'взрослый', 'взрыв', 'взрывать', 'взрывной', 'взыскание', 'взыскать', 'взятие', 'взятка', 'взять', 'взяться', 'виа', 'вид', 'видение', 'видео', 'видеоблогер', 'видеозапись', 'видеоигра', 'видеокамера', 'видеокарта', 'видеонаблюдение', 'видеообращение', 'видеорегистратор', 'видеоролик', 'видеофакт', 'видеть', 'видимо', 'видно', 'виза', 'визажист', 'визит', 'визуально', 'визуальный', 'вика', 'викинг', 'виктор', 'викторин', 'виктория', 'вилка', 'вилла', 'вильярреал', 'вина', 'винегрет', 'винить', 'винный', 'вино', 'виноватый', 'виновник', 'виновный', 'виноград', 'виноградный', 'винтажный', 'винтовка', 'винчи', 'виртуальный', 'вирус', 'вирусный', 'висеть', 'висок', 'виталий', 'виталина', 'витамин', 'витаминный', 'виток', 'виторган', 'вица', 'вич', 'вишня', 'вишнёвый', 'вклад', 'вкладчик', 'вкладывать', 'включать', 'включение', 'включить', 'вконтакте', 'вкс', 'вкус', 'вкусно', 'вкусный', 'вкуснятина', 'вкусняшка', 'влад', 'владелец', 'владение', 'владеть', 'владивосток', 'владикавказ', 'владимир', 'владимирский', 'владислав', 'властелин', 'власть', 'влашй', 'влететь', 'влияние', 'влиятельный', 'влиять', 'вложение', 'вложить', 'влюбить', 'влюбиться', 'влюбляться', 'вместе', 'вместо', 'вмешательство', 'вмешаться', 'вмс', 'вмф', 'вне', 'внебрачный', 'внедорожник', 'внедорожный', 'внезапно', 'внезапный', 'внеземной', 'внести', 'внешний', 'внешность', 'вниз', 'внимание', 'внимательность', 'внимательный', 'вновь', 'вносить', 'внук', 'внуково', 'внутренний', 'внутри', 'внучка', 'во', 'воблер', 'вова', 'вовремя', 'вовсе', 'вод', 'вода', 'водитель', 'водительский', 'водить', 'водка', 'водный', 'водолаз', 'водолазка', 'водолей', 'водонаев', 'водопад', 'водопровод', 'водород', 'водородный', 'водоснабжение', 'водоём', 'водянов', 'водяной', 'воевать', 'военнослужащий', 'военный', 'вождение', 'вождь', 'возбудить', 'возврат', 'возвращать', 'возвращаться', 'возвращение', 'возглавить', 'воздействие', 'воздух', 'воздушный', 'возить', 'возле', 'возлюбить', 'возмездие', 'возможно', 'возможность', 'возможный', 'возмутить', 'возмутиться', 'возникать', 'возникновение', 'возникнуть', 'возобновить', 'возраст', 'возрасти', 'возрастной', 'возродить', 'возрождение', 'воин', 'воинский', 'война', 'войско', 'войти', 'вокалист', 'вокзал', 'вокруг', 'волга', 'волгоград', 'волгоградец', 'волгоградка', 'волгоградский', 'волжский', 'волк', 'волкер', 'волков', 'волна', 'волноваться', 'вологда', 'вологодский', 'володин', 'волонтёр', 'волос', 'волочкова', 'волочковый', 'волшебный', 'волшебство', 'вольт', 'вольф', 'воля', 'вон', 'вонючий', 'воображение', 'вообще', 'вооружение', 'вооружённый', 'вопреки', 'вопрос', 'вор', 'ворваться', 'воробей', 'воробьев', 'воровать', 'воровство', 'ворон', 'воронеж', 'воронежец', 'воронежский', 'ворот', 'ворота', 'восемь', 'воскресение', 'воскреснуть', 'воскресный', 'воспаление', 'воспитание', 'воспитатель', 'воспитательница', 'воспитать', 'воспитывать', 'воспользоваться', 'воспоминание', 'воспринимать', 'восприятие', 'восстанавливать', 'восстание', 'восстановить', 'восстановление', 'восток', 'восторг', 'восточный', 'востребовать', 'восхитительный', 'восхитить', 'восхититься', 'восхищаться', 'восьмилетний', 'вот', 'вота', 'впасть', 'впервые', 'впереди', 'вперёд', 'впечатление', 'впечатлить', 'впечатляющий', 'вполне', 'враг', 'вражда', 'вражеский', 'враньё', 'вратарь', 'врать', 'врач', 'вред', 'вредитель', 'вредить', 'вредный', 'врезаться', 'времени', 'временно', 'временной', 'время', 'врио', 'вроде', 'вручить', 'вряд', 'вс', 'все', 'всегда', 'всего', 'вселенная', 'вселенский', 'всемирный', 'всероссийский', 'всерьёз', 'всех', 'вскармливание', 'вскоре', 'вскрыть', 'вслед', 'вслух', 'вспоминать', 'вспомнить', 'вспыхнуть', 'вспышка', 'вставать', 'встать', 'встревожить', 'встретить', 'встретиться', 'встреча', 'встречать', 'встречаться', 'встречный', 'встречок', 'встроить', 'вступать', 'вступить', 'вступиться', 'вступление', 'всу', 'всякий', 'всё', 'втб', 'вторжение', 'вторичка', 'вторичный', 'вторник', 'второе', 'втянуть', 'вуз', 'вулкан', 'вход', 'входить', 'входной', 'вциома', 'вчера', 'вчерашний', 'въезд', 'въехать', 'вы', 'выбежать', 'выбирать', 'выбить', 'выбор', 'выборы', 'выбрасывать', 'выбрать', 'выбраться', 'выбросить', 'вывезти', 'вывести', 'вывод', 'выводить', 'вывоз', 'вывозить', 'выглядеть', 'выгнать', 'выгода', 'выгодно', 'выгодный', 'выгонять', 'выгребной', 'выдавать', 'выдать', 'выдача', 'выдающийся', 'выдвинуть', 'выделить', 'выдержать', 'выдерживать', 'выдумать', 'выдумка', 'выезд', 'выезжать', 'выехать', 'выживание', 'выживать', 'выжить', 'вызвать', 'вызов', 'вызывать', 'вызывающий', 'выиграть', 'выигрывать', 'выигрыш', 'выйти', 'выкапывать', 'выкидывать', 'выкинуть', 'выкладывать', 'выключатель', 'выключить', 'выкопать', 'выкройка', 'выкупить', 'вылет', 'вылететь', 'вылечить', 'выловить', 'выложить', 'вымереть', 'вымирать', 'вымогательство', 'вымогать', 'вымысел', 'вынести', 'выносить', 'выносливость', 'вынудить', 'вынужденный', 'выпадать', 'выпадение', 'выпасть', 'выпечка', 'выпивать', 'выписать', 'выписка', 'выпить', 'выплата', 'выплатить', 'выплачивать', 'выполнение', 'выполнить', 'выполнять', 'выпрыгнуть', 'выпуск', 'выпускать', 'выпускник', 'выпускной', 'выпустить', 'выражение', 'выразить', 'вырасти', 'вырастить', 'выращивание', 'выращивать', 'вырвать', 'вырваться', 'вырез', 'вырезать', 'вырубить', 'выручать', 'высадить', 'высадка', 'выселить', 'высказать', 'высказаться', 'высказывание', 'высмеять', 'высокий', 'высокооплачиваемый', 'высокопоставленный', 'высота', 'высоцкий', 'выставить', 'выставка', 'выставлять', 'выстрел', 'выстрелить', 'выступать', 'выступить', 'выступление', 'вытащить', 'вытеснить', 'вытяжка', 'выучить', 'выход', 'выходить', 'выходка', 'выходной', 'вычет', 'вычислить', 'выше', 'вышивка', 'выявить', 'выяснить', 'выясниться', 'выяснять', 'вьетнам', 'вьетнамский', 'вязание', 'вязаный', 'вязать', 'вяленый', 'вячеслав', 'вёдро', 'гаврил', 'гага', 'гагарин', 'гадать', 'гаджет', 'гадкий', 'газ', 'газа', 'газель', 'газета', 'газманов', 'газовый', 'газон', 'газопровод', 'газпром', 'газпрома', 'гаишник', 'гай', 'гайда', 'гайка', 'галактика', 'галина', 'галицкий', 'галич', 'галкин', 'гамма', 'гангстер', 'гандзюк', 'гантель', 'гараж', 'гаражный', 'гарантировать', 'гарантия', 'гардероб', 'гардеробный', 'гарем', 'гарик', 'гармония', 'гарнир', 'гарри', 'гастрит', 'гастроль', 'гаубица', 'гб', 'гвардия', 'гвинуть', 'гвоздь', 'гд', 'где', 'гей', 'геймер', 'геймплей', 'гейтс', 'гелендваген', 'геленджик', 'гелик', 'гель', 'гемоглобин', 'ген', 'гендиректор', 'генерал', 'генеральный', 'генератор', 'генетик', 'генетический', 'гениальный', 'гений', 'геннадий', 'геноцид', 'генпрокуратура', 'генпрокурор', 'генри', 'генрих', 'генсек', 'географический', 'география', 'геометрия', 'георгий', 'георгин', 'гепатит', 'геральт', 'герань', 'герман', 'германия', 'германский', 'героиня', 'героический', 'герой', 'герпес', 'герцог', 'герцогиня', 'гея', 'гибдд', 'гибель', 'гибкий', 'гибрид', 'гибридный', 'гигант', 'гигантский', 'гигиена', 'гид', 'гидрометцентр', 'гимн', 'гимнастика', 'гимнастка', 'гинеколог', 'гиперзвуковой', 'гипермаркета', 'гипертония', 'гипотеза', 'гипсокартон', 'гиря', 'гитара', 'гитарист', 'гитлер', 'гифка', 'глава', 'главарь', 'главврач', 'главное', 'главный', 'главред', 'главый', 'глагол', 'гладиатор', 'гладкий', 'глаз', 'гламурный', 'глацкий', 'глеб', 'глина', 'глобальный', 'глобый', 'глонасс', 'глубина', 'глубинка', 'глубокий', 'глубоко', 'глупость', 'глупый', 'глухой', 'глухонемой', 'глушаков', 'глушитель', 'глушь', 'глюк', 'глюкоза', 'глядеть', 'гнать', 'гнев', 'гнездо', 'гнилой', 'гнить', 'го', 'гоа', 'гобоз', 'гобозов', 'говорить', 'говорят', 'говорящий', 'говядина', 'говяжий', 'гоген', 'гоголь', 'год', 'года', 'годами', 'годность', 'годовалый', 'годовщина', 'годунов', 'гол', 'голевой', 'голиков', 'голкипер', 'голландец', 'голландия', 'голландский', 'голливуд', 'голливудский', 'голов', 'голова', 'головин', 'головкин', 'головной', 'головоломка', 'голод', 'голодание', 'голодать', 'голодный', 'голодовка', 'гололёд', 'голос', 'голосование', 'голосовать', 'голуба', 'голубец', 'голубой', 'голубь', 'голый', 'гомель', 'гомес', 'гонка', 'гонконг', 'гонорар', 'гоночный', 'гончаренко', 'гонщик', 'гонять', 'гопник', 'гора', 'гораздо', 'горбачев', 'горбуша', 'гордиться', 'гордон', 'гордость', 'гордума', 'горе', 'гореть', 'горка', 'горло', 'гормон', 'гормональный', 'горнолыжный', 'горный', 'город', 'городок', 'городской', 'горожанин', 'гороскоп', 'гороховый', 'горошек', 'гортензия', 'горчица', 'горчичный', 'горшков', 'горшок', 'горшочек', 'горький', 'горячее', 'горячий', 'гос', 'госдеп', 'госдолг', 'госдума', 'госзакупка', 'госизмена', 'госпитализация', 'госпитализировать', 'господин', 'господь', 'гост', 'гостиница', 'гостиный', 'гость', 'гостья', 'государственный', 'государство', 'готовить', 'готовиться', 'готовность', 'готовый', 'гоша', 'грабитель', 'грабить', 'грабли', 'грабёж', 'гравитация', 'град', 'градский', 'градус', 'гражданин', 'гражданский', 'гражданство', 'грамм', 'грамотно', 'грамотность', 'грамотный', 'гран', 'гранат', 'гранатомёт', 'гранд', 'грандиозный', 'граница', 'грант', 'грань', 'граф', 'график', 'графика', 'граффити', 'грачев', 'грек', 'гренок', 'греть', 'греф', 'грех', 'греция', 'грецкий', 'греческий', 'гречка', 'гречневый', 'гриб', 'грибник', 'грибной', 'грибов', 'грибок', 'гривна', 'григорий', 'грим', 'грин', 'грипп', 'гриценко', 'гроб', 'гродно', 'гроза', 'грозить', 'грозный', 'гройсман', 'громкий', 'громко', 'гру', 'грубо', 'грубый', 'грудинин', 'грудинка', 'грудка', 'грудной', 'грудь', 'груз', 'грузинский', 'грузия', 'грузовик', 'грузовой', 'грунт', 'группа', 'группировка', 'групповой', 'грустить', 'грустный', 'грусть', 'груша', 'грыжа', 'грызунов', 'грэм', 'грядка', 'грядущий', 'грязный', 'грязь', 'грясти', 'гу', 'губа', 'губернатор', 'губернаторов', 'губернаторский', 'губерний', 'губить', 'губка', 'гудков', 'гузеев', 'гулаг', 'гуля', 'гулять', 'гуляш', 'гурман', 'гусев', 'гусеница', 'густой', 'гусь', 'гуфа', 'да', 'давать', 'давид', 'давидыча', 'давить', 'давление', 'давний', 'давно', 'давность', 'дагестан', 'дагестанец', 'дагестанский', 'даже', 'дайджест', 'дайнёкий', 'дакота', 'далее', 'далеко', 'дальневосточный', 'дальнейший', 'дальний', 'дальнобойщик', 'дальность', 'далёкий', 'дама', 'даниил', 'данил', 'даниэль', 'дания', 'данные', 'данный', 'дань', 'дар', 'дарить', 'даром', 'дарья', 'дата', 'датский', 'датчик', 'дать', 'дача', 'дачник', 'дачный', 'даша', 'два', 'двадцать', 'дважды', 'двенадцать', 'дверной', 'дверь', 'двигатель', 'двигаться', 'движение', 'движок', 'двое', 'двойка', 'двойник', 'двойной', 'двор', 'дворец', 'дворник', 'двухкомнатный', 'двухлетний', 'двушка', 'де', 'дебаты', 'дебош', 'дебют', 'дебютантка', 'дебютировать', 'дебютный', 'дева', 'девать', 'девичий', 'девочка', 'девушка', 'девчонка', 'девяносто', 'девятилетний', 'девять', 'деградация', 'дегустация', 'дед', 'дедовский', 'дедолларизация', 'дедушка', 'дежурство', 'действенный', 'действие', 'действительно', 'действительность', 'действовать', 'действующий', 'декабрист', 'декабрь', 'декларация', 'декольте', 'декор', 'декоративный', 'декрет', 'декретный', 'декупаж', 'делать', 'делаться', 'делегация', 'деликатес', 'делить', 'делиться', 'дело', 'деловой', 'дельный', 'дельфин', 'делягин', 'дембель', 'деметь', 'демократ', 'демократия', 'демон', 'демонстрация', 'демонстрировать', 'денежный', 'денис', 'денисов', 'день', 'деньга', 'деньги', 'департамент', 'депозит', 'депп', 'деппа', 'депрессия', 'депутат', 'депутатский', 'дербент', 'дерби', 'деревенски', 'деревенский', 'деревня', 'дерево', 'деревянный', 'держава', 'держатель', 'держать', 'держаться', 'дерзкий', 'дерипаск', 'деррик', 'десант', 'десантник', 'десантный', 'десерт', 'десятилетие', 'десятка', 'десять', 'деталь', 'детальный', 'детдом', 'детей', 'детектив', 'детективный', 'детектор', 'детка', 'детсад', 'детский', 'детство', 'деть', 'деться', 'детёныш', 'дефект', 'дефицит', 'дефолт', 'дешеветь', 'дешёвый', 'деятельность', 'джаз', 'джамаль', 'джанабаев', 'джастин', 'джей', 'джейкобс', 'джеймс', 'джейн', 'джейсон', 'джек', 'джеки', 'джексон', 'джемпер', 'дженнер', 'дженнифер', 'джентльмен', 'дженять', 'джессика', 'джефф', 'джига', 'джигарханян', 'джиджи', 'джина', 'джинса', 'джинсы', 'джип', 'джо', 'джокер', 'джокович', 'джоля', 'джон', 'джонни', 'джонс', 'джонсон', 'джордж', 'джошуа', 'джулия', 'джунгли', 'дзержинский', 'дзный', 'дзюба', 'ди', 'диабет', 'диабетик', 'диагноз', 'диагностика', 'диагностировать', 'диалог', 'диана', 'диас', 'диаспора', 'дибров', 'див', 'диван', 'диверсант', 'диверсия', 'дивизион', 'дивизия', 'дивногорск', 'диета', 'диетический', 'диетолог', 'дизайн', 'дизайнер', 'дизайнерский', 'дизель', 'дизельный', 'дикаприо', 'дикий', 'дикси', 'диктатор', 'диктор', 'дилер', 'дима', 'дин', 'динамик', 'динамо', 'династия', 'динозавр', 'диплом', 'дипломат', 'дипломатический', 'дипломатия', 'директор', 'диск', 'дисквалификация', 'дисквалифицировать', 'дискриминация', 'диснеевский', 'дисней', 'диспансеризация', 'дисплей', 'дичь', 'длина', 'длинный', 'длительный', 'длить', 'длиться', 'для', 'дмитренко', 'дмитриев', 'дмитрий', 'дмитрия', 'дневник', 'дневный', 'днепр', 'днк', 'дно', 'днр', 'днём', 'до', 'добавить', 'добавка', 'добавлять', 'добиваться', 'добить', 'добиться', 'добраться', 'добре', 'добро', 'доброволец', 'добровольно', 'добровольный', 'доброта', 'добрый', 'добрынин', 'добывать', 'добыть', 'добыча', 'доверие', 'доверить', 'доверять', 'довести', 'доводить', 'довольный', 'дог', 'догадаться', 'догадываться', 'догнать', 'договор', 'договориться', 'договорённость', 'догонять', 'доехать', 'дождаться', 'дождливый', 'дождь', 'дожить', 'доза', 'дознаватель', 'дознавательница', 'дойти', 'док', 'доказательство', 'доказать', 'доказывать', 'доклад', 'доктор', 'докторский', 'документ', 'документальный', 'долг', 'долгий', 'долго', 'долгожданный', 'долгожитель', 'долголетие', 'долететь', 'должник', 'должно', 'должность', 'должный', 'долина', 'доллар', 'долларовый', 'доложить', 'долой', 'дольщик', 'доля', 'дом', 'дома', 'домашний', 'домик', 'доминикана', 'домкрат', 'домовый', 'домогательство', 'домодедово', 'домой', 'домохозяйка', 'дон', 'дональд', 'донбасс', 'донецк', 'донецкий', 'донка', 'донор', 'донский', 'донцов', 'допинг', 'доплата', 'дополнение', 'дополнительный', 'дополнить', 'допрос', 'допускать', 'допустить', 'доработать', 'доработка', 'доренко', 'дорога', 'дорого', 'дорогой', 'дорогостоящий', 'дорожать', 'дорожка', 'дорожный', 'доска', 'досрочно', 'досрочный', 'доставать', 'доставить', 'доставка', 'достаток', 'достаточно', 'достать', 'достаться', 'достигать', 'достигнуть', 'достижение', 'достоевский', 'достоинство', 'достойно', 'достойный', 'достопримечательность', 'достроить', 'доступ', 'доступно', 'доступный', 'доход', 'доходность', 'дочка', 'дочь', 'доширак', 'дошлый', 'дпс', 'др', 'драгоценность', 'драгоценный', 'драйв', 'драка', 'дракон', 'драма', 'драник', 'драться', 'древесина', 'древнегреческий', 'древние', 'древний', 'древность', 'дрель', 'дриусся', 'дрифт', 'дрова', 'дрожжевой', 'дрожжи', 'дроздовый', 'дрон', 'дронов', 'дрсмд', 'друг', 'другой', 'дружба', 'дружить', 'друзьяк', 'дтп', 'дубай', 'дубль', 'дублёнка', 'дубцов', 'дума', 'думать', 'дура', 'дурак', 'дурацкий', 'дурить', 'дурно', 'дурной', 'дуть', 'дух', 'духовка', 'духовный', 'душа', 'душанбе', 'душевая', 'душевный', 'душераздирающий', 'душить', 'дуэль', 'дуэт', 'дфо', 'дым', 'дыра', 'дырка', 'дырявый', 'дыхание', 'дышать', 'дьявол', 'дэвид', 'дэдпул', 'дэйный', 'дэниел', 'дюймовый', 'дядя', 'дёшево', 'ева', 'евгений', 'евкуров', 'еврей', 'еврейский', 'евро', 'еврокубок', 'европа', 'европарламент', 'европеец', 'европейский', 'евросоюз', 'египет', 'египетский', 'египтянин', 'егор', 'егоров', 'егэ', 'еда', 'едва', 'единица', 'единоросс', 'единственный', 'единство', 'единый', 'ежегодно', 'ежедневно', 'ежедневный', 'ежемесячный', 'езда', 'ездить', 'екатерина', 'екатеринбург', 'екатеринбургский', 'елена', 'елизавета', 'ельцин', 'емельяненко', 'ендальцев', 'енисей', 'енот', 'ер', 'ереван', 'еремеев', 'еременко', 'ес', 'есенин', 'если', 'естественный', 'ести', 'есть', 'ефрем', 'ефремов', 'ехать', 'ещенко', 'ещё', 'её', 'жадность', 'жадный', 'жажда', 'жакет', 'жалеть', 'жалко', 'жалоба', 'жаловаться', 'жаль', 'жан', 'жанна', 'жанр', 'жара', 'жардим', 'жареный', 'жарить', 'жаркий', 'жаркое', 'жасмина', 'жданов', 'ждать', 'же', 'желание', 'желанный', 'желать', 'желающий', 'желе', 'железа', 'железногорск', 'железнодорожный', 'железный', 'железняк', 'железо', 'желудок', 'жемчужина', 'жена', 'женатый', 'жениться', 'жених', 'женский', 'женственность', 'женственный', 'женщина', 'женя', 'жерлица', 'жертва', 'жест', 'жестокий', 'жестоко', 'жестокость', 'жесть', 'жечь', 'живец', 'живить', 'живодёр', 'живой', 'живопись', 'живот', 'животик', 'животное', 'животный', 'жигули', 'жидкий', 'жидкость', 'жизненный', 'жизни', 'жизнь', 'жила', 'жилет', 'жилец', 'жилища', 'жилищный', 'жилой', 'жильцов', 'жильё', 'жим', 'жир', 'жириновский', 'жирный', 'жиросжигать', 'житель', 'жительница', 'жительство', 'жить', 'житься', 'жк', 'жкт', 'жкх', 'жук', 'жуков', 'жуковский', 'жулик', 'журнал', 'журналист', 'журналистка', 'жуткий', 'жутко', 'жуть', 'жюри', 'жёлтый', 'жёлчный', 'жёсткий', 'жёстко', 'за', 'забавно', 'забавный', 'забайкалье', 'забастовка', 'забвение', 'забеременеть', 'забивать', 'забирать', 'забитый', 'забить', 'заблокировать', 'заблудиться', 'заблуждение', 'заболевание', 'заболеть', 'забор', 'забота', 'заботиться', 'заботливый', 'забрать', 'забраться', 'забросить', 'забывать', 'забытый', 'забыть', 'завалить', 'заварной', 'заведение', 'завезти', 'завершать', 'завершение', 'завершить', 'завершиться', 'завести', 'завещание', 'завидовать', 'зависеть', 'зависимость', 'зависимый', 'зависть', 'завод', 'заводить', 'заводский', 'завоевать', 'завораживать', 'завоёвывать', 'завтра', 'завтрак', 'завысить', 'завязать', 'загадка', 'загадочный', 'загитов', 'заглянуть', 'загнать', 'заговор', 'заговорить', 'загореться', 'загородный', 'заготовка', 'загробный', 'загрызть', 'загс', 'задавать', 'задавить', 'задание', 'задать', 'задача', 'задачка', 'задержание', 'задержать', 'задерживать', 'задержка', 'задеть', 'задний', 'задолжать', 'задолженность', 'задумать', 'задуматься', 'задумываться', 'задушить', 'зажать', 'зажечь', 'заживо', 'зажигание', 'зажигательный', 'заза', 'заинтересовать', 'заинтересоваться', 'зайти', 'зайцев', 'заказ', 'заказать', 'заказчик', 'заказывать', 'заканчиваться', 'закарпатие', 'закат', 'заключение', 'заключить', 'заключённый', 'закон', 'законе', 'законно', 'законный', 'законодательство', 'законопроект', 'закончить', 'закончиться', 'закопать', 'закричать', 'закрутить', 'закрывать', 'закрываться', 'закрытие', 'закрытый', 'закрыть', 'закрыться', 'закупать', 'закупить', 'закупка', 'закуска', 'закусочный', 'зал', 'залезть', 'залив', 'заливать', 'заливный', 'залить', 'залог', 'заложить', 'заложник', 'зам', 'замгенпрокурор', 'замглавы', 'замедлить', 'замедлять', 'замена', 'заменить', 'заменять', 'замерзать', 'заместитель', 'заметить', 'заметка', 'заметно', 'заметный', 'замечание', 'замечательный', 'замечать', 'замминистра', 'замок', 'заморозить', 'заморозка', 'зампрокурор', 'замуж', 'замужем', 'замужество', 'замёрзнуть', 'занимательный', 'занимать', 'заниматься', 'заново', 'занятие', 'занятый', 'занять', 'заняться', 'запад', 'западный', 'запас', 'запасный', 'запасть', 'запах', 'запашный', 'запеканка', 'запереть', 'запечатлеть', 'запечь', 'записать', 'записка', 'запись', 'запланировать', 'заплатить', 'заповедник', 'заповедь', 'заподозрить', 'запомнить', 'запомниться', 'запор', 'запорожец', 'запотевание', 'заправка', 'заправлять', 'запрет', 'запретить', 'запретный', 'запрещать', 'запрос', 'запросить', 'запуск', 'запускать', 'запустить', 'запчасть', 'зара', 'зарабатывать', 'заработать', 'заработок', 'заражение', 'заразить', 'заразиться', 'заранее', 'зарегистрировать', 'зарезать', 'зарисовка', 'зарплата', 'зарубежный', 'зарубить', 'заряд', 'зарядить', 'зарядка', 'зарядный', 'заряжать', 'заряжаться', 'засада', 'засветиться', 'заседание', 'засекретить', 'заслуга', 'заслуживать', 'заслужить', 'заснуть', 'заснять', 'засолить', 'заставить', 'заставлять', 'застать', 'застолье', 'застрелить', 'застрелиться', 'застройщик', 'застрять', 'застукать', 'заступиться', 'засыпать', 'затем', 'затерянный', 'затмить', 'зато', 'затонуть', 'затопить', 'затопление', 'заточка', 'затрата', 'зафиксировать', 'захар', 'захаров', 'захарченко', 'захват', 'захватить', 'захватывать', 'заходить', 'захоронение', 'захотеть', 'захотеться', 'зачем', 'зачистка', 'защита', 'защитить', 'защититься', 'защитник', 'защитный', 'защищать', 'заявить', 'заявка', 'заявление', 'заявлять', 'заяц', 'заём', 'заёмщик', 'звание', 'звать', 'звезда', 'звереть', 'зверски', 'зверский', 'зверь', 'звонить', 'звонок', 'звук', 'звучать', 'звёздный', 'звёздочка', 'здание', 'здесь', 'здорово', 'здоровый', 'здоровье', 'здравоохранение', 'здравствовать', 'зе', 'зебра', 'зек', 'зеландия', 'зеленский', 'зелень', 'зелёный', 'земельный', 'земеля', 'землетрясение', 'земля', 'земляк', 'земной', 'зенит', 'зенита', 'зенитный', 'зениту', 'зеркало', 'зеркальный', 'зерно', 'зидать', 'зил', 'зима', 'зимний', 'зимовать', 'зимовка', 'зимой', 'зло', 'зловещий', 'злодей', 'злой', 'злость', 'змей', 'змея', 'знаете', 'знаешь', 'знак', 'знакомиться', 'знакомство', 'знакомый', 'знаменитость', 'знаменитый', 'знание', 'знаток', 'знать', 'значение', 'значит', 'значительно', 'значить', 'зобнина', 'зодиак', 'зодиакальный', 'зож', 'зола', 'золото', 'золотов', 'золотой', 'золушка', 'зомби', 'зона', 'зонд', 'зонт', 'зоозащитник', 'зоопарк', 'зоя', 'зрелище', 'зрелый', 'зрение', 'зритель', 'зрк', 'зря', 'зуб', 'зубайра', 'зубной', 'зуев', 'зэк', 'зюганов', 'зять', 'ибрагим', 'иван', 'иванов', 'ивановский', 'ивлеева', 'игил', 'игла', 'иглесиас', 'игнорировать', 'иго', 'иголка', 'игорь', 'игра', 'играть', 'игровой', 'игрок', 'игромиро', 'игрунов', 'игрушка', 'идеал', 'идеально', 'идеальный', 'идея', 'идиот', 'идлиб', 'идти', 'иерусалим', 'иж', 'ижевск', 'из', 'избавить', 'избавиться', 'избавление', 'избавляться', 'избегать', 'избежать', 'избивать', 'избиение', 'избиратель', 'избитый', 'избить', 'избранник', 'избранница', 'избранный', 'извержение', 'известно', 'известный', 'извинение', 'извиниться', 'извиняться', 'извлечь', 'извращенец', 'изгнание', 'изгнать', 'изготовить', 'изготовление', 'издание', 'издевательство', 'издеваться', 'изделие', 'изжога', 'измена', 'изменение', 'изменить', 'измениться', 'изменять', 'измерение', 'изнанка', 'изнасилование', 'изнасиловать', 'износ', 'изнутри', 'изображать', 'изображение', 'изобразить', 'изобрести', 'изобретение', 'изолятор', 'изоляция', 'израиль', 'израильский', 'израильтянин', 'изумительный', 'изуродовать', 'изучать', 'изучение', 'изучить', 'изъятие', 'изъять', 'изымать', 'изысканный', 'изюм', 'изюминка', 'изящный', 'иисус', 'ий', 'ик', 'икеа', 'икона', 'икра', 'икс', 'ил', 'или', 'иллюзия', 'иллюстрация', 'илона', 'илья', 'имбирный', 'имбирь', 'именно', 'иметь', 'имидж', 'имитация', 'иммунитет', 'император', 'императрица', 'империя', 'имперский', 'импорт', 'импортный', 'имущественный', 'имущество', 'имя', 'иначе', 'инвалид', 'инвалидность', 'инвестировать', 'инвестиционный', 'инвестиция', 'инвестор', 'ингредиент', 'ингуш', 'ингушетия', 'ингушский', 'индеец', 'индейка', 'индекс', 'индексация', 'индивидуальный', 'индийский', 'индикатор', 'индия', 'индонезийский', 'индонезия', 'индустрия', 'инженер', 'инициатива', 'инна', 'инновационный', 'инновация', 'иногда', 'иной', 'иномарка', 'инопланетный', 'инопланетянин', 'иностранец', 'иностранный', 'инсайд', 'инсайдер', 'инспектор', 'инстагра', 'инстаграм', 'инстинкт', 'институт', 'инструктор', 'инструкция', 'инструмент', 'инсульт', 'интеллект', 'интер', 'интервью', 'интерес', 'интересно', 'интересный', 'интересовать', 'интересоваться', 'интерн', 'интернат', 'интернет', 'интерны', 'интерпол', 'интерьер', 'интим', 'интимный', 'интрига', 'интроверт', 'интуиция', 'инфаркт', 'инфекция', 'инфицировать', 'инфляция', 'инфографик', 'информационный', 'информация', 'инцидент', 'иоанн', 'иосиф', 'ип', 'ипотека', 'ипотечный', 'ирак', 'иран', 'иранский', 'ирена', 'ирина', 'иркутск', 'иркутский', 'ирландец', 'ирландский', 'ирония', 'иса', 'исаев', 'иск', 'искать', 'исключать', 'исключение', 'исключить', 'искусственный', 'искусство', 'ислам', 'исламский', 'исландия', 'исмаил', 'исмаиловый', 'испанец', 'испания', 'испанский', 'испечь', 'исповедь', 'исполнение', 'исполнитель', 'исполнить', 'исполниться', 'исполнять', 'использование', 'использовать', 'использоваться', 'испортить', 'исправить', 'исправление', 'испугать', 'испугаться', 'испытание', 'испытать', 'испытывать', 'исследование', 'исследователь', 'исследовать', 'истерика', 'истина', 'истинный', 'исток', 'историк', 'исторический', 'история', 'источник', 'истощённый', 'истребитель', 'исход', 'исцеление', 'исчезать', 'исчезновение', 'исчезнуть', 'италия', 'итальянец', 'итальянский', 'итог', 'итоговый', 'ищенко', 'июль', 'июнь', 'ия', 'йемен', 'йог', 'йога', 'йогурт', 'йод', 'йорк', 'йоркский', 'йошкара', 'ка', 'кабалье', 'кабан', 'кабачковый', 'кабачок', 'кабель', 'кабина', 'кабинет', 'каблук', 'кабмина', 'кабриолет', 'кавер', 'кавилл', 'кавказ', 'кавказец', 'кавказский', 'кадастровый', 'кадонь', 'кадр', 'кадровый', 'кадыров', 'каждый', 'кажется', 'казак', 'казаков', 'казалось', 'казанец', 'казанов', 'казанский', 'казань', 'казаться', 'казах', 'казахский', 'казахстан', 'казахстанец', 'казахстанский', 'казнить', 'казнь', 'казус', 'кайлить', 'как', 'какао', 'каков', 'какой', 'калашников', 'календарь', 'калибр', 'калин', 'калининград', 'калининградец', 'калининградский', 'калифорния', 'калмыкия', 'калмыцкий', 'калорийность', 'калория', 'калуга', 'калужский', 'калькулятор', 'кальмар', 'камаз', 'камбоджа', 'каменный', 'каменск', 'каменский', 'камень', 'камера', 'камилла', 'камин', 'кампания', 'камуфляж', 'камчатка', 'канада', 'канадец', 'канадский', 'канал', 'канализационный', 'канализация', 'канделаки', 'кандидат', 'кандидатура', 'канело', 'каникулы', 'каннибал', 'каннибализм', 'канцлер', 'канье', 'капитал', 'капитализм', 'капитальный', 'капитан', 'капля', 'капот', 'капремонт', 'каприз', 'капсула', 'капсульный', 'капуста', 'капустный', 'кара', 'карабах', 'карабахский', 'карабин', 'караван', 'карандаш', 'карантин', 'карапетян', 'карасев', 'карасик', 'карась', 'каратель', 'караченцов', 'кардашьян', 'кардиган', 'кардинально', 'кардиолог', 'каре', 'карелия', 'карен', 'карибский', 'карикатура', 'каримов', 'карина', 'каркасный', 'карл', 'карма', 'карман', 'карманный', 'карп', 'карпина', 'каррер', 'карреры', 'каррёра', 'карта', 'картина', 'картинка', 'картонный', 'картофель', 'картофельный', 'карточка', 'карточный', 'картошечка', 'картошка', 'карцев', 'каршеринг', 'карьер', 'карьера', 'карьерный', 'касаткин', 'касаться', 'каска', 'каскадёр', 'каспийский', 'касса', 'кассир', 'кассовый', 'кастинг', 'кастрюля', 'катализатор', 'катание', 'катар', 'катастрофа', 'катастрофический', 'кататься', 'категорически', 'категория', 'катер', 'катерина', 'каторга', 'катушка', 'катя', 'кафе', 'кафельников', 'качать', 'качели', 'качественный', 'качество', 'каша', 'кашель', 'кв', 'квадрат', 'квадратный', 'квалификация', 'квантовый', 'квартал', 'квартира', 'квартирный', 'квас', 'квасить', 'квашеный', 'квеста', 'квитанция', 'квн', 'квёнок', 'кгб', 'кевин', 'кедмить', 'кейс', 'кейт', 'кекс', 'келли', 'кембриджский', 'кемерово', 'кемеровский', 'кемеровчанин', 'кен', 'кендалл', 'кенсингтонский', 'керамический', 'кержак', 'кержакова', 'керченский', 'керчь', 'кети', 'кетчуп', 'кефир', 'кефирный', 'киана', 'кибератака', 'киберспорт', 'киви', 'кидать', 'кидман', 'киев', 'киевлянин', 'киево', 'киевский', 'кий', 'киллер', 'килограмм', 'килограммовый', 'километр', 'ким', 'кина', 'кинг', 'кинематограф', 'кинжал', 'кино', 'киновселенная', 'кинозвезда', 'киноляп', 'кинопремьера', 'кинотеатр', 'кинотест', 'кинофестиваль', 'киношный', 'кинуть', 'кипеть', 'кипр', 'кипяток', 'кира', 'кирилл', 'киркоров', 'киров', 'кировский', 'кирпич', 'кирпичный', 'киселев', 'кисель', 'киселёва', 'кислород', 'кислота', 'кислотность', 'кисть', 'кит', 'китаец', 'китай', 'китайский', 'китаянка', 'кишечник', 'кишечный', 'кишка', 'клавиатура', 'клад', 'кладбище', 'клан', 'клапан', 'кларк', 'класико', 'класс', 'классика', 'классификация', 'классический', 'классный', 'класть', 'клевать', 'клевета', 'клеить', 'клемма', 'клеопатра', 'клетка', 'клещ', 'клиент', 'клиентка', 'климакс', 'климат', 'климатический', 'климкина', 'климов', 'клиника', 'клинический', 'клинок', 'клинтон', 'клинц', 'клинцы', 'клип', 'кличка', 'кличко', 'клон', 'клоун', 'клуб', 'клубника', 'клубничный', 'клубный', 'клум', 'клумба', 'клюква', 'клюкин', 'ключ', 'ключевой', 'кляр', 'клёв', 'кндр', 'книга', 'книжка', 'книжный', 'кнопка', 'кнопочный', 'кнр', 'княжна', 'князь', 'коалиция', 'кобзон', 'кобра', 'ковальчук', 'коварный', 'коврик', 'ковтун', 'ковёр', 'когда', 'код', 'кодекс', 'кожа', 'кожаный', 'кожевников', 'кожемяко', 'коза', 'козак', 'козерог', 'козловский', 'кой', 'кок', 'кокорин', 'кокосовый', 'коктебель', 'коктейль', 'кола', 'колбаса', 'колбаска', 'колготки', 'колено', 'колесо', 'количество', 'коллапс', 'коллега', 'колледж', 'коллектив', 'коллективный', 'коллектор', 'коллекционер', 'коллекция', 'колобок', 'колодец', 'колодка', 'коломойский', 'колония', 'колонка', 'колонна', 'колхоз', 'кольский', 'кольцо', 'коляда', 'коляска', 'колёсный', 'ком', 'кома', 'команда', 'командир', 'командировка', 'командование', 'командующий', 'комаров', 'комбат', 'комедийный', 'комедия', 'комета', 'коми', 'комикс', 'комиссия', 'комитет', 'комментарий', 'комментатор', 'комментировать', 'коммерсантъ', 'коммерческий', 'коммуналка', 'коммунальный', 'коммунизм', 'коммунист', 'комната', 'комнатный', 'компактный', 'компания', 'компенсация', 'комплекс', 'комплект', 'комплектация', 'комплимент', 'композитор', 'композиция', 'компонент', 'компост', 'компот', 'компромат', 'компьютер', 'компьютерный', 'комсомол', 'комсомолец', 'комсомольск', 'комсомольский', 'комфорт', 'комфортный', 'кон', 'конвейер', 'конгресс', 'кондиционер', 'кондуктор', 'конец', 'конечно', 'конкурент', 'конкуренция', 'конкурс', 'кононов', 'конопля', 'конора', 'конором', 'консервированный', 'консервы', 'консоль', 'константин', 'константинов', 'константинополь', 'константинопольский', 'конституционный', 'конституция', 'конструктор', 'конструкция', 'консульство', 'консультант', 'консультация', 'конт', 'контакт', 'контейнер', 'контент', 'контракт', 'контролировать', 'контроль', 'контрольный', 'контрсанкция', 'конференция', 'конфета', 'конфликт', 'конфуз', 'концепт', 'концепция', 'концерт', 'концертный', 'концлагерь', 'концовка', 'кончаловский', 'кончиться', 'конь', 'коньяк', 'копа', 'копать', 'копеечный', 'копейка', 'копить', 'копия', 'копчёный', 'кора', 'корабль', 'коран', 'корвет', 'корейски', 'корейский', 'корень', 'корея', 'корзина', 'корзинка', 'коридор', 'корица', 'коричневый', 'корма', 'кормие', 'кормить', 'кормление', 'кормушка', 'коробка', 'коробок', 'корова', 'королева', 'королевский', 'королевство', 'король', 'корона', 'короткий', 'коротко', 'коротков', 'корочка', 'корпоратив', 'корпоративный', 'корпорация', 'корпус', 'коррекция', 'корреспондент', 'коррозия', 'коррупционер', 'коррупционный', 'коррупция', 'кортеж', 'кос', 'косметика', 'косметический', 'косметолог', 'космический', 'космонавт', 'космос', 'коснуться', 'косово', 'косплей', 'костенко', 'костин', 'косточка', 'костра', 'костромской', 'кость', 'костюм', 'костя', 'костёр', 'косяк', 'кот', 'котик', 'котлета', 'котлетка', 'котов', 'который', 'коттедж', 'коты', 'котёл', 'котёнок', 'кофе', 'кофейный', 'кочерви', 'кошачий', 'кошелёк', 'кошечка', 'кошка', 'кошмар', 'коэффициент', 'кп', 'кпп', 'кпрф', 'краб', 'крабовый', 'кравченко', 'кража', 'краз', 'край', 'крайне', 'крайний', 'кран', 'красавец', 'красавица', 'красавчик', 'красиво', 'красивый', 'красить', 'краска', 'краско', 'красноармеец', 'краснодар', 'краснодара', 'краснодарский', 'красноярец', 'красноярск', 'красноярский', 'красный', 'красных', 'красота', 'красотка', 'красть', 'краткий', 'крах', 'крахмал', 'краш', 'креативный', 'креветка', 'кредит', 'кредитка', 'кредитный', 'кредитор', 'крейсер', 'крем', 'кремль', 'кремлёвский', 'крепкий', 'крепление', 'крепостной', 'крепость', 'кресло', 'крест', 'крестный', 'крестовый', 'крестьянин', 'кривая', 'крид', 'кризис', 'крик', 'крикнуть', 'криминал', 'криминальный', 'криптобиржа', 'криптовалюта', 'криптовалютный', 'крис', 'кристина', 'критерий', 'критик', 'критика', 'критиковать', 'критический', 'кричать', 'криштиан', 'кровавый', 'кровать', 'кровожадный', 'кровь', 'крокодил', 'крокодилий', 'кролик', 'кроме', 'кросс', 'кроссовер', 'кроссовок', 'кроуфорд', 'крошечный', 'крошка', 'круг', 'круглый', 'кругом', 'кружевной', 'кружево', 'кружка', 'круз', 'круизный', 'крупа', 'крупный', 'крутить', 'круто', 'крутой', 'крутый', 'круча', 'крушение', 'крыжовник', 'крылатый', 'крыло', 'крылов', 'крылышко', 'крыльцо', 'крым', 'крымский', 'крымчанин', 'крымчанка', 'крыса', 'крыша', 'крышка', 'крючков', 'крючок', 'кс', 'ксения', 'кто', 'куб', 'куба', 'кубанский', 'кубань', 'кубик', 'кубок', 'куда', 'кудрин', 'кудрявцев', 'кузбасс', 'кузбасский', 'кузбассовец', 'кузнецов', 'кузнецова', 'кузов', 'кузьмин', 'кукла', 'кукуруза', 'кукурузный', 'кулак', 'кулинария', 'кулинарный', 'культ', 'культовый', 'культура', 'культурный', 'кумир', 'кун', 'купальник', 'купаться', 'купе', 'купер', 'купин', 'купить', 'купол', 'купюра', 'кура', 'курган', 'курганский', 'кургинян', 'курение', 'курильщик', 'куриный', 'курить', 'курица', 'куркума', 'курников', 'курорт', 'курортный', 'курочка', 'курс', 'курсант', 'курск', 'курский', 'куртизанка', 'куртка', 'курьёз', 'курьёзный', 'курянин', 'кусать', 'кусок', 'кусочек', 'куст', 'кустарник', 'кухня', 'кухонный', 'куча', 'кушать', 'кхл', 'кыргызстан', 'кэти', 'кэтрин', 'кэшбери', 'кэшбрать', 'кювета', 'ла', 'лаборатория', 'лаваш', 'лавра', 'лавров', 'лавровый', 'лагер', 'лагерь', 'лада', 'ладонь', 'лазание', 'лазарев', 'лазер', 'лазерный', 'лайк', 'лайнер', 'лайфхак', 'лайфхака', 'лайфхаки', 'лак', 'лакомство', 'ламинат', 'лампа', 'лампочка', 'ланка', 'лапа', 'лапка', 'лапша', 'лариса', 'ларченко', 'ласа', 'ласковый', 'латвийский', 'латвия', 'лауреат', 'лахта', 'лгать', 'лгбт', 'лднр', 'лдпр', 'ле', 'лебедев', 'лебедь', 'лев', 'левша', 'левый', 'легенда', 'легендарный', 'легион', 'легионер', 'легко', 'легковой', 'легковушка', 'леди', 'ледовый', 'ледокол', 'ледяной', 'лежалый', 'лежать', 'лезть', 'лейтенант', 'лекарственный', 'лекарство', 'лекарь', 'лекция', 'лен', 'лена', 'ленд', 'ленивый', 'ленин', 'ленинград', 'ленинградский', 'ленобласть', 'лента', 'лень', 'леонардо', 'леонид', 'леонов', 'леонтьев', 'леопард', 'леопардовый', 'лепс', 'лепёс', 'лепёшка', 'лера', 'лермонтов', 'леруа', 'лес', 'леса', 'леска', 'лесна', 'лесной', 'лестер', 'лестера', 'лестница', 'лет', 'летать', 'лететь', 'летие', 'летний', 'лето', 'летом', 'летучий', 'лечебный', 'лечение', 'лечить', 'лечиться', 'лечь', 'лещ', 'лживый', 'ли', 'либерал', 'либо', 'ливан', 'ливанов', 'ливень', 'ливерпуль', 'ливия', 'лига', 'лидер', 'лидерство', 'лидий', 'лидировать', 'лиза', 'лий', 'ликвидация', 'ликвидировать', 'ликёр', 'лилия', 'лимит', 'лимитировать', 'лимон', 'лимонный', 'лимузин', 'линдеманна', 'линейка', 'линия', 'линкор', 'линолеум', 'липецк', 'липецкий', 'липовый', 'липучка', 'липчанин', 'лис', 'лист', 'листва', 'литва', 'литвинов', 'литература', 'литературный', 'литовский', 'литр', 'литровый', 'лить', 'лифт', 'лифтинг', 'лихач', 'лихой', 'лицей', 'лицемерие', 'лицензия', 'лицо', 'лично', 'личность', 'личный', 'лишать', 'лишение', 'лишить', 'лишиться', 'лишний', 'лишь', 'лнр', 'ло', 'лоб', 'лобов', 'лобовой', 'лобод', 'ловить', 'ловля', 'ловушка', 'ловчев', 'логика', 'логический', 'логотип', 'лоджия', 'лодка', 'ложка', 'ложный', 'ложь', 'локо', 'локомотив', 'локомотива', 'локоть', 'лолита', 'ломать', 'ломаться', 'ломаченко', 'лондон', 'лондонский', 'лопата', 'лопетег', 'лопнуть', 'лопырёв', 'лопёс', 'лорак', 'лорен', 'лос', 'лосось', 'лось', 'лотерейный', 'лотерея', 'лоток', 'лотос', 'лоуренс', 'лох', 'лохотрон', 'лошадь', 'луганск', 'луганский', 'лужа', 'лужники', 'луис', 'луиш', 'лук', 'лука', 'лукашенко', 'луковица', 'луковый', 'лукойл', 'луна', 'лунка', 'лунный', 'луценко', 'луч', 'лч', 'лысый', 'львица', 'львов', 'льгота', 'льготник', 'льготный', 'льняной', 'льюис', 'лю', 'люба', 'любим', 'любимец', 'любимый', 'любитель', 'любить', 'любовник', 'любовница', 'любовный', 'любовь', 'любой', 'любопытный', 'любящий', 'людей', 'люди', 'людмила', 'людоед', 'людская', 'люк', 'люкс', 'люстра', 'люфтваффа', 'ля', 'лягушка', 'ляйсан', 'ляп', 'лёгкий', 'лёгкое', 'лёгкость', 'лёд', 'лёжа', 'лётчик', 'лёша', 'м4', 'м²', 'ма', 'мавзолей', 'маг', 'магадан', 'магазин', 'магазинный', 'магас', 'магистраль', 'магический', 'магия', 'магнит', 'магнитный', 'магнитогорск', 'магомед', 'мадам', 'мадонна', 'мадрид', 'мадридский', 'мажор', 'маз', 'мазь', 'май', 'майами', 'майдан', 'майк', 'майкл', 'майнинга', 'майонез', 'майор', 'майский', 'майя', 'мак', 'макsий', 'макаре', 'макаров', 'макароны', 'макарошка', 'макгрегор', 'македония', 'македонский', 'макеев', 'макияж', 'макрон', 'макс', 'максаков', 'максим', 'максимально', 'максимальный', 'максимов', 'максимум', 'малайзия', 'малахов', 'маленькая', 'маленький', 'малик', 'маликов', 'малин', 'малиновый', 'малкин', 'мало', 'малое', 'малоизвестный', 'малолетний', 'малый', 'малыш', 'малышев', 'малышок', 'мальдивы', 'мальдонадо', 'мальчик', 'мальчишка', 'мама', 'мамаев', 'мамаева', 'мамай', 'мамин', 'мамочка', 'мангал', 'маникюр', 'манипулировать', 'манипулятор', 'манипуляция', 'манка', 'манник', 'мант', 'манчестер', 'маньяк', 'манёвр', 'марадон', 'маразм', 'марат', 'марафон', 'марвести', 'маргарита', 'марго', 'марданшин', 'марий', 'марин', 'марина', 'маринад', 'мариновать', 'мариуполь', 'марихуана', 'мария', 'марк', 'марка', 'маркетинг', 'маркетинговый', 'маркетолог', 'маркизио', 'маркий', 'марклый', 'марков', 'марокко', 'марс', 'марсианский', 'марсоход', 'март', 'мартин', 'мартиросян', 'мартынов', 'марш', 'маршал', 'маршрут', 'маршрутка', 'марьяновый', 'маск', 'маска', 'маскировка', 'масло', 'масляный', 'масса', 'массаж', 'массимо', 'массово', 'массовый', 'мастер', 'мастерский', 'мастерство', 'масштаб', 'масштабный', 'мат', 'матвиенко', 'математика', 'математический', 'матереть', 'материал', 'материальный', 'материк', 'материнский', 'материнство', 'материя', 'матерь', 'матильда', 'матка', 'матовый', 'матрас', 'матрица', 'матч', 'мать', 'мафия', 'махать', 'махачкала', 'махинация', 'мач', 'маша', 'машина', 'машинист', 'машинка', 'машков', 'маяк', 'мбапп', 'мвд', 'мвф', 'мгновение', 'мгновенно', 'мгновенный', 'мебель', 'мег', 'мегана', 'мегафон', 'медаль', 'медведев', 'медведка', 'медведь', 'медвежий', 'медвежонок', 'медиа', 'медик', 'мединский', 'медитация', 'медицина', 'медицинский', 'медленно', 'медленный', 'медный', 'медовый', 'медработник', 'медсестра', 'между', 'международный', 'межзвёздный', 'мейвезер', 'мейвезеро', 'мейн', 'мексика', 'мексиканский', 'меладзе', 'мелания', 'мелкий', 'мелодрама', 'мелочь', 'мельников', 'мем', 'мема', 'менеджер', 'менеджмент', 'менее', 'менить', 'менопауза', 'меньший', 'меньшинство', 'меньшов', 'меню', 'меня', 'менять', 'меняться', 'мера', 'мерзкий', 'меркель', 'меркурий', 'меркьюри', 'мероприятие', 'мерседес', 'мертвец', 'мертвецов', 'мессенджер', 'месси', 'местность', 'местный', 'место', 'месторождение', 'месть', 'месяц', 'месячный', 'метаболизм', 'металл', 'металлический', 'металлолом', 'металлург', 'метание', 'метать', 'метель', 'метеорит', 'метка', 'метод', 'методика', 'метр', 'метро', 'метровый', 'метрополитен', 'мех', 'механизм', 'механик', 'механический', 'меховой', 'меч', 'мечеть', 'мечта', 'мечтать', 'мешать', 'мешок', 'ми', 'миасс', 'миг', 'мигрант', 'миграционный', 'миграция', 'мид', 'миддлтон', 'микроавтобус', 'микроволновка', 'микрорайон', 'мила', 'милан', 'милена', 'милиционер', 'милиция', 'миллер', 'миллиард', 'миллиардер', 'миллион', 'миллионер', 'милон', 'милый', 'милявский', 'мимо', 'мина', 'минеев', 'минерал', 'минеральный', 'минздрав', 'миниатюра', 'миниатюрный', 'минивэн', 'минимализм', 'минимальный', 'минимум', 'министерский', 'министерство', 'министр', 'минобороны', 'миномёт', 'минпромторг', 'минск', 'минский', 'минтай', 'минтранс', 'минтруд', 'минус', 'минута', 'минутка', 'минутный', 'минфин', 'минь', 'мир', 'мира', 'мирзиёев', 'мирный', 'миро', 'мировой', 'миронов', 'миротворец', 'мисс', 'миссия', 'мистер', 'мистика', 'мистический', 'митинг', 'митинговать', 'митрополит', 'миф', 'мифический', 'михаил', 'михайло', 'михайлов', 'михайловка', 'михайловский', 'михалков', 'михеев', 'миша', 'мишель', 'мишень', 'мишка', 'мишкин', 'мишулина', 'мк', 'мкад', 'мкс', 'младенец', 'младший', 'млечный', 'мм', 'мма', 'мна', 'мнение', 'многие', 'многий', 'много', 'многодетный', 'многолетний', 'многолетник', 'многомиллионный', 'многочисленный', 'многоэтажка', 'множество', 'мо', 'мобильник', 'мобильный', 'могила', 'могучий', 'могущественный', 'мода', 'модель', 'модельный', 'модернизация', 'модернизированный', 'модернизировать', 'модификация', 'модница', 'модно', 'модный', 'модрич', 'модуль', 'модульный', 'можно', 'мозг', 'мозги', 'мой', 'мойва', 'мойка', 'мокрый', 'молдавия', 'молдова', 'молитва', 'молиться', 'молния', 'молодая', 'молодец', 'молодожён', 'молодой', 'молодость', 'молодёжка', 'молодёжный', 'молодёжь', 'молока', 'молоко', 'молоток', 'молотый', 'молочный', 'молчание', 'молчать', 'момент', 'монако', 'монарх', 'монастырь', 'монах', 'монахиня', 'монгол', 'монголия', 'монгольский', 'монета', 'монетка', 'монеточка', 'моника', 'монитор', 'монолог', 'монреаль', 'монро', 'монсеррат', 'монстр', 'монтаж', 'монтажный', 'мор', 'мораль', 'моральный', 'морг', 'морда', 'мордовия', 'море', 'морепродукт', 'морковка', 'морковный', 'морковь', 'мормышка', 'мороженое', 'мороз', 'морозов', 'морпех', 'морской', 'морщина', 'моряк', 'москва', 'москвич', 'москвичка', 'москвы', 'московский', 'мосс', 'мост', 'мостовый', 'мотив', 'мотивация', 'мотивировать', 'мотор', 'моторный', 'мотоцикл', 'мотоциклист', 'моуриньо', 'моуринья', 'мочевой', 'мочить', 'мочь', 'мошенник', 'мошенница', 'мошеннический', 'мошенничество', 'мощность', 'мощный', 'мощь', 'мп', 'мраморный', 'мрачный', 'мрот', 'мс', 'мститель', 'мстить', 'мтс', 'мть', 'мудрость', 'мудрый', 'муж', 'мужество', 'мужик', 'мужской', 'мужчина', 'муза', 'музей', 'музыка', 'музыкальный', 'музыкант', 'мука', 'мультиварка', 'мультик', 'мультсериал', 'мультфильм', 'мумия', 'муниципальный', 'мур', 'муравей', 'муравейник', 'мурат', 'мурашка', 'мурманск', 'мурманский', 'мусор', 'мусорный', 'мустафа', 'мустафина', 'мусульбес', 'мусульманин', 'мусульманский', 'мутант', 'мутко', 'муха', 'муцениец', 'мученик', 'мучить', 'мчс', 'мы', 'мыло', 'мыслить', 'мысль', 'мыть', 'мыться', 'мытьё', 'мышей', 'мышечный', 'мышка', 'мышление', 'мышца', 'мышь', 'мэй', 'мэйвезер', 'мэйуэзер', 'мэр', 'мэрилин', 'мэрия', 'мю', 'мягкий', 'мясной', 'мясо', 'мясорубка', 'мятый', 'мяч', 'мёд', 'мёрзнуть', 'мёртвый', 'набережная', 'набирать', 'набиуллин', 'наблюдать', 'наблюдение', 'набор', 'набрать', 'наброситься', 'навальный', 'наверное', 'наверняка', 'навести', 'навестить', 'навка', 'наводить', 'наводнение', 'навоз', 'навредить', 'навсегда', 'навстречу', 'навык', 'навязывать', 'нагар', 'нагиева', 'нагий', 'нагло', 'наглость', 'наглый', 'наглядный', 'нагорный', 'награда', 'наградить', 'нагрузка', 'нагрянуть', 'над', 'надбавка', 'надвигаться', 'надевать', 'надежда', 'надеть', 'надеяться', 'надо', 'надоесть', 'надолго', 'надпись', 'надругательство', 'надругаться', 'надя', 'надёжно', 'надёжность', 'надёжный', 'наезд', 'наехать', 'наживаться', 'наживка', 'назад', 'назарбаев', 'назаров', 'название', 'назвать', 'назло', 'назначать', 'назначение', 'назначить', 'называть', 'называться', 'наиболее', 'наибольший', 'наивный', 'найти', 'найтись', 'найтлить', 'наказание', 'наказать', 'наказывать', 'накануне', 'накачать', 'накинуться', 'наклейка', 'наконец', 'накопительный', 'накопить', 'накопление', 'накормить', 'накрыть', 'наладить', 'налево', 'наливка', 'налим', 'наличие', 'наличный', 'налог', 'налоговик', 'налоговый', 'налогообложение', 'налогоплательщик', 'наложить', 'наложница', 'налёт', 'намекнуть', 'намерение', 'намеренный', 'намерить', 'намного', 'намёк', 'нанесение', 'нанести', 'наносить', 'нанять', 'наоборот', 'наоми', 'нападать', 'нападение', 'напарник', 'напасть', 'написать', 'напиток', 'наполеон', 'наполнить', 'напольный', 'напоминать', 'напомнить', 'направить', 'направление', 'направлять', 'напротив', 'напряжение', 'напугать', 'нарастить', 'наращивание', 'наращивать', 'нарваться', 'нардеп', 'нарезка', 'нарезной', 'нарисовать', 'наркоман', 'наркотик', 'народ', 'народный', 'нарушать', 'нарушение', 'нарушитель', 'нарушить', 'нарцисс', 'наряд', 'нарядиться', 'нас', 'наса', 'насадка', 'насекомое', 'население', 'насилие', 'насиловать', 'насильник', 'насколько', 'наслаждаться', 'наслаждение', 'наследие', 'наследник', 'наследство', 'насмерть', 'насмешить', 'насмешка', 'насморк', 'насос', 'наставник', 'настаивать', 'настасья', 'настенный', 'настигнуть', 'настойка', 'настолько', 'настольный', 'настоящее', 'настоящий', 'настроение', 'настроить', 'настройка', 'наступать', 'наступить', 'наступление', 'настя', 'насчёт', 'натали', 'наталия', 'наталья', 'наташа', 'натворить', 'наткнуться', 'нато', 'натовский', 'натуральный', 'натяжной', 'наука', 'научить', 'научиться', 'научно', 'научный', 'наушник', 'нафтогаз', 'нафтогаза', 'находить', 'находиться', 'находка', 'националист', 'национальность', 'национальный', 'нацист', 'нацистский', 'нация', 'начало', 'началов', 'начальник', 'начальный', 'начальство', 'начать', 'начаться', 'начинать', 'начинаться', 'начинающий', 'начинка', 'наш', 'нашествие', 'нашуметь', 'наёмник', 'ндс', 'ндфл', 'не', 'неадекватный', 'неандерталец', 'небензить', 'небесный', 'неблагоприятный', 'небо', 'небольшой', 'небоскрёб', 'небывалый', 'неверный', 'невероятно', 'невероятный', 'невеста', 'невестка', 'невзоров', 'невидимка', 'невидимый', 'невинный', 'невозможно', 'невозможность', 'невозможный', 'невский', 'невыгодный', 'невыносимый', 'негатив', 'негативно', 'негативный', 'недавно', 'недалеко', 'недвижимость', 'неделя', 'недовольный', 'недовольство', 'недолго', 'недооценить', 'недорого', 'недорогой', 'недостаток', 'недостаточно', 'недостаточность', 'недоумение', 'недуг', 'нежелание', 'нежно', 'нежность', 'нежный', 'незабываемый', 'независимость', 'независимый', 'незаконно', 'незаконный', 'незалежный', 'незаменимый', 'незамерзайка', 'незаметно', 'нездоровый', 'незнакомец', 'незнакомка', 'незнакомый', 'неизбежно', 'неизбежный', 'неизвестно', 'неизвестный', 'неизлечимый', 'неисправность', 'неймара', 'некачественный', 'некоторый', 'некрасивый', 'некуда', 'нелегал', 'нелегальный', 'нелепица', 'нелепый', 'нелли', 'неловкий', 'нельзя', 'нельсон', 'нелюбимый', 'немедленно', 'немец', 'немецкий', 'немка', 'немного', 'немой', 'ненавидеть', 'ненавистный', 'ненависть', 'ненужность', 'ненужный', 'необходимость', 'необходимый', 'необъяснимый', 'необыкновенный', 'необычно', 'необычный', 'неоднозначный', 'неожиданно', 'неожиданный', 'неоклассика', 'неочевидный', 'неплохо', 'неплохой', 'непобедимый', 'неповторимый', 'непогода', 'непонятный', 'неправильно', 'неправильный', 'непредсказуемый', 'неприличный', 'неприхотливый', 'неприятно', 'неприятность', 'неприятный', 'непростой', 'неработающий', 'неравенство', 'неравный', 'нерв', 'нервничать', 'нервный', 'нереально', 'нереальный', 'несколько', 'несмотря', 'несовершеннолетний', 'несостоявшийся', 'несправедливый', 'нестандартный', 'нести', 'несуществующий', 'несчастие', 'несчастливый', 'несчастный', 'нет', 'нетаньяха', 'нетрадиционный', 'нетрезвый', 'неуважение', 'неудавшийся', 'неудача', 'неудачник', 'неудачный', 'неудобный', 'неужели', 'неузнаваемость', 'неуловимый', 'неуплата', 'нефтепродукт', 'нефть', 'нефтяник', 'нефтяной', 'нехватка', 'нехороший', 'нехорошо', 'нечего', 'нечистый', 'нечисть', 'нечто', 'нея', 'ни', 'нибира', 'нибыть', 'нива', 'нигде', 'нигерия', 'нидерланды', 'ниже', 'нижегородец', 'нижегородский', 'нижнекамск', 'нижний', 'низка', 'низкий', 'ник', 'никак', 'никакой', 'никита', 'никогда', 'никола', 'николаев', 'николай', 'николас', 'николь', 'никто', 'никуда', 'нил', 'нина', 'нитка', 'нить', 'ничего', 'ничто', 'ничья', 'нищета', 'нищий', 'нквд', 'нло', 'нм', 'но', 'нобелевский', 'нобель', 'новак', 'новгород', 'новгородский', 'новенький', 'новиков', 'новинка', 'новичок', 'нововведение', 'новогодний', 'новое', 'новокузнецк', 'новолуние', 'новорождённый', 'новороссийск', 'новосибирец', 'новосибирск', 'новосибирский', 'новостройка', 'новость', 'новый', 'нога', 'ноготь', 'нож', 'ножевой', 'ножка', 'нокаут', 'нокаутировать', 'ноль', 'номер', 'номинал', 'норвегия', 'норвежский', 'норд', 'норма', 'нормализовать', 'нормальный', 'нос', 'носитель', 'носить', 'носка', 'носков', 'ностальгия', 'нострадамус', 'ноутбук', 'ночевать', 'ночное', 'ночной', 'ночь', 'ночью', 'ношение', 'ноябрь', 'ноябрьский', 'нрав', 'нравиться', 'нтв', 'ну', 'нужда', 'нуждаться', 'нужно', 'нужный', 'нулевой', 'нуль', 'нурмагомед', 'нурмагомедов', 'нуть', 'нхл', 'нынешний', 'нью', 'нэнси', 'нюанс', 'нюша', 'няня', 'оаэ', 'оба', 'обалденный', 'обаятельный', 'обвал', 'обвалить', 'обвалиться', 'обвинение', 'обвинить', 'обвинять', 'обвиняться', 'обвиснуть', 'обгон', 'обгонять', 'обед', 'обезвредить', 'обезопасить', 'обезьяна', 'оберег', 'обернуться', 'обертывание', 'обеспечение', 'обеспечивать', 'обеспечить', 'обеспокоить', 'обещание', 'обещать', 'обжаловать', 'обзавестись', 'обзор', 'обида', 'обидеть', 'обидеться', 'обидный', 'обидчик', 'обижать', 'обижаться', 'обиженный', 'обильный', 'обитатель', 'обитать', 'обитель', 'обладатель', 'обладательница', 'обладать', 'облако', 'областной', 'область', 'облдума', 'облегчить', 'облепиха', 'облизать', 'облик', 'облить', 'обложить', 'обложка', 'обломок', 'облысение', 'обман', 'обмануть', 'обманывать', 'обмен', 'обменять', 'обменяться', 'обморок', 'обнаглеть', 'обнажённый', 'обнародовать', 'обнаружение', 'обнаружить', 'обнимать', 'обновить', 'обновиться', 'обновление', 'обновлять', 'обновляться', 'обогнать', 'обогрев', 'обогреватель', 'обожать', 'обозвать', 'обозначить', 'обои', 'обойти', 'обойтись', 'обокрасть', 'оборона', 'оборонный', 'оборот', 'оборотень', 'оборудование', 'обострение', 'обочечник', 'обочина', 'обработать', 'обработка', 'образ', 'образец', 'образование', 'образовательный', 'образовать', 'образоваться', 'обратить', 'обратиться', 'обратно', 'обратный', 'обращать', 'обращаться', 'обращение', 'обрезать', 'обрезка', 'обрести', 'обречь', 'обречённый', 'обручальный', 'обрушение', 'обрушить', 'обрушиться', 'обрыв', 'обряд', 'обсе', 'обслуживание', 'обслуживать', 'обстановка', 'обстоятельство', 'обстрел', 'обстрелять', 'обсудить', 'обсуждать', 'обсуждение', 'обувь', 'обустроить', 'обустройство', 'обучать', 'обучение', 'обход', 'обходить', 'обшивка', 'общаться', 'общежитие', 'общение', 'общественник', 'общественность', 'общественный', 'общество', 'общий', 'объедение', 'объединение', 'объединить', 'объединять', 'объект', 'объектив', 'объесть', 'объявить', 'объявление', 'объяснение', 'объяснить', 'объяснять', 'объятие', 'объём', 'объёмный', 'обыграть', 'обыкновенный', 'обыск', 'обычай', 'обычно', 'обычный', 'обязанность', 'обязательно', 'обязательный', 'обязательство', 'обязать', 'овен', 'оверсайза', 'овечкин', 'овощ', 'овощной', 'овсянка', 'овсянников', 'овсяный', 'овца', 'овчарка', 'оганесян', 'огласить', 'огненный', 'огнестрельный', 'огнетушитель', 'ого', 'огонь', 'огород', 'огородник', 'ограбить', 'ограбление', 'ограждение', 'ограничение', 'ограниченный', 'ограничить', 'огромный', 'огурец', 'ода', 'одевать', 'одеваться', 'одежда', 'одержать', 'одесса', 'одетый', 'одеть', 'одеться', 'одеяло', 'один', 'одинаково', 'одинаковый', 'одинокий', 'одиночество', 'одиночка', 'одиночный', 'однажды', 'однако', 'одновременно', 'однозначно', 'одноклассник', 'одноклассница', 'однокомнатный', 'одноэтажный', 'однушко', 'одобрить', 'одолеть', 'оживить', 'ожидание', 'ожидать', 'ожидаться', 'ожирение', 'ожог', 'озадачить', 'озвучить', 'озеро', 'озимый', 'означать', 'озу', 'ой', 'оказание', 'оказать', 'оказаться', 'оказывать', 'оказываться', 'океан', 'оккупация', 'оккупировать', 'оклад', 'окно', 'око', 'около', 'окончание', 'окончательно', 'окончательный', 'окончить', 'окоп', 'окраина', 'окрашивание', 'окрестность', 'округ', 'округа', 'округлиться', 'окружающий', 'окружение', 'окружить', 'оксана', 'октагон', 'октябрь', 'октябрьский', 'окунь', 'оладушка', 'оладья', 'олег', 'олейник', 'олень', 'олесь', 'оливья', 'олигарх', 'олимпиада', 'олимпийский', 'ольга', 'оля', 'омбудсмен', 'омич', 'омичка', 'омлет', 'омолаживать', 'омолодить', 'омоложение', 'омон', 'омс', 'омск', 'омский', 'он', 'она', 'они', 'онить', 'онкобольной', 'онколог', 'онкологический', 'онкология', 'онлайн', 'оно', 'онф', 'оон', 'ооо', 'опарыш', 'опасаться', 'опасение', 'опасность', 'опасный', 'опасть', 'опг', 'опека', 'опера', 'оперативный', 'оператор', 'операционный', 'операция', 'опередить', 'оперный', 'опилка', 'описание', 'описать', 'оплата', 'оплатить', 'оплачивать', 'опоздание', 'опоздать', 'опознать', 'опозорить', 'опозориться', 'ополченец', 'опора', 'оппозиционер', 'оппозиция', 'оппонент', 'оправдание', 'оправдать', 'оправдаться', 'оправдывать', 'определение', 'определить', 'определиться', 'определять', 'определённый', 'опровергнуть', 'опрос', 'оптимальный', 'оптимизация', 'оптимизм', 'оптический', 'опубликовать', 'опустить', 'опуститься', 'опухоль', 'опция', 'опыт', 'опытный', 'опять', 'опёнок', 'оранжевый', 'орать', 'орбакать', 'орбита', 'орвать', 'орган', 'органайзер', 'организатор', 'организация', 'организм', 'организовать', 'органический', 'орда', 'орден', 'оренбург', 'оренбургский', 'оренбуржье', 'орех', 'ореховый', 'орешек', 'орешкин', 'оригинал', 'оригинально', 'оригинальный', 'ориентация', 'оркестр', 'орлов', 'орудие', 'оружейный', 'оружие', 'орхидея', 'орёл', 'ос', 'оса', 'осаго', 'осада', 'освещение', 'освободить', 'освободиться', 'освобождение', 'освоить', 'осенний', 'осень', 'осетия', 'осипов', 'оск', 'оскар', 'осколок', 'оскорбить', 'оскорбление', 'оскорблять', 'ослабление', 'осложнение', 'османский', 'осмотр', 'оснастить', 'оснастка', 'основа', 'основание', 'основатель', 'основать', 'основной', 'основный', 'особа', 'особенно', 'особенность', 'особенный', 'особист', 'особняк', 'особо', 'особый', 'осознанный', 'осознать', 'оспорить', 'оставаться', 'оставить', 'оставлять', 'остальной', 'останавливать', 'останки', 'остановить', 'остановиться', 'остановка', 'остаток', 'остаться', 'остеопороз', 'остеохондроз', 'остин', 'осторожно', 'осторожный', 'остров', 'острый', 'осудить', 'осуждать', 'осуществить', 'осьминог', 'от', 'отбеливание', 'отбивной', 'отбирать', 'отбить', 'отбор', 'отвар', 'отвергнуть', 'отверстие', 'отвести', 'ответ', 'ответить', 'ответный', 'ответственность', 'ответственный', 'отвечать', 'отвратительный', 'отвёртка', 'отгадать', 'отдавать', 'отдать', 'отдел', 'отделение', 'отделка', 'отдельно', 'отдельный', 'отдохнуть', 'отдых', 'отдыхать', 'отель', 'отец', 'отечественный', 'отжимание', 'отжимания', 'отзыв', 'отзывать', 'отказ', 'отказать', 'отказаться', 'отказывать', 'отказываться', 'откладывать', 'отклонить', 'отключать', 'отключение', 'отключить', 'откос', 'откреститься', 'откровение', 'откровенно', 'откровенный', 'открутить', 'открывать', 'открываться', 'открытие', 'открытка', 'открыто', 'открытый', 'открыть', 'открыться', 'откуда', 'отличаться', 'отличие', 'отличить', 'отличиться', 'отлично', 'отличный', 'отложить', 'отмена', 'отменить', 'отменный', 'отменять', 'отменяться', 'отметить', 'отметка', 'отмечать', 'отмыть', 'отнестись', 'относительно', 'относиться', 'отношение', 'отнять', 'отобрать', 'отозвать', 'отомстить', 'отопительный', 'отопление', 'оторвать', 'оторваться', 'отпечаток', 'отпор', 'отправить', 'отправиться', 'отправлять', 'отправляться', 'отпраздновать', 'отпуск', 'отпускать', 'отпустить', 'отработать', 'отравитель', 'отравить', 'отравиться', 'отравление', 'отражение', 'отразить', 'отразиться', 'отрасль', 'отрастить', 'отреагировать', 'отрезать', 'отремонтировать', 'отречься', 'отрицательный', 'отрицать', 'отрубить', 'отрыв', 'отряд', 'отсидеть', 'отставка', 'отстать', 'отстранение', 'отстранить', 'отсудить', 'отсутствие', 'отсутствовать', 'отсюда', 'отталкивать', 'оттенок', 'отток', 'оттуда', 'отучить', 'отход', 'отходить', 'отцов', 'отчаяние', 'отчаянный', 'отчего', 'отчим', 'отчитать', 'отчитаться', 'отчёт', 'отчётность', 'отшельник', 'отыскать', 'отёк', 'оумуамуа', 'офис', 'офисный', 'офицер', 'официально', 'официальный', 'официант', 'официантка', 'оформить', 'оформление', 'оформлять', 'офф', 'ох', 'охлаждение', 'охота', 'охотиться', 'охотник', 'охотничий', 'охрана', 'охранник', 'охранять', 'оценивать', 'оценить', 'оценка', 'оцепить', 'очаровательный', 'очаровать', 'очевидец', 'очевидный', 'очень', 'очередной', 'очередь', 'очистить', 'очистка', 'очищать', 'очищение', 'очки', 'очко', 'очнуться', 'очный', 'ошибаться', 'ошибиться', 'ошибка', 'ошибочно', 'оштрафовать', 'ощущение', 'павел', 'павло', 'падать', 'падение', 'падчерица', 'пайка', 'пак', 'пакет', 'пакетик', 'пакистан', 'пакьяо', 'палата', 'палатка', 'палач', 'палец', 'палитра', 'палка', 'палочка', 'палуба', 'пальто', 'пальчик', 'памела', 'памятка', 'памятник', 'память', 'панарин', 'панель', 'паника', 'панин', 'панический', 'пантера', 'папа', 'папарацци', 'папиллома', 'папин', 'пара', 'парад', 'парадокс', 'паразит', 'парализовать', 'параллельный', 'параметр', 'парашют', 'паредес', 'парень', 'париж', 'парижский', 'парикмахер', 'парк', 'парка', 'паркер', 'паркетник', 'парковаться', 'парковка', 'парковочный', 'парламент', 'парный', 'паровоз', 'пародия', 'пароль', 'паром', 'парочка', 'партизан', 'партизанский', 'партия', 'партнёр', 'парфен', 'парфюм', 'пас', 'паспорт', 'пассажир', 'пассажирка', 'пассажирский', 'пассивный', 'паста', 'пасть', 'пасхалка', 'патент', 'патриарх', 'патриархат', 'патриот', 'патриотизм', 'патрон', 'патрушев', 'паттайя', 'патч', 'паук', 'паулина', 'пахнуть', 'пацан', 'пациент', 'пациентка', 'пачка', 'паша', 'пашинин', 'пашинян', 'пашинянин', 'паштет', 'паяльник', 'пво', 'пвх', 'пд', 'пдд', 'певец', 'певица', 'педагог', 'педаль', 'педиатр', 'пейзаж', 'пекин', 'пелагея', 'пельмень', 'пена', 'пенальти', 'пенза', 'пензенец', 'пензенский', 'пенопласт', 'пенсионер', 'пенсионерка', 'пенсионный', 'пенсия', 'пентагон', 'пепел', 'первенец', 'первое', 'первоклассник', 'перебросить', 'перевал', 'перевернуть', 'перевернуться', 'перевести', 'перевод', 'переводить', 'переводчик', 'перевозить', 'перевозка', 'перевозчик', 'перевоплощение', 'переворот', 'переговоры', 'перед', 'передавать', 'передать', 'передача', 'переделать', 'переделка', 'передний', 'передовой', 'передумать', 'переезд', 'переезжать', 'переехать', 'переживать', 'пережить', 'перезагрузка', 'перезапуск', 'переиграть', 'переименование', 'переименовать', 'перейти', 'перекись', 'перекопка', 'перекрытие', 'перекрыть', 'перекрёсток', 'перекуп', 'перекус', 'перелом', 'перелёт', 'перемена', 'перенести', 'перенос', 'переносить', 'переоценить', 'перепалка', 'переписать', 'переписка', 'перепланировка', 'переплачивать', 'переправа', 'перепутать', 'перерасчёт', 'перерыв', 'перес', 'пересадить', 'пересадка', 'переслать', 'пересматривать', 'пересмотреть', 'переставать', 'перестановка', 'перестать', 'перестрелка', 'переть', 'перехват', 'перехватить', 'переход', 'переходить', 'перец', 'перечень', 'перечислить', 'перинатальный', 'период', 'перл', 'пермский', 'пермь', 'пермячка', 'перо', 'персидский', 'персонаж', 'персонал', 'персональный', 'перспектива', 'перспективный', 'перчатка', 'песков', 'песнь', 'песня', 'песок', 'песочный', 'петербург', 'петербургский', 'петербуржец', 'петиция', 'петлить', 'петля', 'петра', 'петров', 'петровский', 'петрозаводск', 'петросян', 'петрушка', 'петух', 'петь', 'пехота', 'печаль', 'печальный', 'печать', 'печение', 'печень', 'печерский', 'печка', 'печь', 'печёночный', 'пешеход', 'пешеходный', 'пешком', 'пещера', 'пиар', 'пивная', 'пиво', 'пигментный', 'пиджак', 'пик', 'пикантный', 'пикап', 'пикет', 'пикник', 'пила', 'пилинга', 'пилот', 'пин', 'пингвин', 'пинчук', 'пион', 'пионер', 'пионерский', 'пипп', 'пирамида', 'пират', 'пирог', 'пирожковый', 'пирожное', 'пирожок', 'писатель', 'писать', 'пистолет', 'письмо', 'питание', 'питаться', 'питбуля', 'питер', 'питерский', 'питомец', 'питон', 'питта', 'питтсбург', 'пить', 'пицца', 'пища', 'пищеварение', 'пищевой', 'пк', 'плавание', 'плавать', 'плавдок', 'плавленый', 'плавучий', 'плагиат', 'плакат', 'плакать', 'пламя', 'план', 'планет', 'планета', 'планирование', 'планировать', 'планироваться', 'планировка', 'планка', 'планшет', 'пластик', 'пластика', 'пластиковый', 'пластический', 'плат', 'плата', 'платить', 'платный', 'платок', 'платформа', 'платье', 'платёж', 'плацкарта', 'плач', 'плевать', 'плей', 'племя', 'племянник', 'племянница', 'плена', 'пленница', 'пленный', 'плесень', 'плечо', 'плинтус', 'плита', 'плитка', 'плов', 'плод', 'плодовый', 'плоский', 'плотва', 'плохо', 'плохой', 'площадка', 'площадь', 'плутон', 'плюс', 'плюшевый', 'плющенко', 'пляж', 'пляжный', 'плёнка', 'пмж', 'пневматический', 'по', 'побег', 'победа', 'победитель', 'победительница', 'победить', 'победный', 'побеждать', 'побережье', 'побить', 'поблагодарить', 'побои', 'побоище', 'побор', 'побороть', 'побочный', 'побояться', 'побывать', 'повар', 'поведать', 'поведение', 'повезти', 'повергнуть', 'поверить', 'поверхность', 'повесить', 'повести', 'повесть', 'поветкин', 'повзрослеть', 'повлиять', 'повод', 'поводок', 'поворот', 'повредить', 'повреждение', 'повседневный', 'повторение', 'повторить', 'повториться', 'повторно', 'повторный', 'повторять', 'повысить', 'повышать', 'повышение', 'повышенный', 'погасить', 'погашение', 'погб', 'погибать', 'погибнуть', 'погибший', 'поговорить', 'поговорка', 'погода', 'погодный', 'погон', 'погоны', 'погоня', 'пограничник', 'пограничный', 'погреб', 'погребняк', 'погром', 'погубить', 'под', 'подавать', 'подарить', 'подарок', 'подать', 'подача', 'подбирать', 'подбить', 'подбор', 'подборка', 'подбородок', 'подбросить', 'подвал', 'подвергнуться', 'подвеска', 'подвести', 'подвиг', 'подводить', 'подводный', 'подвох', 'подготовить', 'подготовиться', 'подготовка', 'подгузник', 'подделка', 'поддельный', 'поддержание', 'поддержать', 'поддерживать', 'поддержка', 'поделить', 'поделиться', 'поделка', 'подержать', 'подешеветь', 'поджелудочный', 'поджечь', 'подземелье', 'подземный', 'подзимний', 'подиум', 'подкаста', 'подключение', 'подключить', 'подкормить', 'подкормка', 'подлинный', 'подлодка', 'подлость', 'подлый', 'подмосковный', 'подмосковье', 'подмышка', 'поднимать', 'подниматься', 'поднятие', 'поднять', 'подняться', 'подобный', 'подобрать', 'подогрев', 'подождать', 'подозревать', 'подозреваться', 'подозрение', 'подозрительный', 'подойти', 'подоконник', 'подольский', 'подонок', 'подорвать', 'подорваться', 'подорожание', 'подорожать', 'подписание', 'подписать', 'подписка', 'подписчик', 'подпись', 'подполковник', 'подразделение', 'подрасти', 'подраться', 'подробно', 'подробность', 'подробный', 'подростковый', 'подросток', 'подруга', 'подружиться', 'подружка', 'подручный', 'подряд', 'подсветка', 'подсказать', 'подсказка', 'подслушать', 'подсознание', 'подстава', 'подставить', 'подставка', 'подсчитать', 'подсчёт', 'подтвердить', 'подтверждать', 'подтверждение', 'подтягивание', 'подтягиваться', 'подтяжка', 'подтянутый', 'подтянуть', 'подумать', 'подушка', 'подход', 'подходить', 'подходящий', 'подчеркнуть', 'подчиняться', 'подчинённый', 'подшипник', 'подшутить', 'подъезд', 'подъём', 'поединок', 'поезд', 'поездка', 'поесть', 'поехать', 'пожалеть', 'пожаловать', 'пожаловаться', 'пожалуйста', 'пожар', 'пожарить', 'пожарный', 'пожать', 'пожелать', 'пожениться', 'пожертвовать', 'пожизненно', 'пожизненный', 'пожилое', 'пожилой', 'пожить', 'поза', 'позавидовать', 'позади', 'позвать', 'позволить', 'позволять', 'позвонить', 'позвоночник', 'поздний', 'поздно', 'поздравить', 'поздравление', 'поздравлять', 'позировать', 'позитив', 'позитивный', 'позиция', 'познакомить', 'познакомиться', 'познер', 'позор', 'позорный', 'поиграть', 'поиск', 'поисковик', 'поисковый', 'поймать', 'пойти', 'пока', 'показ', 'показание', 'показатель', 'показательный', 'показать', 'показаться', 'показывать', 'покалечить', 'покидать', 'покинутый', 'покинуть', 'поклонник', 'поклонница', 'поклонской', 'покоить', 'покой', 'покойник', 'покойный', 'поколение', 'покончить', 'покорить', 'покорять', 'покрасить', 'покраска', 'покров', 'покровский', 'покрытие', 'покрыть', 'покрышка', 'покупатель', 'покупать', 'покупка', 'покушение', 'пол', 'полагаться', 'полвека', 'полгода', 'поле', 'полевой', 'полезно', 'полезный', 'полететь', 'полив', 'поливать', 'полигон', 'полиграф', 'поликлиника', 'полина', 'полировка', 'полис', 'политех', 'политехнический', 'политик', 'политика', 'политический', 'политолог', 'полицейский', 'полиция', 'полка', 'полковник', 'полмиллиона', 'полнолуние', 'полномочие', 'полноприводный', 'полностью', 'полноценный', 'полный', 'половина', 'половинка', 'половый', 'положение', 'положительный', 'положить', 'поломка', 'полоса', 'полосатый', 'полоска', 'полотенце', 'полочка', 'полпред', 'полтавченко', 'полтора', 'полугодие', 'полуголый', 'полузащитник', 'полуостров', 'получать', 'получаться', 'получение', 'получить', 'получиться', 'полчаса', 'полый', 'поль', 'польза', 'пользование', 'пользователь', 'пользоваться', 'польский', 'польша', 'полюбить', 'полюс', 'поляк', 'поляков', 'поляна', 'полярный', 'полёт', 'помада', 'поменять', 'поменяться', 'поместить', 'помеха', 'помешать', 'помещение', 'помидор', 'поминки', 'помириться', 'помнить', 'помогать', 'помойка', 'помолвка', 'помолодеть', 'помочь', 'помощник', 'помощница', 'помощь', 'помпей', 'помпео', 'помыть', 'понадобиться', 'понарошку', 'понедельник', 'понести', 'понижать', 'пониженный', 'понизить', 'понимание', 'понимать', 'поножовщина', 'понравиться', 'понт', 'пончик', 'понятие', 'понятно', 'понятный', 'понять', 'пообещать', 'пообщаться', 'поп', 'попадание', 'попадать', 'попадаться', 'попасть', 'попасться', 'поплавок', 'поплавский', 'поплатиться', 'попов', 'пополам', 'пополнение', 'пополнить', 'поправиться', 'поправка', 'попробовать', 'попросить', 'попрошайка', 'попрощаться', 'попугай', 'популярность', 'популярный', 'попытаться', 'попытка', 'пора', 'поработать', 'порадовать', 'поражать', 'поражение', 'поразительный', 'поразить', 'порвать', 'поргин', 'порезать', 'порекомендовать', 'порка', 'порно', 'порог', 'порода', 'породистый', 'порой', 'порошенко', 'порошин', 'порошок', 'порт', 'портал', 'портить', 'портрет', 'порту', 'португалия', 'поругаться', 'поручение', 'поручить', 'порция', 'порча', 'порядок', 'посадить', 'посадка', 'посвятить', 'посвящаться', 'посев', 'поселение', 'поселиться', 'посетитель', 'посетить', 'посещать', 'посещение', 'посеять', 'послание', 'послать', 'после', 'последний', 'последствие', 'пословица', 'послушать', 'посмеяться', 'посмотреть', 'пособие', 'посоветовать', 'посол', 'посольство', 'поспорить', 'посреди', 'поссориться', 'пост', 'поставить', 'поставка', 'поставлять', 'поставщик', 'постановка', 'постановление', 'постапокалипсис', 'постареть', 'постель', 'постельный', 'постер', 'постный', 'посторонний', 'постоянно', 'постоянный', 'постпред', 'пострадавший', 'пострадать', 'построить', 'постройка', 'поступать', 'поступить', 'поступление', 'поступок', 'посуда', 'посчитать', 'посылать', 'посылка', 'посёлок', 'пот', 'потасовка', 'потенциал', 'потенциально', 'потенциальный', 'потенция', 'потепление', 'потерпевший', 'потерпеть', 'потеря', 'потерянный', 'потерять', 'потеряться', 'потеть', 'потеха', 'поток', 'потока', 'потолок', 'потом', 'потомок', 'потому', 'потоп', 'потопить', 'потратить', 'потребительский', 'потребление', 'потребность', 'потребовать', 'потребоваться', 'потрясать', 'потрясти', 'поттер', 'поттера', 'потянуть', 'похвалить', 'похвастаться', 'похититель', 'похитить', 'похищение', 'похмелие', 'поход', 'походный', 'похоже', 'похожий', 'похолодание', 'похолодать', 'похоронить', 'похоронный', 'похороны', 'похуделый', 'похудение', 'похудеть', 'поцелуй', 'почва', 'почему', 'починить', 'почистить', 'почитать', 'почка', 'почта', 'почти', 'почтить', 'почувствовать', 'почём', 'почётный', 'пошаговый', 'пошлина', 'пошло', 'пошлый', 'пошутить', 'пощёчина', 'поэт', 'поэтому', 'появиться', 'появление', 'появляться', 'пояс', 'пояснить', 'пп', 'ппш', 'пр', 'правда', 'правдивый', 'правило', 'правильно', 'правильный', 'правитель', 'правительство', 'править', 'правление', 'право', 'правозащитник', 'правоохранитель', 'православие', 'православный', 'правосудие', 'правый', 'прага', 'праздник', 'праздничный', 'празднование', 'праздновать', 'прайс', 'практика', 'практиковать', 'практически', 'практический', 'практичный', 'прапорщик', 'пребывание', 'превзойти', 'превить', 'превосходить', 'превосходство', 'превратить', 'превратиться', 'превращать', 'превращаться', 'превращение', 'превысить', 'превышение', 'предатель', 'предательство', 'предать', 'предварительный', 'предвестник', 'предвыборный', 'предел', 'предзаказ', 'предлагать', 'предложение', 'предложить', 'предмет', 'предназначение', 'предок', 'предоставить', 'предоставление', 'предостеречь', 'предотвратить', 'предпенсионер', 'предпенсионный', 'предполагать', 'предположить', 'предпочесть', 'предпочитать', 'предпочтение', 'предприниматель', 'предпринять', 'предприятие', 'предречь', 'председатель', 'предсказание', 'предсказать', 'предсказывать', 'предсмертный', 'представитель', 'представить', 'представление', 'представлять', 'предстать', 'предстоять', 'предстоящий', 'предупредить', 'предупреждать', 'предупреждение', 'предшественник', 'предъявить', 'предыдущий', 'преемник', 'прежде', 'преждевременный', 'прежний', 'презентация', 'презентовать', 'презерватив', 'президент', 'президентский', 'преимущество', 'прекрасно', 'прекрасный', 'прекратить', 'прекращать', 'прекращение', 'прелесть', 'премиальный', 'премиум', 'премия', 'премьер', 'премьера', 'преображение', 'преобразить', 'преобразиться', 'преодолеть', 'препарат', 'преподаватель', 'преподать', 'преподнести', 'препятствие', 'прервать', 'пресвятой', 'пресечь', 'преследование', 'преследовать', 'пресняков', 'пресс', 'пресса', 'престарелый', 'престижный', 'престол', 'престолов', 'преступление', 'преступник', 'преступный', 'претендент', 'претендовать', 'претензия', 'при', 'прибавить', 'прибавка', 'прибалтика', 'приближаться', 'приблизиться', 'прибор', 'прибыль', 'прибыльный', 'прибыть', 'привезти', 'привести', 'привет', 'приветствие', 'прививка', 'привидение', 'привлекательность', 'привлекательный', 'привлекать', 'привлечение', 'привлечь', 'привод', 'приводить', 'приворот', 'привыкнуть', 'привычка', 'привычный', 'привязать', 'пригласить', 'приглашать', 'приглашение', 'приговор', 'приговорить', 'пригодиться', 'пригожин', 'пригород', 'приготовить', 'приготовиться', 'приготовление', 'пригрозить', 'придать', 'придумать', 'приезд', 'приезжать', 'приезжий', 'приехать', 'приз', 'призвать', 'приземлиться', 'признавать', 'признаваться', 'признак', 'признание', 'признанный', 'признать', 'признаться', 'призовой', 'призрак', 'призрачный', 'призыв', 'призывать', 'призывник', 'призёр', 'прийти', 'прийтись', 'приказ', 'приказать', 'прикамье', 'приключение', 'прикол', 'прикольный', 'прикормка', 'прикрыть', 'прилавок', 'прилететь', 'приличный', 'приложение', 'прилучной', 'прилучный', 'примадонна', 'приманка', 'применение', 'применить', 'применять', 'пример', 'примерить', 'примерный', 'примета', 'примирение', 'приморец', 'приморский', 'приморье', 'принадлежать', 'принадлежность', 'принести', 'принимать', 'приносить', 'принтер', 'принудительный', 'принц', 'принцесса', 'принцип', 'принятие', 'принять', 'приобрести', 'приобретение', 'приор', 'приоритет', 'приостановить', 'припарковать', 'природа', 'природный', 'приручить', 'присвоить', 'приседание', 'прислать', 'присоединение', 'присоединиться', 'приспособление', 'пристав', 'приставка', 'пристать', 'приступ', 'приступить', 'пристыдить', 'присутствие', 'присутствовать', 'притча', 'притягивать', 'приучить', 'приход', 'приходить', 'приходиться', 'прихожанин', 'прихожая', 'прицел', 'прицеп', 'причастность', 'причастный', 'причина', 'причём', 'причёска', 'пришелец', 'пришлый', 'приют', 'приютить', 'приятель', 'приятно', 'приятный', 'приём', 'приёмный', 'про', 'проба', 'пробег', 'пробежка', 'пробивать', 'пробить', 'пробка', 'проблема', 'проблемный', 'пробовать', 'пробуждение', 'провал', 'провалить', 'провалиться', 'провальный', 'проведение', 'проверить', 'проверка', 'проверять', 'провести', 'провинциальный', 'провинция', 'провод', 'проводить', 'проводиться', 'проводка', 'проводник', 'проводы', 'провожать', 'провокационный', 'провокация', 'провоцировать', 'проглотить', 'прогнать', 'прогноз', 'прогнозировать', 'проголосовать', 'программа', 'программирование', 'программист', 'прогреметь', 'прогресс', 'прогрессивный', 'прогулка', 'прогуляться', 'продавать', 'продаваться', 'продавец', 'продавщица', 'продажа', 'продать', 'продвижение', 'продвинуть', 'продемонстрировать', 'продержаться', 'продлевать', 'продление', 'продлить', 'продолжать', 'продолжаться', 'продолжение', 'продолжительность', 'продолжить', 'продукт', 'продуктивный', 'продуктовый', 'продукция', 'продюсер', 'проезд', 'проезжать', 'проект', 'проехать', 'проживание', 'проживать', 'прожиточный', 'прожить', 'проза', 'прозвать', 'прозвище', 'прозрачный', 'проигнорировать', 'проиграть', 'проигрывать', 'проигрыш', 'произведение', 'произвести', 'производитель', 'производительность', 'производить', 'производство', 'произвольный', 'произнести', 'произносить', 'произойти', 'происходить', 'происхождение', 'происшествие', 'пройти', 'пройтись', 'прокат', 'прокатиться', 'прокачать', 'прокачка', 'прокладка', 'проклов', 'проклятие', 'проклятый', 'прокомментировать', 'прокуратура', 'прокурор', 'пролежать', 'пролететь', 'пролив', 'пролёт', 'промах', 'промахнуться', 'промежуточный', 'променять', 'промес', 'промоутереть', 'промый', 'промышленность', 'промышленный', 'проникнуть', 'прооперировать', 'пропаганда', 'пропагандист', 'пропадать', 'пропажа', 'пропасть', 'прописка', 'прополис', 'пропуск', 'пропускать', 'пропустить', 'прорваться', 'пророк', 'пророчество', 'прорыв', 'просить', 'прославить', 'прославиться', 'прослушивание', 'просмотр', 'проснуться', 'проспект', 'просрочить', 'просрочка', 'простатит', 'простейшее', 'простить', 'проститься', 'просто', 'простой', 'простор', 'просторный', 'простота', 'пространство', 'простуда', 'просыпаться', 'просьба', 'протаранить', 'протест', 'протестировать', 'протестный', 'протестовать', 'против', 'противник', 'противопоказание', 'противопоказанный', 'противоспутниковый', 'противостояние', 'противостоять', 'противотанковый', 'протоиерей', 'протокол', 'прототип', 'протяжение', 'протянуть', 'проучить', 'профессионал', 'профессиональный', 'профессия', 'профессор', 'профи', 'профилактика', 'профиль', 'профсоюз', 'проход', 'проходить', 'прохождение', 'прохожий', 'прохор', 'процедура', 'процент', 'процесс', 'процессор', 'прочесть', 'прочий', 'прочитать', 'прочность', 'прочный', 'прочь', 'прошедшее', 'прошивка', 'прошлое', 'прошлый', 'прощальный', 'прощание', 'прощать', 'прощаться', 'прощение', 'проявить', 'проявление', 'проявлять', 'проявляться', 'пруд', 'прыгать', 'прыгнуть', 'прыжок', 'прыщ', 'пряжа', 'прямая', 'прямо', 'прямой', 'пряник', 'пряный', 'прятать', 'прятаться', 'псж', 'психбольница', 'психиатр', 'психиатрический', 'психика', 'психический', 'психолог', 'психологический', 'психология', 'психопат', 'псков', 'псковский', 'птица', 'птичий', 'птичка', 'публика', 'публикация', 'публиковать', 'публично', 'публичный', 'пугать', 'пугачев', 'пугачёвый', 'пудра', 'пузырь', 'пулемёт', 'пулково', 'пуловер', 'пульс', 'пуля', 'пункт', 'пуск', 'пускать', 'пустить', 'пустой', 'пустота', 'пустынь', 'пустыня', 'пусть', 'путать', 'путеводитель', 'путешественник', 'путешествие', 'путешествовать', 'путин', 'путина', 'путинский', 'путь', 'путёвка', 'путём', 'пух', 'пуховик', 'пушилин', 'пушистый', 'пушка', 'пушкин', 'пушок', 'пфр', 'пхукет', 'пчела', 'пчелиный', 'пшеница', 'пылесос', 'пыль', 'пытать', 'пытаться', 'пытка', 'пышный', 'пьер', 'пьех', 'пьющий', 'пьяница', 'пьянство', 'пьяный', 'пэлтроу', 'пюре', 'пятеро', 'пятилетний', 'пятка', 'пятница', 'пятничный', 'пятно', 'пять', 'пятьдесят', 'пятёрка', 'пятёрочка', 'пёс', 'пёсик', 'пётр', 'раб', 'рабинер', 'работа', 'работать', 'работник', 'работодатель', 'рабочий', 'рабство', 'равно', 'равновесие', 'равный', 'рагу', 'рад', 'рада', 'радар', 'ради', 'радиатор', 'радиация', 'радий', 'радикал', 'радикальный', 'радио', 'радиоактивный', 'радовать', 'радоваться', 'радость', 'радуга', 'радулов', 'раз', 'разбирать', 'разбираться', 'разбитый', 'разбить', 'разбиться', 'разбогатеть', 'разбойник', 'разбор', 'разборка', 'разбудить', 'развал', 'развалить', 'развалиться', 'разве', 'разведка', 'разведчик', 'развенчивать', 'развернуть', 'развести', 'развестись', 'развеять', 'развивать', 'развиваться', 'развитие', 'развить', 'развлекаться', 'развлечение', 'развод', 'разводить', 'разводиться', 'развозжаев', 'разворот', 'развязать', 'развязка', 'разгадать', 'разглядеть', 'разговаривать', 'разговор', 'разгон', 'разгром', 'разгромить', 'разгромный', 'разгрузочный', 'раздавать', 'раздавить', 'раздача', 'раздеваться', 'раздел', 'разделить', 'раздельный', 'раздеться', 'раздражать', 'различие', 'различный', 'разлука', 'разлюбить', 'размер', 'разместить', 'разметка', 'размещать', 'размещение', 'размножение', 'размышление', 'разнести', 'разница', 'разновидность', 'разнос', 'разноцветный', 'разный', 'разоблачение', 'разоблачить', 'разобрать', 'разобраться', 'разогнать', 'разозлить', 'разойтись', 'разорвать', 'разорить', 'разориться', 'разочарование', 'разочаровать', 'разочароваться', 'разрабатывать', 'разработать', 'разработка', 'разработчик', 'разрез', 'разрешать', 'разрешение', 'разрешить', 'разрушать', 'разрушение', 'разрушить', 'разрыв', 'разрывать', 'разум', 'разумный', 'разъярённый', 'разъяснение', 'разъяснить', 'разыграть', 'разыскивать', 'рай', 'райан', 'райкконный', 'район', 'райский', 'рак', 'ракета', 'ракетный', 'раковина', 'раковый', 'рамзан', 'рамка', 'рамос', 'рана', 'ранее', 'ранение', 'раненый', 'ранить', 'ранний', 'рано', 'рапсодия', 'рапунцель', 'раритетный', 'раса', 'расизм', 'расистский', 'расклад', 'раскол', 'раскольник', 'раскопать', 'раскопка', 'раскритиковать', 'раскрывать', 'раскрытый', 'раскрыть', 'распад', 'расписание', 'расплакаться', 'расплата', 'расплатиться', 'расплачиваться', 'распознать', 'расположение', 'расположить', 'расправа', 'расправиться', 'распродавать', 'распродажа', 'распространение', 'распространить', 'распутин', 'рассада', 'рассвет', 'рассекретить', 'рассказ', 'рассказать', 'рассказывать', 'расслабиться', 'расследование', 'расследовать', 'рассматривать', 'рассмешить', 'рассмотреть', 'рассольник', 'рассрочка', 'расставание', 'расставаться', 'расставить', 'расстаться', 'расстояние', 'расстрел', 'расстреливать', 'расстрелять', 'расстроить', 'расстройство', 'рассуждать', 'рассуждение', 'рассчитать', 'рассчитывать', 'рассылка', 'рассыпчатый', 'растение', 'растерзать', 'расти', 'растительный', 'растить', 'расторгнуть', 'расторжение', 'растрогать', 'растяжка', 'расход', 'расчленить', 'расчёт', 'расширение', 'расширить', 'расширять', 'расшифровать', 'рауль', 'раунд', 'рахимов', 'рацион', 'рая', 'рб', 'рвать', 'рваться', 'реабилитация', 'реагировать', 'реактивный', 'реактор', 'реакция', 'реал', 'реала', 'реализация', 'реализовать', 'реалистичный', 'реалить', 'реалия', 'реалом', 'реально', 'реальность', 'реальный', 'реанимация', 'ребята', 'ребёнок', 'реванш', 'ревнивый', 'ревновать', 'ревность', 'револьвер', 'революционный', 'революция', 'регин', 'регион', 'региональный', 'регистрация', 'регулировать', 'регулировка', 'регулярно', 'регулярный', 'регулятор', 'редактор', 'редакция', 'редкий', 'редко', 'реж', 'режим', 'режиссёр', 'резать', 'резерв', 'резиденция', 'резина', 'резинка', 'резиновый', 'резка', 'резкий', 'резко', 'резня', 'резолюция', 'резонансный', 'результат', 'резюме', 'рейд', 'рейнгольд', 'рейнджерс', 'рейс', 'рейтинг', 'рейх', 'река', 'реклама', 'рекламировать', 'рекламный', 'рекомендация', 'рекомендовать', 'рекомендоваться', 'реконструкция', 'рекорд', 'рекордно', 'рекордный', 'религиозный', 'религия', 'релиз', 'рельефный', 'рельс', 'ремастер', 'ремейка', 'ремень', 'ремонт', 'ремонтантный', 'ремонтировать', 'ренат', 'рено', 'репетитор', 'репортаж', 'репрессия', 'репутация', 'ресница', 'республика', 'реставрация', 'ресторан', 'ресторанный', 'ресурс', 'ретро', 'ретроградный', 'референдум', 'реформа', 'рецензия', 'рецепт', 'рецидивист', 'речной', 'речь', 'решать', 'решаться', 'решение', 'решетов', 'решить', 'решиться', 'решётка', 'ржавчина', 'ржавый', 'ржд', 'рианна', 'рианчо', 'ривз', 'рига', 'риелтор', 'рик', 'риккардо', 'рим', 'римский', 'ринг', 'рис', 'риск', 'риска', 'рискнуть', 'рисковать', 'рисовать', 'рисовый', 'рисунок', 'рита', 'ритм', 'ритуал', 'ричард', 'ричать', 'риэлтор', 'ро', 'робби', 'роберт', 'робертс', 'робин', 'робот', 'ровно', 'ровный', 'рог', 'рогозин', 'род', 'роддом', 'роджер', 'родина', 'родинка', 'родитель', 'родительский', 'родить', 'родиться', 'родной', 'родные', 'родня', 'родом', 'родственник', 'родственница', 'родственный', 'роды', 'рожать', 'рождаться', 'рождение', 'рождественский', 'рождество', 'роженица', 'роза', 'розетка', 'розовый', 'розыгрыш', 'розыск', 'рой', 'рок', 'роковой', 'ролик', 'ролл', 'роль', 'ром', 'рома', 'роман', 'романец', 'романов', 'романовский', 'романс', 'романтик', 'романтика', 'романтический', 'романтичный', 'романцев', 'ромашка', 'роналда', 'роналдиньо', 'роналдый', 'роса', 'росгвардеец', 'росгвардия', 'роскачество', 'роскомнадзор', 'росконтроль', 'роскосмос', 'роскошно', 'роскошный', 'роскошь', 'росляк', 'росляков', 'роснефть', 'рособрнадзор', 'роспотребнадзор', 'росс', 'россии', 'российский', 'российско', 'россию', 'россия', 'россиянин', 'россиянка', 'росстат', 'росся', 'рост', 'ростелеком', 'ростов', 'ростова', 'ростовский', 'ростовчанин', 'ростовчанка', 'роструд', 'рот', 'рота', 'ротару', 'ротный', 'роуз', 'рпл', 'рпц', 'рсмд', 'рт', 'ртуть', 'ру', 'рубашка', 'рубеж', 'рубин', 'рубить', 'рублей', 'рубль', 'рублёвка', 'рублёвый', 'рубрика', 'ругать', 'ругаться', 'рудковский', 'рудовый', 'ружьё', 'руина', 'рука', 'рукав', 'руководитель', 'руководить', 'руководство', 'рукоделие', 'рулевой', 'рулет', 'рулетик', 'руль', 'румыния', 'румынский', 'руни', 'русалка', 'руслан', 'русофобия', 'русски', 'русский', 'русскоязычный', 'рустэма', 'русь', 'рухнуть', 'ручка', 'ручной', 'рушить', 'рф', 'рфс', 'рыба', 'рыбак', 'рыбалка', 'рыбацкий', 'рыбий', 'рыбина', 'рыбка', 'рыбный', 'рыболов', 'рыболовлев', 'рыболовный', 'рывок', 'рыдать', 'рыжий', 'рынок', 'рысь', 'рыцарь', 'рэб', 'рэмбо', 'рэп', 'рэпер', 'рюкзак', 'рябина', 'ряд', 'рядовой', 'рязанский', 'рязань', 'ряска', 'саакашвили', 'савичева', 'савкина', 'сад', 'садик', 'садист', 'садиться', 'садовод', 'садовый', 'садулай', 'сажать', 'саженец', 'сазан', 'саймон', 'сайт', 'салават', 'салат', 'салатик', 'саленко', 'сало', 'салон', 'салонный', 'салтыков', 'сам', 'самар', 'самара', 'самарканд', 'самарский', 'самбурский', 'самец', 'саммит', 'самогон', 'самоделка', 'самоделкина', 'самодельный', 'самозанятой', 'самойлов', 'самолёт', 'самооборона', 'самооценка', 'самосвал', 'самостоятельно', 'самостоятельный', 'самоубийство', 'самоубийца', 'самоходный', 'самочувствие', 'самурай', 'самый', 'сан', 'санаторий', 'санкт', 'санкционный', 'санкция', 'сантехник', 'сантиметр', 'санузел', 'сапог', 'сара', 'сарай', 'саратов', 'саратовец', 'саратовский', 'сармат', 'сарри', 'сатана', 'сатановский', 'сатурн', 'сау', 'саудит', 'саудовский', 'сауна', 'сахалин', 'сахар', 'сахара', 'сахарный', 'саша', 'сбежать', 'сбербанк', 'сбережение', 'сберечь', 'сбивать', 'сбить', 'сбой', 'сбор', 'сборка', 'сборная', 'сборник', 'сборный', 'сбрасывать', 'сбросить', 'сбу', 'сбываться', 'сбыться', 'св', 'свадебный', 'свадьба', 'свалка', 'сварить', 'сварка', 'сварщик', 'сведение', 'свежесть', 'свежеть', 'свежий', 'свекольный', 'свекровь', 'свердловский', 'сверло', 'свернуть', 'сверхзвуковой', 'сверху', 'сверхъестественный', 'свершиться', 'свести', 'свет', 'света', 'светильник', 'светлак', 'светлана', 'светлый', 'светодиодный', 'светофор', 'светский', 'светящийся', 'свеча', 'свидание', 'свидетель', 'свидетельство', 'свинин', 'свинина', 'свинка', 'свиной', 'свинья', 'свитер', 'свитолин', 'свобода', 'свободный', 'сводить', 'сводка', 'свой', 'свойство', 'свыше', 'связанный', 'связать', 'связывать', 'связь', 'святой', 'священник', 'священный', 'свёкла', 'сглаз', 'сглазить', 'сговор', 'сгореть', 'сгущёнка', 'сдавать', 'сдаваться', 'сдать', 'сдаться', 'сдача', 'сделать', 'сделка', 'сдержать', 'сдерживать', 'сдохнуть', 'се', 'себастьян', 'себя', 'севастополь', 'север', 'северный', 'северо', 'севилья', 'сегмент', 'сегодня', 'сегодняшний', 'седан', 'седина', 'седов', 'седой', 'седокова', 'седоковый', 'сезон', 'сезонный', 'сей', 'сейф', 'сейчас', 'сейшелы', 'секонда', 'секрет', 'секретарь', 'секретный', 'секс', 'сексуальный', 'секта', 'сектор', 'секунда', 'селен', 'село', 'селфи', 'сель', 'сельдь', 'сельский', 'селёдка', 'семак', 'семейный', 'семейство', 'семенов', 'семеро', 'семечко', 'семилетний', 'семин', 'семшов', 'семь', 'семья', 'семя', 'семён', 'сен', 'сенатор', 'сенсационный', 'сенсация', 'сента', 'сентябрь', 'сентябрьский', 'сенцов', 'сенчукова', 'сера', 'сербия', 'сербский', 'сервер', 'сервис', 'сергей', 'сердечко', 'сердечный', 'сердце', 'серебро', 'серебряный', 'середина', 'сержант', 'сериал', 'серийный', 'серить', 'серия', 'серов', 'серпухов', 'сертификат', 'серый', 'серьга', 'серьёзно', 'серьёзный', 'серябкина', 'сестра', 'сесть', 'сетевой', 'сетка', 'сеть', 'сечин', 'сеять', 'сжечь', 'сжигание', 'сжигать', 'сзади', 'си', 'сибирский', 'сибирь', 'сибиряк', 'сибирячка', 'сивко', 'сигарета', 'сигнал', 'сидение', 'сидерат', 'сидеть', 'сидней', 'сизый', 'сиквёлый', 'сила', 'силиконовый', 'силовик', 'силовой', 'силой', 'силуановый', 'сильвестр', 'сильнейший', 'сильно', 'сильный', 'символ', 'симпатичный', 'симптом', 'симулятор', 'симферополь', 'синагога', 'сингапур', 'синдром', 'синий', 'синод', 'синоптик', 'синяк', 'сипягин', 'сирийский', 'сирия', 'сирота', 'сироткин', 'система', 'системный', 'сити', 'ситуация', 'сияние', 'сиять', 'ск', 'ска', 'скабеева', 'скажем', 'сказ', 'сказать', 'сказка', 'сказочный', 'скал', 'скала', 'скамейка', 'скандал', 'скандальный', 'скандинавский', 'сканер', 'скарлетта', 'скачать', 'скачок', 'скважина', 'сквер', 'сквозь', 'скворцовый', 'скелет', 'скидка', 'скинуть', 'склад', 'складный', 'складываться', 'склон', 'склонный', 'сковорода', 'сковородка', 'сколько', 'скончаться', 'скопировать', 'скора', 'скорбеть', 'скорее', 'скорлупа', 'скоро', 'скорой', 'скоростной', 'скорость', 'скорпион', 'скорый', 'скот', 'скотт', 'скотч', 'скр', 'скраб', 'скрасить', 'скрестить', 'скриншот', 'скрипалить', 'скрипаль', 'скромный', 'скрутить', 'скрывать', 'скрываться', 'скрытый', 'скрыть', 'скрыться', 'скука', 'скульптура', 'скумбрия', 'скупать', 'скучать', 'скучно', 'скучный', 'слабо', 'слабонервный', 'слабость', 'слабоумие', 'слабый', 'слава', 'славянин', 'славянский', 'сладкий', 'сладкое', 'сладость', 'слайдер', 'след', 'следить', 'следователь', 'следовать', 'следок', 'следственный', 'следствие', 'следующий', 'слежка', 'слеза', 'слепаков', 'слепой', 'слив', 'сливать', 'сливка', 'сливочный', 'слизень', 'слить', 'слишком', 'словакия', 'словарный', 'словарь', 'словно', 'слово', 'сложить', 'сложиться', 'сложно', 'сложность', 'сложный', 'слой', 'сломать', 'сломаться', 'слон', 'слоёный', 'слуга', 'служба', 'служебный', 'служилый', 'служить', 'слух', 'слуцкий', 'случай', 'случайно', 'случайность', 'случайный', 'случаться', 'случиться', 'слушание', 'слушать', 'слышать', 'слышный', 'смарт', 'смартфон', 'смекалка', 'смелый', 'смена', 'сменить', 'смениться', 'смертельно', 'смертельный', 'смерти', 'смертность', 'смертный', 'смертоносный', 'смерть', 'смесь', 'сметана', 'сметанный', 'сметь', 'смех', 'смешивать', 'смешно', 'смешной', 'смеяться', 'сми', 'смириться', 'смирнов', 'смит', 'смоленск', 'смоленский', 'смольный', 'смолян', 'смородина', 'смотреть', 'смотреться', 'смочь', 'смс', 'смутить', 'смысл', 'смыть', 'смягчение', 'смягчить', 'снайпер', 'снайперский', 'снаружи', 'снаряд', 'снасть', 'сначала', 'снг', 'снег', 'снегопад', 'снежный', 'снести', 'снигиря', 'снижать', 'снижаться', 'снижение', 'снизить', 'снизиться', 'снимать', 'сниматься', 'снимка', 'снимок', 'сниться', 'снова', 'сногсшибательный', 'снос', 'сносить', 'снт', 'снуда', 'снятие', 'снятой', 'снять', 'сняться', 'собака', 'собачий', 'собачка', 'собеседник', 'собеседование', 'собирать', 'собираться', 'соблазнительный', 'соблюдать', 'соболезнование', 'соболенко', 'собор', 'собрание', 'собрать', 'собраться', 'собственник', 'собственность', 'собственный', 'собчак', 'событие', 'собянин', 'сова', 'совбез', 'совершать', 'совершенно', 'совершенный', 'совершенство', 'совершить', 'совесть', 'совет', 'советник', 'советов', 'советовать', 'советский', 'совещание', 'совместимость', 'совместимый', 'совместить', 'совместно', 'совместный', 'совмещать', 'совпадение', 'современность', 'современный', 'совсем', 'совфедя', 'согласие', 'согласиться', 'согласно', 'согласный', 'согласовать', 'соглашение', 'согревать', 'сода', 'содержание', 'содержаться', 'содержимый', 'соединение', 'соединить', 'сожаление', 'сожалеть', 'сожитель', 'сожительница', 'создавать', 'создаваться', 'создание', 'создатель', 'создать', 'сознание', 'созревание', 'сойти', 'сок', 'сокамерник', 'соколов', 'соколовский', 'сократить', 'сократиться', 'сокращать', 'сокращение', 'сокровище', 'солдат', 'солженицын', 'солидный', 'солист', 'солистка', 'солить', 'солнечный', 'солнце', 'солнцев', 'соловей', 'соловьев', 'солсбери', 'соль', 'сольный', 'солянка', 'солёный', 'сом', 'сомневаться', 'сомнение', 'сомнительный', 'сон', 'сонненом', 'соннить', 'соннный', 'соня', 'сообщать', 'сообщение', 'сообщество', 'сообщить', 'сообщник', 'сооружение', 'соответствие', 'соответствовать', 'соотечественник', 'соотношение', 'соперник', 'соперница', 'сорвать', 'сорваться', 'соревнование', 'сорняк', 'сорок', 'сорт', 'сосед', 'соседка', 'соседний', 'соседский', 'сосиска', 'сосновый', 'состав', 'составить', 'составлять', 'состояние', 'состоять', 'состояться', 'сосуд', 'сосудистый', 'сотка', 'сотникова', 'сотня', 'сотовый', 'сотрудник', 'сотрудница', 'сотрудничать', 'сотрудничество', 'соус', 'софи', 'софия', 'софья', 'сохранение', 'сохранить', 'сохраниться', 'сохранять', 'соц', 'социальный', 'социолог', 'соцсеть', 'сочетание', 'сочетать', 'сочи', 'сочинение', 'сочинский', 'сочный', 'союз', 'союза', 'союзник', 'сп', 'спа', 'спагетти', 'спад', 'спальный', 'спальня', 'спартак', 'спартака', 'спартаке', 'спартаком', 'спартаку', 'спасатель', 'спасательный', 'спасать', 'спасаться', 'спасение', 'спасибо', 'спаситель', 'спасти', 'спастись', 'спасть', 'спать', 'спг', 'спектакль', 'спеть', 'специалист', 'специально', 'специальность', 'специальный', 'специя', 'спецназ', 'спецназовец', 'спецоперация', 'спецслужба', 'спецэффект', 'спешить', 'спикер', 'спин', 'спина', 'спиннинг', 'спирт', 'спиртное', 'списать', 'список', 'списывать', 'спица', 'спичка', 'спланировать', 'сплетня', 'сплошной', 'спойлер', 'спокойно', 'спокойный', 'спокойствие', 'спонсор', 'спор', 'спорить', 'спорный', 'спорт', 'спортзал', 'спортивный', 'спорткара', 'спортсмен', 'спортсменка', 'спорый', 'способ', 'способность', 'способный', 'способствовать', 'справа', 'справедливо', 'справедливость', 'справедливый', 'справиться', 'справка', 'справляться', 'спрашивать', 'спровоцировать', 'спрогнозировать', 'спрос', 'спросить', 'спрыгнуть', 'спрятать', 'спрятаться', 'спуск', 'спустить', 'спустя', 'спутник', 'спутниковый', 'сработать', 'сравнение', 'сравнивать', 'сравнимый', 'сравнительный', 'сравнить', 'сражаться', 'сражение', 'сразить', 'сразиться', 'сразу', 'среда', 'среди', 'средиземный', 'средневековый', 'средневековье', 'среднее', 'средний', 'средство', 'срок', 'срочно', 'срочный', 'срыв', 'сс', 'ссора', 'ссср', 'ссылка', 'ст', 'стабильность', 'стабильный', 'ставить', 'ставка', 'ставрополец', 'ставрополь', 'ставрополье', 'ставропольский', 'стадион', 'стадия', 'стаж', 'стакан', 'сталин', 'сталинград', 'сталинский', 'сталкиваться', 'сталлоно', 'сталь', 'стальной', 'стамбул', 'стандарт', 'стандартный', 'станислав', 'становиться', 'становление', 'станок', 'станцевать', 'станция', 'стараться', 'старение', 'старенький', 'стареть', 'старик', 'старинный', 'старить', 'старое', 'старость', 'старт', 'стартап', 'стартовать', 'стартовый', 'старуха', 'старушка', 'старший', 'старшина', 'старый', 'стас', 'статистика', 'статус', 'статуя', 'стать', 'статья', 'стая', 'ствол', 'стекло', 'стеклянный', 'стелс', 'стен', 'стена', 'стенка', 'степан', 'степаненко', 'степанов', 'степень', 'стереотип', 'стереть', 'стерилизация', 'стерлитамак', 'стесняться', 'стивен', 'стилист', 'стиль', 'стильно', 'стильный', 'стипендия', 'стиральный', 'стирать', 'стирка', 'стих', 'стихия', 'стихнуть', 'стихотворение', 'сто', 'стоимость', 'стоить', 'стойка', 'стойкий', 'стол', 'столб', 'столетие', 'столешница', 'столик', 'столица', 'столичный', 'столкновение', 'столкнуться', 'столовый', 'столтенберг', 'столько', 'стоматолог', 'стоп', 'стопа', 'сторона', 'сторонник', 'стороной', 'стоун', 'стоялый', 'стоянка', 'стоять', 'стоящий', 'страдание', 'страдать', 'стража', 'страна', 'страница', 'странно', 'странность', 'странный', 'страсть', 'стратегический', 'стратегия', 'страх', 'страхов', 'страхование', 'страховка', 'страховой', 'страховщик', 'страшно', 'страшный', 'стрела', 'стрелец', 'стрелка', 'стрелковый', 'стрелок', 'стрельба', 'стрелять', 'стремительно', 'стремиться', 'стресс', 'стриженов', 'стрижка', 'стриптиз', 'стричь', 'строгий', 'строго', 'строение', 'строитель', 'строительный', 'строительство', 'строить', 'строиться', 'строй', 'стройка', 'стройность', 'стройный', 'строка', 'строчка', 'структура', 'студент', 'студентка', 'студенческий', 'студия', 'стул', 'ступень', 'стучать', 'стыд', 'стыдиться', 'стыдно', 'стюардесса', 'стяжка', 'су', 'суарес', 'суббота', 'субботний', 'субмарина', 'субсидия', 'сувенир', 'суворов', 'суворовский', 'суд', 'судак', 'судебный', 'судейство', 'судить', 'судиться', 'судно', 'судный', 'судорога', 'судьба', 'судьбоносный', 'судья', 'суеверие', 'суицид', 'сулейман', 'сулить', 'султан', 'султанша', 'сумасшедший', 'суметь', 'сумка', 'сумма', 'сумочка', 'суп', 'супер', 'супергерой', 'суперкар', 'супермаркет', 'супермен', 'супермодель', 'супруг', 'супруга', 'супружеский', 'супчик', 'сургут', 'сургутский', 'суровый', 'сустав', 'сутки', 'сухарик', 'сухогруз', 'сухой', 'сухопутный', 'сухость', 'суши', 'сушить', 'существо', 'существование', 'существовать', 'существующий', 'суэцкий', 'сфера', 'сфинкс', 'сформировать', 'сфотографировать', 'схватить', 'схватка', 'схема', 'сходить', 'сходка', 'сходство', 'сцена', 'сценарий', 'сцепление', 'счастие', 'счастливый', 'счесть', 'считать', 'считаться', 'счёт', 'счётный', 'счётчик', 'сша', 'сшить', 'съедать', 'съедобный', 'съездить', 'съесть', 'съехать', 'съёмка', 'съёмный', 'съёмочный', 'сыворотка', 'сыграть', 'сызрань', 'сыктывкар', 'сын', 'сынок', 'сыр', 'сырник', 'сырный', 'сырой', 'сытно', 'сытный', 'сэкономить', 'сюда', 'сюжет', 'сюрприз', 'сябитов', 'сёмга', 'сёмина', 'табак', 'табаков', 'таблетка', 'таблица', 'таганрог', 'тагил', 'таджикистан', 'таиланд', 'таинственный', 'таисия', 'тайга', 'тайланд', 'тайм', 'тайна', 'тайник', 'тайно', 'тайный', 'тайский', 'тайсон', 'тайфун', 'так', 'также', 'таки', 'такий', 'такой', 'такса', 'такси', 'таксист', 'тактар', 'тактик', 'тактика', 'тактический', 'талант', 'талантливый', 'талисман', 'талия', 'там', 'тамара', 'тамбов', 'тамбовский', 'таможенный', 'таможня', 'танец', 'танк', 'танкер', 'танкист', 'танковый', 'танос', 'танцевальный', 'танцевать', 'танцор', 'танцующий', 'таня', 'тапочки', 'таракан', 'таран', 'тарантино', 'тарасов', 'тарелка', 'тариф', 'таро', 'тат', 'татарин', 'татарский', 'татарстан', 'татуировка', 'татум', 'татьяна', 'тачка', 'ташкент', 'тащить', 'таять', 'таёжный', 'тбилиси', 'тв', 'тварь', 'тверская', 'тверской', 'тверь', 'твиттер', 'твой', 'творить', 'твориться', 'творог', 'творожный', 'творческий', 'творчество', 'твёрдый', 'театр', 'театральный', 'текст', 'текущий', 'телеведущая', 'телеведущий', 'телевидение', 'телевизор', 'телеканал', 'телепроект', 'телесериал', 'телескоп', 'телестройка', 'телефон', 'телефонный', 'телец', 'телешоу', 'тело', 'телохранитель', 'тем', 'тема', 'темников', 'темнокожий', 'темнота', 'темп', 'температура', 'тенденция', 'тенить', 'теннис', 'теннисистка', 'тень', 'теория', 'теперь', 'теплица', 'тепло', 'тепловоз', 'теплоход', 'теракт', 'терапия', 'тереза', 'тереть', 'терминал', 'терминатор', 'терон', 'терпение', 'терпеть', 'терраса', 'терри', 'территория', 'террор', 'терроризм', 'террорист', 'террористический', 'терять', 'тест', 'тестирование', 'тестировать', 'тесто', 'тестостерон', 'тетрадь', 'тефтели', 'техас', 'техника', 'техникум', 'технический', 'технологический', 'технология', 'техосмотр', 'течение', 'течь', 'ти', 'тиара', 'тибетский', 'тигр', 'тизер', 'тилль', 'тимати', 'тимошенко', 'тимур', 'тина', 'тинькофф', 'тип', 'типичный', 'тиски', 'титан', 'титаник', 'титул', 'тихий', 'тихо', 'тихонов', 'тишина', 'ткань', 'тнт', 'то', 'товар', 'товарищ', 'тогда', 'тодоренко', 'тоже', 'тойота', 'ток', 'токио', 'токсин', 'токсичный', 'толк', 'толкать', 'толпа', 'толстеть', 'толстоганов', 'толстой', 'толстушка', 'только', 'тольятти', 'том', 'томас', 'томат', 'томатный', 'томоса', 'томск', 'томский', 'тон', 'тональный', 'тони', 'тонировка', 'тонкий', 'тонкость', 'тонна', 'тоннель', 'тонус', 'тонуть', 'топ', 'топ10', 'топалов', 'топилина', 'топить', 'топливный', 'топливо', 'топовый', 'топор', 'топурия', 'тор', 'торг', 'торговать', 'торговец', 'торговля', 'торговый', 'тормоз', 'тормозить', 'тормозной', 'торопиться', 'торпеда', 'торт', 'тортик', 'тоска', 'тост', 'тот', 'тотальный', 'тоттенхэма', 'точка', 'точно', 'точность', 'точный', 'трава', 'травить', 'травля', 'травма', 'травматический', 'трагедия', 'трагически', 'трагический', 'традиционный', 'традиция', 'тракт', 'трактор', 'тракторист', 'трамвай', 'трамп', 'транзистор', 'транзит', 'трансляция', 'транспорт', 'транспортный', 'трансфер', 'трансферный', 'трансформация', 'трансформера', 'трасса', 'трата', 'тратить', 'траур', 'трафик', 'требование', 'требовать', 'требоваться', 'тревога', 'тревожный', 'трезвый', 'трейдер', 'трейлер', 'трек', 'тренажерный', 'тренажёр', 'тренд', 'тренер', 'тренерский', 'тренировать', 'тренироваться', 'тренировка', 'тренировочный', 'треск', 'треснуть', 'треть', 'третье', 'треугольник', 'трехлетний', 'трещина', 'три', 'трибуна', 'тридцать', 'трижды', 'триллер', 'триллион', 'триумф', 'трогательно', 'трогательный', 'трогать', 'трое', 'тройка', 'тройной', 'троллейбус', 'тролль', 'тромб', 'трон', 'тропический', 'тротуар', 'трофей', 'трофейный', 'труба', 'трубка', 'трубочка', 'труд', 'трудно', 'трудность', 'трудный', 'трудовой', 'трудоустройство', 'труп', 'трус', 'трусов', 'трюк', 'тряпка', 'трёшка', 'ттх', 'туалет', 'туалетный', 'туапсе', 'туберкулёз', 'туда', 'туктамышев', 'тула', 'тульский', 'туман', 'тунец', 'туннель', 'тупик', 'тупой', 'тур', 'турбомотор', 'турецкий', 'туризм', 'турист', 'туристический', 'туристка', 'туркменистан', 'туркмения', 'турник', 'турнир', 'турнирный', 'турок', 'туроператор', 'турция', 'тут', 'тутберидзе', 'туфля', 'тухугов', 'тушить', 'тушь', 'тушёнка', 'тушёный', 'тц', 'ты', 'тыква', 'тыквенный', 'тыл', 'тысяча', 'тьма', 'тюльпан', 'тюменец', 'тюменский', 'тюмень', 'тюнинг', 'тюремный', 'тюрьма', 'тяга', 'тягач', 'тяжело', 'тяжесть', 'тяжкий', 'тяжёлый', 'тянуть', 'тёмный', 'тёплый', 'тётка', 'тётя', 'тёща', 'уаз', 'уайлдёр', 'уайт', 'убегать', 'убедить', 'убежать', 'убеждение', 'убежище', 'уберечь', 'убивать', 'убийство', 'убийца', 'убирать', 'убитый', 'убить', 'убойный', 'убор', 'уборка', 'уборщица', 'убрать', 'убыток', 'уважаемый', 'уважать', 'уважение', 'уведомление', 'увезти', 'увеличение', 'увеличивать', 'увеличить', 'увеличиться', 'уверенно', 'уверенность', 'уверенный', 'уверить', 'увести', 'увидеть', 'увлажнять', 'увлекательный', 'увлечение', 'уволить', 'уволиться', 'увольнение', 'увольнять', 'увольняться', 'угадать', 'угарный', 'углевод', 'угловой', 'угнать', 'уговорить', 'угодить', 'угодный', 'угол', 'уголовник', 'уголовный', 'уголок', 'уголь', 'угон', 'угробить', 'угрожать', 'угроза', 'удаваться', 'удаление', 'удалить', 'удалять', 'удалённый', 'удар', 'ударение', 'ударить', 'ударный', 'удаться', 'удача', 'удачливый', 'удачно', 'удачный', 'удержать', 'удерживать', 'удивительно', 'удивительный', 'удивить', 'удивиться', 'удивление', 'удивлять', 'удивляться', 'удивлённый', 'удлинённый', 'удмуртия', 'удобно', 'удобный', 'удобрение', 'удовольствие', 'удостоверение', 'удочка', 'удэ', 'уезжать', 'уефа', 'уехать', 'уж', 'ужас', 'ужасающий', 'ужасно', 'ужасный', 'ужастик', 'уже', 'ужесточение', 'ужесточить', 'ужин', 'узаконить', 'узбек', 'узбекистан', 'узбекский', 'узел', 'узи', 'узкий', 'узнавать', 'узнать', 'узор', 'уик', 'уилла', 'уильям', 'уильямс', 'уйти', 'ук', 'указ', 'указать', 'указывать', 'укладка', 'укол', 'укоротить', 'украина', 'украинец', 'украинка', 'украинск', 'украинский', 'украины', 'украсить', 'украсть', 'украшать', 'украшение', 'укрепить', 'укрепление', 'укреплять', 'укроп', 'укрывать', 'укрытие', 'укрыть', 'уксус', 'укус', 'ул', 'улан', 'улететь', 'улитка', 'улица', 'уличить', 'уличный', 'улов', 'уловистый', 'уловка', 'уложить', 'улучшать', 'улучшение', 'улучшить', 'улыбаться', 'улыбка', 'улыбнуться', 'ультиматум', 'ульяновск', 'ульяновский', 'ульяновца', 'улётный', 'ум', 'умвд', 'умелец', 'умение', 'уменьшать', 'уменьшить', 'умереть', 'умерший', 'уметь', 'умирать', 'умный', 'умолять', 'уморительный', 'унести', 'универ', 'универсал', 'универсальный', 'университет', 'унижать', 'унижение', 'унизительный', 'унизить', 'уникальный', 'унитаз', 'уничтожать', 'уничтожение', 'уничтожить', 'унылый', 'упадок', 'упаковка', 'упасть', 'уплата', 'употребление', 'употреблять', 'управление', 'управлять', 'упражнение', 'упростить', 'упрямый', 'упустить', 'упц', 'ура', 'ураган', 'урал', 'уралец', 'уральский', 'уран', 'ургант', 'урегулирование', 'урезать', 'уровень', 'уродливый', 'урожай', 'уроженец', 'урок', 'уронить', 'уса', 'усадьба', 'усик', 'усиление', 'усилие', 'усилитель', 'усилить', 'ускорение', 'ускорить', 'ускорять', 'условие', 'условный', 'услуга', 'услышать', 'усманов', 'уснуть', 'усомниться', 'успевать', 'успенский', 'успеть', 'успех', 'успешно', 'успешный', 'успокоить', 'успокоиться', 'уста', 'усталость', 'устанавливать', 'установить', 'установка', 'установленный', 'устаревший', 'устать', 'устиненко', 'устинов', 'устойчивый', 'устоять', 'устраивать', 'устранение', 'устранить', 'устранять', 'устроенный', 'устроить', 'устроиться', 'устройство', 'уступать', 'уступить', 'уступка', 'усыновить', 'утвердить', 'утверждать', 'утепление', 'утеплитель', 'утеплить', 'утеплять', 'утепляться', 'утечка', 'утка', 'уткин', 'утонуть', 'утопить', 'уточнить', 'утратить', 'утренний', 'утро', 'утром', 'утюг', 'утяшева', 'утёнок', 'уфа', 'уфимец', 'уфимский', 'уфсб', 'уфсин', 'уха', 'ухаживать', 'ухо', 'уход', 'уходить', 'ухудшение', 'участвовать', 'участие', 'участковый', 'участник', 'участница', 'участок', 'участь', 'учебник', 'учебный', 'учение', 'ученик', 'ученица', 'учесть', 'училище', 'учитель', 'учительница', 'учить', 'учиться', 'учреждение', 'учёба', 'учёный', 'учёт', 'ушаков', 'ушанка', 'ушко', 'ущелие', 'ущерб', 'уэст', 'уют', 'уютный', 'уязвимость', 'ф1', 'фабио', 'фабрика', 'фаворит', 'фадеев', 'фаза', 'файл', 'факт', 'фактор', 'фальшивый', 'фамилия', 'фанат', 'фанатский', 'фанера', 'фантазия', 'фантастика', 'фантастический', 'фаны', 'фара', 'фараон', 'фартук', 'фарш', 'фаршированный', 'фас', 'фасад', 'фасоль', 'фасон', 'фастфуд', 'фатальный', 'фатеев', 'фашизм', 'фашист', 'фашистский', 'фбр', 'фг', 'февраль', 'федеральный', 'федерация', 'федерер', 'федора', 'федун', 'фейк', 'фейсбук', 'феминизм', 'феминистка', 'фен', 'феникс', 'феномен', 'феноменальный', 'фергюсон', 'ферма', 'фермер', 'фернандес', 'фернандеш', 'фернандо', 'ферстаппный', 'фестиваль', 'феттель', 'феттеля', 'фея', 'фз', 'фиалка', 'фиаско', 'фигура', 'фигурант', 'фигурист', 'фигуристка', 'фигурный', 'фидер', 'фиджи', 'физик', 'физика', 'физический', 'физкультура', 'физлицо', 'фикс', 'фиксация', 'фиксировать', 'фикспрайс', 'фиктивный', 'филарет', 'филе', 'филипп', 'филиппина', 'философия', 'фильм', 'фильмография', 'фильтр', 'финал', 'финалист', 'финальный', 'финансирование', 'финансовый', 'финансы', 'финляндия', 'финн', 'финский', 'фиолетовый', 'фирма', 'фирменный', 'фитнес', 'фитоняшка', 'фифа', 'фишка', 'фк', 'флаг', 'флагман', 'флагманский', 'флешек', 'флешмоб', 'флирт', 'флиртовать', 'флойд', 'флойда', 'флойдом', 'флорида', 'флот', 'фнл', 'фнс', 'фобия', 'фокус', 'фолловера', 'фольга', 'фомс', 'фон', 'фонарь', 'фонд', 'фондовый', 'фонтан', 'форвард', 'форд', 'форель', 'форма', 'формат', 'формирование', 'формировать', 'формула', 'форсажа', 'форум', 'фосфор', 'фотка', 'фото', 'фотоаппарат', 'фотогалерея', 'фотограф', 'фотографировать', 'фотография', 'фотомодель', 'фотоподборка', 'фоторепортаж', 'фоторецепт', 'фотосессия', 'фотофакт', 'фотошоп', 'фрагмент', 'фраза', 'фракция', 'франция', 'француженка', 'француз', 'французски', 'французский', 'франшиза', 'фрг', 'фрегат', 'фредди', 'фрик', 'фрикаделька', 'фриска', 'фронт', 'фронтовик', 'фрс', 'фрукт', 'фруктовый', 'фсб', 'фсин', 'фу', 'фундамент', 'функциональный', 'функция', 'фунт', 'фура', 'фургал', 'фурор', 'футбол', 'футболист', 'футболка', 'футбольный', 'фьюри', 'фэнтези', 'фюрер', 'фёдор', 'фёдоров', 'хабаровск', 'хабаровский', 'хаббл', 'хабенский', 'хабиб', 'хабир', 'хабиров', 'хадид', 'хазин', 'хайп', 'хайти', 'хакасия', 'хакер', 'халат', 'халатность', 'халк', 'халка', 'халява', 'хамит', 'хамитовый', 'хамство', 'хан', 'хандра', 'ханна', 'хантереть', 'ханя', 'хаос', 'характер', 'характеристика', 'харди', 'харизма', 'харитон', 'харламов', 'харли', 'харьков', 'хаск', 'хахалев', 'хахалева', 'хачан', 'хачапури', 'хачатурян', 'хашкаджи', 'хашогга', 'хашукджи', 'хвалить', 'хватать', 'хватить', 'хвойный', 'хвост', 'хейль', 'хейтеры', 'хеллоуин', 'хельсинки', 'хенд', 'херсон', 'хилькевич', 'химик', 'химический', 'химия', 'хинштейн', 'хирург', 'хирургия', 'хит', 'хитрость', 'хитрый', 'хищение', 'хищник', 'хлам', 'хлеб', 'хлебников', 'хлебный', 'хлопок', 'хлопоты', 'хмао', 'хмеймим', 'хобби', 'ход', 'ходить', 'ходорковский', 'ходченков', 'ходьба', 'ходячий', 'хозяин', 'хозяйка', 'хозяйственный', 'хозяйство', 'хокинг', 'хоккеист', 'хоккей', 'хоккейный', 'холестерин', 'холмс', 'холод', 'холодец', 'холодильник', 'холодное', 'холодный', 'холостяк', 'хорватия', 'хоронить', 'хорошеть', 'хороший', 'хорошо', 'хоррор', 'хота', 'хотеть', 'хотеться', 'хоть', 'хотя', 'храбрый', 'храм', 'хранение', 'хранилище', 'хранитель', 'хранить', 'храниться', 'хрен', 'хризантема', 'христос', 'хроника', 'хронический', 'хронология', 'хрупкий', 'хрустальный', 'хрустеть', 'хрущев', 'хрущёвка', 'хуг', 'худеть', 'худо', 'художественный', 'художник', 'художница', 'худой', 'хулиган', 'хулиганство', 'хургад', 'хурма', 'хх', 'хью', 'хэви', 'хэллоуин', 'хэмилтон', 'хэтчбек', 'хюррем', 'цар', 'царапина', 'царица', 'царский', 'царство', 'царь', 'цб', 'цвести', 'цвет', 'цвета', 'цветение', 'цветник', 'цветной', 'цветовой', 'цветок', 'цветочный', 'цветущий', 'целебный', 'целлюлита', 'целовать', 'целоваться', 'целое', 'целый', 'цель', 'цена', 'цензура', 'ценить', 'ценник', 'ценность', 'ценный', 'ценовый', 'центр', 'центральный', 'центробанк', 'цеповяз', 'цепь', 'церемония', 'церковный', 'церковь', 'цех', 'цивилизация', 'цик', 'цикл', 'циклон', 'цири', 'цирк', 'цирковой', 'цитата', 'цифра', 'цифровой', 'цой', 'цру', 'цска', 'цунами', 'цфо', 'цыган', 'цыганка', 'цыганов', 'цыганский', 'цымбалюк', 'цыплёнок', 'чаевой', 'чай', 'чайка', 'чайник', 'чайный', 'чал', 'чалов', 'чарли', 'чарльз', 'чартер', 'час', 'часовой', 'частица', 'частично', 'частное', 'частный', 'часто', 'частота', 'частый', 'часть', 'частью', 'часы', 'чат', 'чашка', 'чаща', 'чаять', 'чвк', 'че', 'чебоксары', 'чебурек', 'чей', 'чейл', 'чек', 'челны', 'чело', 'человек', 'человеческий', 'человечество', 'челси', 'челюсть', 'челябинец', 'челябинск', 'челябинский', 'чем', 'чемодан', 'чемпион', 'чемпионат', 'чемпионка', 'чемпионский', 'чемпионство', 'чен', 'ченнинга', 'чепиг', 'чепиго', 'черви', 'червиченко', 'червь', 'чердак', 'через', 'черенок', 'череп', 'черепаха', 'череповец', 'черкасов', 'чернигов', 'черно', 'чернобыль', 'чернобыльский', 'чернов', 'черногория', 'чернокожий', 'черноморский', 'чернослив', 'черта', 'чертёж', 'черчесова', 'черчёс', 'черышева', 'чеснок', 'чесночный', 'честно', 'честной', 'честность', 'честный', 'честь', 'четверг', 'четверо', 'четверть', 'четвёрка', 'четыре', 'четырехлетний', 'чех', 'чехия', 'чехов', 'чехол', 'чеченец', 'чеченский', 'чечня', 'чешский', 'чикаго', 'чили', 'чин', 'чингисхан', 'чиновник', 'чиновница', 'чип', 'чипсы', 'численность', 'число', 'чистить', 'чистка', 'чисто', 'чистота', 'чистый', 'чита', 'читаемый', 'читатель', 'читать', 'чихуахуа', 'член', 'чм', 'чп', 'чрезмерный', 'чтение', 'что', 'чтоб', 'чтобы', 'чубайс', 'чувашия', 'чувство', 'чувствовать', 'чудесный', 'чудный', 'чудо', 'чудовище', 'чудовищный', 'чудом', 'чужое', 'чужой', 'чукотка', 'чулок', 'чума', 'чумаков', 'чурикова', 'чуть', 'чушь', 'чёлка', 'чёрный', 'чёрт', 'чёртик', 'чёткий', 'шабарин', 'шаблон', 'шаг', 'шайба', 'шалюковый', 'шаляпин', 'шампанский', 'шампиньон', 'шампунь', 'шанс', 'шантаж', 'шантажировать', 'шапито', 'шапка', 'шапочка', 'шар', 'шарапов', 'шарик', 'шарлиз', 'шарлотка', 'шарлотта', 'шарль', 'шарм', 'шарф', 'шасси', 'шаурм', 'шахматный', 'шахта', 'шахтёр', 'шашлык', 'шварценеггер', 'швед', 'шведский', 'швейный', 'швейцария', 'швейцарский', 'швеция', 'шева', 'шевченко', 'шедевр', 'шеин', 'шейк', 'шейный', 'шейх', 'шелуха', 'шепелевый', 'шереметьево', 'шерлок', 'шерсть', 'шестеро', 'шестилетний', 'шесть', 'шеф', 'шехзад', 'шея', 'шизофрения', 'шик', 'шикарно', 'шикарный', 'шина', 'шип', 'шиповать', 'шиповник', 'шипулина', 'шипы', 'широкий', 'шить', 'шишка', 'шкала', 'шкатулка', 'шкаф', 'школа', 'школьник', 'школьница', 'школьный', 'шкура', 'шлагбаум', 'шлем', 'шлеменко', 'шляпа', 'шнур', 'шнуров', 'шов', 'шойгу', 'шок', 'шокировать', 'шоколад', 'шоколадный', 'шопинга', 'шоппинг', 'шорты', 'шоссе', 'шотландский', 'шоу', 'шпагат', 'шпаргалка', 'шпилька', 'шпион', 'шпиц', 'шпрот', 'шрам', 'шри', 'штаб', 'штанга', 'штаны', 'штат', 'штатный', 'штельмах', 'штора', 'шторм', 'штормовой', 'штраф', 'штрафной', 'штрафовать', 'штука', 'штурм', 'штурмовать', 'штурмовик', 'штучка', 'штырковы', 'шуба', 'шуй', 'шукшин', 'шум', 'шумахер', 'шумный', 'шуруповерт', 'шутер', 'шутереть', 'шутить', 'шутка', 'шэрон', 'шёлковый', 'щедрый', 'щека', 'щелково', 'щель', 'щенок', 'щербаков', 'щи', 'щит', 'щитовидный', 'щука', 'щётка', 'ых', 'эвакуатор', 'эвакуация', 'эвакуировать', 'эвелина', 'эволюция', 'эгоизм', 'эдди', 'эдуард', 'эй', 'эйнштейн', 'экзамен', 'экземпляр', 'экзотика', 'экзотический', 'экипаж', 'экипировка', 'эко', 'экологический', 'экология', 'эконом', 'экономика', 'экономист', 'экономить', 'экономический', 'экономичный', 'экономия', 'экономно', 'экономный', 'экран', 'экранизация', 'экс', 'эксить', 'экскаватор', 'эксклюзив', 'эксклюзивный', 'экскурсия', 'экспедиция', 'эксперимент', 'эксперт', 'экспертиза', 'эксплуатация', 'экспонат', 'экспорт', 'экспортный', 'экспресс', 'экстрасенс', 'экстрасенсов', 'экстремальный', 'экстремизм', 'экстренно', 'экстренный', 'эл', 'элджей', 'элегантный', 'электрик', 'электрический', 'электричество', 'электричка', 'электрокар', 'электромобиль', 'электроника', 'электронный', 'электростанция', 'электроэнергия', 'элемент', 'элементарный', 'элизабет', 'эликсир', 'элина', 'элита', 'элитный', 'эль', 'эльвира', 'эмбер', 'эмигрант', 'эмиграция', 'эмигрировать', 'эмилий', 'эмиль', 'эмма', 'эмоциональный', 'эмоция', 'энд', 'энергетика', 'энергетический', 'энергия', 'энергопотребление', 'энистон', 'энрике', 'энтони', 'эпатажный', 'эпидемия', 'эпизод', 'эпичный', 'эпоха', 'эр', 'эра', 'эрдогана', 'эрдогать', 'эрик', 'эротический', 'эрудиция', 'эскалатор', 'эсминец', 'эстония', 'эстонский', 'эстрада', 'этаж', 'этап', 'этикет', 'это', 'этот', 'этый', 'эфир', 'эфирный', 'эффект', 'эффективно', 'эффективность', 'эффективный', 'эффектный', 'эх', 'эхо', 'эш', 'эшли', 'юань', 'юар', 'юбилей', 'юбилейный', 'юбка', 'ювелирный', 'ювентус', 'юг', 'юго', 'югославия', 'югра', 'юдашкина', 'южный', 'юлий', 'юлия', 'юля', 'юмор', 'юморист', 'юнайтед', 'юность', 'юноша', 'юношеский', 'юный', 'юпитер', 'юридический', 'юрий', 'юрист', 'ющенко', 'яббаров', 'яблоко', 'яблоня', 'яблочный', 'явиться', 'явление', 'являться', 'явно', 'явный', 'яга', 'ягода', 'ягодица', 'ягодный', 'яд', 'ядерный', 'ядовитый', 'ядро', 'язва', 'язык', 'яичница', 'яичный', 'яйцо', 'як', 'якобы', 'яков', 'яковлев', 'якутия', 'якутск', 'якутский', 'ялта', 'ям', 'ямал', 'ямальский', 'ян', 'январь', 'яндекс', 'янковский', 'янтарный', 'янукович', 'японец', 'япония', 'японка', 'японский', 'яркий', 'ярко', 'ярмарка', 'ярмольник', 'яров', 'яровой', 'ярослав', 'ярославец', 'ярославль', 'ярославский', 'ярость', 'ярош', 'ясно', 'яхта', 'ящик', 'ёжик', 'ёлка', 'ёмкий', 'ёмкость']\n"
          ],
          "name": "stdout"
        }
      ]
    },
    {
      "cell_type": "code",
      "metadata": {
        "id": "lCKjCaLlC59Z",
        "colab_type": "code",
        "colab": {}
      },
      "source": [
        "# # we could also extracted N-grams as features \n",
        "# vectorizer2 = CountVectorizer(analyzer='word', ngram_range=(2, 2))\n",
        "# titles_ngrams2 = vectorizer2.fit_transform(items.title)\n",
        "# # print(vectorizer2.get_feature_names())"
      ],
      "execution_count": 0,
      "outputs": []
    },
    {
      "cell_type": "code",
      "metadata": {
        "id": "us9Z5je_mCPb",
        "colab_type": "code",
        "colab": {}
      },
      "source": [
        "# TfidfVectorizer normalizes results \n",
        "from sklearn.feature_extraction.text import TfidfVectorizer"
      ],
      "execution_count": 0,
      "outputs": []
    },
    {
      "cell_type": "code",
      "metadata": {
        "id": "MCVjyr0XD-7d",
        "colab_type": "code",
        "colab": {}
      },
      "source": [
        "vect_title = TfidfVectorizer()\n",
        "titles_vectorized = vect_title.fit_transform(no_stops[\"titles_s\"].values.astype('str'))"
      ],
      "execution_count": 0,
      "outputs": []
    },
    {
      "cell_type": "code",
      "metadata": {
        "id": "22d9SP-ptGeA",
        "colab_type": "code",
        "colab": {}
      },
      "source": [
        "vect_content = TfidfVectorizer()\n",
        "content_vectorized = vect_content.fit_transform(no_stops[\"contents_s\"].values.astype(\"str\"))"
      ],
      "execution_count": 0,
      "outputs": []
    },
    {
      "cell_type": "code",
      "metadata": {
        "id": "JWbA1LECiWO5",
        "colab_type": "code",
        "colab": {}
      },
      "source": [
        "sample=pd.read_csv('random_benchmark.csv')"
      ],
      "execution_count": 0,
      "outputs": []
    },
    {
      "cell_type": "code",
      "metadata": {
        "id": "79V_B256i778",
        "colab_type": "code",
        "outputId": "df33e2a8-56af-4c8f-c102-dd8098142239",
        "colab": {
          "base_uri": "https://localhost:8080/",
          "height": 111
        }
      },
      "source": [
        "sample.head(2)"
      ],
      "execution_count": 0,
      "outputs": [
        {
          "output_type": "execute_result",
          "data": {
            "text/html": [
              "<div>\n",
              "<style scoped>\n",
              "    .dataframe tbody tr th:only-of-type {\n",
              "        vertical-align: middle;\n",
              "    }\n",
              "\n",
              "    .dataframe tbody tr th {\n",
              "        vertical-align: top;\n",
              "    }\n",
              "\n",
              "    .dataframe thead th {\n",
              "        text-align: right;\n",
              "    }\n",
              "</style>\n",
              "<table border=\"1\" class=\"dataframe\">\n",
              "  <thead>\n",
              "    <tr style=\"text-align: right;\">\n",
              "      <th></th>\n",
              "      <th>userId</th>\n",
              "      <th>itemId</th>\n",
              "    </tr>\n",
              "  </thead>\n",
              "  <tbody>\n",
              "    <tr>\n",
              "      <th>0</th>\n",
              "      <td>1</td>\n",
              "      <td>242249</td>\n",
              "    </tr>\n",
              "    <tr>\n",
              "      <th>1</th>\n",
              "      <td>1</td>\n",
              "      <td>117266</td>\n",
              "    </tr>\n",
              "  </tbody>\n",
              "</table>\n",
              "</div>"
            ],
            "text/plain": [
              "   userId  itemId\n",
              "0       1  242249\n",
              "1       1  117266"
            ]
          },
          "metadata": {
            "tags": []
          },
          "execution_count": 22
        }
      ]
    },
    {
      "cell_type": "code",
      "metadata": {
        "id": "udkPDt0-i9M0",
        "colab_type": "code",
        "colab": {}
      },
      "source": [
        ""
      ],
      "execution_count": 0,
      "outputs": []
    },
    {
      "cell_type": "code",
      "metadata": {
        "id": "heSBAkiM_4VJ",
        "colab_type": "code",
        "outputId": "088a5499-cb80-4883-e514-d234bcf67932",
        "colab": {
          "base_uri": "https://localhost:8080/",
          "height": 66,
          "referenced_widgets": [
            "e28adac029ce4933b19a39df673ae934",
            "d467e458f16847ab93564c29ee8f4578",
            "2913ea6f01b546bd8c2edcad5e4135da",
            "b5f3f472892b4e4ba172370d02342e6f",
            "e294d1db23494d508e1376ace5585831",
            "31c05e5d021748febcef31e9096841bd",
            "ec4a4307db5d4018a08fd1fc613adbab",
            "0039badf897342559f04ff359e8c66bc"
          ]
        }
      },
      "source": [
        "# As lightfm has a coo-sparse matrix as an input, we should convert our data \n",
        "\n",
        "# https://stackoverflow.com/questions/57346498/transforming-json-into-coo-sparse-matrix-in-python \n",
        "\n",
        "users = {}\n",
        "items = {}\n",
        "\n",
        "data = [] # non-zero values in matrix  \n",
        "items_ind = [] #row indices  \n",
        "users_ind = [] #column indices  \n",
        "num = 0   \n",
        "us = 0\n",
        "with tqdm(open(\"./train.json\")) as file:   \n",
        "  for line in file:  \n",
        "    j_line = json.loads(line)  \n",
        "\n",
        "    for item, rating in j_line[\"trainRatings\"].items(): #going through extracted values\n",
        "      items_ind.append(int(item))\n",
        "      data.append((-1) ** (int(rating) + 1))    \n",
        "      users_ind.append(int(num))  \n",
        "    num+=1"
      ],
      "execution_count": 16,
      "outputs": [
        {
          "output_type": "display_data",
          "data": {
            "application/vnd.jupyter.widget-view+json": {
              "model_id": "e28adac029ce4933b19a39df673ae934",
              "version_minor": 0,
              "version_major": 2
            },
            "text/plain": [
              "HBox(children=(IntProgress(value=1, bar_style='info', max=1), HTML(value='')))"
            ]
          },
          "metadata": {
            "tags": []
          }
        },
        {
          "output_type": "stream",
          "text": [
            "\n"
          ],
          "name": "stdout"
        }
      ]
    },
    {
      "cell_type": "code",
      "metadata": {
        "id": "b7FEWFECCUXl",
        "colab_type": "code",
        "outputId": "bc0ca1d5-8fd2-4931-9c78-ea0368433bdc",
        "colab": {
          "base_uri": "https://localhost:8080/",
          "height": 34
        }
      },
      "source": [
        "print(num)"
      ],
      "execution_count": 0,
      "outputs": [
        {
          "output_type": "stream",
          "text": [
            "2489\n"
          ],
          "name": "stdout"
        }
      ]
    },
    {
      "cell_type": "code",
      "metadata": {
        "id": "0gHT8GAIB6_c",
        "colab_type": "code",
        "colab": {}
      },
      "source": [
        "# creating COO sparse matrix from 3 arrays \n",
        "train_data=coo_matrix((data,(users_ind, items_ind)))"
      ],
      "execution_count": 0,
      "outputs": []
    },
    {
      "cell_type": "code",
      "metadata": {
        "id": "rCohAGCrrXrd",
        "colab_type": "code",
        "outputId": "a8420b75-8f28-4138-fa9a-0286f068377d",
        "colab": {
          "base_uri": "https://localhost:8080/",
          "height": 34
        }
      },
      "source": [
        "train_data.shape "
      ],
      "execution_count": 19,
      "outputs": [
        {
          "output_type": "execute_result",
          "data": {
            "text/plain": [
              "(42977, 328050)"
            ]
          },
          "metadata": {
            "tags": []
          },
          "execution_count": 19
        }
      ]
    },
    {
      "cell_type": "code",
      "metadata": {
        "id": "geeA4GHG9uv6",
        "colab_type": "code",
        "outputId": "a33de161-ff12-4743-bbe6-a58540bd2f36",
        "colab": {
          "base_uri": "https://localhost:8080/",
          "height": 68
        }
      },
      "source": [
        "# matrix info. seems legit!  \n",
        "\n",
        "print(\"User-item interactions matrix shape is: {}\".format(train_data.shape))\n",
        "print(\"Non-zero values: {}\".format(train_data.nnz))\n",
        "print(\"Share of non-zero values: {}\".format(train_data.nnz / train_data.shape[0] / train_data.shape[1]))"
      ],
      "execution_count": 0,
      "outputs": [
        {
          "output_type": "stream",
          "text": [
            "User-item interactions matrix shape is: (42976, 328050)\n",
            "Non-zero values: 6714489\n",
            "Share of non-zero values: 0.00047626309904767934\n"
          ],
          "name": "stdout"
        }
      ]
    },
    {
      "cell_type": "code",
      "metadata": {
        "id": "NyRAs-TpA_Fi",
        "colab_type": "code",
        "outputId": "5c1f9b12-1c1b-4119-f667-7e9f4cf2a13f",
        "colab": {
          "base_uri": "https://localhost:8080/",
          "height": 884
        }
      },
      "source": [
        "print(train_data)"
      ],
      "execution_count": 0,
      "outputs": [
        {
          "output_type": "stream",
          "text": [
            "  (0, 180165)\t0\n",
            "  (0, 286761)\t1\n",
            "  (0, 127012)\t1\n",
            "  (0, 117072)\t0\n",
            "  (0, 86362)\t0\n",
            "  (0, 4023)\t0\n",
            "  (0, 165772)\t0\n",
            "  (0, 323309)\t0\n",
            "  (0, 206875)\t0\n",
            "  (0, 195382)\t0\n",
            "  (0, 51285)\t0\n",
            "  (0, 130646)\t0\n",
            "  (0, 241457)\t0\n",
            "  (0, 324148)\t0\n",
            "  (0, 75541)\t0\n",
            "  (0, 181162)\t0\n",
            "  (0, 266283)\t0\n",
            "  (0, 61514)\t0\n",
            "  (0, 30447)\t0\n",
            "  (0, 223325)\t0\n",
            "  (0, 262038)\t0\n",
            "  (0, 84861)\t0\n",
            "  (0, 205115)\t0\n",
            "  (0, 173150)\t0\n",
            "  (0, 46138)\t0\n",
            "  :\t:\n",
            "  (4348, 33587)\t0\n",
            "  (4348, 237668)\t0\n",
            "  (4348, 320886)\t0\n",
            "  (4348, 246442)\t0\n",
            "  (4348, 283707)\t0\n",
            "  (4348, 12808)\t0\n",
            "  (4348, 229806)\t0\n",
            "  (4348, 322019)\t0\n",
            "  (4348, 272165)\t0\n",
            "  (4348, 127275)\t0\n",
            "  (4348, 255029)\t0\n",
            "  (4348, 315502)\t0\n",
            "  (4348, 95956)\t0\n",
            "  (4348, 27757)\t0\n",
            "  (4348, 300760)\t0\n",
            "  (4348, 141034)\t0\n",
            "  (4348, 23594)\t0\n",
            "  (4348, 237742)\t0\n",
            "  (4348, 187039)\t0\n",
            "  (4348, 282766)\t0\n",
            "  (4348, 212700)\t0\n",
            "  (4348, 113138)\t0\n",
            "  (4348, 198779)\t0\n",
            "  (4348, 125091)\t0\n",
            "  (4348, 290905)\t0\n"
          ],
          "name": "stdout"
        }
      ]
    },
    {
      "cell_type": "code",
      "metadata": {
        "id": "PSr83I-aDM2u",
        "colab_type": "code",
        "colab": {}
      },
      "source": [
        "from scipy.sparse import hstack, identity\n",
        "item_features = hstack([titles_vectorized, content_vectorized], format=\"csr\")"
      ],
      "execution_count": 0,
      "outputs": []
    },
    {
      "cell_type": "code",
      "metadata": {
        "id": "D-bqqRRZK86J",
        "colab_type": "code",
        "outputId": "700c1701-c09f-4d46-a7d4-4cc6a506ef12",
        "colab": {
          "base_uri": "https://localhost:8080/",
          "height": 34
        }
      },
      "source": [
        "item_features.shape "
      ],
      "execution_count": 25,
      "outputs": [
        {
          "output_type": "execute_result",
          "data": {
            "text/plain": [
              "(328050, 666546)"
            ]
          },
          "metadata": {
            "tags": []
          },
          "execution_count": 25
        }
      ]
    },
    {
      "cell_type": "code",
      "metadata": {
        "id": "-s8bulZt7eIh",
        "colab_type": "code",
        "colab": {
          "base_uri": "https://localhost:8080/",
          "height": 34
        },
        "outputId": "ee526cf3-5198-4ce5-ef76-e9009a0f0f91"
      },
      "source": [
        "type(content_vectorized)"
      ],
      "execution_count": 8,
      "outputs": [
        {
          "output_type": "execute_result",
          "data": {
            "text/plain": [
              "scipy.sparse.csr.csr_matrix"
            ]
          },
          "metadata": {
            "tags": []
          },
          "execution_count": 8
        }
      ]
    },
    {
      "cell_type": "code",
      "metadata": {
        "id": "e7wxQbLOCUCh",
        "colab_type": "code",
        "outputId": "629c0633-050f-4e25-ed4a-0eba6757e586",
        "colab": {
          "base_uri": "https://localhost:8080/",
          "height": 173
        }
      },
      "source": [
        "pip install lightfm"
      ],
      "execution_count": 21,
      "outputs": [
        {
          "output_type": "stream",
          "text": [
            "Requirement already satisfied: lightfm in /usr/local/lib/python3.6/dist-packages (1.15)\n",
            "Requirement already satisfied: scipy>=0.17.0 in /usr/local/lib/python3.6/dist-packages (from lightfm) (1.4.1)\n",
            "Requirement already satisfied: requests in /usr/local/lib/python3.6/dist-packages (from lightfm) (2.21.0)\n",
            "Requirement already satisfied: numpy in /usr/local/lib/python3.6/dist-packages (from lightfm) (1.17.5)\n",
            "Requirement already satisfied: chardet<3.1.0,>=3.0.2 in /usr/local/lib/python3.6/dist-packages (from requests->lightfm) (3.0.4)\n",
            "Requirement already satisfied: certifi>=2017.4.17 in /usr/local/lib/python3.6/dist-packages (from requests->lightfm) (2019.11.28)\n",
            "Requirement already satisfied: urllib3<1.25,>=1.21.1 in /usr/local/lib/python3.6/dist-packages (from requests->lightfm) (1.24.3)\n",
            "Requirement already satisfied: idna<2.9,>=2.5 in /usr/local/lib/python3.6/dist-packages (from requests->lightfm) (2.8)\n"
          ],
          "name": "stdout"
        }
      ]
    },
    {
      "cell_type": "code",
      "metadata": {
        "id": "LUYmwvipPrkx",
        "colab_type": "code",
        "colab": {}
      },
      "source": [
        "import lightfm \n",
        "model=lightfm.LightFM(loss='logistic',random_state=42)"
      ],
      "execution_count": 0,
      "outputs": []
    },
    {
      "cell_type": "code",
      "metadata": {
        "id": "2_FIOW8H7GNI",
        "colab_type": "code",
        "colab": {}
      },
      "source": [
        "import time   "
      ],
      "execution_count": 0,
      "outputs": []
    },
    {
      "cell_type": "code",
      "metadata": {
        "colab_type": "code",
        "id": "fjfGsj4DOh7a",
        "colab": {}
      },
      "source": [
        "%%time \n",
        "start = time.time() \n",
        "model.fit_partial(train_data, item_features=item_features, epochs=10)\n",
        "  \n",
        "print(\"We built LightFM in {} seconds\".format(time.time() - start))"
      ],
      "execution_count": 0,
      "outputs": []
    },
    {
      "cell_type": "code",
      "metadata": {
        "id": "lzj68k-zhj3m",
        "colab_type": "code",
        "outputId": "f1c797bb-53dc-42d1-df63-e57986de4d27",
        "colab": {
          "base_uri": "https://localhost:8080/",
          "height": 419
        }
      },
      "source": [
        "sample"
      ],
      "execution_count": 0,
      "outputs": [
        {
          "output_type": "execute_result",
          "data": {
            "text/html": [
              "<div>\n",
              "<style scoped>\n",
              "    .dataframe tbody tr th:only-of-type {\n",
              "        vertical-align: middle;\n",
              "    }\n",
              "\n",
              "    .dataframe tbody tr th {\n",
              "        vertical-align: top;\n",
              "    }\n",
              "\n",
              "    .dataframe thead th {\n",
              "        text-align: right;\n",
              "    }\n",
              "</style>\n",
              "<table border=\"1\" class=\"dataframe\">\n",
              "  <thead>\n",
              "    <tr style=\"text-align: right;\">\n",
              "      <th></th>\n",
              "      <th>userId</th>\n",
              "      <th>itemId</th>\n",
              "    </tr>\n",
              "  </thead>\n",
              "  <tbody>\n",
              "    <tr>\n",
              "      <th>0</th>\n",
              "      <td>1</td>\n",
              "      <td>242249</td>\n",
              "    </tr>\n",
              "    <tr>\n",
              "      <th>1</th>\n",
              "      <td>1</td>\n",
              "      <td>117266</td>\n",
              "    </tr>\n",
              "    <tr>\n",
              "      <th>2</th>\n",
              "      <td>1</td>\n",
              "      <td>123441</td>\n",
              "    </tr>\n",
              "    <tr>\n",
              "      <th>3</th>\n",
              "      <td>1</td>\n",
              "      <td>148575</td>\n",
              "    </tr>\n",
              "    <tr>\n",
              "      <th>4</th>\n",
              "      <td>1</td>\n",
              "      <td>155695</td>\n",
              "    </tr>\n",
              "    <tr>\n",
              "      <th>...</th>\n",
              "      <td>...</td>\n",
              "      <td>...</td>\n",
              "    </tr>\n",
              "    <tr>\n",
              "      <th>3018181</th>\n",
              "      <td>42975</td>\n",
              "      <td>4202</td>\n",
              "    </tr>\n",
              "    <tr>\n",
              "      <th>3018182</th>\n",
              "      <td>42975</td>\n",
              "      <td>111136</td>\n",
              "    </tr>\n",
              "    <tr>\n",
              "      <th>3018183</th>\n",
              "      <td>42975</td>\n",
              "      <td>195676</td>\n",
              "    </tr>\n",
              "    <tr>\n",
              "      <th>3018184</th>\n",
              "      <td>42975</td>\n",
              "      <td>292604</td>\n",
              "    </tr>\n",
              "    <tr>\n",
              "      <th>3018185</th>\n",
              "      <td>42975</td>\n",
              "      <td>303873</td>\n",
              "    </tr>\n",
              "  </tbody>\n",
              "</table>\n",
              "<p>3018186 rows × 2 columns</p>\n",
              "</div>"
            ],
            "text/plain": [
              "         userId  itemId\n",
              "0             1  242249\n",
              "1             1  117266\n",
              "2             1  123441\n",
              "3             1  148575\n",
              "4             1  155695\n",
              "...         ...     ...\n",
              "3018181   42975    4202\n",
              "3018182   42975  111136\n",
              "3018183   42975  195676\n",
              "3018184   42975  292604\n",
              "3018185   42975  303873\n",
              "\n",
              "[3018186 rows x 2 columns]"
            ]
          },
          "metadata": {
            "tags": []
          },
          "execution_count": 30
        }
      ]
    },
    {
      "cell_type": "code",
      "metadata": {
        "id": "XimLlWe1hoso",
        "colab_type": "code",
        "colab": {}
      },
      "source": [
        ""
      ],
      "execution_count": 0,
      "outputs": []
    },
    {
      "cell_type": "code",
      "metadata": {
        "colab_type": "code",
        "id": "Scv2JX5NQ7Tu",
        "colab": {}
      },
      "source": [
        "sample = pd.read_csv(\"random_benchmark.csv\")\n",
        "sample[\"pred\"] = model.predict(\n",
        "    sample.userId.values,\n",
        "    sample.itemId.values,\n",
        "    item_features=item_features)\n",
        "sample.sort_values([\"userId\", \"pred\"], ascending=[True, False], inplace=True)\n",
        "sample.drop(columns=[\"pred\"], inplace=True)\n",
        "sample.to_csv(\"lightfm_tfidf2.csv\", index=False)"
      ],
      "execution_count": 0,
      "outputs": []
    },
    {
      "cell_type": "code",
      "metadata": {
        "id": "JlkFs7GNg8vA",
        "colab_type": "code",
        "colab": {}
      },
      "source": [
        ""
      ],
      "execution_count": 0,
      "outputs": []
    },
    {
      "cell_type": "code",
      "metadata": {
        "id": "h0nlrmBVPM_L",
        "colab_type": "code",
        "outputId": "e99c062c-9af4-4f44-d794-510e1dee2774",
        "colab": {
          "base_uri": "https://localhost:8080/",
          "height": 105
        }
      },
      "source": [
        "! kaggle competitions submit -c recsys-iad-challenge -m 'Test' -f lightfm_tfidf2.csv"
      ],
      "execution_count": 38,
      "outputs": [
        {
          "output_type": "stream",
          "text": [
            "Warning: Your Kaggle API key is readable by other users on this system! To fix this, you can run 'chmod 600 /root/.kaggle/kaggle.json'\n",
            "Warning: Looks like you're using an outdated API Version, please consider updating (server 1.5.6 / client 1.5.4)\n",
            "100% 35.7M/35.7M [00:03<00:00, 10.5MB/s]\n",
            "Successfully submitted to Articles RecSys"
          ],
          "name": "stdout"
        }
      ]
    }
  ]
}
