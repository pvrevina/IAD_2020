{
  "nbformat": 4,
  "nbformat_minor": 0,
  "metadata": {
    "kernelspec": {
      "display_name": "Python 3",
      "language": "python",
      "name": "python3"
    },
    "language_info": {
      "codemirror_mode": {
        "name": "ipython",
        "version": 3
      },
      "file_extension": ".py",
      "mimetype": "text/x-python",
      "name": "python",
      "nbconvert_exporter": "python",
      "pygments_lexer": "ipython3",
      "version": "3.7.6"
    },
    "colab": {
      "name": "Revina_HW2_final.ipynb",
      "provenance": [],
      "collapsed_sections": [],
      "machine_shape": "hm"
    }
  },
  "cells": [
    {
      "cell_type": "code",
      "metadata": {
        "id": "FcvTZYtZ8ntj",
        "colab_type": "code",
        "outputId": "725dd96d-779d-4c67-93cc-f22c8c47f113",
        "colab": {
          "base_uri": "https://localhost:8080/",
          "height": 121
        }
      },
      "source": [
        "from google.colab import drive\n",
        "drive.mount('/content/drive')"
      ],
      "execution_count": 2,
      "outputs": [
        {
          "output_type": "stream",
          "text": [
            "Go to this URL in a browser: https://accounts.google.com/o/oauth2/auth?client_id=947318989803-6bn6qk8qdgf4n4g3pfee6491hc0brc4i.apps.googleusercontent.com&redirect_uri=urn%3aietf%3awg%3aoauth%3a2.0%3aoob&response_type=code&scope=email%20https%3a%2f%2fwww.googleapis.com%2fauth%2fdocs.test%20https%3a%2f%2fwww.googleapis.com%2fauth%2fdrive%20https%3a%2f%2fwww.googleapis.com%2fauth%2fdrive.photos.readonly%20https%3a%2f%2fwww.googleapis.com%2fauth%2fpeopleapi.readonly\n",
            "\n",
            "Enter your authorization code:\n",
            "··········\n",
            "Mounted at /content/drive\n"
          ],
          "name": "stdout"
        }
      ]
    },
    {
      "cell_type": "code",
      "metadata": {
        "id": "a4iMNN7qCCv-",
        "colab_type": "code",
        "colab": {}
      },
      "source": [
        "import pandas as pd\n",
        "import numpy as np\n",
        "import matplotlib.pyplot as plt\n",
        "%matplotlib inline\n",
        "import scipy.stats as stats"
      ],
      "execution_count": 0,
      "outputs": []
    },
    {
      "cell_type": "code",
      "metadata": {
        "id": "Q8y0_LNb9Z_m",
        "colab_type": "code",
        "colab": {}
      },
      "source": [
        "import warnings\n",
        "warnings.filterwarnings(\"ignore\")"
      ],
      "execution_count": 0,
      "outputs": []
    },
    {
      "cell_type": "markdown",
      "metadata": {
        "id": "rWr-EP477dS6",
        "colab_type": "text"
      },
      "source": [
        "**Задание 1**\n",
        "\n",
        "Проанализировать набор данных и ответить на следующие вопросы:\n",
        "\n",
        "1) Какой % наблюдений выходит за 05 и 95 перцентиль?\n",
        "\n",
        "2) Какому закону распределения отвечают данные? На основе чего вы так решили?\n",
        "\n",
        "[Ссылка на данные](https://drive.google.com/file/d/1fc8BGSjDiwbZW6rcr3mMSwAjU2T_BpGW/view?usp=sharing)\n",
        "\n",
        "Описание данных:\n",
        "\n",
        "* metrics -- значение определенной метрики в сервисе для пользователя (например, количество кликов). \n",
        "\n",
        "\n",
        "*Вместе с ответом на задание приложить код*"
      ]
    },
    {
      "cell_type": "code",
      "metadata": {
        "id": "WOBBPlBk7dS_",
        "colab_type": "code",
        "colab": {}
      },
      "source": [
        "task1 = pd.read_csv(\"/content/drive/My Drive/kaggle/test_1_1.csv\", sep = \";\", names = [\"Numbers\", \"Metrics\"], skiprows=1)"
      ],
      "execution_count": 0,
      "outputs": []
    },
    {
      "cell_type": "code",
      "metadata": {
        "id": "mo2MIQgh-FRU",
        "colab_type": "code",
        "outputId": "adf3dc0c-40a1-498b-c8ee-90370c43b4bf",
        "colab": {
          "base_uri": "https://localhost:8080/",
          "height": 195
        }
      },
      "source": [
        "task1.head()"
      ],
      "execution_count": 61,
      "outputs": [
        {
          "output_type": "execute_result",
          "data": {
            "text/html": [
              "<div>\n",
              "<style scoped>\n",
              "    .dataframe tbody tr th:only-of-type {\n",
              "        vertical-align: middle;\n",
              "    }\n",
              "\n",
              "    .dataframe tbody tr th {\n",
              "        vertical-align: top;\n",
              "    }\n",
              "\n",
              "    .dataframe thead th {\n",
              "        text-align: right;\n",
              "    }\n",
              "</style>\n",
              "<table border=\"1\" class=\"dataframe\">\n",
              "  <thead>\n",
              "    <tr style=\"text-align: right;\">\n",
              "      <th></th>\n",
              "      <th>Numbers</th>\n",
              "      <th>Metrics</th>\n",
              "    </tr>\n",
              "  </thead>\n",
              "  <tbody>\n",
              "    <tr>\n",
              "      <th>0</th>\n",
              "      <td>1</td>\n",
              "      <td>1</td>\n",
              "    </tr>\n",
              "    <tr>\n",
              "      <th>1</th>\n",
              "      <td>2</td>\n",
              "      <td>1</td>\n",
              "    </tr>\n",
              "    <tr>\n",
              "      <th>2</th>\n",
              "      <td>3</td>\n",
              "      <td>4</td>\n",
              "    </tr>\n",
              "    <tr>\n",
              "      <th>3</th>\n",
              "      <td>4</td>\n",
              "      <td>1</td>\n",
              "    </tr>\n",
              "    <tr>\n",
              "      <th>4</th>\n",
              "      <td>5</td>\n",
              "      <td>1</td>\n",
              "    </tr>\n",
              "  </tbody>\n",
              "</table>\n",
              "</div>"
            ],
            "text/plain": [
              "   Numbers  Metrics\n",
              "0        1        1\n",
              "1        2        1\n",
              "2        3        4\n",
              "3        4        1\n",
              "4        5        1"
            ]
          },
          "metadata": {
            "tags": []
          },
          "execution_count": 61
        }
      ]
    },
    {
      "cell_type": "code",
      "metadata": {
        "id": "TcAsA3zh_lQM",
        "colab_type": "code",
        "outputId": "6202ac00-7d2d-493c-94af-ee7cc0d6f1e2",
        "colab": {
          "base_uri": "https://localhost:8080/",
          "height": 168
        }
      },
      "source": [
        "task1.Metrics.describe()\n",
        "# Отметим, что \n",
        "# 1. Выборка достаточно большая \n",
        "# 2. Распределение скошено влево\n",
        "# 3. Данные неоднородные, большое среднеквадичное отклонение "
      ],
      "execution_count": 0,
      "outputs": [
        {
          "output_type": "execute_result",
          "data": {
            "text/plain": [
              "count    306839.000000\n",
              "mean         10.146275\n",
              "std          22.627378\n",
              "min           1.000000\n",
              "25%           1.000000\n",
              "50%           2.000000\n",
              "75%           7.000000\n",
              "max         998.000000\n",
              "Name: Metrics, dtype: float64"
            ]
          },
          "metadata": {
            "tags": []
          },
          "execution_count": 34
        }
      ]
    },
    {
      "cell_type": "code",
      "metadata": {
        "id": "-_3Bl17GDu65",
        "colab_type": "code",
        "outputId": "6d30f8aa-a138-4be9-bdb6-f8a06550c4d5",
        "colab": {
          "base_uri": "https://localhost:8080/",
          "height": 34
        }
      },
      "source": [
        "#1. Рассчитаем 5 и 95 перцентили\n",
        "perc_pers = [5, 95]\n",
        "perc = np.percentile(task1.Metrics, q = perc_pers)\n",
        "print(\"Перцентиль {}%: {}, Перцентиль {}%: {}\".format(perc_pers[0], perc[0], perc_pers[1], perc[1]))"
      ],
      "execution_count": 0,
      "outputs": [
        {
          "output_type": "stream",
          "text": [
            "Перцентиль 5%: 1.0, Перцентиль 95%: 52.0\n"
          ],
          "name": "stdout"
        }
      ]
    },
    {
      "cell_type": "code",
      "metadata": {
        "id": "2uxjZeVV6kjq",
        "colab_type": "code",
        "outputId": "eace1746-5e46-43b7-eb2f-00cc8c594c8a",
        "colab": {
          "base_uri": "https://localhost:8080/",
          "height": 50
        }
      },
      "source": [
        "# Рассчитаем % наблюдений, выходящих за 5 и 95 перцентили \n",
        "# Как можем заметить из статистики выше, в данных нет значения, меньшего единицы, поэтому рассчитаем для 95 перцентиля  \n",
        "# Проверим: \n",
        "task_05 = task1[task1.Metrics < np.percentile(task1.Metrics, q = 5)]\n",
        "print(task_05.shape[0])\n",
        "\n",
        "task_95 = task1[task1.Metrics > np.percentile(task1.Metrics, q = 95)]\n",
        "print(\"какой % наблюдений выходит за 05 и 95 перцентиль:\", round(task_95.shape[0]/task1.shape[0]*100, 4))"
      ],
      "execution_count": 0,
      "outputs": [
        {
          "output_type": "stream",
          "text": [
            "0\n",
            "какой % наблюдений выходит за 05 и 95 перцентиль: 4.9873\n"
          ],
          "name": "stdout"
        }
      ]
    },
    {
      "cell_type": "code",
      "metadata": {
        "id": "NU1n8WRkLXXD",
        "colab_type": "code",
        "outputId": "47f4c33f-79a2-407c-efb0-832a4d21e9a4",
        "colab": {
          "base_uri": "https://localhost:8080/",
          "height": 298
        }
      },
      "source": [
        "# Построим гистгорамму\n",
        "# Также заметим, что распределение далеко от нормального  \n",
        "task_n.hist(column = 'Metrics', bins = 50, label = 'Metrics')\n",
        "plt.title('Гистограмма метрики')"
      ],
      "execution_count": 0,
      "outputs": [
        {
          "output_type": "execute_result",
          "data": {
            "text/plain": [
              "Text(0.5, 1.0, 'Гистограмма метрики')"
            ]
          },
          "metadata": {
            "tags": []
          },
          "execution_count": 37
        },
        {
          "output_type": "display_data",
          "data": {
            "image/png": "[encoded data removed]",
            "text/plain": [
              "<Figure size 432x288 with 1 Axes>"
            ]
          },
          "metadata": {
            "tags": []
          }
        }
      ]
    },
    {
      "cell_type": "code",
      "metadata": {
        "id": "JQgD1lqAN-V4",
        "colab_type": "code",
        "outputId": "35258633-41cb-4c30-948a-433f2d576448",
        "colab": {
          "base_uri": "https://localhost:8080/",
          "height": 34
        }
      },
      "source": [
        "# Формально проверим данные на нормальность распределения \n",
        "# Используем критерий Шапиро-Уилка \n",
        "# Н0: распределение нормальное \n",
        "# pvalue = 0 => на основе имеющихся данных отвергаем нулевую гипотезу в пользу альтернативы \n",
        "# Однако стоит отметить, что мощность критерия велика при большом объеме выборки \n",
        "print(\"Результаты теста Шапиро:\", stats.shapiro(task_n['Metrics']))"
      ],
      "execution_count": 0,
      "outputs": [
        {
          "output_type": "stream",
          "text": [
            "Результаты теста Шапиро: (0.5769650936126709, 0.0)\n"
          ],
          "name": "stdout"
        }
      ]
    },
    {
      "cell_type": "code",
      "metadata": {
        "id": "UKLrmGaNXJvU",
        "colab_type": "code",
        "outputId": "b9d7dbca-4561-4e99-dd4f-358d589a9d34",
        "colab": {
          "base_uri": "https://localhost:8080/",
          "height": 279
        }
      },
      "source": [
        "## QQ-Plot\n",
        "from statsmodels.api import qqplot\n",
        "fig = qqplot(data = task1.Metrics, dist = stats.norm, line=\"45\", fit = True)"
      ],
      "execution_count": 0,
      "outputs": [
        {
          "output_type": "display_data",
          "data": {
            "image/png": "[encoded data removed]",
            "text/plain": [
              "<Figure size 432x288 with 1 Axes>"
            ]
          },
          "metadata": {
            "tags": []
          }
        }
      ]
    },
    {
      "cell_type": "code",
      "metadata": {
        "id": "1Y_OxWbrhth6",
        "colab_type": "code",
        "outputId": "6a0eefd6-3359-41a8-c163-f2fcdcdc5c54",
        "colab": {
          "base_uri": "https://localhost:8080/",
          "height": 265
        }
      },
      "source": [
        "# Сначала попробуем вручную подобрать наилучшие распределения из scipy \n",
        "# Кажется, что лучше всех данные описывает cauchy, gilbrat, wald\n",
        "# Normal и moyal описывают данные хуже всего \n",
        "import scipy\n",
        "size = len(task1.Metrics.values)\n",
        "y = task_n.Metrics.values\n",
        "x = scipy.arange(size)\n",
        "h = plt.hist(y, bins=range(60))\n",
        "\n",
        "dist_names = ['expon', 'norm', 'wald', 'cauchy', 'gilbrat', 'kappa4', 'moyal', 'lomax']\n",
        "\n",
        "plt.rcParams['figure.figsize'] = [13, 10]\n",
        "for dist_name in dist_names:\n",
        "    dist = getattr(scipy.stats, dist_name)\n",
        "    param = dist.fit(y)\n",
        "    pdf_fitted = dist.pdf(x, *param[:-2], loc=param[-2], scale=param[-1]) * size\n",
        "    plt.plot(pdf_fitted, label=dist_name)\n",
        "    plt.xlim(0,47)\n",
        "    plt.legend(loc='upper right')\n",
        "plt.show()"
      ],
      "execution_count": 0,
      "outputs": [
        {
          "output_type": "display_data",
          "data": {
            "image/png": "[encoded data removed]",
            "text/plain": [
              "<Figure size 432x288 with 1 Axes>"
            ]
          },
          "metadata": {
            "tags": []
          }
        }
      ]
    },
    {
      "cell_type": "code",
      "metadata": {
        "id": "qBmmOqzNCmId",
        "colab_type": "code",
        "outputId": "7d71ecec-e3d9-4cf1-c12a-4d5a8a6aa21c",
        "colab": {
          "base_uri": "https://localhost:8080/",
          "height": 336
        }
      },
      "source": [
        "pip install fitter"
      ],
      "execution_count": 0,
      "outputs": [
        {
          "output_type": "stream",
          "text": [
            "Collecting fitter\n",
            "  Downloading https://files.pythonhosted.org/packages/29/7a/ea2e070f971d70172f3e4bacba8b1bfadcdb2b8cd547bf1bfb4906426d9e/fitter-1.2.1.tar.gz\n",
            "Requirement already satisfied: numpy in /usr/local/lib/python3.6/dist-packages (from fitter) (1.18.2)\n",
            "Requirement already satisfied: matplotlib in /usr/local/lib/python3.6/dist-packages (from fitter) (3.2.1)\n",
            "Requirement already satisfied: scipy>=0.18 in /usr/local/lib/python3.6/dist-packages (from fitter) (1.4.1)\n",
            "Requirement already satisfied: pandas in /usr/local/lib/python3.6/dist-packages (from fitter) (1.0.3)\n",
            "Requirement already satisfied: kiwisolver>=1.0.1 in /usr/local/lib/python3.6/dist-packages (from matplotlib->fitter) (1.2.0)\n",
            "Requirement already satisfied: python-dateutil>=2.1 in /usr/local/lib/python3.6/dist-packages (from matplotlib->fitter) (2.8.1)\n",
            "Requirement already satisfied: cycler>=0.10 in /usr/local/lib/python3.6/dist-packages (from matplotlib->fitter) (0.10.0)\n",
            "Requirement already satisfied: pyparsing!=2.0.4,!=2.1.2,!=2.1.6,>=2.0.1 in /usr/local/lib/python3.6/dist-packages (from matplotlib->fitter) (2.4.6)\n",
            "Requirement already satisfied: pytz>=2017.2 in /usr/local/lib/python3.6/dist-packages (from pandas->fitter) (2018.9)\n",
            "Requirement already satisfied: six>=1.5 in /usr/local/lib/python3.6/dist-packages (from python-dateutil>=2.1->matplotlib->fitter) (1.12.0)\n",
            "Building wheels for collected packages: fitter\n",
            "  Building wheel for fitter (setup.py) ... \u001b[?25l\u001b[?25hdone\n",
            "  Created wheel for fitter: filename=fitter-1.2.1-cp36-none-any.whl size=22008 sha256=bc2701cabc11789da13ad902763687426fb2bd10f5cebe8d62357b9d6f184d63\n",
            "  Stored in directory: /root/.cache/pip/wheels/53/3a/55/e36b00733683c71d53430f6f4db91af4c727ba4339b1e654e6\n",
            "Successfully built fitter\n",
            "Installing collected packages: fitter\n",
            "Successfully installed fitter-1.2.1\n"
          ],
          "name": "stdout"
        }
      ]
    },
    {
      "cell_type": "code",
      "metadata": {
        "id": "oharVvbvCqgF",
        "colab_type": "code",
        "outputId": "d0652504-38a7-4bc4-eb38-c2352e75aec7",
        "colab": {
          "base_uri": "https://localhost:8080/",
          "height": 1000
        }
      },
      "source": [
        "# Далее воспользуемся fitter'ом \n",
        "from fitter import Fitter\n",
        "f = Fitter(task1.Metrics)\n",
        "f.fit()"
      ],
      "execution_count": 0,
      "outputs": [
        {
          "output_type": "stream",
          "text": [
            "Fitted alpha distribution with error=0.0043473201289330925)\n",
            "Fitted anglit distribution with error=0.006284350201424501)\n",
            "SKIPPED arcsine distribution (taking more than 30 seconds)\n",
            "SKIPPED argus distribution (taking more than 30 seconds)\n",
            "SKIPPED beta distribution (taking more than 30 seconds)\n",
            "SKIPPED betaprime distribution (taking more than 30 seconds)\n",
            "SKIPPED bradford distribution (taking more than 30 seconds)\n",
            "SKIPPED burr distribution (taking more than 30 seconds)\n",
            "SKIPPED burr12 distribution (taking more than 30 seconds)\n",
            "Fitted cauchy distribution with error=0.004449059611721195)\n",
            "SKIPPED chi distribution (taking more than 30 seconds)\n",
            "SKIPPED chi2 distribution (taking more than 30 seconds)\n",
            "SKIPPED cosine distribution (taking more than 30 seconds)\n",
            "SKIPPED crystalball distribution (taking more than 30 seconds)\n",
            "SKIPPED dgamma distribution (taking more than 30 seconds)\n",
            "SKIPPED dweibull distribution (taking more than 30 seconds)\n",
            "SKIPPED erlang distribution (taking more than 30 seconds)\n",
            "Fitted expon distribution with error=0.0005119513270550745)\n",
            "SKIPPED exponnorm distribution (taking more than 30 seconds)\n",
            "SKIPPED exponpow distribution (taking more than 30 seconds)\n",
            "SKIPPED exponweib distribution (taking more than 30 seconds)\n",
            "SKIPPED f distribution (taking more than 30 seconds)\n",
            "SKIPPED fatiguelife distribution (taking more than 30 seconds)\n",
            "SKIPPED fisk distribution (taking more than 30 seconds)\n",
            "SKIPPED foldcauchy distribution (taking more than 30 seconds)\n",
            "SKIPPED foldnorm distribution (taking more than 30 seconds)\n",
            "SKIPPED frechet_l distribution (taking more than 30 seconds)\n",
            "SKIPPED frechet_r distribution (taking more than 30 seconds)\n",
            "SKIPPED gamma distribution (taking more than 30 seconds)\n",
            "SKIPPED gausshyper distribution (taking more than 30 seconds)\n",
            "SKIPPED genexpon distribution (taking more than 30 seconds)\n",
            "SKIPPED genextreme distribution (taking more than 30 seconds)\n",
            "SKIPPED gengamma distribution (taking more than 30 seconds)\n",
            "SKIPPED genhalflogistic distribution (taking more than 30 seconds)\n",
            "SKIPPED geninvgauss distribution (taking more than 30 seconds)\n",
            "SKIPPED genlogistic distribution (taking more than 30 seconds)\n",
            "SKIPPED gennorm distribution (taking more than 30 seconds)\n",
            "SKIPPED genpareto distribution (taking more than 30 seconds)\n",
            "Fitted gilbrat distribution with error=0.0007672591925639121)\n",
            "SKIPPED gompertz distribution (taking more than 30 seconds)\n",
            "Fitted gumbel_l distribution with error=0.005919716849193452)\n",
            "Fitted gumbel_r distribution with error=0.0014977509102989109)\n",
            "Fitted halfcauchy distribution with error=0.003577100628579196)\n",
            "SKIPPED halfgennorm distribution (taking more than 30 seconds)\n",
            "Fitted halflogistic distribution with error=0.001065829516842616)\n",
            "Fitted halfnorm distribution with error=0.003101718455893945)\n",
            "Fitted hypsecant distribution with error=0.0018470536405529652)\n",
            "SKIPPED invgamma distribution (taking more than 30 seconds)\n",
            "SKIPPED invgauss distribution (taking more than 30 seconds)\n",
            "SKIPPED invweibull distribution (taking more than 30 seconds)\n",
            "SKIPPED johnsonsb distribution (taking more than 30 seconds)\n",
            "SKIPPED johnsonsu distribution (taking more than 30 seconds)\n",
            "SKIPPED kappa3 distribution (taking more than 30 seconds)\n",
            "SKIPPED kappa4 distribution (taking more than 30 seconds)\n",
            "SKIPPED ksone distribution (taking more than 30 seconds)\n",
            "SKIPPED kstwobign distribution (taking more than 30 seconds)\n",
            "Fitted laplace distribution with error=0.002026963422657609)\n",
            "SKIPPED levy distribution (taking more than 30 seconds)\n",
            "SKIPPED levy_l distribution (taking more than 30 seconds)\n",
            "SKIPPED levy_stable distribution (taking more than 30 seconds)\n",
            "SKIPPED loggamma distribution (taking more than 30 seconds)\n",
            "Fitted logistic distribution with error=0.002420338256016955)\n",
            "SKIPPED loglaplace distribution (taking more than 30 seconds)\n",
            "SKIPPED lognorm distribution (taking more than 30 seconds)\n",
            "SKIPPED loguniform distribution (taking more than 30 seconds)\n",
            "SKIPPED lomax distribution (taking more than 30 seconds)\n",
            "Fitted maxwell distribution with error=0.0037588825266613576)\n",
            "SKIPPED mielke distribution (taking more than 30 seconds)\n",
            "Fitted moyal distribution with error=0.0009883523466383349)\n",
            "SKIPPED nakagami distribution (taking more than 30 seconds)\n",
            "SKIPPED ncf distribution (taking more than 30 seconds)\n",
            "SKIPPED nct distribution (taking more than 30 seconds)\n",
            "SKIPPED ncx2 distribution (taking more than 30 seconds)\n",
            "Fitted norm distribution with error=0.004237399212468815)\n",
            "SKIPPED norminvgauss distribution (taking more than 30 seconds)\n",
            "SKIPPED pareto distribution (taking more than 30 seconds)\n",
            "SKIPPED pearson3 distribution (taking more than 30 seconds)\n",
            "SKIPPED powerlaw distribution (taking more than 30 seconds)\n",
            "SKIPPED powerlognorm distribution (taking more than 30 seconds)\n",
            "SKIPPED powernorm distribution (taking more than 30 seconds)\n",
            "Fitted rayleigh distribution with error=0.003624237542648453)\n",
            "SKIPPED rdist distribution (taking more than 30 seconds)\n",
            "SKIPPED recipinvgauss distribution (taking more than 30 seconds)\n",
            "SKIPPED reciprocal distribution (taking more than 30 seconds)\n",
            "SKIPPED rice distribution (taking more than 30 seconds)\n",
            "SKIPPED rv_continuous distribution (taking more than 30 seconds)\n",
            "SKIPPED rv_histogram distribution (taking more than 30 seconds)\n",
            "SKIPPED semicircular distribution (taking more than 30 seconds)\n",
            "SKIPPED skewnorm distribution (taking more than 30 seconds)\n",
            "SKIPPED t distribution (taking more than 30 seconds)\n",
            "SKIPPED trapz distribution (taking more than 30 seconds)\n",
            "SKIPPED triang distribution (taking more than 30 seconds)\n",
            "SKIPPED truncexpon distribution (taking more than 30 seconds)\n",
            "SKIPPED truncnorm distribution (taking more than 30 seconds)\n",
            "SKIPPED tukeylambda distribution (taking more than 30 seconds)\n",
            "Fitted uniform distribution with error=0.006428252153899087)\n",
            "SKIPPED vonmises distribution (taking more than 30 seconds)\n",
            "SKIPPED vonmises_line distribution (taking more than 30 seconds)\n",
            "Fitted wald distribution with error=0.0004118665699976323)\n",
            "SKIPPED weibull_max distribution (taking more than 30 seconds)\n",
            "SKIPPED weibull_min distribution (taking more than 30 seconds)\n",
            "Fitted wrapcauchy distribution with error=nan)\n"
          ],
          "name": "stdout"
        }
      ]
    },
    {
      "cell_type": "code",
      "metadata": {
        "id": "w6nt1E1cJj31",
        "colab_type": "code",
        "outputId": "b3a980de-a6f7-4b43-c966-598b9e4ebe40",
        "colab": {
          "base_uri": "https://localhost:8080/",
          "height": 443
        }
      },
      "source": [
        "# Зафитим распределения из scipy на наших данных, выведем лучшие и отобразим их на графике \n",
        "# Видно, что лучшие распределения: wald, expon, gilbrat, moyal, halflogistic\n",
        "f.summary()"
      ],
      "execution_count": 0,
      "outputs": [
        {
          "output_type": "execute_result",
          "data": {
            "text/html": [
              "<div>\n",
              "<style scoped>\n",
              "    .dataframe tbody tr th:only-of-type {\n",
              "        vertical-align: middle;\n",
              "    }\n",
              "\n",
              "    .dataframe tbody tr th {\n",
              "        vertical-align: top;\n",
              "    }\n",
              "\n",
              "    .dataframe thead th {\n",
              "        text-align: right;\n",
              "    }\n",
              "</style>\n",
              "<table border=\"1\" class=\"dataframe\">\n",
              "  <thead>\n",
              "    <tr style=\"text-align: right;\">\n",
              "      <th></th>\n",
              "      <th>sumsquare_error</th>\n",
              "      <th>aic</th>\n",
              "      <th>bic</th>\n",
              "      <th>kl_div</th>\n",
              "    </tr>\n",
              "  </thead>\n",
              "  <tbody>\n",
              "    <tr>\n",
              "      <th>wald</th>\n",
              "      <td>0.000412</td>\n",
              "      <td>8206.488213</td>\n",
              "      <td>-6.268355e+06</td>\n",
              "      <td>inf</td>\n",
              "    </tr>\n",
              "    <tr>\n",
              "      <th>expon</th>\n",
              "      <td>0.000512</td>\n",
              "      <td>11347.281405</td>\n",
              "      <td>-6.201608e+06</td>\n",
              "      <td>inf</td>\n",
              "    </tr>\n",
              "    <tr>\n",
              "      <th>gilbrat</th>\n",
              "      <td>0.000767</td>\n",
              "      <td>3854.290641</td>\n",
              "      <td>-6.077462e+06</td>\n",
              "      <td>inf</td>\n",
              "    </tr>\n",
              "    <tr>\n",
              "      <th>moyal</th>\n",
              "      <td>0.000988</td>\n",
              "      <td>12304.505912</td>\n",
              "      <td>-5.999766e+06</td>\n",
              "      <td>inf</td>\n",
              "    </tr>\n",
              "    <tr>\n",
              "      <th>halflogistic</th>\n",
              "      <td>0.001066</td>\n",
              "      <td>12839.504293</td>\n",
              "      <td>-5.976609e+06</td>\n",
              "      <td>inf</td>\n",
              "    </tr>\n",
              "  </tbody>\n",
              "</table>\n",
              "</div>"
            ],
            "text/plain": [
              "              sumsquare_error           aic           bic  kl_div\n",
              "wald                 0.000412   8206.488213 -6.268355e+06     inf\n",
              "expon                0.000512  11347.281405 -6.201608e+06     inf\n",
              "gilbrat              0.000767   3854.290641 -6.077462e+06     inf\n",
              "moyal                0.000988  12304.505912 -5.999766e+06     inf\n",
              "halflogistic         0.001066  12839.504293 -5.976609e+06     inf"
            ]
          },
          "metadata": {
            "tags": []
          },
          "execution_count": 21
        },
        {
          "output_type": "display_data",
          "data": {
            "image/png": "[encoded data removed]",
            "text/plain": [
              "<Figure size 432x288 with 1 Axes>"
            ]
          },
          "metadata": {
            "tags": []
          }
        }
      ]
    },
    {
      "cell_type": "code",
      "metadata": {
        "id": "EAJ4nUEVK6Ks",
        "colab_type": "code",
        "outputId": "a8ac22d8-27c8-4c6c-e777-f332b96ceaeb",
        "colab": {
          "base_uri": "https://localhost:8080/",
          "height": 350
        }
      },
      "source": [
        "# Построим PP-Plots \n",
        "# dist_names = ['expon', 'wald', 'cauchy', 'gilbrat', 'kappa4', 'lomax']\n",
        "# Согласно PP-plot'aм, наилучше данные описывают распределения expon, wald, gilbrat, lomax и fatiguelife (последнее было добавлено в качестве эксперимента)\n",
        "plt.rcParams['figure.figsize'] = [8, 5]\n",
        "\n",
        "stats.probplot(task1.Metrics.values, dist = stats.expon, plot=plt)\n",
        "plt.title('Распределение expon')\n",
        "plt.show()"
      ],
      "execution_count": 0,
      "outputs": [
        {
          "output_type": "display_data",
          "data": {
            "image/png": "[encoded data removed]",
            "text/plain": [
              "<Figure size 576x360 with 1 Axes>"
            ]
          },
          "metadata": {
            "tags": []
          }
        }
      ]
    },
    {
      "cell_type": "code",
      "metadata": {
        "id": "Bb1SudtENJzo",
        "colab_type": "code",
        "outputId": "84bf883b-a3c5-42a2-b2fb-c3899e4fcc32",
        "colab": {
          "base_uri": "https://localhost:8080/",
          "height": 295
        }
      },
      "source": [
        "stats.probplot(task1.Metrics.values, dist = stats.wald, plot=plt)\n",
        "plt.title('Распределение wald')\n",
        "plt.show()"
      ],
      "execution_count": 98,
      "outputs": [
        {
          "output_type": "display_data",
          "data": {
            "image/png": "[encoded data removed]",
            "text/plain": [
              "<Figure size 432x288 with 1 Axes>"
            ]
          },
          "metadata": {
            "tags": []
          }
        }
      ]
    },
    {
      "cell_type": "code",
      "metadata": {
        "id": "CV-r_MIMC638",
        "colab_type": "code",
        "outputId": "2756805c-cf26-4615-8cd1-5ae4fb63ca2d",
        "colab": {
          "base_uri": "https://localhost:8080/",
          "height": 295
        }
      },
      "source": [
        "stats.probplot(task1.Metrics.values, dist = stats.gamma(900000), plot=plt)\n",
        "plt.title('Распределение gamma')\n",
        "plt.show()"
      ],
      "execution_count": 0,
      "outputs": [
        {
          "output_type": "display_data",
          "data": {
            "image/png": "[encoded data removed]",
            "text/plain": [
              "<Figure size 432x288 with 1 Axes>"
            ]
          },
          "metadata": {
            "tags": []
          }
        }
      ]
    },
    {
      "cell_type": "code",
      "metadata": {
        "id": "mH3x1Fh1NLtg",
        "colab_type": "code",
        "outputId": "2fa222d3-e84b-466f-de25-62d5641cb8e9",
        "colab": {
          "base_uri": "https://localhost:8080/",
          "height": 1000
        }
      },
      "source": [
        "stats.probplot(task1.Metrics.values, dist = stats.gilbrat, plot=plt)\n",
        "plt.title('Распределение gilbrat')\n",
        "plt.show()\n",
        "\n",
        "stats.probplot(task1.Metrics.values, dist = stats.cauchy, plot=plt)\n",
        "plt.title('Распределение cauchy')\n",
        "plt.show()\n",
        "\n",
        "stats.probplot(task1.Metrics.values, dist = stats.kappa4(5, 10), plot=plt)\n",
        "plt.title('Распределение kappa4')\n",
        "plt.show()\n",
        "\n",
        "stats.probplot(task1.Metrics.values, dist = stats.lomax(10), plot=plt)\n",
        "plt.title('Распределение lomax')\n",
        "plt.show()\n",
        "\n",
        "stats.probplot(task1.Metrics.values, dist = stats.fatiguelife(10), plot=plt)\n",
        "plt.title('Распределение fatiguelife')\n",
        "plt.show()"
      ],
      "execution_count": 0,
      "outputs": [
        {
          "output_type": "display_data",
          "data": {
            "image/png": "[encoded data removed]",
            "text/plain": [
              "<Figure size 432x288 with 1 Axes>"
            ]
          },
          "metadata": {
            "tags": []
          }
        },
        {
          "output_type": "display_data",
          "data": {
            "image/png": "[encoded data removed]",
            "text/plain": [
              "<Figure size 432x288 with 1 Axes>"
            ]
          },
          "metadata": {
            "tags": []
          }
        },
        {
          "output_type": "display_data",
          "data": {
            "image/png": "[encoded data removed]",
            "text/plain": [
              "<Figure size 432x288 with 1 Axes>"
            ]
          },
          "metadata": {
            "tags": []
          }
        },
        {
          "output_type": "display_data",
          "data": {
            "image/png": "[encoded data removed]",
            "text/plain": [
              "<Figure size 432x288 with 1 Axes>"
            ]
          },
          "metadata": {
            "tags": []
          }
        },
        {
          "output_type": "display_data",
          "data": {
            "image/png": "[encoded data removed]",
            "text/plain": [
              "<Figure size 432x288 with 1 Axes>"
            ]
          },
          "metadata": {
            "tags": []
          }
        }
      ]
    },
    {
      "cell_type": "code",
      "metadata": {
        "id": "5Pnei4BeP_k9",
        "colab_type": "code",
        "colab": {}
      },
      "source": [
        "# Таким образом, на основе полученных графиков и результатов фита распределения к данным можно предположить, что данные распределены согласно \n",
        "# wald или expon законам \n"
      ],
      "execution_count": 0,
      "outputs": []
    },
    {
      "cell_type": "markdown",
      "metadata": {
        "id": "W5sdvmz47dTE",
        "colab_type": "text"
      },
      "source": [
        "**Задание 2**\n",
        "\n",
        "Определить, можно сравнить две представленные выборки t критерием Стьюдента? \n",
        "\n",
        "Если нельзя сравнивать t-критерием, то что будем использовать и почему?\n",
        "\n",
        "Ответ аргументировать и описать \n",
        "\n",
        "[Ссылка на данные](https://drive.google.com/file/d/1blvC6TEBWghhVMexjOdoGEjzhZZh3wSy/view?usp=sharing)\n",
        "\n",
        "Описание данных: \n",
        "\n",
        "* variant -- вариация в А/Б тесте (либо группа А -- например, сайт без изменений. Либо группа Б -- сайт с изменениями)\n",
        "* metrics -- значение определенной метрики в сервисе для пользователя (например, количество кликов). \n",
        "\n",
        "*Вместе с ответом на задание приложить код*"
      ]
    },
    {
      "cell_type": "markdown",
      "metadata": {
        "id": "OiQMkA5ckwfE",
        "colab_type": "text"
      },
      "source": [
        "Итак, для применения t-критерия Стьюдента должны соблюдаться следующие условия в случае несвязанных выборок:  \n",
        "\n",
        "* **Гомогенность дисперсий**: дисперсии внутри групп должны быть приблизительно одинаковыми\n",
        "* **Нормальность распределения**: это особенно важно для маленьких выборок (меньше 30 наблюдений), однако для больших выборок иногда допустимо отклонение распределения выборочных данных от нормальности. \n"
      ]
    },
    {
      "cell_type": "code",
      "metadata": {
        "id": "irMHSXBa7dTF",
        "colab_type": "code",
        "outputId": "1af022ad-ded1-469a-8ec1-b916a6b91d1d",
        "colab": {
          "base_uri": "https://localhost:8080/",
          "height": 195
        }
      },
      "source": [
        "task2 = pd.read_csv(\"/content/drive/My Drive/kaggle/test_1_2.csv\", sep = \";\", names = [\"numbers\", \"variant\", \"metrics\"], usecols = [1,2], skiprows = 1)\n",
        "task2.head()"
      ],
      "execution_count": 0,
      "outputs": [
        {
          "output_type": "execute_result",
          "data": {
            "text/html": [
              "<div>\n",
              "<style scoped>\n",
              "    .dataframe tbody tr th:only-of-type {\n",
              "        vertical-align: middle;\n",
              "    }\n",
              "\n",
              "    .dataframe tbody tr th {\n",
              "        vertical-align: top;\n",
              "    }\n",
              "\n",
              "    .dataframe thead th {\n",
              "        text-align: right;\n",
              "    }\n",
              "</style>\n",
              "<table border=\"1\" class=\"dataframe\">\n",
              "  <thead>\n",
              "    <tr style=\"text-align: right;\">\n",
              "      <th></th>\n",
              "      <th>variant</th>\n",
              "      <th>metrics</th>\n",
              "    </tr>\n",
              "  </thead>\n",
              "  <tbody>\n",
              "    <tr>\n",
              "      <th>0</th>\n",
              "      <td>A</td>\n",
              "      <td>1</td>\n",
              "    </tr>\n",
              "    <tr>\n",
              "      <th>1</th>\n",
              "      <td>B</td>\n",
              "      <td>1</td>\n",
              "    </tr>\n",
              "    <tr>\n",
              "      <th>2</th>\n",
              "      <td>A</td>\n",
              "      <td>4</td>\n",
              "    </tr>\n",
              "    <tr>\n",
              "      <th>3</th>\n",
              "      <td>B</td>\n",
              "      <td>37</td>\n",
              "    </tr>\n",
              "    <tr>\n",
              "      <th>4</th>\n",
              "      <td>B</td>\n",
              "      <td>4</td>\n",
              "    </tr>\n",
              "  </tbody>\n",
              "</table>\n",
              "</div>"
            ],
            "text/plain": [
              "  variant  metrics\n",
              "0       A        1\n",
              "1       B        1\n",
              "2       A        4\n",
              "3       B       37\n",
              "4       B        4"
            ]
          },
          "metadata": {
            "tags": []
          },
          "execution_count": 51
        }
      ]
    },
    {
      "cell_type": "code",
      "metadata": {
        "id": "1RgJjbA_qiZq",
        "colab_type": "code",
        "outputId": "6f008a51-83b4-4d67-df85-e10ed185e8bd",
        "colab": {
          "base_uri": "https://localhost:8080/",
          "height": 454
        }
      },
      "source": [
        "# Разделим данные на две группы \n",
        "task2_A = task2[(task2[\"variant\"] == \"A\")]\n",
        "task2_B = task2[(task2[\"variant\"] == \"B\")]\n",
        "\n",
        "# Описательные статистики \n",
        "# Отметим, что в данных много наблюдений, они распределены неровномерно\n",
        "\n",
        "print('Sample A')\n",
        "print(task2_A.describe())\n",
        "print(\"--------------------\")\n",
        "print(\"\\n\")\n",
        "print('Sample B')\n",
        "print(task2_B.describe())\n",
        "print(\"--------------------\")\n",
        "print(\"\\n\")"
      ],
      "execution_count": 0,
      "outputs": [
        {
          "output_type": "stream",
          "text": [
            "Sample A\n",
            "            metrics\n",
            "count  92686.000000\n",
            "mean      10.099562\n",
            "std       23.130148\n",
            "min        1.000000\n",
            "25%        1.000000\n",
            "50%        2.000000\n",
            "75%        7.000000\n",
            "max      998.000000\n",
            "--------------------\n",
            "\n",
            "\n",
            "Sample B\n",
            "            metrics\n",
            "count  91518.000000\n",
            "mean      10.333137\n",
            "std       22.860695\n",
            "min        1.000000\n",
            "25%        1.000000\n",
            "50%        2.000000\n",
            "75%        7.000000\n",
            "max      626.000000\n",
            "--------------------\n",
            "\n",
            "\n"
          ],
          "name": "stdout"
        }
      ]
    },
    {
      "cell_type": "code",
      "metadata": {
        "id": "UCqy6gnqrZdN",
        "colab_type": "code",
        "outputId": "42e9881b-efff-47ad-8c65-c9ca33e1d048",
        "colab": {
          "base_uri": "https://localhost:8080/",
          "height": 545
        }
      },
      "source": [
        "# Построим гистограммы:\n",
        "# Отметим, что данные вероятно не рапсределены нормально \n",
        "task2_A.hist(column = 'metrics', bins = 50, label = 'Sample A')\n",
        "plt.title('Гистограмма для выборки А')\n",
        "task2_B.hist(column = 'metrics', bins = 50, label = 'Sample B')\n",
        "plt.title('Гистограмма для выборки B')\n",
        "plt.show()"
      ],
      "execution_count": 0,
      "outputs": [
        {
          "output_type": "display_data",
          "data": {
            "image/png": "[encoded data removed]",
            "text/plain": [
              "<Figure size 432x288 with 1 Axes>"
            ]
          },
          "metadata": {
            "tags": []
          }
        },
        {
          "output_type": "display_data",
          "data": {
            "image/png": "[encoded data removed]",
            "text/plain": [
              "<Figure size 432x288 with 1 Axes>"
            ]
          },
          "metadata": {
            "tags": []
          }
        }
      ]
    },
    {
      "cell_type": "code",
      "metadata": {
        "id": "_5orIt07riOS",
        "colab_type": "code",
        "outputId": "57354d9e-2a68-4ac0-c194-419d5f51dce3",
        "colab": {
          "base_uri": "https://localhost:8080/",
          "height": 151
        }
      },
      "source": [
        "# Применим тест Шапиро на нормальность распределения \n",
        "# H0: выборочное распределение имеет распределение хи-квадрат \n",
        "# pvalue = 0 => на основе имеющихся данных отвергаем нулевую гипотезу в пользу альтернативы \n",
        "# Наблюдения в обеих выборках не распределны нормально \n",
        "print(\"Тест Шапиро для выборки А: \", stats.shapiro(task2_A[\"metrics\"]))\n",
        "print(\"-------------------------------------\")\n",
        "print(\"\\n\")\n",
        "print(\"Тест Шапиро для выборки B: \", stats.shapiro(task2_B[\"metrics\"]))\n",
        "print(\"-------------------------------------\")\n",
        "print(\"\\n\")"
      ],
      "execution_count": 0,
      "outputs": [
        {
          "output_type": "stream",
          "text": [
            "Тест Шапиро для выборки А:  (0.4299488663673401, 0.0)\n",
            "-------------------------------------\n",
            "\n",
            "\n",
            "Тест Шапиро для выборки B:  (0.45065927505493164, 0.0)\n",
            "-------------------------------------\n",
            "\n",
            "\n"
          ],
          "name": "stdout"
        }
      ]
    },
    {
      "cell_type": "code",
      "metadata": {
        "id": "vBssEw4JtmxU",
        "colab_type": "code",
        "outputId": "df0423e6-df4e-4281-f7f8-f15e74a5b41d",
        "colab": {
          "base_uri": "https://localhost:8080/",
          "height": 573
        }
      },
      "source": [
        "# Построим QQ-Plot \n",
        "fig = qqplot(task2_A[\"metrics\"], stats.norm, line='45', fit=True)\n",
        "plt.title(\"Выборка А: QQ-Plot для нормального распределения\")\n",
        "\n",
        "fig = qqplot(task2_B[\"metrics\"], stats.norm, line='45', fit=True)\n",
        "plt.title(\"Выборка B: QQ-Plot для нормального распределения\");\n",
        "\n",
        "# Как видно из графиков, данные не распределены нормально "
      ],
      "execution_count": 0,
      "outputs": [
        {
          "output_type": "display_data",
          "data": {
            "image/png": "[encoded data removed]",
            "text/plain": [
              "<Figure size 432x288 with 1 Axes>"
            ]
          },
          "metadata": {
            "tags": []
          }
        },
        {
          "output_type": "display_data",
          "data": {
            "image/png": "[encoded data removed]",
            "text/plain": [
              "<Figure size 432x288 with 1 Axes>"
            ]
          },
          "metadata": {
            "tags": []
          }
        }
      ]
    },
    {
      "cell_type": "code",
      "metadata": {
        "id": "hzMdeSWxtelx",
        "colab_type": "code",
        "outputId": "c454f30c-1da5-4014-8935-8b1d4d9c9c93",
        "colab": {
          "base_uri": "https://localhost:8080/",
          "height": 34
        }
      },
      "source": [
        "# Проверка на гомогенность дисперсии с помощью критерия Левена \n",
        "# H0: дисперсии гомогенны \n",
        "# pvalue < 0.05, на основании имеющихся у нас данных отвергаем нулевую гипотезу в пользу альтернативы \n",
        "\n",
        "from scipy.stats import levene\n",
        "levene(task2_A[\"metrics\"].values, task2_B[\"metrics\"].values)"
      ],
      "execution_count": 0,
      "outputs": [
        {
          "output_type": "execute_result",
          "data": {
            "text/plain": [
              "LeveneResult(statistic=4.313416821004634, pvalue=0.03781432358426188)"
            ]
          },
          "metadata": {
            "tags": []
          },
          "execution_count": 56
        }
      ]
    },
    {
      "cell_type": "markdown",
      "metadata": {
        "id": "VM4RuIoGviC-",
        "colab_type": "text"
      },
      "source": [
        "Так как условия использования t-критерия нарушены, будем использовать непараметрический U-критерий Манна-Уитни. \n",
        " "
      ]
    },
    {
      "cell_type": "code",
      "metadata": {
        "id": "QWZIX2vevaTP",
        "colab_type": "code",
        "outputId": "2491a2e1-c44b-4679-8ed5-63cf17694bb2",
        "colab": {
          "base_uri": "https://localhost:8080/",
          "height": 34
        }
      },
      "source": [
        "# H0: значения характеристик выборок равны\n",
        "# pvalue > 0.05, на имеющихся данных нет оснований отвергнуть нулевую гипотезу в пользу альтернативы \n",
        "# Между выборками нет статистически значимых различий \n",
        "print('Тест Манна-Уитни:', stats.mannwhitneyu(task2_A[\"metrics\"].values, task2_A[\"metrics\"].values))"
      ],
      "execution_count": 0,
      "outputs": [
        {
          "output_type": "stream",
          "text": [
            "Тест Манна-Уитни: MannwhitneyuResult(statistic=4295347298.0, pvalue=0.4999999819073227)\n"
          ],
          "name": "stdout"
        }
      ]
    },
    {
      "cell_type": "markdown",
      "metadata": {
        "id": "7QM2yHEs7dTM",
        "colab_type": "text"
      },
      "source": [
        "**Задание 3**\n",
        "\n",
        "Дано две выборки по А/Б тесту.\n",
        "\n",
        "Две выборки несбалансированные - кол-во пользователей в каждой группе разные.\n",
        "\n",
        "Метрика, которую меряем в эксперименте (и которую используем для определения группы, которая лучше себя показала) - кол-во просмотренных страниц на пользователя \n",
        "\n",
        "Как вы будете принимать решение, какая группа лучше А или Б, и какие статистические методы (критерии) вы будете использовать, какие преобразования к данным применять? P.S. Вам может помочь лекция Виталия Черемисинова, где он рассказывал про А/Б тесты\n",
        "\n",
        "[Ссылка на данные](https://drive.google.com/file/d/1_g7Dw7-8QzTS47D6GNKMb0FzqMAWBDba/view?usp=sharing)\n",
        "\n",
        "Описание данных: \n",
        "\n",
        "* variant -- вариация в А/Б тесте (либо группа А -- например, сайт без изменений. Либо группа Б -- сайт с изменениями)\n",
        "* metrics -- значение определенной метрики в сервисе для пользователя (например, количество кликов). \n",
        "\n",
        "\n",
        "*Вместе с ответом на задание приложить код*"
      ]
    },
    {
      "cell_type": "code",
      "metadata": {
        "id": "chDYyXBr7dTO",
        "colab_type": "code",
        "outputId": "2b547054-8e52-4d5e-cb10-27959065342d",
        "colab": {
          "base_uri": "https://localhost:8080/",
          "height": 195
        }
      },
      "source": [
        "task3 = pd.read_csv(\"/content/drive/My Drive/kaggle/hw2_test_1_3.csv\", sep = \";\", names = [\"Number\", \"Variant\", \"Metrics\"], skiprows=1, usecols = [1,2])\n",
        "task3.head()"
      ],
      "execution_count": 0,
      "outputs": [
        {
          "output_type": "execute_result",
          "data": {
            "text/html": [
              "<div>\n",
              "<style scoped>\n",
              "    .dataframe tbody tr th:only-of-type {\n",
              "        vertical-align: middle;\n",
              "    }\n",
              "\n",
              "    .dataframe tbody tr th {\n",
              "        vertical-align: top;\n",
              "    }\n",
              "\n",
              "    .dataframe thead th {\n",
              "        text-align: right;\n",
              "    }\n",
              "</style>\n",
              "<table border=\"1\" class=\"dataframe\">\n",
              "  <thead>\n",
              "    <tr style=\"text-align: right;\">\n",
              "      <th></th>\n",
              "      <th>Variant</th>\n",
              "      <th>Metrics</th>\n",
              "    </tr>\n",
              "  </thead>\n",
              "  <tbody>\n",
              "    <tr>\n",
              "      <th>0</th>\n",
              "      <td>A</td>\n",
              "      <td>1</td>\n",
              "    </tr>\n",
              "    <tr>\n",
              "      <th>1</th>\n",
              "      <td>A</td>\n",
              "      <td>4</td>\n",
              "    </tr>\n",
              "    <tr>\n",
              "      <th>2</th>\n",
              "      <td>A</td>\n",
              "      <td>15</td>\n",
              "    </tr>\n",
              "    <tr>\n",
              "      <th>3</th>\n",
              "      <td>A</td>\n",
              "      <td>1</td>\n",
              "    </tr>\n",
              "    <tr>\n",
              "      <th>4</th>\n",
              "      <td>A</td>\n",
              "      <td>10</td>\n",
              "    </tr>\n",
              "  </tbody>\n",
              "</table>\n",
              "</div>"
            ],
            "text/plain": [
              "  Variant  Metrics\n",
              "0       A        1\n",
              "1       A        4\n",
              "2       A       15\n",
              "3       A        1\n",
              "4       A       10"
            ]
          },
          "metadata": {
            "tags": []
          },
          "execution_count": 33
        }
      ]
    },
    {
      "cell_type": "code",
      "metadata": {
        "id": "nlucgrmBYcMo",
        "colab_type": "code",
        "outputId": "4064c7ed-6352-4271-e352-49905a58cfca",
        "colab": {
          "base_uri": "https://localhost:8080/",
          "height": 454
        }
      },
      "source": [
        "# Итак, выборка А значительнее больше выборки D. \n",
        "\n",
        "task3_A = task3[task3['Variant'] == 'A']\n",
        "task3_D = task3[task3['Variant'] == 'D']\n",
        "\n",
        "print('Sample A')\n",
        "print(task3_A.describe())\n",
        "print(\"--------------------\")\n",
        "print(\"\\n\")\n",
        "print('Sample D')\n",
        "print(task3_D.describe())\n",
        "print(\"--------------------\")\n",
        "print(\"\\n\")"
      ],
      "execution_count": 0,
      "outputs": [
        {
          "output_type": "stream",
          "text": [
            "Sample A\n",
            "            Metrics\n",
            "count  92686.000000\n",
            "mean      10.099562\n",
            "std       23.130148\n",
            "min        1.000000\n",
            "25%        1.000000\n",
            "50%        2.000000\n",
            "75%        7.000000\n",
            "max      998.000000\n",
            "--------------------\n",
            "\n",
            "\n",
            "Sample D\n",
            "            Metrics\n",
            "count  15413.000000\n",
            "mean       9.942386\n",
            "std       21.802747\n",
            "min        1.000000\n",
            "25%        1.000000\n",
            "50%        2.000000\n",
            "75%        7.000000\n",
            "max      406.000000\n",
            "--------------------\n",
            "\n",
            "\n"
          ],
          "name": "stdout"
        }
      ]
    },
    {
      "cell_type": "code",
      "metadata": {
        "id": "xGek7Z0pFKQX",
        "colab_type": "code",
        "outputId": "8bd1b28c-99fc-4e4d-ad16-70a327d4017c",
        "colab": {
          "base_uri": "https://localhost:8080/",
          "height": 34
        }
      },
      "source": [
        "# Проверка на гомогенность дисперсии с помощью критерия Левена \n",
        "# H0: дисперсии гомогенны \n",
        "# pvalue > 0.05 => нет оснований для отвержения нулевой гипотезы \n",
        "\n",
        "from scipy.stats import levene\n",
        "levene(task3_A[\"Metrics\"].values, task3_D[\"Metrics\"].values)\n",
        "\n",
        "# В противном случае можно было бы использовать Welch’s t-test"
      ],
      "execution_count": 0,
      "outputs": [
        {
          "output_type": "execute_result",
          "data": {
            "text/plain": [
              "LeveneResult(statistic=0.6909401153215109, pvalue=0.40584663266049437)"
            ]
          },
          "metadata": {
            "tags": []
          },
          "execution_count": 38
        }
      ]
    },
    {
      "cell_type": "code",
      "metadata": {
        "id": "qr6fSLT8FrvP",
        "colab_type": "code",
        "outputId": "9a7a8dee-e3e9-403d-f5d2-23cba51bc022",
        "colab": {
          "base_uri": "https://localhost:8080/",
          "height": 50
        }
      },
      "source": [
        "# Формально проверим данные на нормальность распределения \n",
        "# Используем критерий Шапиро-Уилка \n",
        "# Н0: распределение нормальное \n",
        "# pvalue = 0 => на основе имеющихся данных отвергаем нулевую гипотезу в пользу альтернативы \n",
        "# Однако стоит отметить, что мощность критерия велика при большом объеме выборки \n",
        "print(\"Результаты теста Шапиро для sample A:\", stats.shapiro(task3_A[\"Metrics\"].values))\n",
        "print(\"Результаты теста Шапиро для sample D:\", stats.shapiro(task3_D[\"Metrics\"].values))"
      ],
      "execution_count": 0,
      "outputs": [
        {
          "output_type": "stream",
          "text": [
            "Результаты теста Шапиро для sample A: (0.4299488663673401, 0.0)\n",
            "Результаты теста Шапиро для sample D: (0.4525006413459778, 0.0)\n"
          ],
          "name": "stdout"
        }
      ]
    },
    {
      "cell_type": "code",
      "metadata": {
        "id": "PdiwO6L0LWLy",
        "colab_type": "code",
        "outputId": "680fed39-7c09-41e7-a809-4757a4716d4d",
        "colab": {
          "base_uri": "https://localhost:8080/",
          "height": 34
        }
      },
      "source": [
        "# Мы не можем использовать параметрические тесты, так как нарушаются предположения о нормальности распределения\n",
        "# Используем непараметрику, т.к. не берет в учет выборочный параметр \n",
        "# Непараметрический тест Манна-Уитни \n",
        "print('Тест Манна-Уитни:', stats.mannwhitneyu(task3_A[\"Metrics\"].values, task3_D[\"Metrics\"].values))\n",
        "# H0: значения характеристик выборок равны\n",
        "# pvalue > 0.05 => на основе имеющихся данных есть основания для отвержения нулевой гипотезы в пользу альтернативы\n",
        "# можем заключить, что между выборками наблюдаются статистически значимые различия  "
      ],
      "execution_count": 0,
      "outputs": [
        {
          "output_type": "stream",
          "text": [
            "Тест Манна-Уитни: MannwhitneyuResult(statistic=710155085.5, pvalue=0.11455772745929804)\n"
          ],
          "name": "stdout"
        }
      ]
    },
    {
      "cell_type": "code",
      "metadata": {
        "id": "s2xJkwLcsTIr",
        "colab_type": "code",
        "colab": {}
      },
      "source": [
        "# Также при сравнении несбалансированных выборок можно использовать bootstrap: \n",
        "# https://stats.stackexchange.com/questions/136661/using-bootstrap-under-h0-to-perform-a-test-for-the-difference-of-two-means-repl \n",
        "# https://github.com/wblakecannon/DataCamp/blob/master/07-statistical-thinking-in-python-(part-2)/3-introduction-to-hypothesis-testing/a-two-sample-bootstrap-hypothesis-for-difference-of-means.py \n",
        "def bootstrap_replicate_1d(data, func):\n",
        "    return func(np.random.choice(data, size=len(data)))\n",
        "\n",
        "def draw_bs_reps(data, func, size=1):\n",
        "    return np.array([bootstrap_replicate_1d(data, func) for _ in range(size)])"
      ],
      "execution_count": 0,
      "outputs": []
    },
    {
      "cell_type": "code",
      "metadata": {
        "id": "eU9a2lxLw1gc",
        "colab_type": "code",
        "outputId": "27f2d554-5408-4a48-bad3-c744c69e6267",
        "colab": {
          "base_uri": "https://localhost:8080/",
          "height": 34
        }
      },
      "source": [
        "mean_force = np.mean(task3.Metrics)\n",
        "task3_A_shifted = task3_A.Metrics.values - np.mean(task3_A.Metrics.values) + mean_force\n",
        "task3_D_shifted = task3_D.Metrics.values - np.mean(task3_D.Metrics.values) + mean_force\n",
        "\n",
        "bs_replicates_a = draw_bs_reps(task3_A_shifted, np.mean, size=10000)\n",
        "bs_replicates_b = draw_bs_reps(task3_D_shifted, np.mean, size=10000)\n",
        "\n",
        "bs_replicates = bs_replicates_a - bs_replicates_b\n",
        "\n",
        "empirical_diff_means = np.mean(task3_A.Metrics.values) - np.mean(task3_D.Metrics.values)\n",
        "\n",
        "p = np.sum(bs_replicates >= empirical_diff_means) / len(bs_replicates)\n",
        "print('p-value =', p) "
      ],
      "execution_count": 0,
      "outputs": [
        {
          "output_type": "stream",
          "text": [
            "p-value = 0.2054\n"
          ],
          "name": "stdout"
        }
      ]
    },
    {
      "cell_type": "code",
      "metadata": {
        "id": "zjbkE0_4w1dX",
        "colab_type": "code",
        "colab": {}
      },
      "source": [
        "# Таким образом, можем сделать вывод о статистических различиях двух выборок. "
      ],
      "execution_count": 0,
      "outputs": []
    },
    {
      "cell_type": "markdown",
      "metadata": {
        "id": "2HhnIYce7dTS",
        "colab_type": "text"
      },
      "source": [
        "**Задание 4**\n",
        "\n",
        "Есть данные с большой дисперсии у метрики (диспресию метрики можно посчитать для каждой группы). Для их дальнейшего анализа дисперсию необходимо сократить. Как определить, что дисперсия действительно большая? Если она большая, как вы будете ее чистить? Ответ аргументировать и описать.  P.S. Вам может помочь лекция Виталия Черемисинова, где он рассказывал про А/Б тесты\n",
        "\n",
        "Описание данных: \n",
        "\n",
        "* variant -- вариация в А/Б тесте (либо группа А -- например, сайт без изменений. Либо группа Б -- сайт с изменениями)\n",
        "* metrics -- значение определенной метрики в сервисе для пользователя (например, количество кликов). \n",
        "\n",
        "[Ссылка на данные](https://drive.google.com/file/d/1fc8BGSjDiwbZW6rcr3mMSwAjU2T_BpGW/view?usp=sharing)\n",
        "\n",
        "*Вместе с ответом на задание приложить код*"
      ]
    },
    {
      "cell_type": "code",
      "metadata": {
        "id": "L6CFzW267dTT",
        "colab_type": "code",
        "outputId": "5b431738-c2e0-4742-9a5f-e5a933f579b6",
        "colab": {
          "base_uri": "https://localhost:8080/",
          "height": 195
        }
      },
      "source": [
        "task4 = pd.read_csv(\"/content/drive/My Drive/kaggle/test_1_1.csv\", sep = \";\", names = [\"Numbers\", \"Metrics\"], skiprows=1)\n",
        "task4.head()"
      ],
      "execution_count": 4,
      "outputs": [
        {
          "output_type": "execute_result",
          "data": {
            "text/html": [
              "<div>\n",
              "<style scoped>\n",
              "    .dataframe tbody tr th:only-of-type {\n",
              "        vertical-align: middle;\n",
              "    }\n",
              "\n",
              "    .dataframe tbody tr th {\n",
              "        vertical-align: top;\n",
              "    }\n",
              "\n",
              "    .dataframe thead th {\n",
              "        text-align: right;\n",
              "    }\n",
              "</style>\n",
              "<table border=\"1\" class=\"dataframe\">\n",
              "  <thead>\n",
              "    <tr style=\"text-align: right;\">\n",
              "      <th></th>\n",
              "      <th>Numbers</th>\n",
              "      <th>Metrics</th>\n",
              "    </tr>\n",
              "  </thead>\n",
              "  <tbody>\n",
              "    <tr>\n",
              "      <th>0</th>\n",
              "      <td>1</td>\n",
              "      <td>1</td>\n",
              "    </tr>\n",
              "    <tr>\n",
              "      <th>1</th>\n",
              "      <td>2</td>\n",
              "      <td>1</td>\n",
              "    </tr>\n",
              "    <tr>\n",
              "      <th>2</th>\n",
              "      <td>3</td>\n",
              "      <td>4</td>\n",
              "    </tr>\n",
              "    <tr>\n",
              "      <th>3</th>\n",
              "      <td>4</td>\n",
              "      <td>1</td>\n",
              "    </tr>\n",
              "    <tr>\n",
              "      <th>4</th>\n",
              "      <td>5</td>\n",
              "      <td>1</td>\n",
              "    </tr>\n",
              "  </tbody>\n",
              "</table>\n",
              "</div>"
            ],
            "text/plain": [
              "   Numbers  Metrics\n",
              "0        1        1\n",
              "1        2        1\n",
              "2        3        4\n",
              "3        4        1\n",
              "4        5        1"
            ]
          },
          "metadata": {
            "tags": []
          },
          "execution_count": 4
        }
      ]
    },
    {
      "cell_type": "code",
      "metadata": {
        "id": "kKk4Zz015vc1",
        "colab_type": "code",
        "outputId": "31a11a08-8de7-45bf-e469-5db874790f7e",
        "colab": {
          "base_uri": "https://localhost:8080/",
          "height": 168
        }
      },
      "source": [
        "task4.Metrics.describe()\n",
        "# Отметим высокое среднеквадратичное отклонение "
      ],
      "execution_count": 5,
      "outputs": [
        {
          "output_type": "execute_result",
          "data": {
            "text/plain": [
              "count    306839.000000\n",
              "mean         10.146275\n",
              "std          22.627378\n",
              "min           1.000000\n",
              "25%           1.000000\n",
              "50%           2.000000\n",
              "75%           7.000000\n",
              "max         998.000000\n",
              "Name: Metrics, dtype: float64"
            ]
          },
          "metadata": {
            "tags": []
          },
          "execution_count": 5
        }
      ]
    },
    {
      "cell_type": "code",
      "metadata": {
        "id": "xDHNuomLeTtK",
        "colab_type": "code",
        "colab": {
          "base_uri": "https://localhost:8080/",
          "height": 545
        },
        "outputId": "84a5bf71-51d9-48ac-b828-7829b5d46a78"
      },
      "source": [
        "# Посмотрим на гистограмму \n",
        "# Можем отметить, что распределение скошено, концы длинные  \n",
        "task4.hist(column = 'Metrics', bins = 50)\n",
        "plt.title('Гистограмма для метрики')\n",
        "plt.show()\n",
        "\n",
        "# Также посмотрим на среднее и выбросы при помощи boxplot'а\n",
        "\n",
        "task4.boxplot(column = 'Metrics')\n",
        "plt.title('Boxplot для метрики')\n",
        "plt.show()\n",
        "# Как видим, среднее близко к нулю"
      ],
      "execution_count": 57,
      "outputs": [
        {
          "output_type": "display_data",
          "data": {
            "image/png": "[encoded data removed]",
            "text/plain": [
              "<Figure size 432x288 with 1 Axes>"
            ]
          },
          "metadata": {
            "tags": []
          }
        },
        {
          "output_type": "display_data",
          "data": {
            "image/png": "[encoded data removed]",
            "text/plain": [
              "<Figure size 432x288 with 1 Axes>"
            ]
          },
          "metadata": {
            "tags": []
          }
        }
      ]
    },
    {
      "cell_type": "code",
      "metadata": {
        "id": "uA8O-T1YfFvF",
        "colab_type": "code",
        "colab": {
          "base_uri": "https://localhost:8080/",
          "height": 34
        },
        "outputId": "30202b50-5e95-44b5-e1a0-79290db28726"
      },
      "source": [
        "# Рассчитаем коэффициент вариации -- он показывает степень изменчивости по отношению к среднему показателю \n",
        "# Считается, что большой коэффициент вариации -- больший 33% \n",
        "print('Коэффициент вариации до преобразований', round(task4['Metrics'].std()/task4['Metrics'].mean()*100, 2), '%', end = '\\n')"
      ],
      "execution_count": 22,
      "outputs": [
        {
          "output_type": "stream",
          "text": [
            "Коэффициент вариации до преобразований 223.01 %\n"
          ],
          "name": "stdout"
        }
      ]
    },
    {
      "cell_type": "code",
      "metadata": {
        "id": "CwSz3sKB-Bnt",
        "colab_type": "code",
        "colab": {
          "base_uri": "https://localhost:8080/",
          "height": 449
        },
        "outputId": "90e17922-8e55-4c24-e130-45d852354b8a"
      },
      "source": [
        "# Первый вариант: просто удалить выбросы \n",
        "task4_v1 = task4[(task4['Metrics'] >= task4['Metrics'].quantile(q = 0.05,  interpolation = 'midpoint')) &\n",
        "                (task4['Metrics'] <= task4['Metrics'].quantile(q = 0.75,  interpolation = 'midpoint'))]\n",
        "print(task4_v1.Metrics.describe())\n",
        "# Стандартное отклонение значительно сократилось \n",
        "\n",
        "# Построим гистограмму \n",
        "task4_v1.hist(column = 'Metrics', bins = 10)\n",
        "plt.title('Гистограмма для метрики')\n",
        "plt.show()\n",
        "\n",
        "print('Коэффициент вариации после удаления выбросов ', round(task4_v1['Metrics'].std()/task4_v1['Metrics'].mean()*100, 2), '%', end = '\\n')"
      ],
      "execution_count": 54,
      "outputs": [
        {
          "output_type": "stream",
          "text": [
            "count    232596.000000\n",
            "mean          2.064842\n",
            "std           1.598625\n",
            "min           1.000000\n",
            "25%           1.000000\n",
            "50%           1.000000\n",
            "75%           3.000000\n",
            "max           7.000000\n",
            "Name: Metrics, dtype: float64\n"
          ],
          "name": "stdout"
        },
        {
          "output_type": "display_data",
          "data": {
            "image/png": "[encoded data removed]",
            "text/plain": [
              "<Figure size 432x288 with 1 Axes>"
            ]
          },
          "metadata": {
            "tags": []
          }
        },
        {
          "output_type": "stream",
          "text": [
            "Коэффициент вариации после удаления выбросов  77.42 %\n"
          ],
          "name": "stdout"
        }
      ]
    },
    {
      "cell_type": "code",
      "metadata": {
        "id": "v15OunB9gnl1",
        "colab_type": "code",
        "colab": {
          "base_uri": "https://localhost:8080/",
          "height": 50
        },
        "outputId": "ee251c15-30d1-403e-da18-13f80b23a382"
      },
      "source": [
        "# Второй вариант: преобразование Бокса-Кокса \n",
        "task4_v2 = stats.boxcox(task4.Metrics)\n",
        "print(task4_v2[0].std())\n",
        "print('Коэффициент вариации после преобразования Бокса-Кокса', round(task4_v2[0].std()/task4_v2[0].mean()*100, 2), '%', end = '\\n')"
      ],
      "execution_count": 65,
      "outputs": [
        {
          "output_type": "stream",
          "text": [
            "0.6589095507155223\n",
            "Коэффициент вариации после преобразования Бокса-Кокса 99.22 %\n"
          ],
          "name": "stdout"
        }
      ]
    },
    {
      "cell_type": "code",
      "metadata": {
        "id": "8MyW5I1gtUTJ",
        "colab_type": "code",
        "colab": {
          "base_uri": "https://localhost:8080/",
          "height": 281
        },
        "outputId": "0ee96456-4ca9-4730-b468-2efcd7b9f245"
      },
      "source": [
        "# Построим гистограмму \n",
        "pd.Series(task4_v2[0]).hist(bins = 10)\n",
        "plt.title('Гистограмма для метрики')\n",
        "plt.show()"
      ],
      "execution_count": 70,
      "outputs": [
        {
          "output_type": "display_data",
          "data": {
            "image/png": "[encoded data removed]",
            "text/plain": [
              "<Figure size 432x288 with 1 Axes>"
            ]
          },
          "metadata": {
            "tags": []
          }
        }
      ]
    },
    {
      "cell_type": "code",
      "metadata": {
        "id": "vRXUqvvaka22",
        "colab_type": "code",
        "colab": {
          "base_uri": "https://localhost:8080/",
          "height": 449
        },
        "outputId": "90966047-9960-42fc-ca12-5375c5579e79"
      },
      "source": [
        "# Логарифмическое преобразование \n",
        "print(np.log(task4.Metrics).describe())\n",
        "print('Коэффициент вариации после логарфмического преобразования', round(np.log(task4.Metrics).std()/np.log(task4.Metrics).mean()*100, 2), '%', end = '\\n')\n",
        "\n",
        "# Построим гистограмму \n",
        "pd.Series(np.log(task4.Metrics)).hist(bins = 10)\n",
        "plt.title('Гистограмма для метрики')\n",
        "plt.show()"
      ],
      "execution_count": 76,
      "outputs": [
        {
          "output_type": "stream",
          "text": [
            "count    306839.000000\n",
            "mean          1.153210\n",
            "std           1.348784\n",
            "min           0.000000\n",
            "25%           0.000000\n",
            "50%           0.693147\n",
            "75%           1.945910\n",
            "max           6.905753\n",
            "Name: Metrics, dtype: float64\n",
            "Коэффициент вариации после логарфмического преобразования 116.96 %\n"
          ],
          "name": "stdout"
        },
        {
          "output_type": "display_data",
          "data": {
            "image/png": "[encoded data removed]",
            "text/plain": [
              "<Figure size 432x288 with 1 Axes>"
            ]
          },
          "metadata": {
            "tags": []
          }
        }
      ]
    },
    {
      "cell_type": "code",
      "metadata": {
        "id": "i894CHndpbmf",
        "colab_type": "code",
        "colab": {}
      },
      "source": [
        ""
      ],
      "execution_count": 0,
      "outputs": []
    },
    {
      "cell_type": "markdown",
      "metadata": {
        "id": "BPLOR0Xv7dTe",
        "colab_type": "text"
      },
      "source": [
        "**Задание 5**\n",
        "\n",
        "Есть эксперимент с поисковыми подсказками. Вы хотим узнать, как изменился CTR в каждой группе эксперимента.\n",
        "\n",
        "**Данные**\n",
        "\n",
        "- action - кол-во кликов на одну сессию\n",
        "- view- кол-во просмотров на одну сессию\n",
        "- variant - вариант a/b теста, где 0 - это версия \"A\", 1 -  версия \"B\".\n",
        "\n",
        "**Задача**\n",
        "\n",
        "- сформировать метрику для оценки эксперимента\n",
        "- подобрать критерий под особенности данных\n",
        "- сделать вывод о значимости эффекта\n",
        "\n",
        "**Данные** \n",
        "\n",
        "[Ссылка на данные](https://www.dropbox.com/s/ji2l0lypvhs3yz5/data_for_test_1.csv)"
      ]
    },
    {
      "cell_type": "code",
      "metadata": {
        "id": "Whx3sLbz7dTi",
        "colab_type": "code",
        "colab": {
          "base_uri": "https://localhost:8080/",
          "height": 302
        },
        "outputId": "c5766f1f-70a2-4885-b30a-95614353de3e"
      },
      "source": [
        "task5 = pd.read_csv(\"/content/drive/My Drive/kaggle/data_for_test_1.csv\")\n",
        "print(task5.head())\n",
        "print(\"\\n\")\n",
        "task5[\"action\"] = [float(i.replace(',', '.')) for i in task5.action]\n",
        "task5[\"view\"] = [float(i.replace(',', '.')) for i in task5.view]\n",
        "\n",
        "print(task5.describe())"
      ],
      "execution_count": 99,
      "outputs": [
        {
          "output_type": "stream",
          "text": [
            "        user_id  variant        view      action\n",
            "0  74823.975530        0  228,168018  5,35953276\n",
            "1  21976.056693        1  620,030096   8,8021457\n",
            "2  92914.551944        0  579,260512  2,57917939\n",
            "3  46623.642233        1  259,627162  5,41485985\n",
            "4  47997.129993        0  416,715865  10,7477056\n",
            "\n",
            "\n",
            "            user_id       variant          view        action\n",
            "count  10000.000000  10000.000000  10000.000000  10000.000000\n",
            "mean   54926.068431      0.500000    528.496269      9.889013\n",
            "std    25982.541845      0.500025    274.422036      5.724645\n",
            "min    10029.166236      0.000000     50.012071      0.000843\n",
            "25%    33181.356034      0.000000    290.877005      4.926735\n",
            "50%    53328.180735      0.500000    530.734551      9.915244\n",
            "75%    77142.354732      1.000000    763.495584     14.807967\n",
            "max    99983.955885      1.000000    999.962552     19.996716\n"
          ],
          "name": "stdout"
        }
      ]
    },
    {
      "cell_type": "code",
      "metadata": {
        "id": "i839KI6CuTrd",
        "colab_type": "code",
        "colab": {}
      },
      "source": [
        "# Метрика: количество кликов на количество просмотров на одну сессию \n",
        "task5[\"metrics\"] = task5.action/task5.view"
      ],
      "execution_count": 0,
      "outputs": []
    },
    {
      "cell_type": "code",
      "metadata": {
        "id": "_tuANj0kx7XJ",
        "colab_type": "code",
        "colab": {}
      },
      "source": [
        "task5_0 = task5[task5['variant'] == 0]\n",
        "task5_1 = task5[task5['variant'] == 1]"
      ],
      "execution_count": 0,
      "outputs": []
    },
    {
      "cell_type": "code",
      "metadata": {
        "id": "qYZDkx6HASQW",
        "colab_type": "code",
        "colab": {
          "base_uri": "https://localhost:8080/",
          "height": 50
        },
        "outputId": "c129a0f3-4b9f-4eda-ae62-067a09894b03"
      },
      "source": [
        "# Чтобы выбрать используемый критерий, проверим данные на нормальность \n",
        "# Используем критерий Шапиро-Уилка \n",
        "# Н0: распределение нормальное \n",
        "# pvalue = 0 => на основе имеющихся данных отвергаем нулевую гипотезу в пользу альтернативы \n",
        "# Однако стоит отметить, что мощность критерия велика при большом объеме выборки \n",
        "print(\"Результаты теста Шапиро для 0 группы:\", stats.shapiro(task5_0[\"metrics\"].values))\n",
        "print(\"Результаты теста Шапиро: для 1 группы\", stats.shapiro(task5_1[\"metrics\"].values))"
      ],
      "execution_count": 102,
      "outputs": [
        {
          "output_type": "stream",
          "text": [
            "Результаты теста Шапиро для 0 группы: (0.6218699812889099, 0.0)\n",
            "Результаты теста Шапиро: для 1 группы (0.6330718398094177, 0.0)\n"
          ],
          "name": "stdout"
        }
      ]
    },
    {
      "cell_type": "code",
      "metadata": {
        "id": "J601PyHZyQtS",
        "colab_type": "code",
        "colab": {
          "base_uri": "https://localhost:8080/",
          "height": 34
        },
        "outputId": "da1f02c6-e505-4019-813c-df3601d659c1"
      },
      "source": [
        "# Используем непараметрический критерий Манна-Уитни, так как данные не распределны нормально\n",
        "\n",
        "# H0: значения характеристик выборок равны\n",
        "# pvalue > 0.05, на имеющихся данных нет оснований отвергнуть нулевую гипотезу в пользу альтернативы \n",
        "# Между выборками нет статистически значимых различий \n",
        "# Можем сделать вывод о незначимости эффекта \n",
        "print('Тест Манна-Уитни:', stats.mannwhitneyu(task5_0[\"metrics\"].values, task5_1[\"metrics\"].values))"
      ],
      "execution_count": 103,
      "outputs": [
        {
          "output_type": "stream",
          "text": [
            "Тест Манна-Уитни: MannwhitneyuResult(statistic=12437340.0, pvalue=0.33210934831189537)\n"
          ],
          "name": "stdout"
        }
      ]
    },
    {
      "cell_type": "code",
      "metadata": {
        "id": "qYzSIEroTSV5",
        "colab_type": "code",
        "colab": {
          "base_uri": "https://localhost:8080/",
          "height": 34
        },
        "outputId": "98318649-d072-4327-dba3-0f73b78e3d01"
      },
      "source": [
        "# Также можно использовать bootstrap \n",
        "# Используем код из предыдущего задания\n",
        "\n",
        "mean_force = np.mean(task5[\"metrics\"])\n",
        "task3_0_shifted = task5_0[\"metrics\"].values - np.mean(task5_0[\"metrics\"].values) + mean_force\n",
        "task3_1_shifted = task5_1[\"metrics\"].values - np.mean(task5_1[\"metrics\"].values) + mean_force\n",
        "\n",
        "bs_replicates_0 = draw_bs_reps(task3_0_shifted, np.mean, size=10000)\n",
        "bs_replicates_1 = draw_bs_reps(task3_1_shifted, np.mean, size=10000)\n",
        "\n",
        "bs_replicates = bs_replicates_0 - bs_replicates_1\n",
        "\n",
        "empirical_diff_means = np.mean(task5_0[\"metrics\"].values) - np.mean(task5_1[\"metrics\"].values)\n",
        "\n",
        "p = np.sum(bs_replicates >= empirical_diff_means) / len(bs_replicates)\n",
        "print('p-value =', p) \n",
        "\n",
        "# pvalue > 0.05 => на основании имеющихся данных нет оснований отвергнуть нулевую гипотезу\n",
        "# можем сделать вывод о незначимости эффекта "
      ],
      "execution_count": 118,
      "outputs": [
        {
          "output_type": "stream",
          "text": [
            "p-value = 0.6637\n"
          ],
          "name": "stdout"
        }
      ]
    },
    {
      "cell_type": "code",
      "metadata": {
        "id": "ujSisbXKZwW9",
        "colab_type": "code",
        "colab": {
          "base_uri": "https://localhost:8080/",
          "height": 34
        },
        "outputId": "9ce09e9f-fd39-4f51-efc3-b6e294314d2b"
      },
      "source": [
        "# Или воспользуемся реализацией из библиотеки \n",
        "\n",
        "from bootstrapped import bootstrap as bs\n",
        "from bootstrapped import compare_functions as bs_cmp\n",
        "from bootstrapped import stats_functions as bs_st\n",
        "\n",
        "\n",
        "bs_ab_estims = bs.bootstrap_ab(np.array(task5_0[\"metrics\"]), np.array(task5_1[\"metrics\"]), \n",
        "                               bs_st.mean, bs_cmp.difference, \n",
        "                               num_iterations=10000, alpha=0.05/3, \n",
        "                               iteration_batch_size=100, scale_test_by=1, \n",
        "                               num_threads=4)\n",
        "bs_ab_estims\n",
        "\n",
        "# Как можно заметить, CI включает ноль, следовательно, можем говорить об отсутствии статистически значимых различий между группами "
      ],
      "execution_count": 121,
      "outputs": [
        {
          "output_type": "execute_result",
          "data": {
            "text/plain": [
              "-0.00035533458179805993    (-0.0023849221362866545, 0.0016648236441987375)"
            ]
          },
          "metadata": {
            "tags": []
          },
          "execution_count": 121
        }
      ]
    },
    {
      "cell_type": "code",
      "metadata": {
        "id": "2BhvB7jKZ6jJ",
        "colab_type": "code",
        "colab": {}
      },
      "source": [
        ""
      ],
      "execution_count": 0,
      "outputs": []
    }
  ]
}