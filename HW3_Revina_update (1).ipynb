{
 "cells": [
  {
   "cell_type": "markdown",
   "metadata": {
    "colab_type": "text",
    "id": "gO2BchskQWoH"
   },
   "source": [
    "# Домашнее задание 3.\n",
    "\n",
    "`Keras` и сверточные нейронные сети."
   ]
  },
  {
   "cell_type": "code",
   "execution_count": 37,
   "metadata": {
    "colab": {
     "base_uri": "https://localhost:8080/",
     "height": 52
    },
    "colab_type": "code",
    "id": "WmIuIaLEATMn",
    "outputId": "13283ea3-7f18-4ace-f6f8-cd64aa721c97"
   },
   "outputs": [
    {
     "name": "stdout",
     "output_type": "stream",
     "text": [
      "1.15.0\n",
      "2.2.5\n"
     ]
    }
   ],
   "source": [
    "import tensorflow as tf\n",
    "import keras\n",
    "from keras import backend as K\n",
    "import numpy as np\n",
    "%matplotlib inline\n",
    "import matplotlib.pyplot as plt\n",
    "print(tf.__version__)\n",
    "print(keras.__version__)"
   ]
  },
  {
   "cell_type": "code",
   "execution_count": 0,
   "metadata": {
    "colab": {},
    "colab_type": "code",
    "id": "efsrp4vQfls5"
   },
   "outputs": [],
   "source": [
    "def reset_tf_session():\n",
    "    curr_session = tf.get_default_session()\n",
    "    if curr_session is not None:\n",
    "        curr_session.close()\n",
    "    K.clear_session()\n",
    "    config = tf.ConfigProto()\n",
    "    config.gpu_options.allow_growth = True\n",
    "    s = tf.InteractiveSession(config=config)\n",
    "    K.set_session(s)\n",
    "    return s"
   ]
  },
  {
   "cell_type": "markdown",
   "metadata": {
    "colab_type": "text",
    "id": "HE_SpMQMQm8Y"
   },
   "source": [
    "## Задание 1 — инициализация весов CNN (3 балла).\n",
    "\n",
    "В этом задании нужно будет исследовать, как выбор функции инициализации весов влияет на обучение CNN.\n"
   ]
  },
  {
   "cell_type": "markdown",
   "metadata": {
    "colab_type": "text",
    "id": "oIoAOXkJSwbs"
   },
   "source": [
    "Продолжим работать с датасетом CIFAR-10."
   ]
  },
  {
   "cell_type": "code",
   "execution_count": 40,
   "metadata": {
    "colab": {
     "base_uri": "https://localhost:8080/",
     "height": 52
    },
    "colab_type": "code",
    "id": "IsuA4kiHA4ff",
    "outputId": "b2a09e9f-9530-4074-fe90-b43a72a154e2"
   },
   "outputs": [
    {
     "name": "stdout",
     "output_type": "stream",
     "text": [
      "Train samples: (50000, 32, 32, 3) (50000, 1)\n",
      "Test samples: (10000, 32, 32, 3) (10000, 1)\n"
     ]
    }
   ],
   "source": [
    "from keras.datasets import cifar10\n",
    "(x_train, y_train), (x_test, y_test) = cifar10.load_data()\n",
    "\n",
    "NUM_CLASSES = 10\n",
    "cifar10_classes = [\"airplane\", \"automobile\", \"bird\", \"cat\", \"deer\", \n",
    "                   \"dog\", \"frog\", \"horse\", \"ship\", \"truck\"]\n",
    "\n",
    "print(\"Train samples:\", x_train.shape, y_train.shape)\n",
    "print(\"Test samples:\", x_test.shape, y_test.shape)\n",
    "\n",
    "# нормализуем входные данные\n",
    "x_train = x_train / 255 - 0.5\n",
    "x_test = x_test / 255 - 0.5\n",
    "\n",
    "y_train = keras.utils.to_categorical(y_train, 10)\n",
    "y_test = keras.utils.to_categorical(y_test, 10)"
   ]
  },
  {
   "cell_type": "code",
   "execution_count": 0,
   "metadata": {
    "colab": {},
    "colab_type": "code",
    "id": "xNl2e8LeftcC"
   },
   "outputs": [],
   "source": [
    "from keras.models import Sequential\n",
    "from keras.layers import Conv2D, MaxPooling2D, Flatten, Dense, Activation, Dropout\n",
    "from keras.layers.advanced_activations import LeakyReLU\n",
    "from keras.models import load_model"
   ]
  },
  {
   "cell_type": "markdown",
   "metadata": {
    "colab_type": "text",
    "id": "f2vQIUE3UeiE"
   },
   "source": [
    "Определим функцию `fit_model` с архитектурой архитектура CNN.\n",
    "\n",
    "Метод `model.fit` возвращает объект класса `keras.callbacks.History()` — это колбэк, который автоматически применяется ко всем моделям и логирует много чего полезного. В частности логируются значения функции потерь на каждой итерации."
   ]
  },
  {
   "cell_type": "markdown",
   "metadata": {
    "colab_type": "text",
    "id": "dDslR6vNZry8"
   },
   "source": [
    "**Задание 1.1** (0.5 балла) Добавьте в архитектуру модели инициализацию весов для тех слоев, где она необходима.\n"
   ]
  },
  {
   "cell_type": "code",
   "execution_count": 0,
   "metadata": {
    "colab": {},
    "colab_type": "code",
    "id": "2_Lu7SO3CMid"
   },
   "outputs": [],
   "source": [
    "def fit_model(initializer='glorot_normal'):\n",
    "    s = reset_tf_session()  \n",
    "    INIT_LR = 5e-3\n",
    "    BATCH_SIZE = 32\n",
    "    EPOCHS = 10\n",
    "   \n",
    "    def lr_scheduler(epoch):\n",
    "        return INIT_LR * 0.9 ** epoch  \n",
    "\n",
    "    ### YOUR CODE HERE \n",
    "    # kernel_initializer=initializer для тех слоев, которым нужна инициализация весов\n",
    "#     также инициализируем bias в соответствие с данным методом инициализации весов \n",
    "    model = Sequential()\n",
    "    model.add(Conv2D(filters=16, padding='same', kernel_size=(3,3), input_shape=(32,32,3), kernel_initializer=initializer))\n",
    "    model.add(LeakyReLU(0.1))\n",
    "    model.add(Conv2D(filters=64, padding='same', kernel_size=(3,3), kernel_initializer=initializer))  \n",
    "    model.add(LeakyReLU(0.1))\n",
    "    model.add(MaxPooling2D(pool_size=(2,2), padding='same'))\n",
    "    model.add(Dropout(0.25))\n",
    "    model.add(Flatten())\n",
    "    model.add(Dense(40, kernel_initializer=initializer))\n",
    "    model.add(LeakyReLU(0.1))\n",
    "    model.add(Dropout(0.5))    \n",
    "    model.add(Dense(10, kernel_initializer=initializer))\n",
    "    model.add(Activation(\"softmax\"))\n",
    "\n",
    "\n",
    "    model.compile(\n",
    "        loss='categorical_crossentropy',\n",
    "        optimizer=keras.optimizers.adamax(lr=INIT_LR),\n",
    "        metrics=['accuracy']\n",
    "    )\n",
    "  \n",
    "    history = model.fit(\n",
    "        x_train, y_train,\n",
    "        batch_size=BATCH_SIZE,\n",
    "        epochs=EPOCHS,\n",
    "        callbacks=[keras.callbacks.LearningRateScheduler(lr_scheduler)],                   \n",
    "        shuffle=True,\n",
    "        verbose=0,\n",
    "        initial_epoch=0    \n",
    "    )\n",
    "\n",
    "    # Возвращаем объект класса keras.callbacks.History\n",
    "    return history"
   ]
  },
  {
   "cell_type": "markdown",
   "metadata": {
    "colab_type": "text",
    "id": "bYkZkghfT4uN"
   },
   "source": [
    "**Задание 1.2** (1.5 балла). Обучите модель с разными [функциями инициализации](https://keras.io/initializers/) весов:\n",
    "* `Zeros` — веса инициализируются нулями\n",
    "* `Constant=0.05` — веса инициализируются константой 0.05\n",
    "* `RandomUniform` — веса генерируются равномерно из отрезка [-0.05, 0.05]\n",
    "* `glorot_normal` — Xavier initializer из лекций\n",
    "* `lecun_uniform`\n",
    "\n",
    "Добавьте в список `losses` значения функции потерь для каждой функции инициализации, их можно достать из `History`\n",
    "\n"
   ]
  },
  {
   "cell_type": "code",
   "execution_count": 0,
   "metadata": {
    "colab": {},
    "colab_type": "code",
    "id": "dTieYmgUmQ8G"
   },
   "outputs": [],
   "source": [
    "losses = []\n",
    "\n",
    "### YOUR CODE HERE \n",
    "\n",
    "seed = 24\n",
    "kernel_initializers = [keras.initializers.Zeros(), keras.initializers.Constant(value=0.05), keras.initializers.RandomUniform(minval=-0.05, maxval=0.05, seed=seed), \n",
    "                       keras.initializers.glorot_normal(seed=seed), \n",
    "                      keras.initializers.lecun_uniform(seed=seed)]\n",
    "\n",
    "for initializer in kernel_initializers: \n",
    "  model_history = fit_model(initializer)\n",
    "  losses.append(model_history.history[\"loss\"])"
   ]
  },
  {
   "cell_type": "code",
   "execution_count": 44,
   "metadata": {
    "colab": {
     "base_uri": "https://localhost:8080/",
     "height": 906
    },
    "colab_type": "code",
    "id": "T36dJAnMZMGP",
    "outputId": "81631d31-4b66-4e43-f2e7-0d7d0fb38ea3"
   },
   "outputs": [
    {
     "data": {
      "text/plain": [
       "[[2.3029122087860108,\n",
       "  2.3028162826538088,\n",
       "  2.3028494019317627,\n",
       "  2.3027587626647947,\n",
       "  2.3028209481811523,\n",
       "  2.3027430061340333,\n",
       "  2.3027966853332518,\n",
       "  2.3027703868103027,\n",
       "  2.3027235234832766,\n",
       "  2.3027435064697266],\n",
       " [2.3755464706420897,\n",
       "  2.0556374168395997,\n",
       "  1.8040102519226073,\n",
       "  1.6209542013549805,\n",
       "  1.4974598197174072,\n",
       "  1.4114055272293091,\n",
       "  1.3627362768173217,\n",
       "  1.3213453575515748,\n",
       "  1.2839852626419068,\n",
       "  1.2573542278671264],\n",
       " [1.6032629417419433,\n",
       "  1.3291396502304078,\n",
       "  1.195523053779602,\n",
       "  1.1015328778457643,\n",
       "  1.037270414276123,\n",
       "  0.9878785142707824,\n",
       "  0.9408732696342468,\n",
       "  0.907763901386261,\n",
       "  0.8766499255752563,\n",
       "  0.8530434630203247],\n",
       " [1.483590192527771,\n",
       "  1.1640102808761597,\n",
       "  1.0580539186096192,\n",
       "  0.982877748374939,\n",
       "  0.9254959672355652,\n",
       "  0.8764760701942443,\n",
       "  0.8330572758579254,\n",
       "  0.8022372530174255,\n",
       "  0.7673941486358643,\n",
       "  0.736058295917511],\n",
       " [1.492554641456604,\n",
       "  1.1714252210998535,\n",
       "  1.055438744621277,\n",
       "  0.9775937824058533,\n",
       "  0.9169053282928467,\n",
       "  0.8686384379768372,\n",
       "  0.8227058170890809,\n",
       "  0.790623861026764,\n",
       "  0.7530298267936707,\n",
       "  0.7288888404560089]]"
      ]
     },
     "execution_count": 44,
     "metadata": {
      "tags": []
     },
     "output_type": "execute_result"
    }
   ],
   "source": [
    "losses"
   ]
  },
  {
   "cell_type": "markdown",
   "metadata": {
    "colab_type": "text",
    "id": "wsk8bCEPcOav"
   },
   "source": [
    "**Задание 1.3** (1 балла). Постройте графики зависимости функций потерь от номера итерации, подпишите их. Прокомментируйте результат."
   ]
  },
  {
   "cell_type": "code",
   "execution_count": 45,
   "metadata": {
    "colab": {
     "base_uri": "https://localhost:8080/",
     "height": 531
    },
    "colab_type": "code",
    "id": "3yqBZIYEAPWZ",
    "outputId": "5e4459df-e0ce-449a-909e-9410d07db1fa"
   },
   "outputs": [
    {
     "data": {
      "text/plain": [
       "<matplotlib.legend.Legend at 0x7f45b23d0eb8>"
      ]
     },
     "execution_count": 45,
     "metadata": {
      "tags": []
     },
     "output_type": "execute_result"
    },
    {
     "data": {
      "image/png": "[encoded data removed]",
      "text/plain": [
       "<Figure size 720x576 with 1 Axes>"
      ]
     },
     "metadata": {
      "tags": []
     },
     "output_type": "display_data"
    }
   ],
   "source": [
    "### YOUR CODE HERE \n",
    "plt.figure(figsize=(10, 8))\n",
    "\n",
    "lables = [\"Zeros\", \"Constant = 0.05\", \"RandomUniform\", \"glorot_normal\", \"lecun_uniform\"]\n",
    "\n",
    "for i in range(len(losses)): \n",
    "  plt.plot(losses[i], label = lables[i])\n",
    "plt.title('Значение лосса при различных функциях инициализации весов')\n",
    "plt.xlabel('Epoch')\n",
    "plt.ylabel('Loss')\n",
    "plt.legend()"
   ]
  },
  {
   "cell_type": "markdown",
   "metadata": {
    "colab_type": "text",
    "id": "nUTwPufRzsh7"
   },
   "source": [
    "Исходя из графика видно, что инициализация весов рандомными значениями показывает результаты лучше по сравнению с иницализацией весов константными значениями (в данном случае, нулями или 0.5). Так как веса были заданы одинаковыми значениями, градиенты весов для обновления становятся также практически одинаковы. В итоге это замедляет процесс обучения. "
   ]
  },
  {
   "cell_type": "markdown",
   "metadata": {
    "colab_type": "text",
    "id": "nellCcusBAZ8"
   },
   "source": [
    "## Задание 2 — CNN для CIFAR-10 с сохранением весов модели (7 баллов)\n",
    "\n",
    "В этом задании мы модифицируем нейросеть с семинара, чтобы она достигала большего значения `accuracy` и научимся сохранять веса модели в файл во время обучения. Можно использовать только те же слои, которые использовались на семинаре: `Conv2D, MaxPooling2D,  LeakyReLU, Dropout, Flatten, Dense`."
   ]
  },
  {
   "cell_type": "markdown",
   "metadata": {
    "colab_type": "text",
    "id": "xuVF3c2qJwyx"
   },
   "source": [
    "**Задание 2.1** (4 балла). Подберите архитектуру модели так, чтобы значение `accuracy` на тестовой выборке было не менее 85."
   ]
  },
  {
   "cell_type": "code",
   "execution_count": 0,
   "metadata": {
    "colab": {},
    "colab_type": "code",
    "id": "syKDJPUdCtoI"
   },
   "outputs": [],
   "source": [
    "def make_model():    \n",
    "\n",
    "    ### YOUR CODE HERE\n",
    "    initializer = keras.initializers.lecun_uniform(seed=seed)\n",
    "    \n",
    "    model = Sequential()\n",
    "    \n",
    "    model.add(Conv2D(filters=32, padding='same', kernel_size=(3,3), input_shape=(32,32,3), \n",
    "                    kernel_initializer=initializer))\n",
    "    model.add(LeakyReLU(0.1))\n",
    "    model.add(Conv2D(filters=64, padding='same', kernel_size=(3,3), \n",
    "                    kernel_initializer=initializer))  \n",
    "    model.add(LeakyReLU(0.1))\n",
    "    model.add(MaxPooling2D(pool_size=(2,2), padding='same'))\n",
    "    model.add(Dropout(0.25))\n",
    "    \n",
    "    model.add(Conv2D(filters=64, padding='same', kernel_size=(3,3), \n",
    "                    kernel_initializer=initializer))  \n",
    "    model.add(LeakyReLU(0.1))\n",
    "    model.add(Conv2D(filters=64, padding='same', kernel_size=(3,3), \n",
    "                    kernel_initializer=initializer))  \n",
    "    model.add(LeakyReLU(0.1))\n",
    "    model.add(MaxPooling2D(pool_size=(2,2), padding='same')) \n",
    "    model.add(Dropout(0.3)) \n",
    "    \n",
    "    model.add(Conv2D(filters=128, padding='same', kernel_size=(3,3), \n",
    "                    kernel_initializer=initializer))  \n",
    "    model.add(LeakyReLU(0.1))\n",
    "    model.add(Conv2D(filters=128, padding='same', kernel_size=(3,3), \n",
    "                    kernel_initializer=initializer))  \n",
    "    model.add(LeakyReLU(0.1))\n",
    "    model.add(MaxPooling2D(pool_size=(2,2), padding='same')) \n",
    "    model.add(Dropout(0.5))\n",
    "    \n",
    "    \n",
    "    model.add(Flatten())\n",
    "    \n",
    "    model.add(Dense(1024, kernel_initializer=initializer))                \n",
    "    model.add(LeakyReLU(0.1))\n",
    "    model.add(Dropout(0.5))  \n",
    "    \n",
    "    model.add(Dense(10, kernel_initializer=initializer))             \n",
    "    model.add(Activation(\"softmax\"))\n",
    "    \n",
    "    return model"
   ]
  },
  {
   "cell_type": "code",
   "execution_count": 47,
   "metadata": {
    "colab": {
     "base_uri": "https://localhost:8080/",
     "height": 1000
    },
    "colab_type": "code",
    "id": "MoZifjkgFdcg",
    "outputId": "a545eb0a-04b2-4055-ff5d-799cbcc9a94d"
   },
   "outputs": [
    {
     "name": "stdout",
     "output_type": "stream",
     "text": [
      "Model: \"sequential_1\"\n",
      "_________________________________________________________________\n",
      "Layer (type)                 Output Shape              Param #   \n",
      "=================================================================\n",
      "conv2d_1 (Conv2D)            (None, 32, 32, 32)        896       \n",
      "_________________________________________________________________\n",
      "leaky_re_lu_1 (LeakyReLU)    (None, 32, 32, 32)        0         \n",
      "_________________________________________________________________\n",
      "conv2d_2 (Conv2D)            (None, 32, 32, 64)        18496     \n",
      "_________________________________________________________________\n",
      "leaky_re_lu_2 (LeakyReLU)    (None, 32, 32, 64)        0         \n",
      "_________________________________________________________________\n",
      "max_pooling2d_1 (MaxPooling2 (None, 16, 16, 64)        0         \n",
      "_________________________________________________________________\n",
      "dropout_1 (Dropout)          (None, 16, 16, 64)        0         \n",
      "_________________________________________________________________\n",
      "conv2d_3 (Conv2D)            (None, 16, 16, 64)        36928     \n",
      "_________________________________________________________________\n",
      "leaky_re_lu_3 (LeakyReLU)    (None, 16, 16, 64)        0         \n",
      "_________________________________________________________________\n",
      "conv2d_4 (Conv2D)            (None, 16, 16, 64)        36928     \n",
      "_________________________________________________________________\n",
      "leaky_re_lu_4 (LeakyReLU)    (None, 16, 16, 64)        0         \n",
      "_________________________________________________________________\n",
      "max_pooling2d_2 (MaxPooling2 (None, 8, 8, 64)          0         \n",
      "_________________________________________________________________\n",
      "dropout_2 (Dropout)          (None, 8, 8, 64)          0         \n",
      "_________________________________________________________________\n",
      "conv2d_5 (Conv2D)            (None, 8, 8, 128)         73856     \n",
      "_________________________________________________________________\n",
      "leaky_re_lu_5 (LeakyReLU)    (None, 8, 8, 128)         0         \n",
      "_________________________________________________________________\n",
      "conv2d_6 (Conv2D)            (None, 8, 8, 128)         147584    \n",
      "_________________________________________________________________\n",
      "leaky_re_lu_6 (LeakyReLU)    (None, 8, 8, 128)         0         \n",
      "_________________________________________________________________\n",
      "max_pooling2d_3 (MaxPooling2 (None, 4, 4, 128)         0         \n",
      "_________________________________________________________________\n",
      "dropout_3 (Dropout)          (None, 4, 4, 128)         0         \n",
      "_________________________________________________________________\n",
      "flatten_1 (Flatten)          (None, 2048)              0         \n",
      "_________________________________________________________________\n",
      "dense_1 (Dense)              (None, 1024)              2098176   \n",
      "_________________________________________________________________\n",
      "leaky_re_lu_7 (LeakyReLU)    (None, 1024)              0         \n",
      "_________________________________________________________________\n",
      "dropout_4 (Dropout)          (None, 1024)              0         \n",
      "_________________________________________________________________\n",
      "dense_2 (Dense)              (None, 10)                10250     \n",
      "_________________________________________________________________\n",
      "activation_1 (Activation)    (None, 10)                0         \n",
      "=================================================================\n",
      "Total params: 2,423,114\n",
      "Trainable params: 2,423,114\n",
      "Non-trainable params: 0\n",
      "_________________________________________________________________\n"
     ]
    }
   ],
   "source": [
    "s = reset_tf_session()\n",
    "model = make_model()\n",
    "model.summary()"
   ]
  },
  {
   "cell_type": "markdown",
   "metadata": {
    "colab_type": "text",
    "id": "JJLpZQhJGBqL"
   },
   "source": [
    "**Задание 2.2** (2 балла). Реализуйте колбэк, который сохраняет модель в `.hdf5` файл и печатает имя файла, в который была сохранена модель. Используйте функцию `model_save`. Строка с именем файла имеет вид `<name>_{0:02d}.hdf5`, отформатируйте ее так, чтобы в имени строки фигурировал номер эпохи."
   ]
  },
  {
   "cell_type": "code",
   "execution_count": 0,
   "metadata": {
    "colab": {},
    "colab_type": "code",
    "id": "xYjUeuDXGBII"
   },
   "outputs": [],
   "source": [
    "from keras.models import save_model, load_model\n",
    "\n",
    "class ModelSaveCallback(keras.callbacks.Callback):\n",
    "\n",
    "    def __init__(self, file_name):\n",
    "        super(ModelSaveCallback, self).__init__()\n",
    "        self.file_name = file_name\n",
    "\n",
    "    def on_epoch_end(self, epoch, logs=None):\n",
    "        ### YOUR CODE HERE\n",
    "      epoch += 1 \n",
    "      name = self.file_name.format(epoch)\n",
    "      save_model(model, name)\n",
    "      print(\"Model was saved into following file: {}\".format(name))"
   ]
  },
  {
   "cell_type": "markdown",
   "metadata": {
    "colab_type": "text",
    "id": "Svrwkh8ALpHa"
   },
   "source": [
    "**Задание 2.3** (1 балл). Реализуйте функцию, которая с помощью `load_model` будет загружать модель из файла."
   ]
  },
  {
   "cell_type": "code",
   "execution_count": 0,
   "metadata": {
    "colab": {},
    "colab_type": "code",
    "id": "fVD0P5V7M00C"
   },
   "outputs": [],
   "source": [
    "def load_from_file(model_filename, last_epoch):\n",
    "  ### YOUR CODE HERE\n",
    "  model = load_model(model_filename)\n",
    "  epoch = last_epoch \n",
    "  return model"
   ]
  },
  {
   "cell_type": "code",
   "execution_count": 50,
   "metadata": {
    "colab": {
     "base_uri": "https://localhost:8080/",
     "height": 1000
    },
    "colab_type": "code",
    "id": "zOLb6flQFjCw",
    "outputId": "797e0087-50c7-423b-a2cf-1eab2c80d77b"
   },
   "outputs": [
    {
     "name": "stdout",
     "output_type": "stream",
     "text": [
      "Train on 50000 samples, validate on 10000 samples\n",
      "Epoch 1/20\n",
      "50000/50000 [==============================] - 57s 1ms/step - loss: 1.3684 - acc: 0.5009 - val_loss: 1.0760 - val_acc: 0.6287\n",
      "Model was saved into following file: weights_01.hdf5\n",
      "Epoch 2/20\n",
      "50000/50000 [==============================] - 48s 965us/step - loss: 0.9589 - acc: 0.6641 - val_loss: 0.7967 - val_acc: 0.7240\n",
      "Model was saved into following file: weights_02.hdf5\n",
      "Epoch 3/20\n",
      "50000/50000 [==============================] - 48s 960us/step - loss: 0.8220 - acc: 0.7157 - val_loss: 0.7459 - val_acc: 0.7478\n",
      "Model was saved into following file: weights_03.hdf5\n",
      "Epoch 4/20\n",
      "50000/50000 [==============================] - 48s 967us/step - loss: 0.7345 - acc: 0.7468 - val_loss: 0.6596 - val_acc: 0.7793\n",
      "Model was saved into following file: weights_04.hdf5\n",
      "Epoch 5/20\n",
      "50000/50000 [==============================] - 48s 950us/step - loss: 0.6752 - acc: 0.7670 - val_loss: 0.6132 - val_acc: 0.7945\n",
      "Model was saved into following file: weights_05.hdf5\n",
      "Epoch 6/20\n",
      "50000/50000 [==============================] - 47s 945us/step - loss: 0.6229 - acc: 0.7839 - val_loss: 0.5959 - val_acc: 0.7989\n",
      "Model was saved into following file: weights_06.hdf5\n",
      "Epoch 7/20\n",
      "50000/50000 [==============================] - 48s 961us/step - loss: 0.5841 - acc: 0.7992 - val_loss: 0.5366 - val_acc: 0.8169\n",
      "Model was saved into following file: weights_07.hdf5\n",
      "Epoch 8/20\n",
      "50000/50000 [==============================] - 48s 962us/step - loss: 0.5383 - acc: 0.8144 - val_loss: 0.5523 - val_acc: 0.8252\n",
      "Model was saved into following file: weights_08.hdf5\n",
      "Epoch 9/20\n",
      "50000/50000 [==============================] - 48s 953us/step - loss: 0.5046 - acc: 0.8259 - val_loss: 0.5320 - val_acc: 0.8253\n",
      "Model was saved into following file: weights_09.hdf5\n",
      "Epoch 10/20\n",
      "50000/50000 [==============================] - 48s 952us/step - loss: 0.4693 - acc: 0.8373 - val_loss: 0.5308 - val_acc: 0.8292\n",
      "Model was saved into following file: weights_10.hdf5\n",
      "Epoch 11/20\n",
      "50000/50000 [==============================] - 47s 948us/step - loss: 0.4488 - acc: 0.8445 - val_loss: 0.4874 - val_acc: 0.8407\n",
      "Model was saved into following file: weights_11.hdf5\n",
      "Epoch 12/20\n",
      "50000/50000 [==============================] - 48s 964us/step - loss: 0.4252 - acc: 0.8531 - val_loss: 0.4680 - val_acc: 0.8504\n",
      "Model was saved into following file: weights_12.hdf5\n",
      "Epoch 13/20\n",
      "50000/50000 [==============================] - 48s 961us/step - loss: 0.3976 - acc: 0.8613 - val_loss: 0.5035 - val_acc: 0.8413\n",
      "Model was saved into following file: weights_13.hdf5\n",
      "Epoch 14/20\n",
      "50000/50000 [==============================] - 48s 953us/step - loss: 0.3797 - acc: 0.8671 - val_loss: 0.4935 - val_acc: 0.8462\n",
      "Model was saved into following file: weights_14.hdf5\n",
      "Epoch 15/20\n",
      "50000/50000 [==============================] - 47s 944us/step - loss: 0.3618 - acc: 0.8747 - val_loss: 0.4609 - val_acc: 0.8549\n",
      "Model was saved into following file: weights_15.hdf5\n",
      "Epoch 16/20\n",
      "50000/50000 [==============================] - 47s 934us/step - loss: 0.3395 - acc: 0.8801 - val_loss: 0.4623 - val_acc: 0.8530\n",
      "Model was saved into following file: weights_16.hdf5\n",
      "Epoch 17/20\n",
      "50000/50000 [==============================] - 47s 942us/step - loss: 0.3258 - acc: 0.8861 - val_loss: 0.4594 - val_acc: 0.8565\n",
      "Model was saved into following file: weights_17.hdf5\n",
      "Epoch 18/20\n",
      "50000/50000 [==============================] - 48s 957us/step - loss: 0.3144 - acc: 0.8901 - val_loss: 0.4776 - val_acc: 0.8588\n",
      "Model was saved into following file: weights_18.hdf5\n",
      "Epoch 19/20\n",
      "50000/50000 [==============================] - 47s 949us/step - loss: 0.3057 - acc: 0.8927 - val_loss: 0.4628 - val_acc: 0.8612\n",
      "Model was saved into following file: weights_19.hdf5\n",
      "Epoch 20/20\n",
      "50000/50000 [==============================] - 48s 951us/step - loss: 0.2954 - acc: 0.8969 - val_loss: 0.4639 - val_acc: 0.8585\n",
      "Model was saved into following file: weights_20.hdf5\n"
     ]
    }
   ],
   "source": [
    "INIT_LR = 5e-3\n",
    "BATCH_SIZE = 32\n",
    "EPOCHS = 20\n",
    "\n",
    "model_filename = 'weights_{0:02d}.hdf5'\n",
    "\n",
    "s = reset_tf_session()\n",
    "\n",
    "model = make_model()\n",
    "\n",
    "model.compile(\n",
    "    loss='categorical_crossentropy',\n",
    "    optimizer=keras.optimizers.adamax(lr=INIT_LR),\n",
    "    metrics=['accuracy']\n",
    ")\n",
    "\n",
    "def lr_scheduler(epoch):\n",
    "    return INIT_LR * 0.9 ** epoch \n",
    "\n",
    "# в случае, если обучение было прервано, можно загрузить модель из файла, \n",
    "# соответствующего последней эпохе, за которую есть сохраненные веса\n",
    "# model = load_from_file(model_filename, 4)\n",
    "  \n",
    "history = model.fit(\n",
    "    x_train, y_train,\n",
    "    batch_size=BATCH_SIZE,\n",
    "    epochs=EPOCHS,\n",
    "    callbacks=[keras.callbacks.LearningRateScheduler(lr_scheduler), \n",
    "               # не забудьте передать сюда ModelSaveCallback\n",
    "               ModelSaveCallback(model_filename)\n",
    "              ],\n",
    "    validation_data=(x_test, y_test),\n",
    "    shuffle=True,\n",
    "    verbose=1,\n",
    "    initial_epoch=0    \n",
    ")\n",
    "  "
   ]
  },
  {
   "cell_type": "code",
   "execution_count": 0,
   "metadata": {
    "colab": {},
    "colab_type": "code",
    "id": "XduqgbHCS4YZ"
   },
   "outputs": [],
   "source": [
    "model = load_from_file('weights_20.hdf5', 20)"
   ]
  },
  {
   "cell_type": "code",
   "execution_count": 52,
   "metadata": {
    "colab": {
     "base_uri": "https://localhost:8080/",
     "height": 1000
    },
    "colab_type": "code",
    "id": "Gz38vzb8TdY-",
    "outputId": "ab01e72d-edb3-424c-bdbb-419d82cb61c8"
   },
   "outputs": [
    {
     "name": "stdout",
     "output_type": "stream",
     "text": [
      "Model: \"sequential_1\"\n",
      "_________________________________________________________________\n",
      "Layer (type)                 Output Shape              Param #   \n",
      "=================================================================\n",
      "conv2d_1 (Conv2D)            (None, 32, 32, 32)        896       \n",
      "_________________________________________________________________\n",
      "leaky_re_lu_1 (LeakyReLU)    (None, 32, 32, 32)        0         \n",
      "_________________________________________________________________\n",
      "conv2d_2 (Conv2D)            (None, 32, 32, 64)        18496     \n",
      "_________________________________________________________________\n",
      "leaky_re_lu_2 (LeakyReLU)    (None, 32, 32, 64)        0         \n",
      "_________________________________________________________________\n",
      "max_pooling2d_1 (MaxPooling2 (None, 16, 16, 64)        0         \n",
      "_________________________________________________________________\n",
      "dropout_1 (Dropout)          (None, 16, 16, 64)        0         \n",
      "_________________________________________________________________\n",
      "conv2d_3 (Conv2D)            (None, 16, 16, 64)        36928     \n",
      "_________________________________________________________________\n",
      "leaky_re_lu_3 (LeakyReLU)    (None, 16, 16, 64)        0         \n",
      "_________________________________________________________________\n",
      "conv2d_4 (Conv2D)            (None, 16, 16, 64)        36928     \n",
      "_________________________________________________________________\n",
      "leaky_re_lu_4 (LeakyReLU)    (None, 16, 16, 64)        0         \n",
      "_________________________________________________________________\n",
      "max_pooling2d_2 (MaxPooling2 (None, 8, 8, 64)          0         \n",
      "_________________________________________________________________\n",
      "dropout_2 (Dropout)          (None, 8, 8, 64)          0         \n",
      "_________________________________________________________________\n",
      "conv2d_5 (Conv2D)            (None, 8, 8, 128)         73856     \n",
      "_________________________________________________________________\n",
      "leaky_re_lu_5 (LeakyReLU)    (None, 8, 8, 128)         0         \n",
      "_________________________________________________________________\n",
      "conv2d_6 (Conv2D)            (None, 8, 8, 128)         147584    \n",
      "_________________________________________________________________\n",
      "leaky_re_lu_6 (LeakyReLU)    (None, 8, 8, 128)         0         \n",
      "_________________________________________________________________\n",
      "max_pooling2d_3 (MaxPooling2 (None, 4, 4, 128)         0         \n",
      "_________________________________________________________________\n",
      "dropout_3 (Dropout)          (None, 4, 4, 128)         0         \n",
      "_________________________________________________________________\n",
      "flatten_1 (Flatten)          (None, 2048)              0         \n",
      "_________________________________________________________________\n",
      "dense_1 (Dense)              (None, 1024)              2098176   \n",
      "_________________________________________________________________\n",
      "leaky_re_lu_7 (LeakyReLU)    (None, 1024)              0         \n",
      "_________________________________________________________________\n",
      "dropout_4 (Dropout)          (None, 1024)              0         \n",
      "_________________________________________________________________\n",
      "dense_2 (Dense)              (None, 10)                10250     \n",
      "_________________________________________________________________\n",
      "activation_1 (Activation)    (None, 10)                0         \n",
      "=================================================================\n",
      "Total params: 2,423,114\n",
      "Trainable params: 2,423,114\n",
      "Non-trainable params: 0\n",
      "_________________________________________________________________\n"
     ]
    }
   ],
   "source": [
    "model.summary()"
   ]
  }
 ],
 "metadata": {
  "accelerator": "GPU",
  "colab": {
   "collapsed_sections": [],
   "name": "HW3_Revina_update.ipynb",
   "provenance": []
  },
  "kernelspec": {
   "display_name": "Python 2",
   "language": "python",
   "name": "python2"
  },
  "language_info": {
   "codemirror_mode": {
    "name": "ipython",
    "version": 2
   },
   "file_extension": ".py",
   "mimetype": "text/x-python",
   "name": "python",
   "nbconvert_exporter": "python",
   "pygments_lexer": "ipython2",
   "version": "2.7.6"
  }
 },
 "nbformat": 4,
 "nbformat_minor": 1
}
